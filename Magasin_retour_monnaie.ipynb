{
 "cells": [
  {
   "cell_type": "code",
   "execution_count": 1,
   "id": "4649f81a-97a5-4000-b48b-5471e64a1e9e",
   "metadata": {},
   "outputs": [],
   "source": [
    "Magasin = {\"carotte\": 2, \"orange\": 1.52, \"pomme\": 1.2, \"viande\": 4.3, \"boisson\": 1.2, \n",
    "           \"eau\" : 0.5, \"pâtes\" : 0.8, \"riz\": 0.5, \"ordinateur portable\" : 550,\n",
    "           \"machine à laver\" : 250, \"machine à café\" : 90, \"ordinateur de bureau\" : 400, \n",
    "           \"papier toilette\" : 2, \"gel douche\" : 1.7, \"lait\" : 1.1, \"patate\" : 1.2}"
   ]
  },
  {
   "cell_type": "code",
   "execution_count": 2,
   "id": "1d5ecafa-2ebd-4f36-b08d-7eb27258c615",
   "metadata": {},
   "outputs": [],
   "source": [
    "def choisir_ses_produits(Magasin):\n",
    "    panier = {}\n",
    "    while True:\n",
    "        # 1) Lecture du nom de produit\n",
    "        nom = input(\"Taper le nom du produit que vous souhaitez acheter : \").strip().lower()\n",
    "        \n",
    "        # (optionnel) Vérifier que le produit existe dans le magasin\n",
    "        if nom not in Magasin:\n",
    "            print(f\"❌ Le produit '{nom}' n'est pas disponible. Réessaie.\")\n",
    "            continue\n",
    "        \n",
    "        # 2) Lecture de la quantité (entier)\n",
    "        try:\n",
    "            quantite = int(input(\"Taper la quantité du produit que vous souhaitez acheter : \").strip())\n",
    "        except ValueError:\n",
    "            print(\"❌ Merci d'entrer un nombre entier pour la quantité.\")\n",
    "            continue\n",
    "        \n",
    "        # 3) Ajout au panier\n",
    "        panier[nom] = quantite\n",
    "\n",
    "        print(panier)\n",
    "        \n",
    "        # 4) Boucle ou sortie\n",
    "        choix = input(\"Souhaitez-vous ajouter un autre produit ? (Y/N) : \").strip().lower()\n",
    "        if choix != 'y':\n",
    "            break\n",
    "\n",
    "    return panier"
   ]
  },
  {
   "cell_type": "code",
   "execution_count": 3,
   "id": "57488d28-1988-4aa5-b994-e5ef51c0f386",
   "metadata": {},
   "outputs": [],
   "source": [
    "def achat (panier, Magasin):\n",
    "    total = 0\n",
    "    \n",
    "    for nom,quantite in panier.items() :\n",
    "        prix=Magasin.get(nom)*quantite\n",
    "        if prix is None:\n",
    "            print(f\"⚠️ Le produit '{produit}' n'existe pas dans le magasin, on le saute.\")\n",
    "            continue\n",
    "\n",
    "        total+=prix\n",
    "\n",
    "\n",
    "    print(f\"\\n vous devez payer un total de {total} euros \\n\")\n",
    "    return total"
   ]
  },
  {
   "cell_type": "code",
   "execution_count": 4,
   "id": "054ee2d5-3c6c-40c7-b89d-6816c5244b42",
   "metadata": {},
   "outputs": [],
   "source": [
    "def paiement (total):\n",
    "\n",
    "    monnaie = [200, 100, 50, 20, 10, 5, 2, 1, 0.5, 0.2, 0.1, 0.05, 0.02, 0.01]\n",
    "    retour_monnaie = []\n",
    "    i=1\n",
    "    print(\"Veuillez insérer la somme que vous nous envoyez\")\n",
    "    somme_client=float(input())\n",
    "\n",
    "    if somme_client<total:\n",
    "        print(\"Somme insuffisante\")\n",
    "\n",
    "    elif somme_client==total:\n",
    "        print (\"Merci, au revoir !\")\n",
    "        \n",
    "    valeur_à_rendre=round(somme_client-total,2)\n",
    "    print(f\"nous vous devons {valeur_à_rendre}\")\n",
    "        # 4) Calcul simplifié du rendu\n",
    "    for piece in monnaie:\n",
    "        # Combien de fois on peut rendre cette pièce\n",
    "        nb = int(valeur_à_rendre // piece)\n",
    "        if nb:\n",
    "            # on ajoute nb fois la pièce dans la liste\n",
    "            retour_monnaie.extend([piece] * nb)\n",
    "            # on met à jour ce qu'il reste à rendre\n",
    "            valeur_à_rendre = round(valeur_à_rendre - piece * nb, 2)\n",
    "        if valeur_à_rendre == 0:\n",
    "            break\n",
    "\n",
    "    # 5) Affichage final\n",
    "    print(\"retour_monnaie =\", retour_monnaie)\n",
    "    return retour_monnaie\n",
    "            \n",
    "            \n",
    "        "
   ]
  },
  {
   "cell_type": "code",
   "execution_count": null,
   "id": "0cffaea8-2a2a-4eb2-94b3-d266457e98d2",
   "metadata": {},
   "outputs": [],
   "source": [
    "panier={}\n",
    "retour_monnaie=[]\n",
    "total=0\n",
    "\n",
    "panier=choisir_ses_produits(Magasin)\n",
    "total=achat(panier,Magasin)\n",
    "retour_monnaie=paiement(total)"
   ]
  },
  {
   "cell_type": "code",
   "execution_count": null,
   "id": "60398c2c-97b7-4d1c-92d3-0cd85185b047",
   "metadata": {},
   "outputs": [],
   "source": []
  }
 ],
 "metadata": {
  "kernelspec": {
   "display_name": "Python 3 (ipykernel)",
   "language": "python",
   "name": "python3"
  },
  "language_info": {
   "codemirror_mode": {
    "name": "ipython",
    "version": 3
   },
   "file_extension": ".py",
   "mimetype": "text/x-python",
   "name": "python",
   "nbconvert_exporter": "python",
   "pygments_lexer": "ipython3",
   "version": "3.11.0"
  }
 },
 "nbformat": 4,
 "nbformat_minor": 5
}
