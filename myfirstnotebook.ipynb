{
 "cells": [
  {
   "cell_type": "code",
   "execution_count": 1,
   "id": "a3a93d12-3b12-4068-b792-ab37a31d4652",
   "metadata": {},
   "outputs": [
    {
     "name": "stdout",
     "output_type": "stream",
     "text": [
      "hello\n"
     ]
    }
   ],
   "source": [
    "print(\"hello\")"
   ]
  },
  {
   "cell_type": "code",
   "execution_count": 2,
   "id": "1737692b-0aaa-4f4d-904d-9050810f0c85",
   "metadata": {},
   "outputs": [
    {
     "name": "stdout",
     "output_type": "stream",
     "text": [
      "yo\n"
     ]
    }
   ],
   "source": [
    "print('yo')"
   ]
  },
  {
   "cell_type": "code",
   "execution_count": 5,
   "id": "1b6a6c36-747e-4c06-994a-22b392309920",
   "metadata": {},
   "outputs": [
    {
     "name": "stdout",
     "output_type": "stream",
     "text": [
      "yes\n"
     ]
    }
   ],
   "source": [
    "print(\"yes\")"
   ]
  },
  {
   "cell_type": "code",
   "execution_count": null,
   "id": "478cf8dd-c825-41a9-ae25-7fe95463262c",
   "metadata": {},
   "outputs": [],
   "source": []
  },
  {
   "cell_type": "code",
   "execution_count": 6,
   "id": "9ef3cc37-c1c0-4ce5-bb88-e0e440997908",
   "metadata": {},
   "outputs": [
    {
     "name": "stdout",
     "output_type": "stream",
     "text": [
      "yes\n"
     ]
    }
   ],
   "source": [
    "print('yes')\n",
    "#Yes"
   ]
  },
  {
   "cell_type": "code",
   "execution_count": 7,
   "id": "d116d268-5d84-4436-a8f8-910fa6713f3f",
   "metadata": {},
   "outputs": [
    {
     "ename": "SyntaxError",
     "evalue": "incomplete input (3122446508.py, line 1)",
     "output_type": "error",
     "traceback": [
      "  \u001b[36mCell\u001b[39m\u001b[36m \u001b[39m\u001b[32mIn[7]\u001b[39m\u001b[32m, line 1\u001b[39m\n\u001b[31m    \u001b[39m\u001b[31m'''\u001b[39m\n    ^\n\u001b[31mSyntaxError\u001b[39m\u001b[31m:\u001b[39m incomplete input\n"
     ]
    }
   ],
   "source": [
    "'''\n",
    "\n",
    "fvavaev"
   ]
  },
  {
   "cell_type": "code",
   "execution_count": null,
   "id": "0ccb0852-f6e2-4ef8-bb70-5d26e28afa3d",
   "metadata": {},
   "outputs": [],
   "source": []
  },
  {
   "cell_type": "code",
   "execution_count": 8,
   "id": "e3852764-8f98-4d11-9d3f-5f9079b79d0d",
   "metadata": {},
   "outputs": [
    {
     "data": {
      "text/plain": [
       "' \\n\\nfefeve\\n\\n'"
      ]
     },
     "execution_count": 8,
     "metadata": {},
     "output_type": "execute_result"
    }
   ],
   "source": [
    "''' \n",
    "\n",
    "fefeve\n",
    "\n",
    "'''"
   ]
  },
  {
   "cell_type": "code",
   "execution_count": 9,
   "id": "1ad55668-f418-41a3-b9bc-854d43685e26",
   "metadata": {},
   "outputs": [
    {
     "data": {
      "text/plain": [
       "'\\nNumber : can be int or float, can be use to do operations, or concatenation.\\nStrings : is used with \" \" or \\' \\', we can put \\'azaa\\' \\'123\\' etc. We can select\\nname = \\'Selim\\'\\nname_first_letter=name[0] -> \\'S\\'\\nfinal_name=name_first_letter + \\'alim\\' -> \\'Salim\\'\\n\\nLists : list is used with [] -> x = [1,5,3] -> we can use y=x.sort()-> y= [1,3,5]\\ny=x.invert() -> y = [5,3,1]\\nTuples : tuples are used with () and we cannot manipulate them x = (1,2,3) \\nwe can only use count or something like that\\nDictionaries : Dictionnaries are generally on top of the code with {}, ie \\n{key1 = \\'value1\\' ; key2 = \\'value2\\'} \\n\\n(Manque quelque chose Sélim)\\n\\n'"
      ]
     },
     "execution_count": 9,
     "metadata": {},
     "output_type": "execute_result"
    }
   ],
   "source": [
    "'''\n",
    "Number : can be int or float, can be use to do operations, or concatenation.\n",
    "Strings : is used with \" \" or ' ', we can put 'azaa' '123' etc. We can select\n",
    "name = 'Selim'\n",
    "name_first_letter=name[0] -> 'S'\n",
    "final_name=name_first_letter + 'alim' -> 'Salim'\n",
    "\n",
    "Lists : list is used with [] -> x = [1,5,3] -> we can use y=x.sort()-> y= [1,3,5]\n",
    "y=x.invert() -> y = [5,3,1]\n",
    "Tuples : tuples are used with () and we cannot manipulate them x = (1,2,3) \n",
    "we can only use count or something like that\n",
    "Dictionaries : Dictionnaries are generally on top of the code with {}, ie \n",
    "{key1 = 'value1' ; key2 = 'value2'} \n",
    "\n",
    "(Manque quelque chose Sélim)\n",
    "\n",
    "'''\n"
   ]
  },
  {
   "cell_type": "code",
   "execution_count": 10,
   "id": "e71a4d07-c620-469f-b7ee-b8b746e2cd48",
   "metadata": {},
   "outputs": [
    {
     "ename": "TypeError",
     "evalue": "pow() missing required argument 'exp' (pos 2)",
     "output_type": "error",
     "traceback": [
      "\u001b[31m---------------------------------------------------------------------------\u001b[39m",
      "\u001b[31mTypeError\u001b[39m                                 Traceback (most recent call last)",
      "\u001b[36mCell\u001b[39m\u001b[36m \u001b[39m\u001b[32mIn[10]\u001b[39m\u001b[32m, line 1\u001b[39m\n\u001b[32m----> \u001b[39m\u001b[32m1\u001b[39m x = \u001b[38;5;28;43mpow\u001b[39;49m\u001b[43m(\u001b[49m\u001b[43m(\u001b[49m\u001b[32;43m20\u001b[39;49m\u001b[43m/\u001b[49m\u001b[32;43m2\u001b[39;49m\u001b[43m)\u001b[49m\u001b[43m)\u001b[49m+\u001b[32m0.5\u001b[39m-\u001b[32m0.25\u001b[39m\n\u001b[32m      2\u001b[39m \u001b[38;5;28mprint\u001b[39m(x)\n",
      "\u001b[31mTypeError\u001b[39m: pow() missing required argument 'exp' (pos 2)"
     ]
    }
   ],
   "source": [
    "x = pow((20/2))+0.5-0.25\n",
    "print(x)"
   ]
  },
  {
   "cell_type": "code",
   "execution_count": 11,
   "id": "16a9e7e7-a889-4fe5-ace7-d4d55f19abfb",
   "metadata": {},
   "outputs": [
    {
     "ename": "NameError",
     "evalue": "name 'exp' is not defined",
     "output_type": "error",
     "traceback": [
      "\u001b[31m---------------------------------------------------------------------------\u001b[39m",
      "\u001b[31mNameError\u001b[39m                                 Traceback (most recent call last)",
      "\u001b[36mCell\u001b[39m\u001b[36m \u001b[39m\u001b[32mIn[11]\u001b[39m\u001b[32m, line 1\u001b[39m\n\u001b[32m----> \u001b[39m\u001b[32m1\u001b[39m x = \u001b[38;5;28mpow\u001b[39m(\u001b[43mexp\u001b[49m((\u001b[32m20\u001b[39m/\u001b[32m2\u001b[39m)))+\u001b[32m0.5\u001b[39m-\u001b[32m0.25\u001b[39m\n\u001b[32m      2\u001b[39m \u001b[38;5;28mprint\u001b[39m(x)\n",
      "\u001b[31mNameError\u001b[39m: name 'exp' is not defined"
     ]
    }
   ],
   "source": [
    "x = pow(exp((20/2)))+0.5-0.25\n",
    "print(x)"
   ]
  },
  {
   "cell_type": "code",
   "execution_count": 12,
   "id": "3693bf06-7c0b-451a-b465-86f84fefbb92",
   "metadata": {},
   "outputs": [
    {
     "name": "stdout",
     "output_type": "stream",
     "text": [
      "100.25\n"
     ]
    }
   ],
   "source": [
    "x = pow((20/2),2)+0.5-0.25\n",
    "print(x)"
   ]
  },
  {
   "cell_type": "code",
   "execution_count": 13,
   "id": "bbbfcd3d-f6f6-46d1-b04a-82f473f76fa8",
   "metadata": {},
   "outputs": [
    {
     "data": {
      "text/plain": [
       "44"
      ]
     },
     "execution_count": 13,
     "metadata": {},
     "output_type": "execute_result"
    }
   ],
   "source": [
    "4*(6+5)"
   ]
  },
  {
   "cell_type": "code",
   "execution_count": 14,
   "id": "22d4a31f-163d-4480-8046-885c70c9570d",
   "metadata": {},
   "outputs": [
    {
     "data": {
      "text/plain": [
       "29"
      ]
     },
     "execution_count": 14,
     "metadata": {},
     "output_type": "execute_result"
    }
   ],
   "source": [
    "4*6+5"
   ]
  },
  {
   "cell_type": "code",
   "execution_count": 15,
   "id": "754f5d84-f5c1-47f7-93ad-ee8ee73fbb7c",
   "metadata": {},
   "outputs": [
    {
     "data": {
      "text/plain": [
       "34"
      ]
     },
     "execution_count": 15,
     "metadata": {},
     "output_type": "execute_result"
    }
   ],
   "source": [
    "4+6*5"
   ]
  },
  {
   "cell_type": "code",
   "execution_count": 16,
   "id": "a6cdf7cf-32e3-4ae6-84f6-f79f3b21f5aa",
   "metadata": {},
   "outputs": [
    {
     "data": {
      "text/plain": [
       "float"
      ]
     },
     "execution_count": 16,
     "metadata": {},
     "output_type": "execute_result"
    }
   ],
   "source": [
    "type(3+1.5+4)"
   ]
  },
  {
   "cell_type": "code",
   "execution_count": 17,
   "id": "045ed3b4-fd3b-45f1-907d-0b36ccface93",
   "metadata": {},
   "outputs": [
    {
     "ename": "NameError",
     "evalue": "name 'sqrt' is not defined",
     "output_type": "error",
     "traceback": [
      "\u001b[31m---------------------------------------------------------------------------\u001b[39m",
      "\u001b[31mNameError\u001b[39m                                 Traceback (most recent call last)",
      "\u001b[36mCell\u001b[39m\u001b[36m \u001b[39m\u001b[32mIn[17]\u001b[39m\u001b[32m, line 1\u001b[39m\n\u001b[32m----> \u001b[39m\u001b[32m1\u001b[39m \u001b[43msqrt\u001b[49m(\u001b[32m5\u001b[39m)\n",
      "\u001b[31mNameError\u001b[39m: name 'sqrt' is not defined"
     ]
    }
   ],
   "source": [
    "sqrt(5)"
   ]
  },
  {
   "cell_type": "code",
   "execution_count": 18,
   "id": "b7f9688c-c6f5-44c7-a9d5-98b8a755dba5",
   "metadata": {},
   "outputs": [
    {
     "name": "stdout",
     "output_type": "stream",
     "text": [
      "e\n"
     ]
    }
   ],
   "source": [
    "s = 'hello'\n",
    "x = s[1]\n",
    "print(x)"
   ]
  },
  {
   "cell_type": "code",
   "execution_count": 19,
   "id": "8c0e19a0-b8c4-45f5-b4cf-82c05ea3cc89",
   "metadata": {},
   "outputs": [
    {
     "ename": "AttributeError",
     "evalue": "'str' object has no attribute 'slicing'",
     "output_type": "error",
     "traceback": [
      "\u001b[31m---------------------------------------------------------------------------\u001b[39m",
      "\u001b[31mAttributeError\u001b[39m                            Traceback (most recent call last)",
      "\u001b[36mCell\u001b[39m\u001b[36m \u001b[39m\u001b[32mIn[19]\u001b[39m\u001b[32m, line 1\u001b[39m\n\u001b[32m----> \u001b[39m\u001b[32m1\u001b[39m x=\u001b[43ms\u001b[49m\u001b[43m.\u001b[49m\u001b[43mslicing\u001b[49m()\n",
      "\u001b[31mAttributeError\u001b[39m: 'str' object has no attribute 'slicing'"
     ]
    }
   ],
   "source": [
    "x=s.slicing()"
   ]
  },
  {
   "cell_type": "code",
   "execution_count": 20,
   "id": "9b6f2409-5ac6-4a16-a620-6bc0b5078630",
   "metadata": {},
   "outputs": [
    {
     "ename": "SyntaxError",
     "evalue": "invalid syntax (397774241.py, line 1)",
     "output_type": "error",
     "traceback": [
      "  \u001b[36mCell\u001b[39m\u001b[36m \u001b[39m\u001b[32mIn[20]\u001b[39m\u001b[32m, line 1\u001b[39m\n\u001b[31m    \u001b[39m\u001b[31mprint(s::-1)\u001b[39m\n           ^\n\u001b[31mSyntaxError\u001b[39m\u001b[31m:\u001b[39m invalid syntax\n"
     ]
    }
   ],
   "source": [
    "print(s::-1)"
   ]
  },
  {
   "cell_type": "code",
   "execution_count": 21,
   "id": "3a69c716-f7b0-4061-b7b5-9d5355e90090",
   "metadata": {},
   "outputs": [
    {
     "name": "stdout",
     "output_type": "stream",
     "text": [
      "olleh\n"
     ]
    }
   ],
   "source": [
    "print(s[::-1])"
   ]
  },
  {
   "cell_type": "code",
   "execution_count": 22,
   "id": "b5d40420-c90e-428a-bf97-a3dfac21ae58",
   "metadata": {},
   "outputs": [
    {
     "name": "stdout",
     "output_type": "stream",
     "text": [
      "o\n"
     ]
    }
   ],
   "source": [
    "x=s[4]\n",
    "print(x)"
   ]
  },
  {
   "cell_type": "code",
   "execution_count": 23,
   "id": "cf9f4715-95a4-4bf2-af94-e81c1b6f6981",
   "metadata": {},
   "outputs": [
    {
     "name": "stdout",
     "output_type": "stream",
     "text": [
      "o\n"
     ]
    }
   ],
   "source": [
    "x=s[-1]\n",
    "print(x)"
   ]
  },
  {
   "cell_type": "code",
   "execution_count": 24,
   "id": "df96199b-56fc-43a1-a6a6-e627204cafd5",
   "metadata": {},
   "outputs": [
    {
     "name": "stdout",
     "output_type": "stream",
     "text": [
      "[0, 0, 0]\n"
     ]
    }
   ],
   "source": [
    "x=[0,0,0]\n",
    "print(x)"
   ]
  },
  {
   "cell_type": "code",
   "execution_count": 26,
   "id": "ae91036d-d4e2-4ad9-88c0-1e21a1c4a95d",
   "metadata": {},
   "outputs": [
    {
     "name": "stdout",
     "output_type": "stream",
     "text": [
      "[0, 0, 0]\n"
     ]
    }
   ],
   "source": [
    "x=[0]+[0]+[0]\n",
    "print(x)"
   ]
  },
  {
   "cell_type": "code",
   "execution_count": 27,
   "id": "d8663172-0d51-42e6-8e73-ef41d95d4985",
   "metadata": {},
   "outputs": [],
   "source": [
    "list3 = [1,2,[3,4,\"hello\"]]"
   ]
  },
  {
   "cell_type": "code",
   "execution_count": 32,
   "id": "324d017b-f897-432f-a6cb-1db1c3bb7bed",
   "metadata": {},
   "outputs": [],
   "source": [
    "list3[2]=[3,4,\"goodbye\"]"
   ]
  },
  {
   "cell_type": "code",
   "execution_count": 33,
   "id": "7a3d4f65-b985-4da8-9164-cad2cbe410ab",
   "metadata": {},
   "outputs": [
    {
     "name": "stdout",
     "output_type": "stream",
     "text": [
      "[1, 2, [3, 4, 'goodbye']]\n"
     ]
    }
   ],
   "source": [
    "print(list3)"
   ]
  },
  {
   "cell_type": "code",
   "execution_count": 34,
   "id": "d4a1d476-8210-4826-87e0-dbda9ddfe5a3",
   "metadata": {},
   "outputs": [],
   "source": [
    "list4 = [5,3,4,6,1]"
   ]
  },
  {
   "cell_type": "code",
   "execution_count": 35,
   "id": "ffd0df86-266a-4307-bc27-ca3dfca9ec1c",
   "metadata": {},
   "outputs": [],
   "source": [
    "list4.sort()"
   ]
  },
  {
   "cell_type": "code",
   "execution_count": 36,
   "id": "a1eb75db-16ae-451c-a3a9-61dbb523ce85",
   "metadata": {},
   "outputs": [
    {
     "name": "stdout",
     "output_type": "stream",
     "text": [
      "[1, 3, 4, 5, 6]\n"
     ]
    }
   ],
   "source": [
    "print(list4)"
   ]
  },
  {
   "cell_type": "code",
   "execution_count": 37,
   "id": "8d35bf88-46d3-4aef-998f-433fc7f048ed",
   "metadata": {},
   "outputs": [],
   "source": [
    "d = {'simple_key':'hello'}\n",
    "# Grab 'hello'"
   ]
  },
  {
   "cell_type": "code",
   "execution_count": 38,
   "id": "029ad2e1-d3b6-4851-81d5-7d1b7ca29bce",
   "metadata": {},
   "outputs": [],
   "source": [
    "x = 'value1'"
   ]
  },
  {
   "cell_type": "code",
   "execution_count": 39,
   "id": "22b4f59c-c85c-49e9-a89a-ac767689cb5d",
   "metadata": {},
   "outputs": [
    {
     "name": "stdout",
     "output_type": "stream",
     "text": [
      "value1\n"
     ]
    }
   ],
   "source": [
    "print(x)"
   ]
  },
  {
   "cell_type": "code",
   "execution_count": 40,
   "id": "3b7952fb-b4de-4b1f-a992-f8a034a83121",
   "metadata": {},
   "outputs": [
    {
     "ename": "KeyError",
     "evalue": "1",
     "output_type": "error",
     "traceback": [
      "\u001b[31m---------------------------------------------------------------------------\u001b[39m",
      "\u001b[31mKeyError\u001b[39m                                  Traceback (most recent call last)",
      "\u001b[36mCell\u001b[39m\u001b[36m \u001b[39m\u001b[32mIn[40]\u001b[39m\u001b[32m, line 1\u001b[39m\n\u001b[32m----> \u001b[39m\u001b[32m1\u001b[39m x=\u001b[43md\u001b[49m\u001b[43m[\u001b[49m\u001b[32;43m1\u001b[39;49m\u001b[43m]\u001b[49m\n",
      "\u001b[31mKeyError\u001b[39m: 1"
     ]
    }
   ],
   "source": [
    "x=d[1]"
   ]
  },
  {
   "cell_type": "code",
   "execution_count": 41,
   "id": "3345f670-0cb7-4a84-b6df-ed603f323206",
   "metadata": {},
   "outputs": [
    {
     "ename": "SyntaxError",
     "evalue": "invalid syntax (243109445.py, line 1)",
     "output_type": "error",
     "traceback": [
      "  \u001b[36mCell\u001b[39m\u001b[36m \u001b[39m\u001b[32mIn[41]\u001b[39m\u001b[32m, line 1\u001b[39m\n\u001b[31m    \u001b[39m\u001b[31mx=d{1}\u001b[39m\n       ^\n\u001b[31mSyntaxError\u001b[39m\u001b[31m:\u001b[39m invalid syntax\n"
     ]
    }
   ],
   "source": [
    "x=d{1}"
   ]
  },
  {
   "cell_type": "code",
   "execution_count": 42,
   "id": "0b75f1b6-72cc-4362-88cb-be007dad3f2c",
   "metadata": {},
   "outputs": [
    {
     "ename": "NameError",
     "evalue": "name 'get' is not defined",
     "output_type": "error",
     "traceback": [
      "\u001b[31m---------------------------------------------------------------------------\u001b[39m",
      "\u001b[31mNameError\u001b[39m                                 Traceback (most recent call last)",
      "\u001b[36mCell\u001b[39m\u001b[36m \u001b[39m\u001b[32mIn[42]\u001b[39m\u001b[32m, line 1\u001b[39m\n\u001b[32m----> \u001b[39m\u001b[32m1\u001b[39m \u001b[43mget\u001b[49m(d[\u001b[32m1\u001b[39m])\n",
      "\u001b[31mNameError\u001b[39m: name 'get' is not defined"
     ]
    }
   ],
   "source": [
    "get(d[1])"
   ]
  },
  {
   "cell_type": "code",
   "execution_count": 43,
   "id": "797b4f3f-8b05-4bca-828c-b128e1e1e98a",
   "metadata": {},
   "outputs": [
    {
     "data": {
      "text/plain": [
       "'hello'"
      ]
     },
     "execution_count": 43,
     "metadata": {},
     "output_type": "execute_result"
    }
   ],
   "source": [
    "d['simple_key']"
   ]
  },
  {
   "cell_type": "code",
   "execution_count": 44,
   "id": "18e90749-a829-45e2-90b0-38f99af141b5",
   "metadata": {},
   "outputs": [],
   "source": [
    "d = {'k1':{'k2':'hello'}}\n",
    "# Grab 'hello'"
   ]
  },
  {
   "cell_type": "code",
   "execution_count": 45,
   "id": "72ed0160-8724-4ab6-824d-be2a3653df53",
   "metadata": {},
   "outputs": [
    {
     "data": {
      "text/plain": [
       "'hello'"
      ]
     },
     "execution_count": 45,
     "metadata": {},
     "output_type": "execute_result"
    }
   ],
   "source": [
    "d['k1'] ['k2']"
   ]
  },
  {
   "cell_type": "code",
   "execution_count": 75,
   "id": "626c349d-fc30-4ec6-a79e-085ad772b98d",
   "metadata": {},
   "outputs": [
    {
     "data": {
      "text/plain": [
       "'hello'"
      ]
     },
     "execution_count": 75,
     "metadata": {},
     "output_type": "execute_result"
    }
   ],
   "source": [
    "# Getting a little tricker\n",
    "d = {'k1':[{'nest_key':['this is deep',['hello']]}]}\n",
    "\n",
    "#Grab hello\n",
    "d['k1'][0]['nest_key'][1][0]"
   ]
  },
  {
   "cell_type": "code",
   "execution_count": 76,
   "id": "67225958-a9ba-467a-bc72-e3138a801a91",
   "metadata": {},
   "outputs": [
    {
     "data": {
      "text/plain": [
       "'hello'"
      ]
     },
     "execution_count": 76,
     "metadata": {},
     "output_type": "execute_result"
    }
   ],
   "source": [
    "# This will be hard and annoying!\n",
    "d = {'k1':[1,2,{'k2':['this is tricky',{'tough':[1,2,['hello']]}]}]}\n",
    "\n",
    "d['k1'][2]['k2'][1]['tough'][2][0]"
   ]
  },
  {
   "cell_type": "code",
   "execution_count": 58,
   "id": "2ded6e47-60f1-4586-ba90-1cd3b2a63b99",
   "metadata": {},
   "outputs": [],
   "source": [
    "#No a dictionary is something fix at the begining of the code and one key has\n",
    "#a specific value "
   ]
  },
  {
   "cell_type": "code",
   "execution_count": null,
   "id": "dcbdfd26-1394-420e-bb74-aa53e23ddab6",
   "metadata": {},
   "outputs": [],
   "source": []
  },
  {
   "cell_type": "code",
   "execution_count": 60,
   "id": "1abb9f1d-3fdc-4feb-8f4f-291db35d1c90",
   "metadata": {},
   "outputs": [],
   "source": [
    "#Tuples cannot be sort or manipulated and list can || with ()"
   ]
  },
  {
   "cell_type": "code",
   "execution_count": null,
   "id": "21757fbd-64f7-48cb-9789-320635dbf15a",
   "metadata": {},
   "outputs": [],
   "source": []
  },
  {
   "cell_type": "code",
   "execution_count": 61,
   "id": "59453c84-c74f-4297-84f5-01c99f3aaad6",
   "metadata": {},
   "outputs": [],
   "source": [
    "#A set is to counter dupplicate items"
   ]
  },
  {
   "cell_type": "code",
   "execution_count": null,
   "id": "aa984902-2b5c-4623-a54d-e610092b07be",
   "metadata": {},
   "outputs": [],
   "source": []
  },
  {
   "cell_type": "code",
   "execution_count": 62,
   "id": "b20162cb-1b31-421c-bd23-2d0b42d99211",
   "metadata": {},
   "outputs": [],
   "source": [
    "list5 = [1,2,2,33,4,4,11,22,3,3,2]"
   ]
  },
  {
   "cell_type": "code",
   "execution_count": 63,
   "id": "1e359dcd-a71a-4673-a433-33cb8c090012",
   "metadata": {},
   "outputs": [
    {
     "data": {
      "text/plain": [
       "{1, 2, 3, 4, 11, 22, 33}"
      ]
     },
     "execution_count": 63,
     "metadata": {},
     "output_type": "execute_result"
    }
   ],
   "source": [
    "set(list5)"
   ]
  },
  {
   "cell_type": "code",
   "execution_count": null,
   "id": "05ceeed4-9c84-44cb-a510-b0710c3ddaba",
   "metadata": {},
   "outputs": [],
   "source": []
  },
  {
   "cell_type": "code",
   "execution_count": 64,
   "id": "259ceb7d-3638-4c9d-ac4f-9c507f251b02",
   "metadata": {},
   "outputs": [
    {
     "data": {
      "text/plain": [
       "True"
      ]
     },
     "execution_count": 64,
     "metadata": {},
     "output_type": "execute_result"
    }
   ],
   "source": [
    "True"
   ]
  },
  {
   "cell_type": "code",
   "execution_count": 65,
   "id": "ef1fb11f-9bf3-48cd-881b-62272e6571a1",
   "metadata": {},
   "outputs": [
    {
     "data": {
      "text/plain": [
       "False"
      ]
     },
     "execution_count": 65,
     "metadata": {},
     "output_type": "execute_result"
    }
   ],
   "source": [
    "False"
   ]
  },
  {
   "cell_type": "code",
   "execution_count": 66,
   "id": "151ffc6f-de53-4c38-bb89-8b431e922c28",
   "metadata": {},
   "outputs": [
    {
     "data": {
      "text/plain": [
       "False"
      ]
     },
     "execution_count": 66,
     "metadata": {},
     "output_type": "execute_result"
    }
   ],
   "source": [
    "False"
   ]
  },
  {
   "cell_type": "code",
   "execution_count": 67,
   "id": "989fe75f-ab05-40f0-8273-3942b86d1995",
   "metadata": {},
   "outputs": [
    {
     "data": {
      "text/plain": [
       "True"
      ]
     },
     "execution_count": 67,
     "metadata": {},
     "output_type": "execute_result"
    }
   ],
   "source": [
    "True"
   ]
  },
  {
   "cell_type": "code",
   "execution_count": 68,
   "id": "450dfd11-4328-429f-9a3f-74004285b4ef",
   "metadata": {},
   "outputs": [
    {
     "data": {
      "text/plain": [
       "False"
      ]
     },
     "execution_count": 68,
     "metadata": {},
     "output_type": "execute_result"
    }
   ],
   "source": [
    "False"
   ]
  },
  {
   "cell_type": "code",
   "execution_count": 69,
   "id": "6bc2cc96-d9fc-4ee1-8b99-27a926fdad84",
   "metadata": {},
   "outputs": [
    {
     "data": {
      "text/plain": [
       "False"
      ]
     },
     "execution_count": 69,
     "metadata": {},
     "output_type": "execute_result"
    }
   ],
   "source": [
    "2 > 3\n"
   ]
  },
  {
   "cell_type": "code",
   "execution_count": 70,
   "id": "9b65c828-369a-45b0-9b7a-26c7e91338ba",
   "metadata": {},
   "outputs": [
    {
     "data": {
      "text/plain": [
       "False"
      ]
     },
     "execution_count": 70,
     "metadata": {},
     "output_type": "execute_result"
    }
   ],
   "source": [
    "3 <= 2\n"
   ]
  },
  {
   "cell_type": "code",
   "execution_count": 71,
   "id": "75e2498f-e703-4645-9a04-82f562cd8f1a",
   "metadata": {},
   "outputs": [
    {
     "data": {
      "text/plain": [
       "False"
      ]
     },
     "execution_count": 71,
     "metadata": {},
     "output_type": "execute_result"
    }
   ],
   "source": [
    "3 == 2.0\n"
   ]
  },
  {
   "cell_type": "code",
   "execution_count": null,
   "id": "f489ccd9-5b1f-4397-9a45-ad29e6bfd109",
   "metadata": {},
   "outputs": [],
   "source": []
  },
  {
   "cell_type": "code",
   "execution_count": 72,
   "id": "6cb3d5bf-090c-4457-989d-2d965bf76b62",
   "metadata": {},
   "outputs": [
    {
     "data": {
      "text/plain": [
       "True"
      ]
     },
     "execution_count": 72,
     "metadata": {},
     "output_type": "execute_result"
    }
   ],
   "source": [
    "3.0 == 3\n"
   ]
  },
  {
   "cell_type": "code",
   "execution_count": 73,
   "id": "1dc21cbb-5234-47bc-a616-2c51391508c8",
   "metadata": {},
   "outputs": [
    {
     "data": {
      "text/plain": [
       "False"
      ]
     },
     "execution_count": 73,
     "metadata": {},
     "output_type": "execute_result"
    }
   ],
   "source": [
    "4**0.5 != 2\n"
   ]
  },
  {
   "cell_type": "code",
   "execution_count": 74,
   "id": "afd1e0f2-05bb-41e4-b644-050a840460b6",
   "metadata": {},
   "outputs": [
    {
     "data": {
      "text/plain": [
       "False"
      ]
     },
     "execution_count": 74,
     "metadata": {},
     "output_type": "execute_result"
    }
   ],
   "source": [
    "\n",
    "# two nested lists\n",
    "l_one = [1,2,[3,4]]\n",
    "l_two = [1,2,{'k1':4}]\n",
    "\n",
    "# True or False?\n",
    "l_one[2][0] >= l_two[2]['k1']"
   ]
  },
  {
   "cell_type": "code",
   "execution_count": null,
   "id": "afaa0cc9-b34b-4794-9342-f9621489b415",
   "metadata": {},
   "outputs": [],
   "source": []
  },
  {
   "cell_type": "code",
   "execution_count": null,
   "id": "2b834515-86ec-4c9f-853e-5f81b80b9dbc",
   "metadata": {},
   "outputs": [],
   "source": []
  },
  {
   "cell_type": "code",
   "execution_count": null,
   "id": "c90e19b1-215f-4183-ae1b-d9ff406f1af2",
   "metadata": {},
   "outputs": [],
   "source": []
  },
  {
   "cell_type": "code",
   "execution_count": null,
   "id": "787e581b-436d-41b4-8262-5e4202642f6e",
   "metadata": {},
   "outputs": [],
   "source": []
  },
  {
   "cell_type": "code",
   "execution_count": null,
   "id": "2f9a7580-ce54-4a19-a7ca-0038880d5a70",
   "metadata": {},
   "outputs": [],
   "source": []
  },
  {
   "cell_type": "code",
   "execution_count": null,
   "id": "caf1cb43-faad-4de5-afc4-49be53867ed0",
   "metadata": {},
   "outputs": [],
   "source": [
    "letter=[\"World\"]\n",
    "\n",
    "for i in letter:\n",
    "    letter.append(letter)"
   ]
  },
  {
   "cell_type": "code",
   "execution_count": null,
   "id": "1610354c-f780-47ff-bd51-00a7e00c8715",
   "metadata": {},
   "outputs": [],
   "source": [
    "a=0\n",
    "b=0\n",
    "\n",
    "def myfuction(*arg):\n",
    "    return min(arg)"
   ]
  },
  {
   "cell_type": "code",
   "execution_count": null,
   "id": "87f8ae40-ed4d-4b87-8739-0dcde412dae3",
   "metadata": {},
   "outputs": [],
   "source": [
    "myfuction(4,2)"
   ]
  },
  {
   "cell_type": "code",
   "execution_count": null,
   "id": "f7dc3a43-b65f-4975-a99a-c1f80bbd1be5",
   "metadata": {},
   "outputs": [],
   "source": [
    "myfuction(10,50)"
   ]
  },
  {
   "cell_type": "code",
   "execution_count": 364,
   "id": "b6716686-052e-4ab5-85e1-c4436ce65543",
   "metadata": {},
   "outputs": [
    {
     "name": "stdin",
     "output_type": "stream",
     "text": [
      "write your first word Dodo\n",
      "write your second word Popo\n"
     ]
    }
   ],
   "source": [
    "text1=input (\"write your first word\")\n",
    "text2=input (\"write your second word\")\n",
    "def animal_crackers(text1,text2):\n",
    "    if text1[0]==text2[0]:\n",
    "        print(\"True\")\n",
    "    else:\n",
    "        print(\"les premières lettres ne correspondent pas\")"
   ]
  },
  {
   "cell_type": "code",
   "execution_count": 367,
   "id": "5f71cc51-0230-41fa-a55b-47241c9f16d1",
   "metadata": {},
   "outputs": [
    {
     "ename": "TypeError",
     "evalue": "animal_crackers() missing 2 required positional arguments: 'text1' and 'text2'",
     "output_type": "error",
     "traceback": [
      "\u001b[31m---------------------------------------------------------------------------\u001b[39m",
      "\u001b[31mTypeError\u001b[39m                                 Traceback (most recent call last)",
      "\u001b[36mCell\u001b[39m\u001b[36m \u001b[39m\u001b[32mIn[367]\u001b[39m\u001b[32m, line 1\u001b[39m\n\u001b[32m----> \u001b[39m\u001b[32m1\u001b[39m \u001b[43manimal_crackers\u001b[49m\u001b[43m(\u001b[49m\u001b[43m)\u001b[49m\n",
      "\u001b[31mTypeError\u001b[39m: animal_crackers() missing 2 required positional arguments: 'text1' and 'text2'"
     ]
    }
   ],
   "source": [
    "animal_crackers()"
   ]
  },
  {
   "cell_type": "code",
   "execution_count": 365,
   "id": "4980a69a-7383-4bdf-b34f-bede64727655",
   "metadata": {},
   "outputs": [
    {
     "name": "stdout",
     "output_type": "stream",
     "text": [
      "les premières lettres ne correspondent pas\n"
     ]
    }
   ],
   "source": [
    "animal_crackers(text1,text2)"
   ]
  },
  {
   "cell_type": "code",
   "execution_count": 366,
   "id": "82b0b702-f32c-499a-ba6b-a609f6493864",
   "metadata": {},
   "outputs": [
    {
     "name": "stdout",
     "output_type": "stream",
     "text": [
      "les premières lettres ne correspondent pas\n"
     ]
    }
   ],
   "source": [
    "animal_crackers(text1,text2)"
   ]
  },
  {
   "cell_type": "code",
   "execution_count": 60,
   "id": "246fbd0f-364f-43c2-ac5a-2f3aa2b57c94",
   "metadata": {},
   "outputs": [],
   "source": [
    "def makes_twenty(a,b):\n",
    "    if a + b ==20:\n",
    "        print (\"True\")\n",
    "    elif a==20 or b==20:\n",
    "        print (\"True\")\n",
    "    else:\n",
    "        print (\"False\")\n",
    "        "
   ]
  },
  {
   "cell_type": "code",
   "execution_count": 61,
   "id": "670c1e63-3a0c-4e64-9156-e5ceb737a3f8",
   "metadata": {},
   "outputs": [
    {
     "name": "stdout",
     "output_type": "stream",
     "text": [
      "True\n"
     ]
    }
   ],
   "source": [
    "makes_twenty(12,8)"
   ]
  },
  {
   "cell_type": "code",
   "execution_count": 68,
   "id": "decf35e1-4ba7-442c-a062-db0abcdbca49",
   "metadata": {},
   "outputs": [
    {
     "name": "stdout",
     "output_type": "stream",
     "text": [
      "True\n"
     ]
    }
   ],
   "source": [
    "makes_twenty(10,10)"
   ]
  },
  {
   "cell_type": "code",
   "execution_count": 143,
   "id": "85170640-e8f3-46be-b50d-26d703174c24",
   "metadata": {},
   "outputs": [],
   "source": [
    "name=\"macdonald\"\n",
    "def old_macdonald(name):\n",
    "    name = name[0].upper() +name[1:3] + name[3].upper() + name[4:]\n",
    "   \n",
    "    return(name)"
   ]
  },
  {
   "cell_type": "code",
   "execution_count": 144,
   "id": "60732786-8b89-4c25-99d2-6a2328aa1cac",
   "metadata": {},
   "outputs": [
    {
     "data": {
      "text/plain": [
       "'MacDonald'"
      ]
     },
     "execution_count": 144,
     "metadata": {},
     "output_type": "execute_result"
    }
   ],
   "source": [
    "old_macdonald(name)"
   ]
  },
  {
   "cell_type": "code",
   "execution_count": 266,
   "id": "a9c34224-d8b9-4138-ab73-c7aa2a9456c8",
   "metadata": {},
   "outputs": [],
   "source": [
    "x=[]\n",
    "def master_yoda(texte):\n",
    "    x= texte.split()\n",
    "    y= x[::-1]\n",
    "    return ' '.join(y)"
   ]
  },
  {
   "cell_type": "code",
   "execution_count": 268,
   "id": "feee74cb-f061-48af-a251-daabd853d756",
   "metadata": {},
   "outputs": [
    {
     "data": {
      "text/plain": [
       "'Abricot Asticot Lama'"
      ]
     },
     "execution_count": 268,
     "metadata": {},
     "output_type": "execute_result"
    }
   ],
   "source": [
    "master_yoda(\"Lama Asticot Abricot\")"
   ]
  },
  {
   "cell_type": "code",
   "execution_count": 308,
   "id": "b6df13d5-1a20-4753-a43f-56a3499ea668",
   "metadata": {},
   "outputs": [],
   "source": [
    "def almost_there(n):\n",
    "    if n <90 :\n",
    "        print(\"False\")\n",
    "    elif 90<=n<=110:\n",
    "        print(\"True\")\n",
    "    elif 110<n<190:\n",
    "        print(\"False\")\n",
    "    elif 190<=n<=210:\n",
    "        print(\"True\")\n",
    "    else:\n",
    "        print(\"False\")"
   ]
  },
  {
   "cell_type": "code",
   "execution_count": 316,
   "id": "892431a5-7e1e-4115-a9fe-f6824ccdf790",
   "metadata": {},
   "outputs": [
    {
     "name": "stdout",
     "output_type": "stream",
     "text": [
      "False\n"
     ]
    }
   ],
   "source": [
    "almost_there(211)"
   ]
  },
  {
   "cell_type": "code",
   "execution_count": 3,
   "id": "d7a13aea-9aa9-4844-a171-c916b99aa047",
   "metadata": {},
   "outputs": [],
   "source": [
    "def has_33(nums):\n",
    "    for i in range(0,len(nums)-1):   \n",
    "        if nums[i]==3 and nums[i+1]==3:\n",
    "            return True\n",
    "    return False"
   ]
  },
  {
   "cell_type": "code",
   "execution_count": 4,
   "id": "b39b0576-0ffb-49ec-b3f8-1b86107c4ec9",
   "metadata": {},
   "outputs": [
    {
     "data": {
      "text/plain": [
       "True"
      ]
     },
     "execution_count": 4,
     "metadata": {},
     "output_type": "execute_result"
    }
   ],
   "source": [
    "has_33([1, 3, 3])\n"
   ]
  },
  {
   "cell_type": "code",
   "execution_count": 23,
   "id": "c1628fa3-febc-436c-b018-1cfab66248ff",
   "metadata": {},
   "outputs": [],
   "source": [
    "def paper_doll(text):\n",
    "    result=''\n",
    "    for i in text:\n",
    "        result+=(i*3)\n",
    "    return result\n",
    "            "
   ]
  },
  {
   "cell_type": "code",
   "execution_count": 24,
   "id": "82ec1e70-5397-4782-8fff-dac1ae595b69",
   "metadata": {},
   "outputs": [
    {
     "data": {
      "text/plain": [
       "'hhheeellllllooo'"
      ]
     },
     "execution_count": 24,
     "metadata": {},
     "output_type": "execute_result"
    }
   ],
   "source": [
    "paper_doll('hello')"
   ]
  },
  {
   "cell_type": "code",
   "execution_count": 122,
   "id": "0e4b5b8c-2c60-43d9-905c-4762b13e6410",
   "metadata": {},
   "outputs": [],
   "source": [
    "\n",
    "def blackjack (a,b,c):\n",
    "    x=0\n",
    "    y=\"\"\n",
    "    if 1<=a<=11 and 1<=b<=11 and 1<=c<=11:\n",
    "        if sum([a,b,c]) <= 21 : \n",
    "            return sum([a,b,c])        \n",
    "        elif (sum([a,b,c])>21 and (a==11 or b==11 or c==11)):\n",
    "            return sum([a,b,c])-10 \n",
    "        else:\n",
    "            return \"Bust\"\n",
    "    else: print (\"a ou b ou c n'est pas dans la plage de donnée\")"
   ]
  },
  {
   "cell_type": "code",
   "execution_count": 135,
   "id": "38b94d85-f96b-43e2-9623-14c95d08bd66",
   "metadata": {},
   "outputs": [
    {
     "name": "stdout",
     "output_type": "stream",
     "text": [
      "a ou b ou c n'est pas dans la plage de donnée\n"
     ]
    }
   ],
   "source": [
    "blackjack(12,5,5)"
   ]
  },
  {
   "cell_type": "code",
   "execution_count": null,
   "id": "5045f4fb-3dc2-444e-bd3e-48c9b8646c5f",
   "metadata": {},
   "outputs": [],
   "source": []
  },
  {
   "cell_type": "code",
   "execution_count": 201,
   "id": "becc5e5d-59d8-4942-a0fe-2d28f859c9b7",
   "metadata": {},
   "outputs": [],
   "source": [
    "def summer_69(*arr):\n",
    "\n",
    "    total = 0\n",
    "    add = True\n",
    "    \n",
    "    for i in arr:\n",
    "        while add==True:\n",
    "            if i!=6:\n",
    "                total+=i    \n",
    "                break\n",
    "            else:\n",
    "                add = False\n",
    "        while add==False:\n",
    "            if i!=9:\n",
    "                break\n",
    "            else:\n",
    "                add==True\n",
    "                break\n",
    "    return total\n",
    "        "
   ]
  },
  {
   "cell_type": "code",
   "execution_count": 203,
   "id": "46752af2-7946-4488-8892-35f6f745d734",
   "metadata": {},
   "outputs": [
    {
     "data": {
      "text/plain": [
       "7"
      ]
     },
     "execution_count": 203,
     "metadata": {},
     "output_type": "execute_result"
    }
   ],
   "source": [
    "summer_69(1,4,2,6)"
   ]
  },
  {
   "cell_type": "code",
   "execution_count": 351,
   "id": "e6741a85-9c9a-4daa-aa74-ca77d7108c1d",
   "metadata": {},
   "outputs": [],
   "source": [
    "def spy_game(*nums):\n",
    "\n",
    "    code = [0,0,7,\"x\"]\n",
    "    for i in nums:\n",
    "        if i==code[0]:\n",
    "            code.pop(0)\n",
    "    print (len(code))\n",
    "    return len(code)==1"
   ]
  },
  {
   "cell_type": "code",
   "execution_count": 354,
   "id": "dc0f4e29-290e-4e33-a7de-8f07a83f57e0",
   "metadata": {},
   "outputs": [
    {
     "name": "stdout",
     "output_type": "stream",
     "text": [
      "1\n"
     ]
    },
    {
     "data": {
      "text/plain": [
       "True"
      ]
     },
     "execution_count": 354,
     "metadata": {},
     "output_type": "execute_result"
    }
   ],
   "source": [
    "spy_game(1,0,1,0,5,8,7)"
   ]
  },
  {
   "cell_type": "code",
   "execution_count": 1,
   "id": "7397139b-a359-4ede-af8e-07a034cfa85d",
   "metadata": {},
   "outputs": [],
   "source": [
    "def pig_latin(word):\n",
    "    if word[0].lower() not in \"aeiouy\":\n",
    "        # Déplacer la première lettre à la fin et ajouter 'ay'\n",
    "        new_word = word[1:] + word[0] + \"ay\"\n",
    "        return new_word\n",
    "    else:\n",
    "        # Si commence par voyelle, juste ajouter 'ay'\n",
    "        return word + \"ay\""
   ]
  },
  {
   "cell_type": "code",
   "execution_count": 2,
   "id": "2229a919-1170-48cf-9cca-1eecdbcebccc",
   "metadata": {},
   "outputs": [
    {
     "data": {
      "text/plain": [
       "'lumepay'"
      ]
     },
     "execution_count": 2,
     "metadata": {},
     "output_type": "execute_result"
    }
   ],
   "source": [
    "pig_latin(\"plume\")"
   ]
  },
  {
   "cell_type": "code",
   "execution_count": 3,
   "id": "f94e62c7-c0d9-4360-8282-e73267827498",
   "metadata": {},
   "outputs": [],
   "source": [
    "def splicer(mystring):\n",
    "    if len(mystring)%2==0:\n",
    "        return 'Even'\n",
    "    else:\n",
    "        return mystring [0]"
   ]
  },
  {
   "cell_type": "markdown",
   "id": "b4d548d8-dbd5-4142-9fde-845681673d2e",
   "metadata": {},
   "source": []
  },
  {
   "cell_type": "code",
   "execution_count": 4,
   "id": "d0893bc7-627f-456c-af51-20d8a96a0463",
   "metadata": {},
   "outputs": [],
   "source": [
    "my_list = [\"toto\", \"mohamed\", \"zozo\"]"
   ]
  },
  {
   "cell_type": "code",
   "execution_count": 5,
   "id": "c1530540-748a-4326-9fd0-fd401246bba1",
   "metadata": {},
   "outputs": [
    {
     "data": {
      "text/plain": [
       "['toto', 'mohamed', 'zozo']"
      ]
     },
     "execution_count": 5,
     "metadata": {},
     "output_type": "execute_result"
    }
   ],
   "source": [
    "my_list"
   ]
  },
  {
   "cell_type": "code",
   "execution_count": 6,
   "id": "3a878b1c-f32f-4a2e-8d32-684c1417381b",
   "metadata": {},
   "outputs": [
    {
     "data": {
      "text/plain": [
       "<map at 0x20be8472c20>"
      ]
     },
     "execution_count": 6,
     "metadata": {},
     "output_type": "execute_result"
    }
   ],
   "source": [
    "map(splicer,my_list)"
   ]
  },
  {
   "cell_type": "code",
   "execution_count": 9,
   "id": "b28cef64-329b-4766-be66-2547086471ee",
   "metadata": {},
   "outputs": [
    {
     "name": "stdout",
     "output_type": "stream",
     "text": [
      "Even\n",
      "m\n",
      "Even\n"
     ]
    }
   ],
   "source": [
    "for i in map(splicer,my_list):\n",
    "    print (i)"
   ]
  },
  {
   "cell_type": "code",
   "execution_count": 10,
   "id": "97684e66-f15f-4b68-bc9a-588d30b9fdcc",
   "metadata": {},
   "outputs": [
    {
     "data": {
      "text/plain": [
       "['Even', 'm', 'Even']"
      ]
     },
     "execution_count": 10,
     "metadata": {},
     "output_type": "execute_result"
    }
   ],
   "source": [
    "list(map(splicer,my_list))"
   ]
  },
  {
   "cell_type": "code",
   "execution_count": 18,
   "id": "416ba9fb-2984-4300-81d3-696349184632",
   "metadata": {},
   "outputs": [],
   "source": [
    "def check_even (nums):\n",
    "    return nums%2 ==0"
   ]
  },
  {
   "cell_type": "code",
   "execution_count": 19,
   "id": "62ab0df9-3ffc-4681-ab9c-0324af706ed7",
   "metadata": {},
   "outputs": [
    {
     "data": {
      "text/plain": [
       "[False, True, False, True, False, True]"
      ]
     },
     "execution_count": 19,
     "metadata": {},
     "output_type": "execute_result"
    }
   ],
   "source": [
    "my_nums=[1,2,3,4,5,6]\n",
    "list(map(check_even,my_nums))"
   ]
  },
  {
   "cell_type": "markdown",
   "id": "e425b00f-84cb-4ab0-bb60-4a1af88c51fe",
   "metadata": {},
   "source": []
  },
  {
   "cell_type": "code",
   "execution_count": 21,
   "id": "4cc592cb-939e-494f-b2d6-f66096a80eb7",
   "metadata": {},
   "outputs": [
    {
     "data": {
      "text/plain": [
       "[2, 4, 6]"
      ]
     },
     "execution_count": 21,
     "metadata": {},
     "output_type": "execute_result"
    }
   ],
   "source": [
    "list(filter(lambda nums : nums%2==0, my_nums))"
   ]
  },
  {
   "cell_type": "code",
   "execution_count": 22,
   "id": "a6169a30-2068-409d-8a6c-03d9ef7c9497",
   "metadata": {},
   "outputs": [],
   "source": [
    "liste=[\"Andy\", \"Eve\", \"Sally\"]"
   ]
  },
  {
   "cell_type": "code",
   "execution_count": null,
   "id": "e729e563-0320-4918-9d37-a1ebfc7bd43c",
   "metadata": {},
   "outputs": [],
   "source": []
  },
  {
   "cell_type": "code",
   "execution_count": 113,
   "id": "80fe7c83-e5c9-4a52-90c6-1a65a3069607",
   "metadata": {},
   "outputs": [
    {
     "data": {
      "text/plain": [
       "['ydnA', 'evE', 'yllaS']"
      ]
     },
     "execution_count": 113,
     "metadata": {},
     "output_type": "execute_result"
    }
   ],
   "source": [
    "list(map(lambda name:name[::-1],liste))"
   ]
  },
  {
   "cell_type": "code",
   "execution_count": 130,
   "id": "238449e1-7b24-4143-bc62-0ba957ebfddb",
   "metadata": {},
   "outputs": [],
   "source": [
    "def vol(rad):\n",
    "    return (4/3)*3.14*rad**3\n",
    "\n"
   ]
  },
  {
   "cell_type": "code",
   "execution_count": 131,
   "id": "0c4bb325-a8f1-4647-b350-abdfabddbec3",
   "metadata": {},
   "outputs": [
    {
     "data": {
      "text/plain": [
       "0.5233333333333333"
      ]
     },
     "execution_count": 131,
     "metadata": {},
     "output_type": "execute_result"
    }
   ],
   "source": [
    "vol(0.5)"
   ]
  },
  {
   "cell_type": "code",
   "execution_count": 136,
   "id": "8dda7857-d7ee-4f75-b981-debe87d8b669",
   "metadata": {},
   "outputs": [],
   "source": [
    "def ran_check (num,low,high):\n",
    "    if num >= low and num <= high:\n",
    "        print(\"num est dans la plage de donnée\")\n",
    "    else: \n",
    "        print(\"num n'est pas dans la plage de donnée\")"
   ]
  },
  {
   "cell_type": "code",
   "execution_count": 149,
   "id": "c20b49d9-c69f-4504-a6ea-026dd13ff883",
   "metadata": {},
   "outputs": [
    {
     "data": {
      "text/plain": [
       "False"
      ]
     },
     "execution_count": 149,
     "metadata": {},
     "output_type": "execute_result"
    }
   ],
   "source": [
    "ran_check(1,2,8)"
   ]
  },
  {
   "cell_type": "code",
   "execution_count": 148,
   "id": "ed0fb26d-83f5-4c5b-af1a-dbf8d8450296",
   "metadata": {},
   "outputs": [],
   "source": [
    "def ran_check (num,low,high):\n",
    "    if num >= low and num <= high:\n",
    "        return True\n",
    "    else: \n",
    "        return False"
   ]
  },
  {
   "cell_type": "code",
   "execution_count": 347,
   "id": "7ff2c3ac-9d65-4515-9245-b23c3a670847",
   "metadata": {},
   "outputs": [],
   "source": [
    "def up_low_compt(phrase):\n",
    "    i=0\n",
    "    lower=0\n",
    "    upper=0\n",
    "    for i in phrase:\n",
    "        if i.isalpha():  # ignore espaces, ponctuations, chiffres\n",
    "\n",
    "            if i == i.lower():\n",
    "                lower+= 1\n",
    "            else:\n",
    "                continue\n",
    "\n",
    "    for j in phrase:\n",
    "        if j.isalpha():\n",
    "            if j == j.upper():\n",
    "                upper+= 1\n",
    "            else:\n",
    "                continue\n",
    "\n",
    "    return (upper,lower)        \n",
    "\n",
    "  \n",
    "    "
   ]
  },
  {
   "cell_type": "code",
   "execution_count": 348,
   "id": "9197d619-c739-4333-a822-253c8d88a05d",
   "metadata": {},
   "outputs": [
    {
     "data": {
      "text/plain": [
       "(4, 40)"
      ]
     },
     "execution_count": 348,
     "metadata": {},
     "output_type": "execute_result"
    }
   ],
   "source": [
    "up_low_compt(\"Je Suis une grosse bête et je suis le Meilleur du Monde\")"
   ]
  },
  {
   "cell_type": "code",
   "execution_count": 397,
   "id": "b3dce9cc-0df9-4d69-86ad-db5df23fcf2f",
   "metadata": {},
   "outputs": [],
   "source": [
    "def unique_list(liste):\n",
    "    x=set(liste)\n",
    "    x=list(x)\n",
    "    return x"
   ]
  },
  {
   "cell_type": "code",
   "execution_count": 401,
   "id": "498e1950-f68c-4e92-821c-b91371a03136",
   "metadata": {},
   "outputs": [
    {
     "data": {
      "text/plain": [
       "[1, 2, 3, 4, 5, 10]"
      ]
     },
     "execution_count": 401,
     "metadata": {},
     "output_type": "execute_result"
    }
   ],
   "source": [
    "unique_list([1,2,2,10,3,3,3,4,4,4,5,5,5])"
   ]
  },
  {
   "cell_type": "code",
   "execution_count": 345,
   "id": "d5ab06bf-477a-43b2-8b2a-5748d76d545d",
   "metadata": {},
   "outputs": [],
   "source": [
    "def multiply (liste):\n",
    "\n",
    "    \"\"\"\n",
    "    Multiply all numbers in a list\n",
    "    \n",
    "    \"\"\"\n",
    "\n",
    "    i=0\n",
    "    result0=liste[0]\n",
    "    result1=result0*liste[(i+1)]\n",
    "    result2=result1*liste[(i+2)]\n",
    "    result3=result2*liste[(i+3)]\n",
    "    \n",
    "    return result3\n",
    "\n",
    "    \"\"\"\n",
    "    i=0\n",
    "    result=liste[0]\n",
    "    for i in liste:\n",
    "        result=result*liste[(i+1)]\n",
    "    return result\n",
    "    \"\"\""
   ]
  },
  {
   "cell_type": "code",
   "execution_count": 346,
   "id": "14157362-6a70-41bf-8b67-d2e39309bf98",
   "metadata": {},
   "outputs": [
    {
     "data": {
      "text/plain": [
       "5"
      ]
     },
     "execution_count": 346,
     "metadata": {},
     "output_type": "execute_result"
    }
   ],
   "source": [
    "multiply ([1,5,5,4])"
   ]
  },
  {
   "cell_type": "code",
   "execution_count": 329,
   "id": "bb0c5fb1-8bbe-4f0e-9a55-b6dd01c766a1",
   "metadata": {},
   "outputs": [],
   "source": [
    "def palindrome(mot):\n",
    "    if len(mot)%2==0:\n",
    "        for i in range(len(mot)):\n",
    "            if mot[i]==mot[-1-i]:\n",
    "                i=i+1\n",
    "                return \"Palindrome\"\n",
    "            else:\n",
    "                return \"Non plus\"\n",
    "\n",
    "    else: \n",
    "        return \"pas un palindrome\"\n",
    "   "
   ]
  },
  {
   "cell_type": "code",
   "execution_count": null,
   "id": "4649d796-3f79-4d76-95f1-18c633e6460f",
   "metadata": {},
   "outputs": [],
   "source": []
  },
  {
   "cell_type": "code",
   "execution_count": 10,
   "id": "ba7df711-cf92-4ef6-b613-4f85434d526d",
   "metadata": {},
   "outputs": [],
   "source": [
    "import string\n",
    "\n",
    "def ispangram(str1, alphabet=string.ascii_lowercase):\n",
    "    ##ma phrase qui contient que des lettres de l'alphabet\n",
    "    \n",
    "    str1=remove_spaces(str1)\n",
    "    lettres_trouvees = set()\n",
    "\n",
    "    ##boucle de i qui test tous les char de ma phrase\n",
    "    for i in str1:\n",
    "    ##si la lettre désignée est dans \"abcde...z\"\n",
    "        for j in string.ascii_lowercase:\n",
    "    ##alors on retire la lettre de \"abcd...z\"\n",
    "            if j!=i:\n",
    "               pass \n",
    "            else:\n",
    "                lettres_trouvees.add(i.lower())\n",
    "    return len(string.ascii_lowercase) == len(lettres_trouvees)\n",
    "        \n",
    "                       \n",
    "\n",
    "\n",
    "def remove_spaces(texte):\n",
    "    return texte.replace(\" \", \"\")        "
   ]
  },
  {
   "cell_type": "code",
   "execution_count": 18,
   "id": "ee4d756e-7606-4dbf-af2e-aa7a60fafd9c",
   "metadata": {},
   "outputs": [
    {
     "data": {
      "text/plain": [
       "True"
      ]
     },
     "execution_count": 18,
     "metadata": {},
     "output_type": "execute_result"
    }
   ],
   "source": [
    "ispangram(\"the quick brown fox jumps over the lazy dog\")"
   ]
  },
  {
   "cell_type": "code",
   "execution_count": 45,
   "id": "d9fc4071-26a1-47f8-ad94-ee569ac2d560",
   "metadata": {},
   "outputs": [],
   "source": [
    "import string\n",
    "\n",
    "def ispangram(str1, alphabet=string.ascii_lowercase):\n",
    "    alphaset=set(alphabet)\n",
    "    return set(str1.lower()) >= alphaset"
   ]
  },
  {
   "cell_type": "code",
   "execution_count": 47,
   "id": "c145d1ad-7313-4be5-b1f6-8e0c0550905b",
   "metadata": {},
   "outputs": [
    {
     "data": {
      "text/plain": [
       "True"
      ]
     },
     "execution_count": 47,
     "metadata": {},
     "output_type": "execute_result"
    }
   ],
   "source": [
    "ispangram(\"the quick brown fox jumps over the lazy dog\")"
   ]
  },
  {
   "cell_type": "code",
   "execution_count": 1,
   "id": "22a803bd-c4fd-46e0-84b0-dd50ed98f464",
   "metadata": {},
   "outputs": [],
   "source": []
  },
  {
   "cell_type": "code",
   "execution_count": null,
   "id": "5f26a2f6-8a2a-4047-a80d-64b65268a267",
   "metadata": {},
   "outputs": [],
   "source": []
  },
  {
   "cell_type": "code",
   "execution_count": null,
   "id": "803d17af-c8dd-4dfd-8a32-ca9a7cbddf3b",
   "metadata": {},
   "outputs": [],
   "source": []
  },
  {
   "cell_type": "code",
   "execution_count": null,
   "id": "198ffef4-3d21-45f4-9341-497984bad3cd",
   "metadata": {},
   "outputs": [],
   "source": []
  },
  {
   "cell_type": "code",
   "execution_count": 325,
   "id": "b2fb349a-1c6f-4ca9-8215-2f908982f72d",
   "metadata": {},
   "outputs": [],
   "source": [
    "def check_if_full(board):\n",
    "    for i in board:\n",
    "        if i ==\" \":\n",
    "            return False\n",
    "        else:\n",
    "            continue\n",
    "    match_nul = True\n",
    "    return match_nul\n",
    "    "
   ]
  },
  {
   "cell_type": "code",
   "execution_count": 315,
   "id": "d3ddb6cf-7523-456e-8335-2d86189a7e15",
   "metadata": {},
   "outputs": [],
   "source": [
    "def check_win (board,x,y,player1,player2):\n",
    "    if board[0]==x and board[1]==x and board[2]==x:\n",
    "        player1_win=True\n",
    "        print (f\"{player1} a gagné\")\n",
    "        return player1_win\n",
    "    elif board[3]==x and board[4]==x and board[5]==x:\n",
    "        player1_win=True \n",
    "        print (f\"{player1} a gagné\")\n",
    "        return player1_win\n",
    "    elif board[6]==x and board[7]==x and board[8]==x:\n",
    "        player1_win=True \n",
    "        print (f\"{player1} a gagné\")\n",
    "        return player1_win\n",
    "    elif board[0]==x and board[4]==x and board[8]==x:\n",
    "        player1_win=True \n",
    "        print (f\"{player1} a gagné\")\n",
    "        return player1_win\n",
    "    elif board[2]==x and board[4]==x and board[6]==x:\n",
    "        player1_win=True \n",
    "        print (f\"{player1} a gagné\")\n",
    "        return player1_win\n",
    "    elif board[0]==x and board[3]==x and board[6]==x:\n",
    "        player1_win=True \n",
    "        print (f\"{player1} a gagné\")\n",
    "        return player1_win\n",
    "    elif board[1]==x and board[4]==x and board[7]==x:\n",
    "        player1_win=True \n",
    "        print (f\"{player1} a gagné\")\n",
    "        return player1_win\n",
    "    elif board[2]==x and board[5]==x and board[8]==x:\n",
    "        player1_win=True\n",
    "        print (f\"{player1} a gagné\")\n",
    "        return player1_win\n",
    "    \n",
    "        \n",
    "\n",
    "    if board[0]==y and board[1]==y and board[2]==y:\n",
    "        player2_win=True \n",
    "        print (f\"{player2} a gagné\")\n",
    "        return player2_win\n",
    "    elif board[3]==y and board[4]==y and board[5]==y:\n",
    "        player2_win=True \n",
    "        print (f\"{player2} a gagné\")\n",
    "        return player2_win\n",
    "    elif board[6]==y and board[7]==y and board[8]==y:\n",
    "        player2_win=True \n",
    "        print (f\"{player2} a gagné\")\n",
    "        return player2_win\n",
    "    elif board[0]==y and board[4]==y and board[8]==y:\n",
    "        player2_win=True \n",
    "        print (f\"{player2} a gagné\")\n",
    "        return player2_win\n",
    "    elif board[2]==y and board[4]==y and board[6]==y:\n",
    "        player2_win=True \n",
    "        print (f\"{player2} a gagné\")\n",
    "        return player2_win\n",
    "    elif board[0]==y and board[3]==y and board[6]==y:\n",
    "        player2_win=True \n",
    "        print (f\"{player2} a gagné\")\n",
    "        return player2_win\n",
    "    elif board[1]==y and board[4]==y and board[7]==y:\n",
    "        player2_win=True\n",
    "        print (f\"{player2} a gagné\")\n",
    "        return player2_win\n",
    "    elif board[2]==y and board[5]==y and board[8]==y:\n",
    "        player2_win=True \n",
    "        print (f\"{player2} a gagné\")\n",
    "        return player2_win\n",
    "\n",
    "    return False\n",
    "    "
   ]
  },
  {
   "cell_type": "code",
   "execution_count": 316,
   "id": "0b3d23f1-e953-474e-b83d-838c03344d89",
   "metadata": {},
   "outputs": [],
   "source": [
    "def turnperturn(player1,x,board):\n",
    "\n",
    "    print(f\"{player1} your turn between 1 and 9\")\n",
    "    choice_player1=\"0\"\n",
    "    while choice_player1 not in [\"1\", \"2\", \"3\",\"4\",\"5\",\"6\",\"7\",\"8\",\"9\"]:\n",
    "        choice_player1=input()\n",
    "        \n",
    "        if choice_player1 == \"1\" and board[6]==\" \":\n",
    "            board[6]=x\n",
    "            \n",
    "        elif choice_player1 ==\"1\" and board[6]!=\" \":\n",
    "            print(\"Cette case est déjà remplie, Réessayez\")\n",
    "            choice_player1 =\"0\"\n",
    "            continue\n",
    "           \n",
    "        elif choice_player1 == \"2\" and board[7]==\" \":\n",
    "            board[7]=x\n",
    "\n",
    "        elif choice_player1 ==\"2\" and board[7]!=\" \":\n",
    "            print(\"Cette case est déjà remplie, Réessayez\")\n",
    "            choice_player1 =\"0\"\n",
    "            continue\n",
    "    \n",
    "        elif choice_player1 == \"3\" and board[8]==\" \":\n",
    "            board[8]=x\n",
    "\n",
    "        elif choice_player1 ==\"3\" and board[8]!=\" \":\n",
    "            print(\"Cette case est déjà remplie, Réessayez\")\n",
    "            choice_player1 =\"0\"\n",
    "            continue\n",
    "            \n",
    "        elif choice_player1 == \"4\" and board[3]==\" \":\n",
    "            board[3]=x \n",
    "\n",
    "        elif choice_player1 ==\"4\" and board[3]!=\" \":\n",
    "            print(\"Cette case est déjà remplie, Réessayez\")\n",
    "            choice_player1 =\"0\"\n",
    "            continue\n",
    "            \n",
    "        elif choice_player1 == \"5\" and board[4]==\" \":\n",
    "            board[4]=x\n",
    "\n",
    "        elif choice_player1 ==\"5\" and board[4]!=\" \":\n",
    "            print(\"Cette case est déjà remplie, Réessayez\")\n",
    "            choice_player1 =\"0\"\n",
    "            continue\n",
    "            \n",
    "        elif choice_player1 == \"6\" and board[5]==\" \":\n",
    "            board[5]=x\n",
    "\n",
    "        elif choice_player1 ==\"6\" and board[5]!=\" \":\n",
    "            print(\"Cette case est déjà remplie, Réessayez\")\n",
    "            choice_player1 =\"0\"\n",
    "            continue\n",
    "        \n",
    "        elif choice_player1 == \"7\" and board[0]==\" \":\n",
    "            board[0]=x \n",
    "\n",
    "        elif choice_player1 ==\"7\" and board[0]!=\" \":\n",
    "            print(\"Cette case est déjà remplie, Réessayez\")\n",
    "            choice_player1 =\"0\"\n",
    "            continue\n",
    "            \n",
    "        elif choice_player1 == \"8\" and board[1]==\" \":\n",
    "            board[1]=x\n",
    "\n",
    "        elif choice_player1 ==\"8\" and board[1]!=\" \":\n",
    "            print(\"Cette case est déjà remplie, Réessayez\")\n",
    "            choice_player1 =\"0\"\n",
    "            continue\n",
    "            \n",
    "        elif choice_player1 == \"9\" and board[2]==\" \":\n",
    "            board[2]=x\n",
    "    \n",
    "        elif choice_player1 ==\"9\" and board[2]!=\" \":\n",
    "            print(\"Cette case est déjà remplie, Réessayez\")\n",
    "            choice_player1 =\"0\"\n",
    "            continue\n",
    "    \n",
    "  "
   ]
  },
  {
   "cell_type": "code",
   "execution_count": 317,
   "id": "631853a2-b522-4f90-9b2f-829c6080b87a",
   "metadata": {},
   "outputs": [],
   "source": [
    "def turnperturn_player2(player2,y,board):\n",
    "\n",
    "    print(f\"{player2} your turn between 1 and 9\")\n",
    "    choice_player2=\"0\"\n",
    "    while choice_player2 not in [\"1\", \"2\", \"3\",\"4\",\"5\",\"6\",\"7\",\"8\",\"9\"]:\n",
    "        choice_player2=input()\n",
    "    \n",
    "        if choice_player2 == \"1\" and board[6]==\" \":\n",
    "            board[6]=y\n",
    "\n",
    "        elif choice_player2 ==\"1\" and board[6]!=\" \":\n",
    "            print(\"Cette case est déjà remplie, Réessayez\")\n",
    "            choice_player2 =\"0\"\n",
    "            continue\n",
    "           \n",
    "        elif choice_player2 == \"2\" and board[7]==\" \":\n",
    "            board[7]=y\n",
    "\n",
    "        elif choice_player2 ==\"2\" and board[7]!=\" \":\n",
    "            print(\"Cette case est déjà remplie, Réessayez\")\n",
    "            choice_player2 =\"0\"\n",
    "            continue\n",
    "    \n",
    "        elif choice_player2 == \"3\" and board[8]==\" \":\n",
    "            board[8]=y\n",
    "\n",
    "        elif choice_player2 ==\"3\" and board[8]!=\" \":\n",
    "            print(\"Cette case est déjà remplie, Réessayez\")\n",
    "            choice_player2 =\"0\"\n",
    "            continue\n",
    "            \n",
    "        elif choice_player2 == \"4\" and board[3]==\" \":\n",
    "            board[3]=y \n",
    "\n",
    "        elif choice_player2 ==\"4\" and board[3]!=\" \":\n",
    "            print(\"Cette case est déjà remplie, Réessayez\")\n",
    "            choice_player2 =\"0\"\n",
    "            continue\n",
    "            \n",
    "        elif choice_player2 == \"5\" and board[4]==\" \":\n",
    "            board[4]=y\n",
    "\n",
    "        elif choice_player2 ==\"5\" and board[4]!=\" \":\n",
    "            print(\"Cette case est déjà remplie, Réessayez\")\n",
    "            choice_player2 =\"0\"\n",
    "            continue\n",
    "            \n",
    "        elif choice_player2 == \"6\" and board[5]==\" \":\n",
    "            board[5]=y\n",
    "\n",
    "        elif choice_player2 ==\"6\" and board[5]!=\" \":\n",
    "            print(\"Cette case est déjà remplie, Réessayez\")\n",
    "            choice_player2 =\"0\"\n",
    "            continue\n",
    "        \n",
    "        elif choice_player2 == \"7\" and board[0]==\" \":\n",
    "            board[0]=y \n",
    "\n",
    "        elif choice_player2 ==\"7\" and board[0]!=\" \":\n",
    "            print(\"Cette case est déjà remplie, Réessayez\")\n",
    "            choice_player2 =\"0\"\n",
    "            continue\n",
    "            \n",
    "        elif choice_player2 == \"8\" and board[1]==\" \":\n",
    "            board[1]=y\n",
    "\n",
    "        elif choice_player2 ==\"8\" and board[1]!=\" \":\n",
    "            print(\"Cette case est déjà remplie, Réessayez\")\n",
    "            choice_player2 =\"0\"\n",
    "            continue\n",
    "            \n",
    "        elif choice_player2 == \"9\" and board[2]==\" \":\n",
    "            board[2]=y\n",
    "\n",
    "        elif choice_player2 ==\"9\" and board[2]!=\" \":\n",
    "            print(\"Cette case est déjà remplie, Réessayez\")\n",
    "            choice_player2 =\"0\"\n",
    "            continue\n",
    "    "
   ]
  },
  {
   "cell_type": "code",
   "execution_count": 318,
   "id": "5b507bc5-2e3c-45a1-9cb8-283c0964bfd7",
   "metadata": {},
   "outputs": [],
   "source": [
    "def board_game(board):\n",
    "    print(\"   |   |   \")\n",
    "    print(f\" {board[0]} | {board[1]} | {board[2]}\")\n",
    "    print(\"___|___|___\")\n",
    "    print(\"   |   |   \")\n",
    "    print(f\" {board[3]} | {board[4]} | {board[5]}\")\n",
    "    print(\"___|___|___\")\n",
    "    print(\"   |   |   \")\n",
    "    print(f\" {board[6]} | {board[7]} | {board[8]}\")\n",
    "    print(\"   |   |   \")"
   ]
  },
  {
   "cell_type": "code",
   "execution_count": 328,
   "id": "27aa8b79-ec92-4a20-9bae-b11adce846e7",
   "metadata": {},
   "outputs": [
    {
     "name": "stdout",
     "output_type": "stream",
     "text": [
      "player 1 what is your name ?\n"
     ]
    },
    {
     "name": "stdin",
     "output_type": "stream",
     "text": [
      " Selim\n"
     ]
    },
    {
     "name": "stdout",
     "output_type": "stream",
     "text": [
      "player 2 what is your name ?\n"
     ]
    },
    {
     "name": "stdin",
     "output_type": "stream",
     "text": [
      " Melanie\n"
     ]
    },
    {
     "name": "stdout",
     "output_type": "stream",
     "text": [
      "Selim choose your symbol O or X\n"
     ]
    },
    {
     "name": "stdin",
     "output_type": "stream",
     "text": [
      " o\n"
     ]
    },
    {
     "name": "stdout",
     "output_type": "stream",
     "text": [
      "   |   |   \n",
      "   |   |  \n",
      "___|___|___\n",
      "   |   |   \n",
      "   |   |  \n",
      "___|___|___\n",
      "   |   |   \n",
      "   |   |  \n",
      "   |   |   \n",
      "Selim your turn between 1 and 9\n"
     ]
    },
    {
     "name": "stdin",
     "output_type": "stream",
     "text": [
      " 1\n"
     ]
    },
    {
     "name": "stdout",
     "output_type": "stream",
     "text": [
      "   |   |   \n",
      "   |   |  \n",
      "___|___|___\n",
      "   |   |   \n",
      "   |   |  \n",
      "___|___|___\n",
      "   |   |   \n",
      " O |   |  \n",
      "   |   |   \n",
      "Melanie your turn between 1 and 9\n"
     ]
    },
    {
     "name": "stdin",
     "output_type": "stream",
     "text": [
      " 5\n"
     ]
    },
    {
     "name": "stdout",
     "output_type": "stream",
     "text": [
      "   |   |   \n",
      "   |   |  \n",
      "___|___|___\n",
      "   |   |   \n",
      "   | X |  \n",
      "___|___|___\n",
      "   |   |   \n",
      " O |   |  \n",
      "   |   |   \n",
      "Selim your turn between 1 and 9\n"
     ]
    },
    {
     "name": "stdin",
     "output_type": "stream",
     "text": [
      " 4\n"
     ]
    },
    {
     "name": "stdout",
     "output_type": "stream",
     "text": [
      "   |   |   \n",
      "   |   |  \n",
      "___|___|___\n",
      "   |   |   \n",
      " O | X |  \n",
      "___|___|___\n",
      "   |   |   \n",
      " O |   |  \n",
      "   |   |   \n",
      "Melanie your turn between 1 and 9\n"
     ]
    },
    {
     "name": "stdin",
     "output_type": "stream",
     "text": [
      " 7\n"
     ]
    },
    {
     "name": "stdout",
     "output_type": "stream",
     "text": [
      "   |   |   \n",
      " X |   |  \n",
      "___|___|___\n",
      "   |   |   \n",
      " O | X |  \n",
      "___|___|___\n",
      "   |   |   \n",
      " O |   |  \n",
      "   |   |   \n",
      "Selim your turn between 1 and 9\n"
     ]
    },
    {
     "name": "stdin",
     "output_type": "stream",
     "text": [
      " 3\n"
     ]
    },
    {
     "name": "stdout",
     "output_type": "stream",
     "text": [
      "   |   |   \n",
      " X |   |  \n",
      "___|___|___\n",
      "   |   |   \n",
      " O | X |  \n",
      "___|___|___\n",
      "   |   |   \n",
      " O |   | O\n",
      "   |   |   \n",
      "Melanie your turn between 1 and 9\n"
     ]
    },
    {
     "name": "stdin",
     "output_type": "stream",
     "text": [
      " 2\n"
     ]
    },
    {
     "name": "stdout",
     "output_type": "stream",
     "text": [
      "   |   |   \n",
      " X |   |  \n",
      "___|___|___\n",
      "   |   |   \n",
      " O | X |  \n",
      "___|___|___\n",
      "   |   |   \n",
      " O | X | O\n",
      "   |   |   \n",
      "Selim your turn between 1 and 9\n"
     ]
    },
    {
     "name": "stdin",
     "output_type": "stream",
     "text": [
      " 8\n"
     ]
    },
    {
     "name": "stdout",
     "output_type": "stream",
     "text": [
      "   |   |   \n",
      " X | O |  \n",
      "___|___|___\n",
      "   |   |   \n",
      " O | X |  \n",
      "___|___|___\n",
      "   |   |   \n",
      " O | X | O\n",
      "   |   |   \n",
      "Melanie your turn between 1 and 9\n"
     ]
    },
    {
     "name": "stdin",
     "output_type": "stream",
     "text": [
      " 9\n"
     ]
    },
    {
     "name": "stdout",
     "output_type": "stream",
     "text": [
      "   |   |   \n",
      " X | O | X\n",
      "___|___|___\n",
      "   |   |   \n",
      " O | X |  \n",
      "___|___|___\n",
      "   |   |   \n",
      " O | X | O\n",
      "   |   |   \n",
      "Selim your turn between 1 and 9\n"
     ]
    },
    {
     "name": "stdin",
     "output_type": "stream",
     "text": [
      " 6\n"
     ]
    },
    {
     "name": "stdout",
     "output_type": "stream",
     "text": [
      "   |   |   \n",
      " X | O | X\n",
      "___|___|___\n",
      "   |   |   \n",
      " O | X | O\n",
      "___|___|___\n",
      "   |   |   \n",
      " O | X | O\n",
      "   |   |   \n",
      "match nul\n"
     ]
    }
   ],
   "source": [
    "match_nul=False\n",
    "player1_win=False\n",
    "player2_win=False\n",
    "board = [\" \" for _ in range(9)]\n",
    "print(\"player 1 what is your name ?\")\n",
    "player1 = input()\n",
    "print(\"player 2 what is your name ?\")\n",
    "player2 = input()\n",
    "print(f\"{player1} choose your symbol O or X\")\n",
    "symbol_chosen = input().upper()\n",
    "while symbol_chosen.upper() != \"X\" and symbol_chosen.upper() != \"O\":\n",
    "    print(f\"{player1} choose your symbol O or X\")\n",
    "    symbol_chosen = input()\n",
    "if symbol_chosen == \"X\":\n",
    "    x = symbol_chosen\n",
    "    y = \"O\"\n",
    "elif symbol_chosen == \"O\":\n",
    "    x = symbol_chosen  \n",
    "    y = \"X\"\n",
    "    \n",
    "board_game(board)\n",
    "while (player1_win==False and player2_win==False):     \n",
    "    turnperturn(player1,x,board)\n",
    "    board_game(board)\n",
    "    player1_win = check_win (board,x,y,player1,player2)\n",
    "    if player1_win==True:\n",
    "        break\n",
    "    match_nul=check_if_full(board)\n",
    "    if match_nul==True:\n",
    "        print(\"match nul\")\n",
    "        break\n",
    "    turnperturn_player2(player2,y,board)\n",
    "    board_game(board)\n",
    "    player2_win = check_win (board,x,y,player1,player2)\n",
    "    if player2_win==True:\n",
    "        break\n",
    "    match_nul=check_if_full(board)\n",
    "    if match_nul==True:\n",
    "        print(\"match nul\")\n",
    "        break"
   ]
  },
  {
   "cell_type": "code",
   "execution_count": null,
   "id": "09ca7fdd-de3d-4c0d-946b-c486ff7058d7",
   "metadata": {},
   "outputs": [],
   "source": []
  },
  {
   "cell_type": "code",
   "execution_count": null,
   "id": "dcc6c0f1-ccd6-448e-b436-6812f47240c6",
   "metadata": {},
   "outputs": [],
   "source": []
  },
  {
   "cell_type": "code",
   "execution_count": null,
   "id": "53304dcd-7cf6-474c-926f-86bc484e0004",
   "metadata": {},
   "outputs": [],
   "source": []
  },
  {
   "cell_type": "code",
   "execution_count": null,
   "id": "f771005f-2dae-4a2c-9734-3ef71e1624ac",
   "metadata": {},
   "outputs": [],
   "source": []
  }
 ],
 "metadata": {
  "kernelspec": {
   "display_name": "Python 3 (ipykernel)",
   "language": "python",
   "name": "python3"
  },
  "language_info": {
   "codemirror_mode": {
    "name": "ipython",
    "version": 3
   },
   "file_extension": ".py",
   "mimetype": "text/x-python",
   "name": "python",
   "nbconvert_exporter": "python",
   "pygments_lexer": "ipython3",
   "version": "3.11.0"
  }
 },
 "nbformat": 4,
 "nbformat_minor": 5
}
