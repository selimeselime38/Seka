{
 "cells": [
  {
   "cell_type": "markdown",
   "id": "80643df5-8a9d-44f4-8ddb-dea3d9ef4ea5",
   "metadata": {},
   "source": [
    "# x"
   ]
  },
  {
   "cell_type": "code",
   "execution_count": 1,
   "id": "a3a93d12-3b12-4068-b792-ab37a31d4652",
   "metadata": {},
   "outputs": [
    {
     "name": "stdout",
     "output_type": "stream",
     "text": [
      "hello\n"
     ]
    }
   ],
   "source": [
    "print(\"hello\")"
   ]
  },
  {
   "cell_type": "code",
   "execution_count": 2,
   "id": "1737692b-0aaa-4f4d-904d-9050810f0c85",
   "metadata": {},
   "outputs": [
    {
     "name": "stdout",
     "output_type": "stream",
     "text": [
      "yo\n"
     ]
    }
   ],
   "source": [
    "print('yo')"
   ]
  },
  {
   "cell_type": "code",
   "execution_count": 5,
   "id": "1b6a6c36-747e-4c06-994a-22b392309920",
   "metadata": {},
   "outputs": [
    {
     "name": "stdout",
     "output_type": "stream",
     "text": [
      "yes\n"
     ]
    }
   ],
   "source": [
    "print(\"yes\")"
   ]
  },
  {
   "cell_type": "code",
   "execution_count": null,
   "id": "478cf8dd-c825-41a9-ae25-7fe95463262c",
   "metadata": {},
   "outputs": [],
   "source": []
  },
  {
   "cell_type": "code",
   "execution_count": 6,
   "id": "9ef3cc37-c1c0-4ce5-bb88-e0e440997908",
   "metadata": {},
   "outputs": [
    {
     "name": "stdout",
     "output_type": "stream",
     "text": [
      "yes\n"
     ]
    }
   ],
   "source": [
    "print('yes')\n",
    "#Yes"
   ]
  },
  {
   "cell_type": "code",
   "execution_count": 7,
   "id": "d116d268-5d84-4436-a8f8-910fa6713f3f",
   "metadata": {},
   "outputs": [
    {
     "ename": "SyntaxError",
     "evalue": "incomplete input (3122446508.py, line 1)",
     "output_type": "error",
     "traceback": [
      "  \u001b[36mCell\u001b[39m\u001b[36m \u001b[39m\u001b[32mIn[7]\u001b[39m\u001b[32m, line 1\u001b[39m\n\u001b[31m    \u001b[39m\u001b[31m'''\u001b[39m\n    ^\n\u001b[31mSyntaxError\u001b[39m\u001b[31m:\u001b[39m incomplete input\n"
     ]
    }
   ],
   "source": [
    "'''\n",
    "\n",
    "fvavaev"
   ]
  },
  {
   "cell_type": "code",
   "execution_count": null,
   "id": "0ccb0852-f6e2-4ef8-bb70-5d26e28afa3d",
   "metadata": {},
   "outputs": [],
   "source": []
  },
  {
   "cell_type": "code",
   "execution_count": 8,
   "id": "e3852764-8f98-4d11-9d3f-5f9079b79d0d",
   "metadata": {},
   "outputs": [
    {
     "data": {
      "text/plain": [
       "' \\n\\nfefeve\\n\\n'"
      ]
     },
     "execution_count": 8,
     "metadata": {},
     "output_type": "execute_result"
    }
   ],
   "source": [
    "''' \n",
    "\n",
    "fefeve\n",
    "\n",
    "'''"
   ]
  },
  {
   "cell_type": "code",
   "execution_count": 9,
   "id": "1ad55668-f418-41a3-b9bc-854d43685e26",
   "metadata": {},
   "outputs": [
    {
     "data": {
      "text/plain": [
       "'\\nNumber : can be int or float, can be use to do operations, or concatenation.\\nStrings : is used with \" \" or \\' \\', we can put \\'azaa\\' \\'123\\' etc. We can select\\nname = \\'Selim\\'\\nname_first_letter=name[0] -> \\'S\\'\\nfinal_name=name_first_letter + \\'alim\\' -> \\'Salim\\'\\n\\nLists : list is used with [] -> x = [1,5,3] -> we can use y=x.sort()-> y= [1,3,5]\\ny=x.invert() -> y = [5,3,1]\\nTuples : tuples are used with () and we cannot manipulate them x = (1,2,3) \\nwe can only use count or something like that\\nDictionaries : Dictionnaries are generally on top of the code with {}, ie \\n{key1 = \\'value1\\' ; key2 = \\'value2\\'} \\n\\n(Manque quelque chose Sélim)\\n\\n'"
      ]
     },
     "execution_count": 9,
     "metadata": {},
     "output_type": "execute_result"
    }
   ],
   "source": [
    "'''\n",
    "Number : can be int or float, can be use to do operations, or concatenation.\n",
    "Strings : is used with \" \" or ' ', we can put 'azaa' '123' etc. We can select\n",
    "name = 'Selim'\n",
    "name_first_letter=name[0] -> 'S'\n",
    "final_name=name_first_letter + 'alim' -> 'Salim'\n",
    "\n",
    "Lists : list is used with [] -> x = [1,5,3] -> we can use y=x.sort()-> y= [1,3,5]\n",
    "y=x.invert() -> y = [5,3,1]\n",
    "Tuples : tuples are used with () and we cannot manipulate them x = (1,2,3) \n",
    "we can only use count or something like that\n",
    "Dictionaries : Dictionnaries are generally on top of the code with {}, ie \n",
    "{key1 = 'value1' ; key2 = 'value2'} \n",
    "\n",
    "(Manque quelque chose Sélim)\n",
    "\n",
    "'''\n"
   ]
  },
  {
   "cell_type": "code",
   "execution_count": 10,
   "id": "e71a4d07-c620-469f-b7ee-b8b746e2cd48",
   "metadata": {},
   "outputs": [
    {
     "ename": "TypeError",
     "evalue": "pow() missing required argument 'exp' (pos 2)",
     "output_type": "error",
     "traceback": [
      "\u001b[31m---------------------------------------------------------------------------\u001b[39m",
      "\u001b[31mTypeError\u001b[39m                                 Traceback (most recent call last)",
      "\u001b[36mCell\u001b[39m\u001b[36m \u001b[39m\u001b[32mIn[10]\u001b[39m\u001b[32m, line 1\u001b[39m\n\u001b[32m----> \u001b[39m\u001b[32m1\u001b[39m x = \u001b[38;5;28;43mpow\u001b[39;49m\u001b[43m(\u001b[49m\u001b[43m(\u001b[49m\u001b[32;43m20\u001b[39;49m\u001b[43m/\u001b[49m\u001b[32;43m2\u001b[39;49m\u001b[43m)\u001b[49m\u001b[43m)\u001b[49m+\u001b[32m0.5\u001b[39m-\u001b[32m0.25\u001b[39m\n\u001b[32m      2\u001b[39m \u001b[38;5;28mprint\u001b[39m(x)\n",
      "\u001b[31mTypeError\u001b[39m: pow() missing required argument 'exp' (pos 2)"
     ]
    }
   ],
   "source": [
    "x = pow((20/2))+0.5-0.25\n",
    "print(x)"
   ]
  },
  {
   "cell_type": "code",
   "execution_count": 11,
   "id": "16a9e7e7-a889-4fe5-ace7-d4d55f19abfb",
   "metadata": {},
   "outputs": [
    {
     "ename": "NameError",
     "evalue": "name 'exp' is not defined",
     "output_type": "error",
     "traceback": [
      "\u001b[31m---------------------------------------------------------------------------\u001b[39m",
      "\u001b[31mNameError\u001b[39m                                 Traceback (most recent call last)",
      "\u001b[36mCell\u001b[39m\u001b[36m \u001b[39m\u001b[32mIn[11]\u001b[39m\u001b[32m, line 1\u001b[39m\n\u001b[32m----> \u001b[39m\u001b[32m1\u001b[39m x = \u001b[38;5;28mpow\u001b[39m(\u001b[43mexp\u001b[49m((\u001b[32m20\u001b[39m/\u001b[32m2\u001b[39m)))+\u001b[32m0.5\u001b[39m-\u001b[32m0.25\u001b[39m\n\u001b[32m      2\u001b[39m \u001b[38;5;28mprint\u001b[39m(x)\n",
      "\u001b[31mNameError\u001b[39m: name 'exp' is not defined"
     ]
    }
   ],
   "source": [
    "x = pow(exp((20/2)))+0.5-0.25\n",
    "print(x)"
   ]
  },
  {
   "cell_type": "code",
   "execution_count": 12,
   "id": "3693bf06-7c0b-451a-b465-86f84fefbb92",
   "metadata": {},
   "outputs": [
    {
     "name": "stdout",
     "output_type": "stream",
     "text": [
      "100.25\n"
     ]
    }
   ],
   "source": [
    "x = pow((20/2),2)+0.5-0.25\n",
    "print(x)"
   ]
  },
  {
   "cell_type": "code",
   "execution_count": 13,
   "id": "bbbfcd3d-f6f6-46d1-b04a-82f473f76fa8",
   "metadata": {},
   "outputs": [
    {
     "data": {
      "text/plain": [
       "44"
      ]
     },
     "execution_count": 13,
     "metadata": {},
     "output_type": "execute_result"
    }
   ],
   "source": [
    "4*(6+5)"
   ]
  },
  {
   "cell_type": "code",
   "execution_count": 14,
   "id": "22d4a31f-163d-4480-8046-885c70c9570d",
   "metadata": {},
   "outputs": [
    {
     "data": {
      "text/plain": [
       "29"
      ]
     },
     "execution_count": 14,
     "metadata": {},
     "output_type": "execute_result"
    }
   ],
   "source": [
    "4*6+5"
   ]
  },
  {
   "cell_type": "code",
   "execution_count": 15,
   "id": "754f5d84-f5c1-47f7-93ad-ee8ee73fbb7c",
   "metadata": {},
   "outputs": [
    {
     "data": {
      "text/plain": [
       "34"
      ]
     },
     "execution_count": 15,
     "metadata": {},
     "output_type": "execute_result"
    }
   ],
   "source": [
    "4+6*5"
   ]
  },
  {
   "cell_type": "code",
   "execution_count": 16,
   "id": "a6cdf7cf-32e3-4ae6-84f6-f79f3b21f5aa",
   "metadata": {},
   "outputs": [
    {
     "data": {
      "text/plain": [
       "float"
      ]
     },
     "execution_count": 16,
     "metadata": {},
     "output_type": "execute_result"
    }
   ],
   "source": [
    "type(3+1.5+4)"
   ]
  },
  {
   "cell_type": "code",
   "execution_count": 17,
   "id": "045ed3b4-fd3b-45f1-907d-0b36ccface93",
   "metadata": {},
   "outputs": [
    {
     "ename": "NameError",
     "evalue": "name 'sqrt' is not defined",
     "output_type": "error",
     "traceback": [
      "\u001b[31m---------------------------------------------------------------------------\u001b[39m",
      "\u001b[31mNameError\u001b[39m                                 Traceback (most recent call last)",
      "\u001b[36mCell\u001b[39m\u001b[36m \u001b[39m\u001b[32mIn[17]\u001b[39m\u001b[32m, line 1\u001b[39m\n\u001b[32m----> \u001b[39m\u001b[32m1\u001b[39m \u001b[43msqrt\u001b[49m(\u001b[32m5\u001b[39m)\n",
      "\u001b[31mNameError\u001b[39m: name 'sqrt' is not defined"
     ]
    }
   ],
   "source": [
    "sqrt(5)"
   ]
  },
  {
   "cell_type": "code",
   "execution_count": 18,
   "id": "b7f9688c-c6f5-44c7-a9d5-98b8a755dba5",
   "metadata": {},
   "outputs": [
    {
     "name": "stdout",
     "output_type": "stream",
     "text": [
      "e\n"
     ]
    }
   ],
   "source": [
    "s = 'hello'\n",
    "x = s[1]\n",
    "print(x)"
   ]
  },
  {
   "cell_type": "code",
   "execution_count": 19,
   "id": "8c0e19a0-b8c4-45f5-b4cf-82c05ea3cc89",
   "metadata": {},
   "outputs": [
    {
     "ename": "AttributeError",
     "evalue": "'str' object has no attribute 'slicing'",
     "output_type": "error",
     "traceback": [
      "\u001b[31m---------------------------------------------------------------------------\u001b[39m",
      "\u001b[31mAttributeError\u001b[39m                            Traceback (most recent call last)",
      "\u001b[36mCell\u001b[39m\u001b[36m \u001b[39m\u001b[32mIn[19]\u001b[39m\u001b[32m, line 1\u001b[39m\n\u001b[32m----> \u001b[39m\u001b[32m1\u001b[39m x=\u001b[43ms\u001b[49m\u001b[43m.\u001b[49m\u001b[43mslicing\u001b[49m()\n",
      "\u001b[31mAttributeError\u001b[39m: 'str' object has no attribute 'slicing'"
     ]
    }
   ],
   "source": [
    "x=s.slicing()"
   ]
  },
  {
   "cell_type": "code",
   "execution_count": 20,
   "id": "9b6f2409-5ac6-4a16-a620-6bc0b5078630",
   "metadata": {},
   "outputs": [
    {
     "ename": "SyntaxError",
     "evalue": "invalid syntax (397774241.py, line 1)",
     "output_type": "error",
     "traceback": [
      "  \u001b[36mCell\u001b[39m\u001b[36m \u001b[39m\u001b[32mIn[20]\u001b[39m\u001b[32m, line 1\u001b[39m\n\u001b[31m    \u001b[39m\u001b[31mprint(s::-1)\u001b[39m\n           ^\n\u001b[31mSyntaxError\u001b[39m\u001b[31m:\u001b[39m invalid syntax\n"
     ]
    }
   ],
   "source": [
    "print(s::-1)"
   ]
  },
  {
   "cell_type": "code",
   "execution_count": 21,
   "id": "3a69c716-f7b0-4061-b7b5-9d5355e90090",
   "metadata": {},
   "outputs": [
    {
     "name": "stdout",
     "output_type": "stream",
     "text": [
      "olleh\n"
     ]
    }
   ],
   "source": [
    "print(s[::-1])"
   ]
  },
  {
   "cell_type": "code",
   "execution_count": 22,
   "id": "b5d40420-c90e-428a-bf97-a3dfac21ae58",
   "metadata": {},
   "outputs": [
    {
     "name": "stdout",
     "output_type": "stream",
     "text": [
      "o\n"
     ]
    }
   ],
   "source": [
    "x=s[4]\n",
    "print(x)"
   ]
  },
  {
   "cell_type": "code",
   "execution_count": 23,
   "id": "cf9f4715-95a4-4bf2-af94-e81c1b6f6981",
   "metadata": {},
   "outputs": [
    {
     "name": "stdout",
     "output_type": "stream",
     "text": [
      "o\n"
     ]
    }
   ],
   "source": [
    "x=s[-1]\n",
    "print(x)"
   ]
  },
  {
   "cell_type": "code",
   "execution_count": 24,
   "id": "df96199b-56fc-43a1-a6a6-e627204cafd5",
   "metadata": {},
   "outputs": [
    {
     "name": "stdout",
     "output_type": "stream",
     "text": [
      "[0, 0, 0]\n"
     ]
    }
   ],
   "source": [
    "x=[0,0,0]\n",
    "print(x)"
   ]
  },
  {
   "cell_type": "code",
   "execution_count": 26,
   "id": "ae91036d-d4e2-4ad9-88c0-1e21a1c4a95d",
   "metadata": {},
   "outputs": [
    {
     "name": "stdout",
     "output_type": "stream",
     "text": [
      "[0, 0, 0]\n"
     ]
    }
   ],
   "source": [
    "x=[0]+[0]+[0]\n",
    "print(x)"
   ]
  },
  {
   "cell_type": "code",
   "execution_count": 27,
   "id": "d8663172-0d51-42e6-8e73-ef41d95d4985",
   "metadata": {},
   "outputs": [],
   "source": [
    "list3 = [1,2,[3,4,\"hello\"]]"
   ]
  },
  {
   "cell_type": "code",
   "execution_count": 32,
   "id": "324d017b-f897-432f-a6cb-1db1c3bb7bed",
   "metadata": {},
   "outputs": [],
   "source": [
    "list3[2]=[3,4,\"goodbye\"]"
   ]
  },
  {
   "cell_type": "code",
   "execution_count": 33,
   "id": "7a3d4f65-b985-4da8-9164-cad2cbe410ab",
   "metadata": {},
   "outputs": [
    {
     "name": "stdout",
     "output_type": "stream",
     "text": [
      "[1, 2, [3, 4, 'goodbye']]\n"
     ]
    }
   ],
   "source": [
    "print(list3)"
   ]
  },
  {
   "cell_type": "code",
   "execution_count": 34,
   "id": "d4a1d476-8210-4826-87e0-dbda9ddfe5a3",
   "metadata": {},
   "outputs": [],
   "source": [
    "list4 = [5,3,4,6,1]"
   ]
  },
  {
   "cell_type": "code",
   "execution_count": 35,
   "id": "ffd0df86-266a-4307-bc27-ca3dfca9ec1c",
   "metadata": {},
   "outputs": [],
   "source": [
    "list4.sort()"
   ]
  },
  {
   "cell_type": "code",
   "execution_count": 36,
   "id": "a1eb75db-16ae-451c-a3a9-61dbb523ce85",
   "metadata": {},
   "outputs": [
    {
     "name": "stdout",
     "output_type": "stream",
     "text": [
      "[1, 3, 4, 5, 6]\n"
     ]
    }
   ],
   "source": [
    "print(list4)"
   ]
  },
  {
   "cell_type": "code",
   "execution_count": 37,
   "id": "8d35bf88-46d3-4aef-998f-433fc7f048ed",
   "metadata": {},
   "outputs": [],
   "source": [
    "d = {'simple_key':'hello'}\n",
    "# Grab 'hello'"
   ]
  },
  {
   "cell_type": "code",
   "execution_count": 38,
   "id": "029ad2e1-d3b6-4851-81d5-7d1b7ca29bce",
   "metadata": {},
   "outputs": [],
   "source": [
    "x = 'value1'"
   ]
  },
  {
   "cell_type": "code",
   "execution_count": 39,
   "id": "22b4f59c-c85c-49e9-a89a-ac767689cb5d",
   "metadata": {},
   "outputs": [
    {
     "name": "stdout",
     "output_type": "stream",
     "text": [
      "value1\n"
     ]
    }
   ],
   "source": [
    "print(x)"
   ]
  },
  {
   "cell_type": "code",
   "execution_count": 40,
   "id": "3b7952fb-b4de-4b1f-a992-f8a034a83121",
   "metadata": {},
   "outputs": [
    {
     "ename": "KeyError",
     "evalue": "1",
     "output_type": "error",
     "traceback": [
      "\u001b[31m---------------------------------------------------------------------------\u001b[39m",
      "\u001b[31mKeyError\u001b[39m                                  Traceback (most recent call last)",
      "\u001b[36mCell\u001b[39m\u001b[36m \u001b[39m\u001b[32mIn[40]\u001b[39m\u001b[32m, line 1\u001b[39m\n\u001b[32m----> \u001b[39m\u001b[32m1\u001b[39m x=\u001b[43md\u001b[49m\u001b[43m[\u001b[49m\u001b[32;43m1\u001b[39;49m\u001b[43m]\u001b[49m\n",
      "\u001b[31mKeyError\u001b[39m: 1"
     ]
    }
   ],
   "source": [
    "x=d[1]"
   ]
  },
  {
   "cell_type": "code",
   "execution_count": 41,
   "id": "3345f670-0cb7-4a84-b6df-ed603f323206",
   "metadata": {},
   "outputs": [
    {
     "ename": "SyntaxError",
     "evalue": "invalid syntax (243109445.py, line 1)",
     "output_type": "error",
     "traceback": [
      "  \u001b[36mCell\u001b[39m\u001b[36m \u001b[39m\u001b[32mIn[41]\u001b[39m\u001b[32m, line 1\u001b[39m\n\u001b[31m    \u001b[39m\u001b[31mx=d{1}\u001b[39m\n       ^\n\u001b[31mSyntaxError\u001b[39m\u001b[31m:\u001b[39m invalid syntax\n"
     ]
    }
   ],
   "source": [
    "x=d{1}"
   ]
  },
  {
   "cell_type": "code",
   "execution_count": 42,
   "id": "0b75f1b6-72cc-4362-88cb-be007dad3f2c",
   "metadata": {},
   "outputs": [
    {
     "ename": "NameError",
     "evalue": "name 'get' is not defined",
     "output_type": "error",
     "traceback": [
      "\u001b[31m---------------------------------------------------------------------------\u001b[39m",
      "\u001b[31mNameError\u001b[39m                                 Traceback (most recent call last)",
      "\u001b[36mCell\u001b[39m\u001b[36m \u001b[39m\u001b[32mIn[42]\u001b[39m\u001b[32m, line 1\u001b[39m\n\u001b[32m----> \u001b[39m\u001b[32m1\u001b[39m \u001b[43mget\u001b[49m(d[\u001b[32m1\u001b[39m])\n",
      "\u001b[31mNameError\u001b[39m: name 'get' is not defined"
     ]
    }
   ],
   "source": [
    "get(d[1])"
   ]
  },
  {
   "cell_type": "code",
   "execution_count": 43,
   "id": "797b4f3f-8b05-4bca-828c-b128e1e1e98a",
   "metadata": {},
   "outputs": [
    {
     "data": {
      "text/plain": [
       "'hello'"
      ]
     },
     "execution_count": 43,
     "metadata": {},
     "output_type": "execute_result"
    }
   ],
   "source": [
    "d['simple_key']"
   ]
  },
  {
   "cell_type": "code",
   "execution_count": 44,
   "id": "18e90749-a829-45e2-90b0-38f99af141b5",
   "metadata": {},
   "outputs": [],
   "source": [
    "d = {'k1':{'k2':'hello'}}\n",
    "# Grab 'hello'"
   ]
  },
  {
   "cell_type": "code",
   "execution_count": 45,
   "id": "72ed0160-8724-4ab6-824d-be2a3653df53",
   "metadata": {},
   "outputs": [
    {
     "data": {
      "text/plain": [
       "'hello'"
      ]
     },
     "execution_count": 45,
     "metadata": {},
     "output_type": "execute_result"
    }
   ],
   "source": [
    "d['k1'] ['k2']"
   ]
  },
  {
   "cell_type": "code",
   "execution_count": 75,
   "id": "626c349d-fc30-4ec6-a79e-085ad772b98d",
   "metadata": {},
   "outputs": [
    {
     "data": {
      "text/plain": [
       "'hello'"
      ]
     },
     "execution_count": 75,
     "metadata": {},
     "output_type": "execute_result"
    }
   ],
   "source": [
    "# Getting a little tricker\n",
    "d = {'k1':[{'nest_key':['this is deep',['hello']]}]}\n",
    "\n",
    "#Grab hello\n",
    "d['k1'][0]['nest_key'][1][0]"
   ]
  },
  {
   "cell_type": "code",
   "execution_count": 76,
   "id": "67225958-a9ba-467a-bc72-e3138a801a91",
   "metadata": {},
   "outputs": [
    {
     "data": {
      "text/plain": [
       "'hello'"
      ]
     },
     "execution_count": 76,
     "metadata": {},
     "output_type": "execute_result"
    }
   ],
   "source": [
    "# This will be hard and annoying!\n",
    "d = {'k1':[1,2,{'k2':['this is tricky',{'tough':[1,2,['hello']]}]}]}\n",
    "\n",
    "d['k1'][2]['k2'][1]['tough'][2][0]"
   ]
  },
  {
   "cell_type": "code",
   "execution_count": 58,
   "id": "2ded6e47-60f1-4586-ba90-1cd3b2a63b99",
   "metadata": {},
   "outputs": [],
   "source": [
    "#No a dictionary is something fix at the begining of the code and one key has\n",
    "#a specific value "
   ]
  },
  {
   "cell_type": "code",
   "execution_count": null,
   "id": "dcbdfd26-1394-420e-bb74-aa53e23ddab6",
   "metadata": {},
   "outputs": [],
   "source": []
  },
  {
   "cell_type": "code",
   "execution_count": 60,
   "id": "1abb9f1d-3fdc-4feb-8f4f-291db35d1c90",
   "metadata": {},
   "outputs": [],
   "source": [
    "#Tuples cannot be sort or manipulated and list can || with ()"
   ]
  },
  {
   "cell_type": "code",
   "execution_count": null,
   "id": "21757fbd-64f7-48cb-9789-320635dbf15a",
   "metadata": {},
   "outputs": [],
   "source": []
  },
  {
   "cell_type": "code",
   "execution_count": 61,
   "id": "59453c84-c74f-4297-84f5-01c99f3aaad6",
   "metadata": {},
   "outputs": [],
   "source": [
    "#A set is to counter dupplicate items"
   ]
  },
  {
   "cell_type": "code",
   "execution_count": null,
   "id": "aa984902-2b5c-4623-a54d-e610092b07be",
   "metadata": {},
   "outputs": [],
   "source": []
  },
  {
   "cell_type": "code",
   "execution_count": 62,
   "id": "b20162cb-1b31-421c-bd23-2d0b42d99211",
   "metadata": {},
   "outputs": [],
   "source": [
    "list5 = [1,2,2,33,4,4,11,22,3,3,2]"
   ]
  },
  {
   "cell_type": "code",
   "execution_count": 63,
   "id": "1e359dcd-a71a-4673-a433-33cb8c090012",
   "metadata": {},
   "outputs": [
    {
     "data": {
      "text/plain": [
       "{1, 2, 3, 4, 11, 22, 33}"
      ]
     },
     "execution_count": 63,
     "metadata": {},
     "output_type": "execute_result"
    }
   ],
   "source": [
    "set(list5)"
   ]
  },
  {
   "cell_type": "code",
   "execution_count": null,
   "id": "05ceeed4-9c84-44cb-a510-b0710c3ddaba",
   "metadata": {},
   "outputs": [],
   "source": []
  },
  {
   "cell_type": "code",
   "execution_count": 64,
   "id": "259ceb7d-3638-4c9d-ac4f-9c507f251b02",
   "metadata": {},
   "outputs": [
    {
     "data": {
      "text/plain": [
       "True"
      ]
     },
     "execution_count": 64,
     "metadata": {},
     "output_type": "execute_result"
    }
   ],
   "source": [
    "True"
   ]
  },
  {
   "cell_type": "code",
   "execution_count": 65,
   "id": "ef1fb11f-9bf3-48cd-881b-62272e6571a1",
   "metadata": {},
   "outputs": [
    {
     "data": {
      "text/plain": [
       "False"
      ]
     },
     "execution_count": 65,
     "metadata": {},
     "output_type": "execute_result"
    }
   ],
   "source": [
    "False"
   ]
  },
  {
   "cell_type": "code",
   "execution_count": 66,
   "id": "151ffc6f-de53-4c38-bb89-8b431e922c28",
   "metadata": {},
   "outputs": [
    {
     "data": {
      "text/plain": [
       "False"
      ]
     },
     "execution_count": 66,
     "metadata": {},
     "output_type": "execute_result"
    }
   ],
   "source": [
    "False"
   ]
  },
  {
   "cell_type": "code",
   "execution_count": 67,
   "id": "989fe75f-ab05-40f0-8273-3942b86d1995",
   "metadata": {},
   "outputs": [
    {
     "data": {
      "text/plain": [
       "True"
      ]
     },
     "execution_count": 67,
     "metadata": {},
     "output_type": "execute_result"
    }
   ],
   "source": [
    "True"
   ]
  },
  {
   "cell_type": "code",
   "execution_count": 68,
   "id": "450dfd11-4328-429f-9a3f-74004285b4ef",
   "metadata": {},
   "outputs": [
    {
     "data": {
      "text/plain": [
       "False"
      ]
     },
     "execution_count": 68,
     "metadata": {},
     "output_type": "execute_result"
    }
   ],
   "source": [
    "False"
   ]
  },
  {
   "cell_type": "code",
   "execution_count": 69,
   "id": "6bc2cc96-d9fc-4ee1-8b99-27a926fdad84",
   "metadata": {},
   "outputs": [
    {
     "data": {
      "text/plain": [
       "False"
      ]
     },
     "execution_count": 69,
     "metadata": {},
     "output_type": "execute_result"
    }
   ],
   "source": [
    "2 > 3\n"
   ]
  },
  {
   "cell_type": "code",
   "execution_count": 70,
   "id": "9b65c828-369a-45b0-9b7a-26c7e91338ba",
   "metadata": {},
   "outputs": [
    {
     "data": {
      "text/plain": [
       "False"
      ]
     },
     "execution_count": 70,
     "metadata": {},
     "output_type": "execute_result"
    }
   ],
   "source": [
    "3 <= 2\n"
   ]
  },
  {
   "cell_type": "code",
   "execution_count": 71,
   "id": "75e2498f-e703-4645-9a04-82f562cd8f1a",
   "metadata": {},
   "outputs": [
    {
     "data": {
      "text/plain": [
       "False"
      ]
     },
     "execution_count": 71,
     "metadata": {},
     "output_type": "execute_result"
    }
   ],
   "source": [
    "3 == 2.0\n"
   ]
  },
  {
   "cell_type": "code",
   "execution_count": null,
   "id": "f489ccd9-5b1f-4397-9a45-ad29e6bfd109",
   "metadata": {},
   "outputs": [],
   "source": []
  },
  {
   "cell_type": "code",
   "execution_count": 72,
   "id": "6cb3d5bf-090c-4457-989d-2d965bf76b62",
   "metadata": {},
   "outputs": [
    {
     "data": {
      "text/plain": [
       "True"
      ]
     },
     "execution_count": 72,
     "metadata": {},
     "output_type": "execute_result"
    }
   ],
   "source": [
    "3.0 == 3\n"
   ]
  },
  {
   "cell_type": "code",
   "execution_count": 73,
   "id": "1dc21cbb-5234-47bc-a616-2c51391508c8",
   "metadata": {},
   "outputs": [
    {
     "data": {
      "text/plain": [
       "False"
      ]
     },
     "execution_count": 73,
     "metadata": {},
     "output_type": "execute_result"
    }
   ],
   "source": [
    "4**0.5 != 2\n"
   ]
  },
  {
   "cell_type": "code",
   "execution_count": 74,
   "id": "afd1e0f2-05bb-41e4-b644-050a840460b6",
   "metadata": {},
   "outputs": [
    {
     "data": {
      "text/plain": [
       "False"
      ]
     },
     "execution_count": 74,
     "metadata": {},
     "output_type": "execute_result"
    }
   ],
   "source": [
    "\n",
    "# two nested lists\n",
    "l_one = [1,2,[3,4]]\n",
    "l_two = [1,2,{'k1':4}]\n",
    "\n",
    "# True or False?\n",
    "l_one[2][0] >= l_two[2]['k1']"
   ]
  },
  {
   "cell_type": "code",
   "execution_count": null,
   "id": "afaa0cc9-b34b-4794-9342-f9621489b415",
   "metadata": {},
   "outputs": [],
   "source": []
  },
  {
   "cell_type": "code",
   "execution_count": null,
   "id": "2b834515-86ec-4c9f-853e-5f81b80b9dbc",
   "metadata": {},
   "outputs": [],
   "source": []
  },
  {
   "cell_type": "code",
   "execution_count": null,
   "id": "c90e19b1-215f-4183-ae1b-d9ff406f1af2",
   "metadata": {},
   "outputs": [],
   "source": []
  },
  {
   "cell_type": "code",
   "execution_count": null,
   "id": "787e581b-436d-41b4-8262-5e4202642f6e",
   "metadata": {},
   "outputs": [],
   "source": []
  },
  {
   "cell_type": "code",
   "execution_count": null,
   "id": "2f9a7580-ce54-4a19-a7ca-0038880d5a70",
   "metadata": {},
   "outputs": [],
   "source": []
  },
  {
   "cell_type": "code",
   "execution_count": null,
   "id": "caf1cb43-faad-4de5-afc4-49be53867ed0",
   "metadata": {},
   "outputs": [],
   "source": [
    "letter=[\"World\"]\n",
    "\n",
    "for i in letter:\n",
    "    letter.append(letter)"
   ]
  },
  {
   "cell_type": "code",
   "execution_count": null,
   "id": "1610354c-f780-47ff-bd51-00a7e00c8715",
   "metadata": {},
   "outputs": [],
   "source": [
    "a=0\n",
    "b=0\n",
    "\n",
    "def myfuction(*arg):\n",
    "    return min(arg)"
   ]
  },
  {
   "cell_type": "code",
   "execution_count": null,
   "id": "87f8ae40-ed4d-4b87-8739-0dcde412dae3",
   "metadata": {},
   "outputs": [],
   "source": [
    "myfuction(4,2)"
   ]
  },
  {
   "cell_type": "code",
   "execution_count": null,
   "id": "f7dc3a43-b65f-4975-a99a-c1f80bbd1be5",
   "metadata": {},
   "outputs": [],
   "source": [
    "myfuction(10,50)"
   ]
  },
  {
   "cell_type": "code",
   "execution_count": 364,
   "id": "b6716686-052e-4ab5-85e1-c4436ce65543",
   "metadata": {},
   "outputs": [
    {
     "name": "stdin",
     "output_type": "stream",
     "text": [
      "write your first word Dodo\n",
      "write your second word Popo\n"
     ]
    }
   ],
   "source": [
    "text1=input (\"write your first word\")\n",
    "text2=input (\"write your second word\")\n",
    "def animal_crackers(text1,text2):\n",
    "    if text1[0]==text2[0]:\n",
    "        print(\"True\")\n",
    "    else:\n",
    "        print(\"les premières lettres ne correspondent pas\")"
   ]
  },
  {
   "cell_type": "code",
   "execution_count": 367,
   "id": "5f71cc51-0230-41fa-a55b-47241c9f16d1",
   "metadata": {},
   "outputs": [
    {
     "ename": "TypeError",
     "evalue": "animal_crackers() missing 2 required positional arguments: 'text1' and 'text2'",
     "output_type": "error",
     "traceback": [
      "\u001b[31m---------------------------------------------------------------------------\u001b[39m",
      "\u001b[31mTypeError\u001b[39m                                 Traceback (most recent call last)",
      "\u001b[36mCell\u001b[39m\u001b[36m \u001b[39m\u001b[32mIn[367]\u001b[39m\u001b[32m, line 1\u001b[39m\n\u001b[32m----> \u001b[39m\u001b[32m1\u001b[39m \u001b[43manimal_crackers\u001b[49m\u001b[43m(\u001b[49m\u001b[43m)\u001b[49m\n",
      "\u001b[31mTypeError\u001b[39m: animal_crackers() missing 2 required positional arguments: 'text1' and 'text2'"
     ]
    }
   ],
   "source": [
    "animal_crackers()"
   ]
  },
  {
   "cell_type": "code",
   "execution_count": 365,
   "id": "4980a69a-7383-4bdf-b34f-bede64727655",
   "metadata": {},
   "outputs": [
    {
     "name": "stdout",
     "output_type": "stream",
     "text": [
      "les premières lettres ne correspondent pas\n"
     ]
    }
   ],
   "source": [
    "animal_crackers(text1,text2)"
   ]
  },
  {
   "cell_type": "code",
   "execution_count": 366,
   "id": "82b0b702-f32c-499a-ba6b-a609f6493864",
   "metadata": {},
   "outputs": [
    {
     "name": "stdout",
     "output_type": "stream",
     "text": [
      "les premières lettres ne correspondent pas\n"
     ]
    }
   ],
   "source": [
    "animal_crackers(text1,text2)"
   ]
  },
  {
   "cell_type": "code",
   "execution_count": 60,
   "id": "246fbd0f-364f-43c2-ac5a-2f3aa2b57c94",
   "metadata": {},
   "outputs": [],
   "source": [
    "def makes_twenty(a,b):\n",
    "    if a + b ==20:\n",
    "        print (\"True\")\n",
    "    elif a==20 or b==20:\n",
    "        print (\"True\")\n",
    "    else:\n",
    "        print (\"False\")\n",
    "        "
   ]
  },
  {
   "cell_type": "code",
   "execution_count": 61,
   "id": "670c1e63-3a0c-4e64-9156-e5ceb737a3f8",
   "metadata": {},
   "outputs": [
    {
     "name": "stdout",
     "output_type": "stream",
     "text": [
      "True\n"
     ]
    }
   ],
   "source": [
    "makes_twenty(12,8)"
   ]
  },
  {
   "cell_type": "code",
   "execution_count": 68,
   "id": "decf35e1-4ba7-442c-a062-db0abcdbca49",
   "metadata": {},
   "outputs": [
    {
     "name": "stdout",
     "output_type": "stream",
     "text": [
      "True\n"
     ]
    }
   ],
   "source": [
    "makes_twenty(10,10)"
   ]
  },
  {
   "cell_type": "code",
   "execution_count": 143,
   "id": "85170640-e8f3-46be-b50d-26d703174c24",
   "metadata": {},
   "outputs": [],
   "source": [
    "name=\"macdonald\"\n",
    "def old_macdonald(name):\n",
    "    name = name[0].upper() +name[1:3] + name[3].upper() + name[4:]\n",
    "   \n",
    "    return(name)"
   ]
  },
  {
   "cell_type": "code",
   "execution_count": 144,
   "id": "60732786-8b89-4c25-99d2-6a2328aa1cac",
   "metadata": {},
   "outputs": [
    {
     "data": {
      "text/plain": [
       "'MacDonald'"
      ]
     },
     "execution_count": 144,
     "metadata": {},
     "output_type": "execute_result"
    }
   ],
   "source": [
    "old_macdonald(name)"
   ]
  },
  {
   "cell_type": "code",
   "execution_count": 266,
   "id": "a9c34224-d8b9-4138-ab73-c7aa2a9456c8",
   "metadata": {},
   "outputs": [],
   "source": [
    "x=[]\n",
    "def master_yoda(texte):\n",
    "    x= texte.split()\n",
    "    y= x[::-1]\n",
    "    return ' '.join(y)"
   ]
  },
  {
   "cell_type": "code",
   "execution_count": 268,
   "id": "feee74cb-f061-48af-a251-daabd853d756",
   "metadata": {},
   "outputs": [
    {
     "data": {
      "text/plain": [
       "'Abricot Asticot Lama'"
      ]
     },
     "execution_count": 268,
     "metadata": {},
     "output_type": "execute_result"
    }
   ],
   "source": [
    "master_yoda(\"Lama Asticot Abricot\")"
   ]
  },
  {
   "cell_type": "code",
   "execution_count": 308,
   "id": "b6df13d5-1a20-4753-a43f-56a3499ea668",
   "metadata": {},
   "outputs": [],
   "source": [
    "def almost_there(n):\n",
    "    if n <90 :\n",
    "        print(\"False\")\n",
    "    elif 90<=n<=110:\n",
    "        print(\"True\")\n",
    "    elif 110<n<190:\n",
    "        print(\"False\")\n",
    "    elif 190<=n<=210:\n",
    "        print(\"True\")\n",
    "    else:\n",
    "        print(\"False\")"
   ]
  },
  {
   "cell_type": "code",
   "execution_count": 316,
   "id": "892431a5-7e1e-4115-a9fe-f6824ccdf790",
   "metadata": {},
   "outputs": [
    {
     "name": "stdout",
     "output_type": "stream",
     "text": [
      "False\n"
     ]
    }
   ],
   "source": [
    "almost_there(211)"
   ]
  },
  {
   "cell_type": "code",
   "execution_count": 3,
   "id": "d7a13aea-9aa9-4844-a171-c916b99aa047",
   "metadata": {},
   "outputs": [],
   "source": [
    "def has_33(nums):\n",
    "    for i in range(0,len(nums)-1):   \n",
    "        if nums[i]==3 and nums[i+1]==3:\n",
    "            return True\n",
    "    return False"
   ]
  },
  {
   "cell_type": "code",
   "execution_count": 4,
   "id": "b39b0576-0ffb-49ec-b3f8-1b86107c4ec9",
   "metadata": {},
   "outputs": [
    {
     "data": {
      "text/plain": [
       "True"
      ]
     },
     "execution_count": 4,
     "metadata": {},
     "output_type": "execute_result"
    }
   ],
   "source": [
    "has_33([1, 3, 3])\n"
   ]
  },
  {
   "cell_type": "code",
   "execution_count": 23,
   "id": "c1628fa3-febc-436c-b018-1cfab66248ff",
   "metadata": {},
   "outputs": [],
   "source": [
    "def paper_doll(text):\n",
    "    result=''\n",
    "    for i in text:\n",
    "        result+=(i*3)\n",
    "    return result\n",
    "            "
   ]
  },
  {
   "cell_type": "code",
   "execution_count": 24,
   "id": "82ec1e70-5397-4782-8fff-dac1ae595b69",
   "metadata": {},
   "outputs": [
    {
     "data": {
      "text/plain": [
       "'hhheeellllllooo'"
      ]
     },
     "execution_count": 24,
     "metadata": {},
     "output_type": "execute_result"
    }
   ],
   "source": [
    "paper_doll('hello')"
   ]
  },
  {
   "cell_type": "code",
   "execution_count": 122,
   "id": "0e4b5b8c-2c60-43d9-905c-4762b13e6410",
   "metadata": {},
   "outputs": [],
   "source": [
    "\n",
    "def blackjack (a,b,c):\n",
    "    x=0\n",
    "    y=\"\"\n",
    "    if 1<=a<=11 and 1<=b<=11 and 1<=c<=11:\n",
    "        if sum([a,b,c]) <= 21 : \n",
    "            return sum([a,b,c])        \n",
    "        elif (sum([a,b,c])>21 and (a==11 or b==11 or c==11)):\n",
    "            return sum([a,b,c])-10 \n",
    "        else:\n",
    "            return \"Bust\"\n",
    "    else: print (\"a ou b ou c n'est pas dans la plage de donnée\")"
   ]
  },
  {
   "cell_type": "code",
   "execution_count": 135,
   "id": "38b94d85-f96b-43e2-9623-14c95d08bd66",
   "metadata": {},
   "outputs": [
    {
     "name": "stdout",
     "output_type": "stream",
     "text": [
      "a ou b ou c n'est pas dans la plage de donnée\n"
     ]
    }
   ],
   "source": [
    "blackjack(12,5,5)"
   ]
  },
  {
   "cell_type": "code",
   "execution_count": null,
   "id": "5045f4fb-3dc2-444e-bd3e-48c9b8646c5f",
   "metadata": {},
   "outputs": [],
   "source": []
  },
  {
   "cell_type": "code",
   "execution_count": 201,
   "id": "becc5e5d-59d8-4942-a0fe-2d28f859c9b7",
   "metadata": {},
   "outputs": [],
   "source": [
    "def summer_69(*arr):\n",
    "\n",
    "    total = 0\n",
    "    add = True\n",
    "    \n",
    "    for i in arr:\n",
    "        while add==True:\n",
    "            if i!=6:\n",
    "                total+=i    \n",
    "                break\n",
    "            else:\n",
    "                add = False\n",
    "        while add==False:\n",
    "            if i!=9:\n",
    "                break\n",
    "            else:\n",
    "                add==True\n",
    "                break\n",
    "    return total\n",
    "        "
   ]
  },
  {
   "cell_type": "code",
   "execution_count": 203,
   "id": "46752af2-7946-4488-8892-35f6f745d734",
   "metadata": {},
   "outputs": [
    {
     "data": {
      "text/plain": [
       "7"
      ]
     },
     "execution_count": 203,
     "metadata": {},
     "output_type": "execute_result"
    }
   ],
   "source": [
    "summer_69(1,4,2,6)"
   ]
  },
  {
   "cell_type": "code",
   "execution_count": 351,
   "id": "e6741a85-9c9a-4daa-aa74-ca77d7108c1d",
   "metadata": {},
   "outputs": [],
   "source": [
    "def spy_game(*nums):\n",
    "\n",
    "    code = [0,0,7,\"x\"]\n",
    "    for i in nums:\n",
    "        if i==code[0]:\n",
    "            code.pop(0)\n",
    "    print (len(code))\n",
    "    return len(code)==1"
   ]
  },
  {
   "cell_type": "code",
   "execution_count": 354,
   "id": "dc0f4e29-290e-4e33-a7de-8f07a83f57e0",
   "metadata": {},
   "outputs": [
    {
     "name": "stdout",
     "output_type": "stream",
     "text": [
      "1\n"
     ]
    },
    {
     "data": {
      "text/plain": [
       "True"
      ]
     },
     "execution_count": 354,
     "metadata": {},
     "output_type": "execute_result"
    }
   ],
   "source": [
    "spy_game(1,0,1,0,5,8,7)"
   ]
  },
  {
   "cell_type": "code",
   "execution_count": 1,
   "id": "7397139b-a359-4ede-af8e-07a034cfa85d",
   "metadata": {},
   "outputs": [],
   "source": [
    "def pig_latin(word):\n",
    "    if word[0].lower() not in \"aeiouy\":\n",
    "        # Déplacer la première lettre à la fin et ajouter 'ay'\n",
    "        new_word = word[1:] + word[0] + \"ay\"\n",
    "        return new_word\n",
    "    else:\n",
    "        # Si commence par voyelle, juste ajouter 'ay'\n",
    "        return word + \"ay\""
   ]
  },
  {
   "cell_type": "code",
   "execution_count": 2,
   "id": "2229a919-1170-48cf-9cca-1eecdbcebccc",
   "metadata": {},
   "outputs": [
    {
     "data": {
      "text/plain": [
       "'lumepay'"
      ]
     },
     "execution_count": 2,
     "metadata": {},
     "output_type": "execute_result"
    }
   ],
   "source": [
    "pig_latin(\"plume\")"
   ]
  },
  {
   "cell_type": "code",
   "execution_count": 3,
   "id": "f94e62c7-c0d9-4360-8282-e73267827498",
   "metadata": {},
   "outputs": [],
   "source": [
    "def splicer(mystring):\n",
    "    if len(mystring)%2==0:\n",
    "        return 'Even'\n",
    "    else:\n",
    "        return mystring [0]"
   ]
  },
  {
   "cell_type": "markdown",
   "id": "b4d548d8-dbd5-4142-9fde-845681673d2e",
   "metadata": {},
   "source": []
  },
  {
   "cell_type": "code",
   "execution_count": 4,
   "id": "d0893bc7-627f-456c-af51-20d8a96a0463",
   "metadata": {},
   "outputs": [],
   "source": [
    "my_list = [\"toto\", \"mohamed\", \"zozo\"]"
   ]
  },
  {
   "cell_type": "code",
   "execution_count": 5,
   "id": "c1530540-748a-4326-9fd0-fd401246bba1",
   "metadata": {},
   "outputs": [
    {
     "data": {
      "text/plain": [
       "['toto', 'mohamed', 'zozo']"
      ]
     },
     "execution_count": 5,
     "metadata": {},
     "output_type": "execute_result"
    }
   ],
   "source": [
    "my_list"
   ]
  },
  {
   "cell_type": "code",
   "execution_count": 6,
   "id": "3a878b1c-f32f-4a2e-8d32-684c1417381b",
   "metadata": {},
   "outputs": [
    {
     "data": {
      "text/plain": [
       "<map at 0x20be8472c20>"
      ]
     },
     "execution_count": 6,
     "metadata": {},
     "output_type": "execute_result"
    }
   ],
   "source": [
    "map(splicer,my_list)"
   ]
  },
  {
   "cell_type": "code",
   "execution_count": 9,
   "id": "b28cef64-329b-4766-be66-2547086471ee",
   "metadata": {},
   "outputs": [
    {
     "name": "stdout",
     "output_type": "stream",
     "text": [
      "Even\n",
      "m\n",
      "Even\n"
     ]
    }
   ],
   "source": [
    "for i in map(splicer,my_list):\n",
    "    print (i)"
   ]
  },
  {
   "cell_type": "code",
   "execution_count": 10,
   "id": "97684e66-f15f-4b68-bc9a-588d30b9fdcc",
   "metadata": {},
   "outputs": [
    {
     "data": {
      "text/plain": [
       "['Even', 'm', 'Even']"
      ]
     },
     "execution_count": 10,
     "metadata": {},
     "output_type": "execute_result"
    }
   ],
   "source": [
    "list(map(splicer,my_list))"
   ]
  },
  {
   "cell_type": "code",
   "execution_count": 18,
   "id": "416ba9fb-2984-4300-81d3-696349184632",
   "metadata": {},
   "outputs": [],
   "source": [
    "def check_even (nums):\n",
    "    return nums%2 ==0"
   ]
  },
  {
   "cell_type": "code",
   "execution_count": 19,
   "id": "62ab0df9-3ffc-4681-ab9c-0324af706ed7",
   "metadata": {},
   "outputs": [
    {
     "data": {
      "text/plain": [
       "[False, True, False, True, False, True]"
      ]
     },
     "execution_count": 19,
     "metadata": {},
     "output_type": "execute_result"
    }
   ],
   "source": [
    "my_nums=[1,2,3,4,5,6]\n",
    "list(map(check_even,my_nums))"
   ]
  },
  {
   "cell_type": "markdown",
   "id": "e425b00f-84cb-4ab0-bb60-4a1af88c51fe",
   "metadata": {},
   "source": []
  },
  {
   "cell_type": "code",
   "execution_count": 21,
   "id": "4cc592cb-939e-494f-b2d6-f66096a80eb7",
   "metadata": {},
   "outputs": [
    {
     "data": {
      "text/plain": [
       "[2, 4, 6]"
      ]
     },
     "execution_count": 21,
     "metadata": {},
     "output_type": "execute_result"
    }
   ],
   "source": [
    "list(filter(lambda nums : nums%2==0, my_nums))"
   ]
  },
  {
   "cell_type": "code",
   "execution_count": 22,
   "id": "a6169a30-2068-409d-8a6c-03d9ef7c9497",
   "metadata": {},
   "outputs": [],
   "source": [
    "liste=[\"Andy\", \"Eve\", \"Sally\"]"
   ]
  },
  {
   "cell_type": "code",
   "execution_count": null,
   "id": "e729e563-0320-4918-9d37-a1ebfc7bd43c",
   "metadata": {},
   "outputs": [],
   "source": []
  },
  {
   "cell_type": "code",
   "execution_count": 113,
   "id": "80fe7c83-e5c9-4a52-90c6-1a65a3069607",
   "metadata": {},
   "outputs": [
    {
     "data": {
      "text/plain": [
       "['ydnA', 'evE', 'yllaS']"
      ]
     },
     "execution_count": 113,
     "metadata": {},
     "output_type": "execute_result"
    }
   ],
   "source": [
    "list(map(lambda name:name[::-1],liste))"
   ]
  },
  {
   "cell_type": "code",
   "execution_count": 130,
   "id": "238449e1-7b24-4143-bc62-0ba957ebfddb",
   "metadata": {},
   "outputs": [],
   "source": [
    "def vol(rad):\n",
    "    return (4/3)*3.14*rad**3\n",
    "\n"
   ]
  },
  {
   "cell_type": "code",
   "execution_count": 131,
   "id": "0c4bb325-a8f1-4647-b350-abdfabddbec3",
   "metadata": {},
   "outputs": [
    {
     "data": {
      "text/plain": [
       "0.5233333333333333"
      ]
     },
     "execution_count": 131,
     "metadata": {},
     "output_type": "execute_result"
    }
   ],
   "source": [
    "vol(0.5)"
   ]
  },
  {
   "cell_type": "code",
   "execution_count": 136,
   "id": "8dda7857-d7ee-4f75-b981-debe87d8b669",
   "metadata": {},
   "outputs": [],
   "source": [
    "def ran_check (num,low,high):\n",
    "    if num >= low and num <= high:\n",
    "        print(\"num est dans la plage de donnée\")\n",
    "    else: \n",
    "        print(\"num n'est pas dans la plage de donnée\")"
   ]
  },
  {
   "cell_type": "code",
   "execution_count": 149,
   "id": "c20b49d9-c69f-4504-a6ea-026dd13ff883",
   "metadata": {},
   "outputs": [
    {
     "data": {
      "text/plain": [
       "False"
      ]
     },
     "execution_count": 149,
     "metadata": {},
     "output_type": "execute_result"
    }
   ],
   "source": [
    "ran_check(1,2,8)"
   ]
  },
  {
   "cell_type": "code",
   "execution_count": 148,
   "id": "ed0fb26d-83f5-4c5b-af1a-dbf8d8450296",
   "metadata": {},
   "outputs": [],
   "source": [
    "def ran_check (num,low,high):\n",
    "    if num >= low and num <= high:\n",
    "        return True\n",
    "    else: \n",
    "        return False"
   ]
  },
  {
   "cell_type": "code",
   "execution_count": 347,
   "id": "7ff2c3ac-9d65-4515-9245-b23c3a670847",
   "metadata": {},
   "outputs": [],
   "source": [
    "def up_low_compt(phrase):\n",
    "    i=0\n",
    "    lower=0\n",
    "    upper=0\n",
    "    for i in phrase:\n",
    "        if i.isalpha():  # ignore espaces, ponctuations, chiffres\n",
    "\n",
    "            if i == i.lower():\n",
    "                lower+= 1\n",
    "            else:\n",
    "                continue\n",
    "\n",
    "    for j in phrase:\n",
    "        if j.isalpha():\n",
    "            if j == j.upper():\n",
    "                upper+= 1\n",
    "            else:\n",
    "                continue\n",
    "\n",
    "    return (upper,lower)        \n",
    "\n",
    "  \n",
    "    "
   ]
  },
  {
   "cell_type": "code",
   "execution_count": 348,
   "id": "9197d619-c739-4333-a822-253c8d88a05d",
   "metadata": {},
   "outputs": [
    {
     "data": {
      "text/plain": [
       "(4, 40)"
      ]
     },
     "execution_count": 348,
     "metadata": {},
     "output_type": "execute_result"
    }
   ],
   "source": [
    "up_low_compt(\"Je Suis une grosse bête et je suis le Meilleur du Monde\")"
   ]
  },
  {
   "cell_type": "code",
   "execution_count": 397,
   "id": "b3dce9cc-0df9-4d69-86ad-db5df23fcf2f",
   "metadata": {},
   "outputs": [],
   "source": [
    "def unique_list(liste):\n",
    "    x=set(liste)\n",
    "    x=list(x)\n",
    "    return x"
   ]
  },
  {
   "cell_type": "code",
   "execution_count": 401,
   "id": "498e1950-f68c-4e92-821c-b91371a03136",
   "metadata": {},
   "outputs": [
    {
     "data": {
      "text/plain": [
       "[1, 2, 3, 4, 5, 10]"
      ]
     },
     "execution_count": 401,
     "metadata": {},
     "output_type": "execute_result"
    }
   ],
   "source": [
    "unique_list([1,2,2,10,3,3,3,4,4,4,5,5,5])"
   ]
  },
  {
   "cell_type": "code",
   "execution_count": 345,
   "id": "d5ab06bf-477a-43b2-8b2a-5748d76d545d",
   "metadata": {},
   "outputs": [],
   "source": [
    "def multiply (liste):\n",
    "\n",
    "    \"\"\"\n",
    "    Multiply all numbers in a list\n",
    "    \n",
    "    \"\"\"\n",
    "\n",
    "    i=0\n",
    "    result0=liste[0]\n",
    "    result1=result0*liste[(i+1)]\n",
    "    result2=result1*liste[(i+2)]\n",
    "    result3=result2*liste[(i+3)]\n",
    "    \n",
    "    return result3\n",
    "\n",
    "    \"\"\"\n",
    "    i=0\n",
    "    result=liste[0]\n",
    "    for i in liste:\n",
    "        result=result*liste[(i+1)]\n",
    "    return result\n",
    "    \"\"\""
   ]
  },
  {
   "cell_type": "code",
   "execution_count": 346,
   "id": "14157362-6a70-41bf-8b67-d2e39309bf98",
   "metadata": {},
   "outputs": [
    {
     "data": {
      "text/plain": [
       "5"
      ]
     },
     "execution_count": 346,
     "metadata": {},
     "output_type": "execute_result"
    }
   ],
   "source": [
    "multiply ([1,5,5,4])"
   ]
  },
  {
   "cell_type": "code",
   "execution_count": 329,
   "id": "bb0c5fb1-8bbe-4f0e-9a55-b6dd01c766a1",
   "metadata": {},
   "outputs": [],
   "source": [
    "def palindrome(mot):\n",
    "    if len(mot)%2==0:\n",
    "        for i in range(len(mot)):\n",
    "            if mot[i]==mot[-1-i]:\n",
    "                i=i+1\n",
    "                return \"Palindrome\"\n",
    "            else:\n",
    "                return \"Non plus\"\n",
    "\n",
    "    else: \n",
    "        return \"pas un palindrome\"\n",
    "   "
   ]
  },
  {
   "cell_type": "code",
   "execution_count": null,
   "id": "4649d796-3f79-4d76-95f1-18c633e6460f",
   "metadata": {},
   "outputs": [],
   "source": []
  },
  {
   "cell_type": "code",
   "execution_count": 10,
   "id": "ba7df711-cf92-4ef6-b613-4f85434d526d",
   "metadata": {},
   "outputs": [],
   "source": [
    "import string\n",
    "\n",
    "def ispangram(str1, alphabet=string.ascii_lowercase):\n",
    "    ##ma phrase qui contient que des lettres de l'alphabet\n",
    "    \n",
    "    str1=remove_spaces(str1)\n",
    "    lettres_trouvees = set()\n",
    "\n",
    "    ##boucle de i qui test tous les char de ma phrase\n",
    "    for i in str1:\n",
    "    ##si la lettre désignée est dans \"abcde...z\"\n",
    "        for j in string.ascii_lowercase:\n",
    "    ##alors on retire la lettre de \"abcd...z\"\n",
    "            if j!=i:\n",
    "               pass \n",
    "            else:\n",
    "                lettres_trouvees.add(i.lower())\n",
    "    return len(string.ascii_lowercase) == len(lettres_trouvees)\n",
    "        \n",
    "                       \n",
    "\n",
    "\n",
    "def remove_spaces(texte):\n",
    "    return texte.replace(\" \", \"\")        "
   ]
  },
  {
   "cell_type": "code",
   "execution_count": 18,
   "id": "ee4d756e-7606-4dbf-af2e-aa7a60fafd9c",
   "metadata": {},
   "outputs": [
    {
     "data": {
      "text/plain": [
       "True"
      ]
     },
     "execution_count": 18,
     "metadata": {},
     "output_type": "execute_result"
    }
   ],
   "source": [
    "ispangram(\"the quick brown fox jumps over the lazy dog\")"
   ]
  },
  {
   "cell_type": "code",
   "execution_count": 45,
   "id": "d9fc4071-26a1-47f8-ad94-ee569ac2d560",
   "metadata": {},
   "outputs": [],
   "source": [
    "import string\n",
    "\n",
    "def ispangram(str1, alphabet=string.ascii_lowercase):\n",
    "    alphaset=set(alphabet)\n",
    "    return set(str1.lower()) >= alphaset"
   ]
  },
  {
   "cell_type": "code",
   "execution_count": 47,
   "id": "c145d1ad-7313-4be5-b1f6-8e0c0550905b",
   "metadata": {},
   "outputs": [
    {
     "data": {
      "text/plain": [
       "True"
      ]
     },
     "execution_count": 47,
     "metadata": {},
     "output_type": "execute_result"
    }
   ],
   "source": [
    "ispangram(\"the quick brown fox jumps over the lazy dog\")"
   ]
  },
  {
   "cell_type": "code",
   "execution_count": 1,
   "id": "22a803bd-c4fd-46e0-84b0-dd50ed98f464",
   "metadata": {},
   "outputs": [],
   "source": []
  },
  {
   "cell_type": "code",
   "execution_count": null,
   "id": "5f26a2f6-8a2a-4047-a80d-64b65268a267",
   "metadata": {},
   "outputs": [],
   "source": []
  },
  {
   "cell_type": "code",
   "execution_count": null,
   "id": "803d17af-c8dd-4dfd-8a32-ca9a7cbddf3b",
   "metadata": {},
   "outputs": [],
   "source": []
  },
  {
   "cell_type": "code",
   "execution_count": null,
   "id": "198ffef4-3d21-45f4-9341-497984bad3cd",
   "metadata": {},
   "outputs": [],
   "source": []
  },
  {
   "cell_type": "code",
   "execution_count": 144,
   "id": "b2fb349a-1c6f-4ca9-8215-2f908982f72d",
   "metadata": {},
   "outputs": [],
   "source": [
    "def check_if_full(board):\n",
    "    for i in board:\n",
    "        if i ==\" \":\n",
    "            return False\n",
    "        else:\n",
    "            continue\n",
    "    match_nul = True\n",
    "    return match_nul\n",
    "    "
   ]
  },
  {
   "cell_type": "code",
   "execution_count": 145,
   "id": "d3ddb6cf-7523-456e-8335-2d86189a7e15",
   "metadata": {},
   "outputs": [],
   "source": [
    "def check_win (board,x,y,player1,player2):\n",
    "    if board[0]==x and board[1]==x and board[2]==x:\n",
    "        player1_win=True\n",
    "        print (f\"{player1} a gagné\")\n",
    "        return player1_win\n",
    "    elif board[3]==x and board[4]==x and board[5]==x:\n",
    "        player1_win=True \n",
    "        print (f\"{player1} a gagné\")\n",
    "        return player1_win\n",
    "    elif board[6]==x and board[7]==x and board[8]==x:\n",
    "        player1_win=True \n",
    "        print (f\"{player1} a gagné\")\n",
    "        return player1_win\n",
    "    elif board[0]==x and board[4]==x and board[8]==x:\n",
    "        player1_win=True \n",
    "        print (f\"{player1} a gagné\")\n",
    "        return player1_win\n",
    "    elif board[2]==x and board[4]==x and board[6]==x:\n",
    "        player1_win=True \n",
    "        print (f\"{player1} a gagné\")\n",
    "        return player1_win\n",
    "    elif board[0]==x and board[3]==x and board[6]==x:\n",
    "        player1_win=True \n",
    "        print (f\"{player1} a gagné\")\n",
    "        return player1_win\n",
    "    elif board[1]==x and board[4]==x and board[7]==x:\n",
    "        player1_win=True \n",
    "        print (f\"{player1} a gagné\")\n",
    "        return player1_win\n",
    "    elif board[2]==x and board[5]==x and board[8]==x:\n",
    "        player1_win=True\n",
    "        print (f\"{player1} a gagné\")\n",
    "        return player1_win\n",
    "    \n",
    "        \n",
    "\n",
    "    if board[0]==y and board[1]==y and board[2]==y:\n",
    "        player2_win=True \n",
    "        print (f\"{player2} a gagné\")\n",
    "        return player2_win\n",
    "    elif board[3]==y and board[4]==y and board[5]==y:\n",
    "        player2_win=True \n",
    "        print (f\"{player2} a gagné\")\n",
    "        return player2_win\n",
    "    elif board[6]==y and board[7]==y and board[8]==y:\n",
    "        player2_win=True \n",
    "        print (f\"{player2} a gagné\")\n",
    "        return player2_win\n",
    "    elif board[0]==y and board[4]==y and board[8]==y:\n",
    "        player2_win=True \n",
    "        print (f\"{player2} a gagné\")\n",
    "        return player2_win\n",
    "    elif board[2]==y and board[4]==y and board[6]==y:\n",
    "        player2_win=True \n",
    "        print (f\"{player2} a gagné\")\n",
    "        return player2_win\n",
    "    elif board[0]==y and board[3]==y and board[6]==y:\n",
    "        player2_win=True \n",
    "        print (f\"{player2} a gagné\")\n",
    "        return player2_win\n",
    "    elif board[1]==y and board[4]==y and board[7]==y:\n",
    "        player2_win=True\n",
    "        print (f\"{player2} a gagné\")\n",
    "        return player2_win\n",
    "    elif board[2]==y and board[5]==y and board[8]==y:\n",
    "        player2_win=True \n",
    "        print (f\"{player2} a gagné\")\n",
    "        return player2_win\n",
    "\n",
    "    return False\n",
    "    "
   ]
  },
  {
   "cell_type": "code",
   "execution_count": 146,
   "id": "0b3d23f1-e953-474e-b83d-838c03344d89",
   "metadata": {},
   "outputs": [],
   "source": [
    "def turnperturn(player1,x,board):\n",
    "\n",
    "    print(f\"{player1} your turn between 1 and 9\")\n",
    "    choice_player1=\"0\"\n",
    "    while choice_player1 not in [\"1\", \"2\", \"3\",\"4\",\"5\",\"6\",\"7\",\"8\",\"9\"]:\n",
    "        choice_player1=input()\n",
    "        \n",
    "        if choice_player1 == \"1\" and board[6]==\" \":\n",
    "            board[6]=x\n",
    "            \n",
    "        elif choice_player1 ==\"1\" and board[6]!=\" \":\n",
    "            print(\"Cette case est déjà remplie, Réessayez\")\n",
    "            choice_player1 =\"0\"\n",
    "            continue\n",
    "           \n",
    "        elif choice_player1 == \"2\" and board[7]==\" \":\n",
    "            board[7]=x\n",
    "\n",
    "        elif choice_player1 ==\"2\" and board[7]!=\" \":\n",
    "            print(\"Cette case est déjà remplie, Réessayez\")\n",
    "            choice_player1 =\"0\"\n",
    "            continue\n",
    "    \n",
    "        elif choice_player1 == \"3\" and board[8]==\" \":\n",
    "            board[8]=x\n",
    "\n",
    "        elif choice_player1 ==\"3\" and board[8]!=\" \":\n",
    "            print(\"Cette case est déjà remplie, Réessayez\")\n",
    "            choice_player1 =\"0\"\n",
    "            continue\n",
    "            \n",
    "        elif choice_player1 == \"4\" and board[3]==\" \":\n",
    "            board[3]=x \n",
    "\n",
    "        elif choice_player1 ==\"4\" and board[3]!=\" \":\n",
    "            print(\"Cette case est déjà remplie, Réessayez\")\n",
    "            choice_player1 =\"0\"\n",
    "            continue\n",
    "            \n",
    "        elif choice_player1 == \"5\" and board[4]==\" \":\n",
    "            board[4]=x\n",
    "\n",
    "        elif choice_player1 ==\"5\" and board[4]!=\" \":\n",
    "            print(\"Cette case est déjà remplie, Réessayez\")\n",
    "            choice_player1 =\"0\"\n",
    "            continue\n",
    "            \n",
    "        elif choice_player1 == \"6\" and board[5]==\" \":\n",
    "            board[5]=x\n",
    "\n",
    "        elif choice_player1 ==\"6\" and board[5]!=\" \":\n",
    "            print(\"Cette case est déjà remplie, Réessayez\")\n",
    "            choice_player1 =\"0\"\n",
    "            continue\n",
    "        \n",
    "        elif choice_player1 == \"7\" and board[0]==\" \":\n",
    "            board[0]=x \n",
    "\n",
    "        elif choice_player1 ==\"7\" and board[0]!=\" \":\n",
    "            print(\"Cette case est déjà remplie, Réessayez\")\n",
    "            choice_player1 =\"0\"\n",
    "            continue\n",
    "            \n",
    "        elif choice_player1 == \"8\" and board[1]==\" \":\n",
    "            board[1]=x\n",
    "\n",
    "        elif choice_player1 ==\"8\" and board[1]!=\" \":\n",
    "            print(\"Cette case est déjà remplie, Réessayez\")\n",
    "            choice_player1 =\"0\"\n",
    "            continue\n",
    "            \n",
    "        elif choice_player1 == \"9\" and board[2]==\" \":\n",
    "            board[2]=x\n",
    "    \n",
    "        elif choice_player1 ==\"9\" and board[2]!=\" \":\n",
    "            print(\"Cette case est déjà remplie, Réessayez\")\n",
    "            choice_player1 =\"0\"\n",
    "            continue\n",
    "    \n",
    "  "
   ]
  },
  {
   "cell_type": "code",
   "execution_count": 147,
   "id": "631853a2-b522-4f90-9b2f-829c6080b87a",
   "metadata": {},
   "outputs": [],
   "source": [
    "def turnperturn_player2(player2,y,board):\n",
    "\n",
    "    print(f\"{player2} your turn between 1 and 9\")\n",
    "    choice_player2=\"0\"\n",
    "    while choice_player2 not in [\"1\", \"2\", \"3\",\"4\",\"5\",\"6\",\"7\",\"8\",\"9\"]:\n",
    "        choice_player2=input()\n",
    "    \n",
    "        if choice_player2 == \"1\" and board[6]==\" \":\n",
    "            board[6]=y\n",
    "\n",
    "        elif choice_player2 ==\"1\" and board[6]!=\" \":\n",
    "            print(\"Cette case est déjà remplie, Réessayez\")\n",
    "            choice_player2 =\"0\"\n",
    "            continue\n",
    "           \n",
    "        elif choice_player2 == \"2\" and board[7]==\" \":\n",
    "            board[7]=y\n",
    "\n",
    "        elif choice_player2 ==\"2\" and board[7]!=\" \":\n",
    "            print(\"Cette case est déjà remplie, Réessayez\")\n",
    "            choice_player2 =\"0\"\n",
    "            continue\n",
    "    \n",
    "        elif choice_player2 == \"3\" and board[8]==\" \":\n",
    "            board[8]=y\n",
    "\n",
    "        elif choice_player2 ==\"3\" and board[8]!=\" \":\n",
    "            print(\"Cette case est déjà remplie, Réessayez\")\n",
    "            choice_player2 =\"0\"\n",
    "            continue\n",
    "            \n",
    "        elif choice_player2 == \"4\" and board[3]==\" \":\n",
    "            board[3]=y \n",
    "\n",
    "        elif choice_player2 ==\"4\" and board[3]!=\" \":\n",
    "            print(\"Cette case est déjà remplie, Réessayez\")\n",
    "            choice_player2 =\"0\"\n",
    "            continue\n",
    "            \n",
    "        elif choice_player2 == \"5\" and board[4]==\" \":\n",
    "            board[4]=y\n",
    "\n",
    "        elif choice_player2 ==\"5\" and board[4]!=\" \":\n",
    "            print(\"Cette case est déjà remplie, Réessayez\")\n",
    "            choice_player2 =\"0\"\n",
    "            continue\n",
    "            \n",
    "        elif choice_player2 == \"6\" and board[5]==\" \":\n",
    "            board[5]=y\n",
    "\n",
    "        elif choice_player2 ==\"6\" and board[5]!=\" \":\n",
    "            print(\"Cette case est déjà remplie, Réessayez\")\n",
    "            choice_player2 =\"0\"\n",
    "            continue\n",
    "        \n",
    "        elif choice_player2 == \"7\" and board[0]==\" \":\n",
    "            board[0]=y \n",
    "\n",
    "        elif choice_player2 ==\"7\" and board[0]!=\" \":\n",
    "            print(\"Cette case est déjà remplie, Réessayez\")\n",
    "            choice_player2 =\"0\"\n",
    "            continue\n",
    "            \n",
    "        elif choice_player2 == \"8\" and board[1]==\" \":\n",
    "            board[1]=y\n",
    "\n",
    "        elif choice_player2 ==\"8\" and board[1]!=\" \":\n",
    "            print(\"Cette case est déjà remplie, Réessayez\")\n",
    "            choice_player2 =\"0\"\n",
    "            continue\n",
    "            \n",
    "        elif choice_player2 == \"9\" and board[2]==\" \":\n",
    "            board[2]=y\n",
    "\n",
    "        elif choice_player2 ==\"9\" and board[2]!=\" \":\n",
    "            print(\"Cette case est déjà remplie, Réessayez\")\n",
    "            choice_player2 =\"0\"\n",
    "            continue\n",
    "    "
   ]
  },
  {
   "cell_type": "code",
   "execution_count": 148,
   "id": "5b507bc5-2e3c-45a1-9cb8-283c0964bfd7",
   "metadata": {},
   "outputs": [],
   "source": [
    "def board_game(board):\n",
    "    print(\"   |   |   \")\n",
    "    print(f\" {board[0]} | {board[1]} | {board[2]}\")\n",
    "    print(\"___|___|___\")\n",
    "    print(\"   |   |   \")\n",
    "    print(f\" {board[3]} | {board[4]} | {board[5]}\")\n",
    "    print(\"___|___|___\")\n",
    "    print(\"   |   |   \")\n",
    "    print(f\" {board[6]} | {board[7]} | {board[8]}\")\n",
    "    print(\"   |   |   \")"
   ]
  },
  {
   "cell_type": "code",
   "execution_count": 149,
   "id": "27aa8b79-ec92-4a20-9bae-b11adce846e7",
   "metadata": {},
   "outputs": [
    {
     "name": "stdout",
     "output_type": "stream",
     "text": [
      "player 1 what is your name ?\n"
     ]
    },
    {
     "name": "stdin",
     "output_type": "stream",
     "text": [
      " Selim\n"
     ]
    },
    {
     "name": "stdout",
     "output_type": "stream",
     "text": [
      "player 2 what is your name ?\n"
     ]
    },
    {
     "name": "stdin",
     "output_type": "stream",
     "text": [
      " Melanie\n"
     ]
    },
    {
     "name": "stdout",
     "output_type": "stream",
     "text": [
      "Selim choose your symbol O or X\n"
     ]
    },
    {
     "name": "stdin",
     "output_type": "stream",
     "text": [
      " o\n"
     ]
    },
    {
     "name": "stdout",
     "output_type": "stream",
     "text": [
      "   |   |   \n",
      "   |   |  \n",
      "___|___|___\n",
      "   |   |   \n",
      "   |   |  \n",
      "___|___|___\n",
      "   |   |   \n",
      "   |   |  \n",
      "   |   |   \n",
      "Selim your turn between 1 and 9\n"
     ]
    },
    {
     "name": "stdin",
     "output_type": "stream",
     "text": [
      " 5\n"
     ]
    },
    {
     "name": "stdout",
     "output_type": "stream",
     "text": [
      "   |   |   \n",
      "   |   |  \n",
      "___|___|___\n",
      "   |   |   \n",
      "   | O |  \n",
      "___|___|___\n",
      "   |   |   \n",
      "   |   |  \n",
      "   |   |   \n",
      "Melanie your turn between 1 and 9\n"
     ]
    },
    {
     "name": "stdin",
     "output_type": "stream",
     "text": [
      " 9\n"
     ]
    },
    {
     "name": "stdout",
     "output_type": "stream",
     "text": [
      "   |   |   \n",
      "   |   | X\n",
      "___|___|___\n",
      "   |   |   \n",
      "   | O |  \n",
      "___|___|___\n",
      "   |   |   \n",
      "   |   |  \n",
      "   |   |   \n",
      "Selim your turn between 1 and 9\n"
     ]
    },
    {
     "name": "stdin",
     "output_type": "stream",
     "text": [
      " 7\n"
     ]
    },
    {
     "name": "stdout",
     "output_type": "stream",
     "text": [
      "   |   |   \n",
      " O |   | X\n",
      "___|___|___\n",
      "   |   |   \n",
      "   | O |  \n",
      "___|___|___\n",
      "   |   |   \n",
      "   |   |  \n",
      "   |   |   \n",
      "Melanie your turn between 1 and 9\n"
     ]
    },
    {
     "name": "stdin",
     "output_type": "stream",
     "text": [
      " 3\n"
     ]
    },
    {
     "name": "stdout",
     "output_type": "stream",
     "text": [
      "   |   |   \n",
      " O |   | X\n",
      "___|___|___\n",
      "   |   |   \n",
      "   | O |  \n",
      "___|___|___\n",
      "   |   |   \n",
      "   |   | X\n",
      "   |   |   \n",
      "Selim your turn between 1 and 9\n"
     ]
    },
    {
     "name": "stdin",
     "output_type": "stream",
     "text": [
      " 6\n"
     ]
    },
    {
     "name": "stdout",
     "output_type": "stream",
     "text": [
      "   |   |   \n",
      " O |   | X\n",
      "___|___|___\n",
      "   |   |   \n",
      "   | O | O\n",
      "___|___|___\n",
      "   |   |   \n",
      "   |   | X\n",
      "   |   |   \n",
      "Melanie your turn between 1 and 9\n"
     ]
    },
    {
     "name": "stdin",
     "output_type": "stream",
     "text": [
      " 4\n"
     ]
    },
    {
     "name": "stdout",
     "output_type": "stream",
     "text": [
      "   |   |   \n",
      " O |   | X\n",
      "___|___|___\n",
      "   |   |   \n",
      " X | O | O\n",
      "___|___|___\n",
      "   |   |   \n",
      "   |   | X\n",
      "   |   |   \n",
      "Selim your turn between 1 and 9\n"
     ]
    },
    {
     "name": "stdin",
     "output_type": "stream",
     "text": [
      " 2\n"
     ]
    },
    {
     "name": "stdout",
     "output_type": "stream",
     "text": [
      "   |   |   \n",
      " O |   | X\n",
      "___|___|___\n",
      "   |   |   \n",
      " X | O | O\n",
      "___|___|___\n",
      "   |   |   \n",
      "   | O | X\n",
      "   |   |   \n",
      "Melanie your turn between 1 and 9\n"
     ]
    },
    {
     "name": "stdin",
     "output_type": "stream",
     "text": [
      " 1\n"
     ]
    },
    {
     "name": "stdout",
     "output_type": "stream",
     "text": [
      "   |   |   \n",
      " O |   | X\n",
      "___|___|___\n",
      "   |   |   \n",
      " X | O | O\n",
      "___|___|___\n",
      "   |   |   \n",
      " X | O | X\n",
      "   |   |   \n",
      "Selim your turn between 1 and 9\n"
     ]
    },
    {
     "name": "stdin",
     "output_type": "stream",
     "text": [
      " 8\n"
     ]
    },
    {
     "name": "stdout",
     "output_type": "stream",
     "text": [
      "   |   |   \n",
      " O | O | X\n",
      "___|___|___\n",
      "   |   |   \n",
      " X | O | O\n",
      "___|___|___\n",
      "   |   |   \n",
      " X | O | X\n",
      "   |   |   \n",
      "Selim a gagné\n"
     ]
    }
   ],
   "source": [
    "match_nul=False\n",
    "player1_win=False\n",
    "player2_win=False\n",
    "board = [\" \" for _ in range(9)]\n",
    "print(\"player 1 what is your name ?\")\n",
    "player1 = input()\n",
    "print(\"player 2 what is your name ?\")\n",
    "player2 = input()\n",
    "print(f\"{player1} choose your symbol O or X\")\n",
    "symbol_chosen = input().upper()\n",
    "while symbol_chosen.upper() != \"X\" and symbol_chosen.upper() != \"O\":\n",
    "    print(f\"{player1} choose your symbol O or X\")\n",
    "    symbol_chosen = input()\n",
    "if symbol_chosen == \"X\":\n",
    "    x = symbol_chosen\n",
    "    y = \"O\"\n",
    "elif symbol_chosen == \"O\":\n",
    "    x = symbol_chosen  \n",
    "    y = \"X\"\n",
    "    \n",
    "board_game(board)\n",
    "while (player1_win==False and player2_win==False):     \n",
    "    turnperturn(player1,x,board)\n",
    "    board_game(board)\n",
    "    player1_win = check_win (board,x,y,player1,player2)\n",
    "    if player1_win==True:\n",
    "        break\n",
    "    match_nul=check_if_full(board)\n",
    "    if match_nul==True:\n",
    "        print(\"match nul\")\n",
    "        break\n",
    "    turnperturn_player2(player2,y,board)\n",
    "    board_game(board)\n",
    "    player2_win = check_win (board,x,y,player1,player2)\n",
    "    if player2_win==True:\n",
    "        break\n",
    "    match_nul=check_if_full(board)\n",
    "    if match_nul==True:\n",
    "        print(\"match nul\")\n",
    "        break"
   ]
  },
  {
   "cell_type": "code",
   "execution_count": null,
   "id": "09ca7fdd-de3d-4c0d-946b-c486ff7058d7",
   "metadata": {},
   "outputs": [],
   "source": []
  },
  {
   "cell_type": "code",
   "execution_count": null,
   "id": "dcc6c0f1-ccd6-448e-b436-6812f47240c6",
   "metadata": {},
   "outputs": [],
   "source": []
  },
  {
   "cell_type": "code",
   "execution_count": null,
   "id": "53304dcd-7cf6-474c-926f-86bc484e0004",
   "metadata": {},
   "outputs": [],
   "source": []
  },
  {
   "cell_type": "code",
   "execution_count": null,
   "id": "f771005f-2dae-4a2c-9734-3ef71e1624ac",
   "metadata": {},
   "outputs": [],
   "source": []
  },
  {
   "cell_type": "code",
   "execution_count": null,
   "id": "dcf8de2c-1a2c-4a78-9470-438d450eb38a",
   "metadata": {},
   "outputs": [],
   "source": []
  },
  {
   "cell_type": "code",
   "execution_count": null,
   "id": "5cbf3979-f7c8-4da9-940a-dfe9b401507e",
   "metadata": {},
   "outputs": [],
   "source": []
  },
  {
   "cell_type": "code",
   "execution_count": 45,
   "id": "018a2860-624a-4582-834b-245e71f432f8",
   "metadata": {},
   "outputs": [],
   "source": [
    "class Line:\n",
    "    \n",
    "    def __init__(self,coordinate1,coordinate2):\n",
    "        self.coordinate1=coordinate1\n",
    "        self.coordinate2=coordinate2\n",
    "        \n",
    "    def distance(self):\n",
    "        return (pow(pow((self.coordinate2[0]-self.coordinate1[0]),2)+pow((self.coordinate2[1]-self.coordinate1[1]),2) ,0.5))   \n",
    "    def slope(self):\n",
    "        pass"
   ]
  },
  {
   "cell_type": "code",
   "execution_count": 49,
   "id": "71df080b-7029-49ee-ad8e-8dfee404738f",
   "metadata": {},
   "outputs": [],
   "source": [
    "coordinate1=(3,2)\n",
    "coordinate2=(8,10)"
   ]
  },
  {
   "cell_type": "code",
   "execution_count": 53,
   "id": "9bce9156-cdb3-461b-ad39-51825bd9d5b8",
   "metadata": {},
   "outputs": [],
   "source": [
    "myline=Line(coordinate1,coordinate2)"
   ]
  },
  {
   "cell_type": "code",
   "execution_count": 56,
   "id": "931df22a-645a-4f79-baf0-d0670ccda226",
   "metadata": {},
   "outputs": [
    {
     "data": {
      "text/plain": [
       "9.433981132056603"
      ]
     },
     "execution_count": 56,
     "metadata": {},
     "output_type": "execute_result"
    }
   ],
   "source": [
    "myline.distance()"
   ]
  },
  {
   "cell_type": "code",
   "execution_count": null,
   "id": "66a6a4c9-fbbc-4909-b98b-c08b8419bcd3",
   "metadata": {},
   "outputs": [],
   "source": []
  },
  {
   "cell_type": "code",
   "execution_count": 176,
   "id": "793a1c6b-6397-4436-8599-9eb586c1076d",
   "metadata": {},
   "outputs": [],
   "source": [
    "class Cylinder:\n",
    "\n",
    "    pi=3.14\n",
    "    \n",
    "    def __init__(self,h,r):\n",
    "        self.h=h\n",
    "        self.r=r\n",
    "\n",
    "    def volume(self):\n",
    "        return self.h*self.pi*(self.r)**2\n",
    "\n",
    "    def surface_area(self):\n",
    "        return ((2*self.pi*self.r)*(self.r+self.h))\n",
    "        "
   ]
  },
  {
   "cell_type": "code",
   "execution_count": 177,
   "id": "14a53573-bfc2-41f0-afc0-4cdb086748f4",
   "metadata": {},
   "outputs": [],
   "source": [
    "mycylinder=Cylinder(2,3)"
   ]
  },
  {
   "cell_type": "code",
   "execution_count": 178,
   "id": "494f1963-2e81-42c0-9de2-3ca22bb2e8c6",
   "metadata": {},
   "outputs": [
    {
     "data": {
      "text/plain": [
       "56.52"
      ]
     },
     "execution_count": 178,
     "metadata": {},
     "output_type": "execute_result"
    }
   ],
   "source": [
    "mycylinder.volume()"
   ]
  },
  {
   "cell_type": "code",
   "execution_count": 179,
   "id": "96edc1df-b80b-4801-a071-5122dfc60813",
   "metadata": {},
   "outputs": [],
   "source": [
    "mysurface=Cylinder(2,3)"
   ]
  },
  {
   "cell_type": "code",
   "execution_count": 180,
   "id": "c64e262c-3fd7-432a-bc68-6d73ff752445",
   "metadata": {},
   "outputs": [
    {
     "data": {
      "text/plain": [
       "94.2"
      ]
     },
     "execution_count": 180,
     "metadata": {},
     "output_type": "execute_result"
    }
   ],
   "source": [
    "mysurface.surface_area()"
   ]
  },
  {
   "cell_type": "code",
   "execution_count": null,
   "id": "3c67fc16-b8ea-42b2-8994-cafa1b7b20a2",
   "metadata": {},
   "outputs": [],
   "source": []
  },
  {
   "cell_type": "code",
   "execution_count": null,
   "id": "f53e7ef1-6d53-4a68-b2e1-c7159c81d092",
   "metadata": {},
   "outputs": [],
   "source": []
  },
  {
   "cell_type": "code",
   "execution_count": null,
   "id": "fd6cea6c-5231-4431-b1ef-891d34475faf",
   "metadata": {},
   "outputs": [],
   "source": []
  },
  {
   "cell_type": "code",
   "execution_count": 314,
   "id": "22fc8017-45c8-470e-8baf-eb754c041b55",
   "metadata": {},
   "outputs": [],
   "source": [
    "class BankAccount:\n",
    "    \n",
    "    def __init__(self,owner=\"jose\",balance=0):\n",
    "        self.owner=owner\n",
    "        self.balance=balance\n",
    "\n",
    "\n",
    "\n",
    "    def deposit (self,value_deposit):\n",
    "        self.balance=self.balance + value_deposit\n",
    "        print (\"Deposit Accepted\")\n",
    "        print (\"Votre nouveau solde est de {} euros\".format(self.balance))\n",
    "        \n",
    "    def withdraw (self,value_withdraw):\n",
    "        if (value_withdraw<=self.balance):\n",
    "            self.balance=self.balance - value_withdraw\n",
    "            print (\"Votre nouveau solde est de {} euros\".format(self.balance))\n",
    "        elif ((self.balance-value_withdraw)>=-200):\n",
    "            self.balance=self.balance - value_withdraw\n",
    "            print (\"Votre nouveau solde est de {} euros\".format(self.balance))\n",
    "        else:\n",
    "            print (\"Withdraw impossible\")\n"
   ]
  },
  {
   "cell_type": "code",
   "execution_count": 315,
   "id": "9b26c719-63fe-4a72-8ed7-30d7d0ca1fe2",
   "metadata": {},
   "outputs": [],
   "source": [
    "balance=100"
   ]
  },
  {
   "cell_type": "code",
   "execution_count": 331,
   "id": "272d10ce-9cb3-42ff-8088-419ebb1e3c88",
   "metadata": {},
   "outputs": [],
   "source": [
    "acc2=BankAccount(owner=\"jose\",balance=0)"
   ]
  },
  {
   "cell_type": "code",
   "execution_count": 332,
   "id": "e5b19b78-0fb2-4d37-846b-10fb9e5b3d04",
   "metadata": {},
   "outputs": [
    {
     "name": "stdout",
     "output_type": "stream",
     "text": [
      "0\n"
     ]
    }
   ],
   "source": [
    "print(acc2.balance)"
   ]
  },
  {
   "cell_type": "code",
   "execution_count": 333,
   "id": "cb32d27f-77fc-42c5-ae12-445a4ad4948a",
   "metadata": {},
   "outputs": [
    {
     "name": "stdout",
     "output_type": "stream",
     "text": [
      "Hello, do you want to withdraw or deposit ? (W or D)\n"
     ]
    },
    {
     "name": "stdin",
     "output_type": "stream",
     "text": [
      " d\n"
     ]
    },
    {
     "name": "stdout",
     "output_type": "stream",
     "text": [
      "how much do you want to deposit?\n"
     ]
    },
    {
     "name": "stdin",
     "output_type": "stream",
     "text": [
      " 1500\n"
     ]
    },
    {
     "name": "stdout",
     "output_type": "stream",
     "text": [
      "Deposit Accepted\n",
      "Votre nouveau solde est de 1500 euros\n"
     ]
    }
   ],
   "source": [
    "print(\"Hello, do you want to withdraw or deposit ? (W or D)\")\n",
    "choice_w_or_d=input().upper()\n",
    "if choice_w_or_d==\"D\":\n",
    "    print(\"how much do you want to deposit?\")\n",
    "    value_deposit=input()\n",
    "    acc2.deposit(int(value_deposit))\n",
    "    new_balance=acc2.balance\n",
    "elif choice_w_or_d==\"W\":\n",
    "    print(\"how much do you want to withdraw?\")\n",
    "    value_withdraw=input()\n",
    "    acc2.withdraw(int(value_withdraw))\n",
    "    "
   ]
  },
  {
   "cell_type": "code",
   "execution_count": null,
   "id": "a1383dae-407e-4122-b7b6-461e0b27c3d0",
   "metadata": {},
   "outputs": [],
   "source": []
  },
  {
   "cell_type": "code",
   "execution_count": 11,
   "id": "bdb2bd41-6790-4401-9036-a1bab0770a10",
   "metadata": {},
   "outputs": [
    {
     "name": "stdout",
     "output_type": "stream",
     "text": [
      "Erreur\n"
     ]
    }
   ],
   "source": [
    "try:\n",
    "    for i in ['a','b','c']:\n",
    "        print(i**2)\n",
    "except TypeError:\n",
    "    print(\"Erreur\")\n",
    "else:\n",
    "    print(\"yes you can do that\")"
   ]
  },
  {
   "cell_type": "code",
   "execution_count": null,
   "id": "9950d0e6-e546-453b-8447-02a5e0a91060",
   "metadata": {},
   "outputs": [],
   "source": []
  },
  {
   "cell_type": "code",
   "execution_count": 17,
   "id": "27b15fe0-57a6-4cc6-8438-4cb5bceeaede",
   "metadata": {},
   "outputs": [
    {
     "name": "stdout",
     "output_type": "stream",
     "text": [
      "Vous ne pouvez pas diviser par Zéro, c'est interdit\n",
      "All done\n"
     ]
    }
   ],
   "source": [
    "try:\n",
    "    x = 5\n",
    "    y = 0\n",
    "    \n",
    "    z = x/y\n",
    "except ZeroDivisionError:\n",
    "    print(\"Vous ne pouvez pas diviser par Zéro, c'est interdit\")\n",
    "\n",
    "finally:\n",
    "    print(\"All done\")\n"
   ]
  },
  {
   "cell_type": "code",
   "execution_count": null,
   "id": "0652461c-128c-4165-a99b-d022cd4e588b",
   "metadata": {},
   "outputs": [],
   "source": []
  },
  {
   "cell_type": "code",
   "execution_count": 68,
   "id": "53275338-5d21-4c1a-968f-0484c43fbf3f",
   "metadata": {},
   "outputs": [],
   "source": [
    "def ask():\n",
    "    while True:\n",
    "        try:\n",
    "            print(\"Placez un nombre entier\")\n",
    "            x=int(input())\n",
    "        except ValueError: \n",
    "            print(\"Veuillez tapper un nombre\")\n",
    "            continue\n",
    "        else : \n",
    "            x=x*x\n",
    "            return x\n",
    "        \n",
    "            "
   ]
  },
  {
   "cell_type": "code",
   "execution_count": 69,
   "id": "395ce378-694b-4ee7-9379-35bbda4787af",
   "metadata": {},
   "outputs": [
    {
     "name": "stdout",
     "output_type": "stream",
     "text": [
      "Placez un nombre entier\n"
     ]
    },
    {
     "name": "stdin",
     "output_type": "stream",
     "text": [
      " 2\n"
     ]
    },
    {
     "name": "stdout",
     "output_type": "stream",
     "text": [
      "Thank you, your number squared is 4\n"
     ]
    }
   ],
   "source": [
    "x=ask()\n",
    "print(\"Thank you, your number squared is {}\".format(x))\n"
   ]
  },
  {
   "cell_type": "code",
   "execution_count": null,
   "id": "ab789b38-d890-4851-9898-72b3b1c9c25c",
   "metadata": {},
   "outputs": [],
   "source": []
  },
  {
   "cell_type": "code",
   "execution_count": 1,
   "id": "02020c1c-fe5d-475b-bafe-ca68e9f6f568",
   "metadata": {},
   "outputs": [],
   "source": [
    "def Bienvenue_au_BlackJack():\n",
    "    print(\"BIENVENUE SUR MON JEU DU BLACKJACK\")\n",
    "    print(\"\")\n"
   ]
  },
  {
   "cell_type": "code",
   "execution_count": 2,
   "id": "56dba579-bd4f-49e4-8db7-187de606f15b",
   "metadata": {},
   "outputs": [],
   "source": [
    "def deck_52_cartes ():\n",
    "    As=1\n",
    "    J=10\n",
    "    D=10\n",
    "    K=10\n",
    "    deck=[As,As,As,As,2,2,2,2,3,3,3,3,4,4,4,4,5,5,5,5,6,6,6,6,7,7,7,7,8,8,8,8,9,9,9,9,10,10,10,10,J,J,J,J,D,D,D,D,K,K,K,K]\n",
    "    for i in range(0,3):\n",
    "        deck[i]=As\n",
    "    for i in range (4,7):\n",
    "        deck[i]=2\n",
    "    for i in range (8,11):\n",
    "        deck[i]=3\n",
    "    for i in range (12,15):\n",
    "        deck[i]=4\n",
    "    for i in range (16,19):\n",
    "        deck[i]=5\n",
    "    for i in range (20,23):\n",
    "        deck[i]=6\n",
    "    for i in range(24,27):\n",
    "        deck[i]=7\n",
    "    for i in range (28,31):\n",
    "        deck[i]=8\n",
    "    for i in range (32,35):\n",
    "        deck[i]=9\n",
    "    for i in range (36,39):\n",
    "        deck[i]=10\n",
    "    for i in range (40,43):\n",
    "        deck[i]=J\n",
    "    for i in range (44,47):    \n",
    "        deck[i]=D\n",
    "    for i in range (48,51):\n",
    "        deck[i]=K \n",
    "\n",
    "    return deck    "
   ]
  },
  {
   "cell_type": "code",
   "execution_count": 3,
   "id": "750aeb91-cbab-479c-8b1c-d7783d92cf53",
   "metadata": {},
   "outputs": [],
   "source": [
    "def melange_cartes(deck):\n",
    "    jeu_melange=random.shuffle(deck)\n",
    "    return jeu_melange"
   ]
  },
  {
   "cell_type": "code",
   "execution_count": 4,
   "id": "beb94922-f073-4a6e-8eb0-e7e987122ef2",
   "metadata": {},
   "outputs": [],
   "source": [
    "def nombre_et_nom_de_joueurs():\n",
    "\n",
    "    nombre_de_joueurs=0\n",
    "    \n",
    "    while nombre_de_joueurs not in [1,2,3,4,5,6,7]:\n",
    "        while True :\n",
    "            try :\n",
    "                print(\"Combien y-a-t-il de joueurs?\")\n",
    "                nombre_de_joueurs=int(input())\n",
    "\n",
    "            except ValueError:\n",
    "                print(\"Entrée invalide\")\n",
    "            \n",
    "            if nombre_de_joueurs == 1:\n",
    "                print(\"Quel est le nom du joueur 1?\")\n",
    "                joueur1=input()\n",
    "                return (joueur1,),nombre_de_joueurs\n",
    "            if nombre_de_joueurs == 2:\n",
    "                print(\"Quel est le nom du joueur 1?\")\n",
    "                joueur1=input()\n",
    "                print(\"Quel est le nom du joueur 2?\")\n",
    "                joueur2=input()\n",
    "                return (joueur1,joueur2),nombre_de_joueurs\n",
    "            if nombre_de_joueurs == 3:\n",
    "                print(\"Quel est le nom du joueur 1?\")\n",
    "                joueur1=input()\n",
    "                print(\"Quel est le nom du joueur 2?\")\n",
    "                joueur2=input()\n",
    "                print(\"Quel est le nom du joueur 3?\")\n",
    "                joueur3=input()\n",
    "                return (joueur1,joueur2,joueur3), nombre_de_joueurs\n",
    "            if nombre_de_joueurs == 4:\n",
    "                print(\"Quel est le nom du joueur 1?\")\n",
    "                joueur1=input()\n",
    "                print(\"Quel est le nom du joueur 2?\")\n",
    "                joueur2=input()\n",
    "                print(\"Quel est le nom du joueur 3?\")\n",
    "                joueur3=input()\n",
    "                print(\"Quel est le nom du joueur 4?\")\n",
    "                joueur4=input()\n",
    "                return (joueur1,joueur2,joueur3,joueur4), nombre_de_joueurs\n",
    "            if nombre_de_joueurs == 5:\n",
    "                print(\"Quel est le nom du joueur 1?\")\n",
    "                joueur1=input()\n",
    "                print(\"Quel est le nom du joueur 2?\")\n",
    "                joueur2=input()\n",
    "                print(\"Quel est le nom du joueur 3?\")\n",
    "                joueur3=input()\n",
    "                print(\"Quel est le nom du joueur 4?\")\n",
    "                joueur4=input()\n",
    "                print(\"Quel est le nom du joueur 5?\")\n",
    "                joueur5=input()\n",
    "                return (joueur1,joueur2,joueur3,joueur4,joueur5), nombre_de_joueurs\n",
    "            if nombre_de_joueurs == 6:\n",
    "                print(\"Quel est le nom du joueur 1?\")\n",
    "                joueur1=input()\n",
    "                print(\"Quel est le nom du joueur 2?\")\n",
    "                joueur2=input()\n",
    "                print(\"Quel est le nom du joueur 3?\")\n",
    "                joueur3=input()\n",
    "                print(\"Quel est le nom du joueur 4?\")\n",
    "                joueur4=input()\n",
    "                print(\"Quel est le nom du joueur 5?\")\n",
    "                joueur5=input()\n",
    "                print(\"Quel est le nom du joueur 6?\")\n",
    "                joueur6=input()\n",
    "                return (joueur1,joueur2,joueur3,joueur4,joueur5,joueur6), nombre_de_joueurs\n",
    "            if nombre_de_joueurs == 7:\n",
    "                print(\"Quel est le nom du joueur 1?\")\n",
    "                joueur1=input()\n",
    "                print(\"Quel est le nom du joueur 2?\")\n",
    "                joueur2=input()\n",
    "                print(\"Quel est le nom du joueur 3?\")\n",
    "                joueur3=input()\n",
    "                print(\"Quel est le nom du joueur 4?\")\n",
    "                joueur4=input()\n",
    "                print(\"Quel est le nom du joueur 5?\")\n",
    "                joueur5=input()\n",
    "                print(\"Quel est le nom du joueur 6?\")\n",
    "                joueur6=input()\n",
    "                print(\"Quel est le nom du joueur 7?\")\n",
    "                joueur7=input()\n",
    "                return (joueur1,joueur2,joueur3,joueur4,joueur5,joueur6,joueur7), nombre_de_joueurs\n",
    "        \n",
    "            else:\n",
    "                print(\"Nombre incorrect de joueurs : Veuillez entrer un nombre entre 1 et 7\")\n",
    "                print(\"\")"
   ]
  },
  {
   "cell_type": "code",
   "execution_count": 5,
   "id": "42d619c6-7bc2-4ba5-8af2-878fec5a859e",
   "metadata": {},
   "outputs": [],
   "source": [
    "def affichage_joueurs(*joueurs):\n",
    "    print(\"Voici les joueurs {}\".format(joueurs))"
   ]
  },
  {
   "cell_type": "code",
   "execution_count": 6,
   "id": "18330416-7db4-4062-b1c6-d69bd0fe5bdc",
   "metadata": {},
   "outputs": [],
   "source": [
    "def mise_de_depart (*joueurs):\n",
    "    mise_de_depart={}\n",
    "    for i,joueurs in enumerate (joueurs):\n",
    "        while True:\n",
    "            try:\n",
    "                print(f\"Quelle est la mise de {joueurs} ?\")\n",
    "                mise=int(input())\n",
    "                break\n",
    "            except ValueError:\n",
    "                print(\"Entrée invalide ! Merci de saisir un nombre entier\")\n",
    "        mise_de_depart[joueurs]=mise\n",
    "\n",
    "\n",
    "    print(f\"voici la mise de départ {mise_de_depart}\")\n",
    "    print(\"\")    \n",
    "    return mise_de_depart\n",
    "    \n",
    "    "
   ]
  },
  {
   "cell_type": "code",
   "execution_count": 7,
   "id": "c421e88b-8690-4074-a18d-5a75a048b95b",
   "metadata": {},
   "outputs": [],
   "source": [
    "def distribution_tour1(deck,*joueurs):\n",
    "    main_des_joueurs={}\n",
    "    banque={}\n",
    "    for i,joueurs in enumerate (joueurs):\n",
    "        main_des_joueurs[joueurs]=[deck[i]]\n",
    "    print(f\"Voici le jeu {main_des_joueurs}\")\n",
    "    print(\"\")\n",
    "    banque=[(deck[i+1])]\n",
    "    print(f\"La banque : {banque}\")\n",
    "    print(\"\")\n",
    "    return main_des_joueurs,banque"
   ]
  },
  {
   "cell_type": "code",
   "execution_count": 8,
   "id": "fdcdc336-e80b-468f-ba4b-1d403c059d22",
   "metadata": {},
   "outputs": [],
   "source": [
    "def distribution_tour2(main_des_joueurs, banque,deck,nombre_de_joueurs,*joueurs):\n",
    "    for i,joueurs in enumerate (joueurs):\n",
    "        main_des_joueurs[joueurs].append(deck[i+nombre_de_joueurs+1])\n",
    "    print(f\"Voici le jeu {main_des_joueurs}\")\n",
    "    banque.append(deck[i+nombre_de_joueurs+2])\n",
    "    return main_des_joueurs,banque"
   ]
  },
  {
   "cell_type": "code",
   "execution_count": 9,
   "id": "bd1716ae-fbe6-423b-91dd-663be3ee60a0",
   "metadata": {},
   "outputs": [],
   "source": [
    "def choix_des_joueurs (deck,main_des_joueurs,nombre_de_joueurs,*joueurs):\n",
    "    choix_joueurs=\"\"\n",
    "    while choix_joueurs not in (\"T\",\"R\") :\n",
    "        for i,joueurs in enumerate (joueurs):\n",
    "            print(f\"{joueurs} Tirer une carte ou Rester ? (T ou R)\")\n",
    "            choix_joueurs=input().upper()\n",
    "            if choix_joueurs==\"R\":\n",
    "                continue\n",
    "            elif choix_joueurs==\"T\":\n",
    "                main_des_joueurs[joueurs].append(deck[i+nombre_de_joueurs+3])\n",
    "                print(f\"Voici la nouvelle main de {joueurs}\")\n",
    "                print(main_des_joueurs)\n",
    "    \n",
    "    return main_des_joueurs"
   ]
  },
  {
   "cell_type": "code",
   "execution_count": 14,
   "id": "fa74acfe-9ddf-428c-a324-33ccf58bec72",
   "metadata": {},
   "outputs": [],
   "source": [
    "def montrer_banque_deuxieme_carte(banque,nombre_de_joueurs,deck):\n",
    "    \n",
    "    somme=sum(banque)\n",
    "    ###CHECK SI AS VAUT 1 ou 11 dans banque\n",
    "    if banque.count(1) ==1 :\n",
    "        if somme <=11:\n",
    "            somme+=10\n",
    "            print(f\"La banque : {banque}\")\n",
    "            print(\"\")\n",
    "            print(f\"La somme de la banque est {somme}\")\n",
    "            print(\"\")\n",
    "            return somme\n",
    "        else:\n",
    "            somme=somme\n",
    "            print(f\"La banque : {banque}\")\n",
    "            print(\"\")\n",
    "            print(f\"La somme de la banque est {somme}\")\n",
    "            print(\"\")\n",
    "            return somme\n",
    "    elif banque.count(1) == 2 :\n",
    "        if somme <=11:\n",
    "            somme+=10\n",
    "            print(f\"La banque : {banque}\")\n",
    "            print(\"\")\n",
    "            print(f\"La somme de la banque est {somme}\")\n",
    "            print(\"\")\n",
    "            return somme\n",
    "        else:\n",
    "            somme = somme\n",
    "            print(f\"La banque : {banque}\")\n",
    "            print(\"\")\n",
    "            print(f\"La somme de la banque est {somme}\")\n",
    "            print(\"\")\n",
    "            return somme\n",
    "            \n",
    "    elif banque.count(1) == 3 :\n",
    "        if somme <=11:\n",
    "            somme+=10\n",
    "            print(f\"La banque : {banque}\")\n",
    "            print(\"\")\n",
    "            print(f\"La somme de la banque est {somme}\")\n",
    "            print(\"\")\n",
    "            return somme\n",
    "        else:\n",
    "            somme = somme\n",
    "            print(f\"La banque : {banque}\")\n",
    "            print(\"\")\n",
    "            print(f\"La somme de la banque est {somme}\")\n",
    "            print(\"\")\n",
    "            return somme\n",
    "            \n",
    "    elif banque.count(1) == 4 :\n",
    "        if somme <=11:\n",
    "            somme+=10\n",
    "            print(f\"La banque : {banque}\")\n",
    "            print(\"\")\n",
    "            print(f\"La somme de la banque est {somme}\")\n",
    "            print(\"\")\n",
    "            return somme\n",
    "        else:\n",
    "            somme = somme\n",
    "            print(f\"La banque : {banque}\")\n",
    "            print(\"\")\n",
    "            print(f\"La somme de la banque est {somme}\")\n",
    "            print(\"\")\n",
    "            return somme\n",
    "\n",
    "            \n",
    "    while sum(banque)<=16:\n",
    "        for i in deck:\n",
    "            banque.append(deck[i])\n",
    "            if sum(banque)>17:\n",
    "                banque.pop()\n",
    "    somme=sum(banque)\n",
    "    print(f\"La banque : {banque}\")\n",
    "    print(\"\")\n",
    "    print(f\"La somme de la banque est {somme}\")\n",
    "    print(\"\")\n",
    "    return somme\n",
    "  \n",
    "        "
   ]
  },
  {
   "cell_type": "code",
   "execution_count": 15,
   "id": "f71d0519-dc5e-4994-8998-2e50c85eea77",
   "metadata": {},
   "outputs": [],
   "source": [
    "def resultats_mise (somme,mise,main_des_joueurs,total,deck,*joueurs):\n",
    "    for joueurs,i in main_des_joueurs.items():\n",
    "       total=sum(i)\n",
    "###CHECK SI AS VAUT 1 ou 11 dans main du joueur\n",
    "        \n",
    "       if i.count(1)>=2 and 10 not in i :\n",
    "           total+=10\n",
    "       elif i.count(1)>=2 and 10 in i:\n",
    "           total=total\n",
    "       if i.count(1)==1 and total<11:\n",
    "           total+=10\n",
    "       elif i.count(1)==1 and total >11:\n",
    "           total=total\n",
    "       elif i.count(1)==1 and total==11:\n",
    "           total+=10\n",
    "\n",
    "\n",
    "       print(f\"{joueurs} a pour somme de cartes : {total}\")\n",
    "       print(\"\")     \n",
    "        \n",
    "       if total > 21 :\n",
    "           mise[joueurs]=0\n",
    "           print(f\"{joueurs} est bust et a perdu sa mise\")\n",
    "           print(\"\")\n",
    "           \n",
    "       elif 20 >= total > somme:\n",
    "           mise[joueurs]=mise[joueurs]*2\n",
    "           print(f\"{joueurs} a gagné la manche et une nouvelle fois sa mise\") \n",
    "           print(\"\")\n",
    "            \n",
    "       elif total==somme:\n",
    "           print(f\"{joueurs} n'a ni gagné ni perdu il récupère sa mise\")\n",
    "           print(\"\")\n",
    "    \n",
    "       elif total==21:\n",
    "           mise[joueurs]=mise[joueurs]*2.5\n",
    "           print(f\"{joueurs} a fait un blackjack et gagne 2,5 fois sa mise\") \n",
    "           print(\"\")\n",
    "            \n",
    "       else:\n",
    "           mise[joueurs]=0\n",
    "           print(f\"{joueurs} a perdu sa mise\")\n",
    "           print(\"\")\n",
    "\n",
    "    print(f\"Voici les nouvelles mises {mise}\")\n",
    "    return mise\n",
    "    "
   ]
  },
  {
   "cell_type": "code",
   "execution_count": 17,
   "id": "281698c5-fe4f-4224-9d0d-70f26b246a7d",
   "metadata": {},
   "outputs": [
    {
     "name": "stdout",
     "output_type": "stream",
     "text": [
      "BIENVENUE SUR MON JEU DU BLACKJACK\n",
      "\n",
      "Combien y-a-t-il de joueurs?\n"
     ]
    },
    {
     "name": "stdin",
     "output_type": "stream",
     "text": [
      " 4\n"
     ]
    },
    {
     "name": "stdout",
     "output_type": "stream",
     "text": [
      "Quel est le nom du joueur 1?\n"
     ]
    },
    {
     "name": "stdin",
     "output_type": "stream",
     "text": [
      " Sélim\n"
     ]
    },
    {
     "name": "stdout",
     "output_type": "stream",
     "text": [
      "Quel est le nom du joueur 2?\n"
     ]
    },
    {
     "name": "stdin",
     "output_type": "stream",
     "text": [
      " Mélanie\n"
     ]
    },
    {
     "name": "stdout",
     "output_type": "stream",
     "text": [
      "Quel est le nom du joueur 3?\n"
     ]
    },
    {
     "name": "stdin",
     "output_type": "stream",
     "text": [
      " Mohamed\n"
     ]
    },
    {
     "name": "stdout",
     "output_type": "stream",
     "text": [
      "Quel est le nom du joueur 4?\n"
     ]
    },
    {
     "name": "stdin",
     "output_type": "stream",
     "text": [
      " Mouloud\n"
     ]
    },
    {
     "name": "stdout",
     "output_type": "stream",
     "text": [
      "Voici les joueurs (('Sélim', 'Mélanie', 'Mohamed', 'Mouloud'),)\n",
      "Quelle est la mise de Sélim ?\n"
     ]
    },
    {
     "name": "stdin",
     "output_type": "stream",
     "text": [
      " 100000\n"
     ]
    },
    {
     "name": "stdout",
     "output_type": "stream",
     "text": [
      "Quelle est la mise de Mélanie ?\n"
     ]
    },
    {
     "name": "stdin",
     "output_type": "stream",
     "text": [
      " 1\n"
     ]
    },
    {
     "name": "stdout",
     "output_type": "stream",
     "text": [
      "Quelle est la mise de Mohamed ?\n"
     ]
    },
    {
     "name": "stdin",
     "output_type": "stream",
     "text": [
      " 100\n"
     ]
    },
    {
     "name": "stdout",
     "output_type": "stream",
     "text": [
      "Quelle est la mise de Mouloud ?\n"
     ]
    },
    {
     "name": "stdin",
     "output_type": "stream",
     "text": [
      " 2\n"
     ]
    },
    {
     "name": "stdout",
     "output_type": "stream",
     "text": [
      "voici la mise de départ {'Sélim': 100000, 'Mélanie': 1, 'Mohamed': 100, 'Mouloud': 2}\n",
      "\n",
      "Voici le jeu {'Sélim': [8], 'Mélanie': [10], 'Mohamed': [5], 'Mouloud': [1]}\n",
      "\n",
      "La banque : [5]\n",
      "\n",
      "Voici le jeu {'Sélim': [8, 10], 'Mélanie': [10, 8], 'Mohamed': [5, 10], 'Mouloud': [1, 1]}\n",
      "Sélim Tirer une carte ou Rester ? (T ou R)\n"
     ]
    },
    {
     "name": "stdin",
     "output_type": "stream",
     "text": [
      " r\n"
     ]
    },
    {
     "name": "stdout",
     "output_type": "stream",
     "text": [
      "Mélanie Tirer une carte ou Rester ? (T ou R)\n"
     ]
    },
    {
     "name": "stdin",
     "output_type": "stream",
     "text": [
      " r\n"
     ]
    },
    {
     "name": "stdout",
     "output_type": "stream",
     "text": [
      "Mohamed Tirer une carte ou Rester ? (T ou R)\n"
     ]
    },
    {
     "name": "stdin",
     "output_type": "stream",
     "text": [
      " t\n"
     ]
    },
    {
     "name": "stdout",
     "output_type": "stream",
     "text": [
      "Voici la nouvelle main de Mohamed\n",
      "{'Sélim': [8, 10], 'Mélanie': [10, 8], 'Mohamed': [5, 10, 1], 'Mouloud': [1, 1]}\n",
      "Mouloud Tirer une carte ou Rester ? (T ou R)\n"
     ]
    },
    {
     "name": "stdin",
     "output_type": "stream",
     "text": [
      " t\n"
     ]
    },
    {
     "name": "stdout",
     "output_type": "stream",
     "text": [
      "Voici la nouvelle main de Mouloud\n",
      "{'Sélim': [8, 10], 'Mélanie': [10, 8], 'Mohamed': [5, 10, 1], 'Mouloud': [1, 1, 8]}\n",
      "La banque : [5, 10, 2]\n",
      "\n",
      "La somme de la banque est 17\n",
      "\n",
      "Sélim a pour somme de cartes : 18\n",
      "\n",
      "Sélim a gagné la manche et une nouvelle fois sa mise\n",
      "\n",
      "Mélanie a pour somme de cartes : 18\n",
      "\n",
      "Mélanie a gagné la manche et une nouvelle fois sa mise\n",
      "\n",
      "Mohamed a pour somme de cartes : 16\n",
      "\n",
      "Mohamed a perdu sa mise\n",
      "\n",
      "Mouloud a pour somme de cartes : 20\n",
      "\n",
      "Mouloud a gagné la manche et une nouvelle fois sa mise\n",
      "\n",
      "Voici les nouvelles mises {'Sélim': 200000, 'Mélanie': 2, 'Mohamed': 0, 'Mouloud': 4}\n"
     ]
    }
   ],
   "source": [
    "import random\n",
    "deck=[]\n",
    "joueurs=[]\n",
    "joueur_bust=[]\n",
    "mise={}\n",
    "nombre_de_joueurs=0\n",
    "main_des_joueurs={}\n",
    "banque={}\n",
    "total=0\n",
    "somme=0\n",
    "\n",
    "\n",
    "Bienvenue_au_BlackJack()\n",
    "deck=deck_52_cartes()\n",
    "melange_cartes(deck)\n",
    "joueurs, nombre_de_joueurs=nombre_et_nom_de_joueurs()\n",
    "affichage_joueurs(joueurs)\n",
    "mise=mise_de_depart (*joueurs)\n",
    "main_des_joueurs,banque=distribution_tour1(deck,*joueurs)\n",
    "melange_cartes(deck)\n",
    "main_des_joueurs,banque=distribution_tour2(main_des_joueurs,banque,deck,nombre_de_joueurs,*joueurs)\n",
    "melange_cartes(deck)\n",
    "main_des_joueurs=choix_des_joueurs(deck,main_des_joueurs,nombre_de_joueurs,*joueurs)\n",
    "melange_cartes(deck)\n",
    "somme=montrer_banque_deuxieme_carte(banque,nombre_de_joueurs,deck)\n",
    "mise=resultats_mise(somme,mise,main_des_joueurs,total,deck,*joueurs)"
   ]
  },
  {
   "cell_type": "code",
   "execution_count": null,
   "id": "52cb59a0-a5e3-4053-80f9-7e09b189d772",
   "metadata": {},
   "outputs": [],
   "source": []
  },
  {
   "cell_type": "code",
   "execution_count": null,
   "id": "0d0e2dda-1caf-4e39-ac33-0ce0d1601998",
   "metadata": {},
   "outputs": [],
   "source": []
  },
  {
   "cell_type": "code",
   "execution_count": 18,
   "id": "4f31209a-ce65-4a40-a9eb-1969d6823602",
   "metadata": {},
   "outputs": [],
   "source": [
    "def gensquares (N):\n",
    "    for i in range(N):\n",
    "        yield (i*i)"
   ]
  },
  {
   "cell_type": "code",
   "execution_count": 19,
   "id": "0e6c0920-b65a-44ce-ac0f-2cffc8a7abd4",
   "metadata": {},
   "outputs": [
    {
     "name": "stdout",
     "output_type": "stream",
     "text": [
      "0\n",
      "1\n",
      "4\n",
      "9\n",
      "16\n",
      "25\n",
      "36\n",
      "49\n",
      "64\n",
      "81\n"
     ]
    }
   ],
   "source": [
    "for i in gensquares(10):\n",
    "    print (i)"
   ]
  },
  {
   "cell_type": "code",
   "execution_count": null,
   "id": "b033af66-7984-4fa7-b099-6390209ca36a",
   "metadata": {},
   "outputs": [],
   "source": []
  },
  {
   "cell_type": "code",
   "execution_count": 22,
   "id": "a214328f-a661-48cd-8d8b-9b0c2062d70f",
   "metadata": {},
   "outputs": [
    {
     "data": {
      "text/plain": [
       "6"
      ]
     },
     "execution_count": 22,
     "metadata": {},
     "output_type": "execute_result"
    }
   ],
   "source": [
    "import random\n",
    "\n",
    "random.randint(1,10)"
   ]
  },
  {
   "cell_type": "code",
   "execution_count": 23,
   "id": "c4a78f69-f937-47e2-8670-7b63a4e9a329",
   "metadata": {},
   "outputs": [],
   "source": [
    "def rand_num(low,high,n):\n",
    "    for i in range(n):\n",
    "        yield random.randint(low,high)"
   ]
  },
  {
   "cell_type": "code",
   "execution_count": 34,
   "id": "d87d92f3-9f7e-493a-ba8d-96226eabdb69",
   "metadata": {},
   "outputs": [
    {
     "name": "stdout",
     "output_type": "stream",
     "text": [
      "39\n",
      "26\n"
     ]
    }
   ],
   "source": [
    "for i in rand_num(25,50,2):\n",
    "    print(i)"
   ]
  },
  {
   "cell_type": "code",
   "execution_count": null,
   "id": "9cb274bc-6387-4cbb-b58a-1606a6a0a771",
   "metadata": {},
   "outputs": [],
   "source": []
  },
  {
   "cell_type": "code",
   "execution_count": 1,
   "id": "18507716-1cd9-4335-9b3e-c41eed6f7c99",
   "metadata": {},
   "outputs": [],
   "source": [
    "s=\"hello\""
   ]
  },
  {
   "cell_type": "code",
   "execution_count": null,
   "id": "633517e3-6201-4724-809b-4060e393fe60",
   "metadata": {},
   "outputs": [],
   "source": []
  },
  {
   "cell_type": "code",
   "execution_count": 2,
   "id": "d7786cda-4dcb-41aa-8fa5-8560f7cec6de",
   "metadata": {},
   "outputs": [],
   "source": [
    "def generator_letter(s):\n",
    "    for i in s:\n",
    "        yield print(i)"
   ]
  },
  {
   "cell_type": "code",
   "execution_count": 6,
   "id": "ce8e6cf5-d4f2-452d-962c-408255eee995",
   "metadata": {},
   "outputs": [
    {
     "name": "stdout",
     "output_type": "stream",
     "text": [
      "b\n",
      "o\n",
      "n\n",
      "j\n",
      "o\n",
      "u\n",
      "r\n"
     ]
    }
   ],
   "source": [
    "for i in generator_letter(\"bonjour\"):\n",
    "    pass"
   ]
  },
  {
   "cell_type": "code",
   "execution_count": 8,
   "id": "0c6aaf3c-099c-4d1d-aa7d-1db647b21e81",
   "metadata": {},
   "outputs": [
    {
     "name": "stdout",
     "output_type": "stream",
     "text": [
      "3\n",
      "4\n",
      "5\n",
      "6\n",
      "7\n",
      "8\n",
      "9\n",
      "10\n"
     ]
    }
   ],
   "source": [
    "my_list = [1,2,3,4,5,6,7,8,9,10]\n",
    "\n",
    "gencomp = (item for item in my_list if item > 2)\n",
    "\n",
    "for item in gencomp:\n",
    "    print(item)"
   ]
  },
  {
   "cell_type": "code",
   "execution_count": null,
   "id": "79da872c-bf0e-4d73-b739-1e5185ec058d",
   "metadata": {},
   "outputs": [],
   "source": []
  },
  {
   "cell_type": "code",
   "execution_count": null,
   "id": "79856866-7ccf-475c-bb9d-a88061e1c739",
   "metadata": {},
   "outputs": [],
   "source": []
  },
  {
   "cell_type": "code",
   "execution_count": null,
   "id": "e42f47a1-ebf8-4025-978d-cfb46bd6a003",
   "metadata": {},
   "outputs": [],
   "source": []
  },
  {
   "cell_type": "code",
   "execution_count": null,
   "id": "95dac49d-fd55-4576-b36e-e200effd62b0",
   "metadata": {},
   "outputs": [],
   "source": []
  },
  {
   "cell_type": "code",
   "execution_count": null,
   "id": "8e4436b4-2832-4fda-889e-a5a3cafb92c4",
   "metadata": {},
   "outputs": [],
   "source": []
  },
  {
   "cell_type": "code",
   "execution_count": 112,
   "id": "018b640c-ea9d-4a1e-80ea-9f10af8023b9",
   "metadata": {},
   "outputs": [],
   "source": [
    "Magasin = {\"carotte\": 2, \"orange\": 1.52, \"pomme\": 1.2, \"viande\": 4.3, \"boisson\": 1.2, \n",
    "           \"eau\" : 0.5, \"pâtes\" : 0.8, \"riz\": 0.5, \"ordinateur portable\" : 550,\n",
    "           \"machine à laver\" : 250, \"machine à café\" : 90, \"ordinateur de bureau\" : 400, \n",
    "           \"papier toilette\" : 2, \"gel douche\" : 1.7, \"lait\" : 1.1, \"patate\" : 1.2}"
   ]
  },
  {
   "cell_type": "code",
   "execution_count": null,
   "id": "6f70ad56-864f-4f08-a8ae-17aca8c0caf7",
   "metadata": {},
   "outputs": [],
   "source": [
    "def choisir_ses_produits(Magasin):\n",
    "    panier = {}\n",
    "    while True:\n",
    "        # 1) Lecture du nom de produit\n",
    "        nom = input(\"Taper le nom du produit que vous souhaitez acheter : \").strip().lower()\n",
    "        \n",
    "        # (optionnel) Vérifier que le produit existe dans le magasin\n",
    "        if nom not in Magasin:\n",
    "            print(f\"❌ Le produit '{nom}' n'est pas disponible. Réessaie.\")\n",
    "            continue\n",
    "        \n",
    "        # 2) Lecture de la quantité (entier)\n",
    "        try:\n",
    "            quantite = int(input(\"Taper la quantité du produit que vous souhaitez acheter : \").strip())\n",
    "        except ValueError:\n",
    "            print(\"❌ Merci d'entrer un nombre entier pour la quantité.\")\n",
    "            continue\n",
    "        \n",
    "        # 3) Ajout au panier\n",
    "        panier[nom] = quantite\n",
    "\n",
    "        print(panier)\n",
    "        \n",
    "        # 4) Boucle ou sortie\n",
    "        choix = input(\"Souhaitez-vous ajouter un autre produit ? (Y/N) : \").strip().lower()\n",
    "        if choix != 'y':\n",
    "            break\n",
    "\n",
    "    return panier"
   ]
  },
  {
   "cell_type": "code",
   "execution_count": null,
   "id": "b8af841f-51de-4809-8d51-7b1a64f41e1f",
   "metadata": {},
   "outputs": [],
   "source": [
    "def achat (panier, Magasin):\n",
    "    total = 0\n",
    "    \n",
    "    for nom,quantite in panier.items() :\n",
    "        prix=Magasin.get(nom)*quantite\n",
    "        if prix is None:\n",
    "            print(f\"⚠️ Le produit '{produit}' n'existe pas dans le magasin, on le saute.\")\n",
    "            continue\n",
    "\n",
    "        total+=prix\n",
    "\n",
    "\n",
    "    print(f\"\\n vous devez payer un total de {total} euros \\n\")\n",
    "    return total\n",
    "\n",
    "        \n",
    "        \n",
    "    "
   ]
  },
  {
   "cell_type": "code",
   "execution_count": 110,
   "id": "fbdda654-29c0-45b3-904d-076ff477fd8c",
   "metadata": {},
   "outputs": [],
   "source": [
    "def paiement (total):\n",
    "\n",
    "    monnaie = [200, 100, 50, 20, 10, 5, 2, 1, 0.5, 0.2, 0.1, 0.05, 0.02, 0.01]\n",
    "    retour_monnaie = []\n",
    "    i=1\n",
    "    print(\"Veuillez insérer la somme que vous nous envoyez\")\n",
    "    somme_client=float(input())\n",
    "\n",
    "    if somme_client<total:\n",
    "        print(\"Somme insuffisante\")\n",
    "\n",
    "    elif somme_client==total:\n",
    "        print (\"Merci, au revoir !\")\n",
    "        \n",
    "    valeur_à_rendre=round(somme_client-total,2)\n",
    "    print(f\"nous vous devons {valeur_à_rendre}\")\n",
    "        # 4) Calcul simplifié du rendu\n",
    "    for piece in monnaie:\n",
    "        # Combien de fois on peut rendre cette pièce\n",
    "        nb = int(valeur_à_rendre // piece)\n",
    "        if nb:\n",
    "            # on ajoute nb fois la pièce dans la liste\n",
    "            retour_monnaie.extend([piece] * nb)\n",
    "            # on met à jour ce qu'il reste à rendre\n",
    "            valeur_à_rendre = round(valeur_à_rendre - piece * nb, 2)\n",
    "        if valeur_à_rendre == 0:\n",
    "            break\n",
    "\n",
    "    # 5) Affichage final\n",
    "    print(\"retour_monnaie =\", retour_monnaie)\n",
    "    return retour_monnaie\n",
    "            \n",
    "            \n",
    "        "
   ]
  },
  {
   "cell_type": "code",
   "execution_count": 111,
   "id": "ee09083e-f263-4ddb-8a77-bb982650a4c8",
   "metadata": {},
   "outputs": [
    {
     "name": "stdin",
     "output_type": "stream",
     "text": [
      "Taper le nom du produit que vous souhaitez acheter :  pâtes\n",
      "Taper la quantité du produit que vous souhaitez acheter :  10\n"
     ]
    },
    {
     "name": "stdout",
     "output_type": "stream",
     "text": [
      "{'pâtes': 10}\n"
     ]
    },
    {
     "name": "stdin",
     "output_type": "stream",
     "text": [
      "Souhaitez-vous ajouter un autre produit ? (Y/N) :  y\n",
      "Taper le nom du produit que vous souhaitez acheter :  riz\n",
      "Taper la quantité du produit que vous souhaitez acheter :  5\n"
     ]
    },
    {
     "name": "stdout",
     "output_type": "stream",
     "text": [
      "{'pâtes': 10, 'riz': 5}\n"
     ]
    },
    {
     "name": "stdin",
     "output_type": "stream",
     "text": [
      "Souhaitez-vous ajouter un autre produit ? (Y/N) :  y\n",
      "Taper le nom du produit que vous souhaitez acheter :  ordinateur portable\n",
      "Taper la quantité du produit que vous souhaitez acheter :  2\n"
     ]
    },
    {
     "name": "stdout",
     "output_type": "stream",
     "text": [
      "{'pâtes': 10, 'riz': 5, 'ordinateur portable': 2}\n"
     ]
    },
    {
     "name": "stdin",
     "output_type": "stream",
     "text": [
      "Souhaitez-vous ajouter un autre produit ? (Y/N) :  y\n",
      "Taper le nom du produit que vous souhaitez acheter :  boisson\n",
      "Taper la quantité du produit que vous souhaitez acheter :  4\n"
     ]
    },
    {
     "name": "stdout",
     "output_type": "stream",
     "text": [
      "{'pâtes': 10, 'riz': 5, 'ordinateur portable': 2, 'boisson': 4}\n"
     ]
    },
    {
     "name": "stdin",
     "output_type": "stream",
     "text": [
      "Souhaitez-vous ajouter un autre produit ? (Y/N) :  n\n"
     ]
    },
    {
     "name": "stdout",
     "output_type": "stream",
     "text": [
      "\n",
      " vous devez payer un total de 1115.3 euros \n",
      "\n",
      "Veuillez insérer la somme que vous nous envoyez\n"
     ]
    },
    {
     "name": "stdin",
     "output_type": "stream",
     "text": [
      " 1400\n"
     ]
    },
    {
     "name": "stdout",
     "output_type": "stream",
     "text": [
      "nous vous devons 284.7\n",
      "retour_monnaie = [200, 50, 20, 10, 2, 2, 0.5, 0.2]\n"
     ]
    }
   ],
   "source": [
    "panier={}\n",
    "retour_monnaie=[]\n",
    "total=0\n",
    "\n",
    "panier=choisir_ses_produits(Magasin)\n",
    "total=achat(panier,Magasin)\n",
    "retour_monnaie=paiement(total)"
   ]
  },
  {
   "cell_type": "code",
   "execution_count": 96,
   "id": "8448db27-f958-4e06-8e40-44567fa4b4c6",
   "metadata": {},
   "outputs": [
    {
     "data": {
      "text/plain": [
       "[]"
      ]
     },
     "execution_count": 96,
     "metadata": {},
     "output_type": "execute_result"
    }
   ],
   "source": []
  },
  {
   "cell_type": "code",
   "execution_count": null,
   "id": "7cf64d87-905a-404b-94ad-8a513aba5b48",
   "metadata": {},
   "outputs": [],
   "source": []
  },
  {
   "cell_type": "code",
   "execution_count": null,
   "id": "e6ade54f-d884-46b2-8e23-13a22e5c2d9c",
   "metadata": {},
   "outputs": [],
   "source": []
  },
  {
   "cell_type": "code",
   "execution_count": 113,
   "id": "e4f5a9b7-2ff8-4bff-a399-ce2700c303b0",
   "metadata": {},
   "outputs": [],
   "source": [
    "from collections import Counter"
   ]
  },
  {
   "cell_type": "code",
   "execution_count": 115,
   "id": "1c5083ab-5eac-4a41-b92f-fafbc95d4596",
   "metadata": {},
   "outputs": [
    {
     "data": {
      "text/plain": [
       "Counter({1: 6, 3: 5, 2: 4, 4: 3, 23: 1, 5: 1, 6: 1})"
      ]
     },
     "execution_count": 115,
     "metadata": {},
     "output_type": "execute_result"
    }
   ],
   "source": [
    "l=[1,1,1,1,1,1,2,2,2,2,23,3,3,3,3,3,4,4,5,6,4]\n",
    "\n",
    "Counter(l)"
   ]
  },
  {
   "cell_type": "code",
   "execution_count": 116,
   "id": "12b4a6dd-6987-44af-924c-f074aadd3ff5",
   "metadata": {},
   "outputs": [],
   "source": [
    "s=\"How many How many times does each word show up word\""
   ]
  },
  {
   "cell_type": "code",
   "execution_count": 117,
   "id": "fbf3d1dd-df2f-4ad1-b3c8-4fc853ede208",
   "metadata": {},
   "outputs": [],
   "source": [
    "words =s.split()"
   ]
  },
  {
   "cell_type": "code",
   "execution_count": 119,
   "id": "d0f3c245-cc86-4fbb-bd62-c2ba4f9bca60",
   "metadata": {},
   "outputs": [
    {
     "data": {
      "text/plain": [
       "Counter({'How': 2,\n",
       "         'many': 2,\n",
       "         'word': 2,\n",
       "         'times': 1,\n",
       "         'does': 1,\n",
       "         'each': 1,\n",
       "         'show': 1,\n",
       "         'up': 1})"
      ]
     },
     "execution_count": 119,
     "metadata": {},
     "output_type": "execute_result"
    }
   ],
   "source": [
    "Counter(words)"
   ]
  },
  {
   "cell_type": "code",
   "execution_count": 120,
   "id": "ea3da76e-2f5c-46cb-9188-69d6ef491f12",
   "metadata": {},
   "outputs": [],
   "source": [
    "c=Counter(words)"
   ]
  },
  {
   "cell_type": "code",
   "execution_count": 125,
   "id": "e51fd0ab-0a54-465f-9f05-d5e9bae20190",
   "metadata": {},
   "outputs": [
    {
     "data": {
      "text/plain": [
       "{'How': 2,\n",
       " 'many': 2,\n",
       " 'times': 1,\n",
       " 'does': 1,\n",
       " 'each': 1,\n",
       " 'word': 2,\n",
       " 'show': 1,\n",
       " 'up': 1}"
      ]
     },
     "execution_count": 125,
     "metadata": {},
     "output_type": "execute_result"
    }
   ],
   "source": [
    "dict(c)"
   ]
  },
  {
   "cell_type": "code",
   "execution_count": null,
   "id": "9d47356e-9b62-4eef-87fe-2b723c41f140",
   "metadata": {},
   "outputs": [],
   "source": []
  },
  {
   "cell_type": "code",
   "execution_count": null,
   "id": "c01b5a95-fced-4ab2-a777-7507c4028ff6",
   "metadata": {},
   "outputs": [],
   "source": []
  },
  {
   "cell_type": "code",
   "execution_count": 2,
   "id": "fe571280-ba8f-4327-8d5f-43d73b9e3d9e",
   "metadata": {},
   "outputs": [],
   "source": [
    "from collections import defaultdict"
   ]
  },
  {
   "cell_type": "code",
   "execution_count": 4,
   "id": "be7b9ba6-9e9f-4aae-b1d6-0a6de3c65e79",
   "metadata": {},
   "outputs": [],
   "source": [
    "d={\"k1\":1}"
   ]
  },
  {
   "cell_type": "code",
   "execution_count": 6,
   "id": "2a985471-5a64-499a-9a69-f1f36c5ad06d",
   "metadata": {},
   "outputs": [
    {
     "data": {
      "text/plain": [
       "1"
      ]
     },
     "execution_count": 6,
     "metadata": {},
     "output_type": "execute_result"
    }
   ],
   "source": [
    "d[\"k1\"]"
   ]
  },
  {
   "cell_type": "code",
   "execution_count": 7,
   "id": "50c75825-49dd-42aa-bc36-0964f4c471d6",
   "metadata": {},
   "outputs": [
    {
     "ename": "KeyError",
     "evalue": "'k2'",
     "output_type": "error",
     "traceback": [
      "\u001b[31m---------------------------------------------------------------------------\u001b[39m",
      "\u001b[31mKeyError\u001b[39m                                  Traceback (most recent call last)",
      "\u001b[36mCell\u001b[39m\u001b[36m \u001b[39m\u001b[32mIn[7]\u001b[39m\u001b[32m, line 1\u001b[39m\n\u001b[32m----> \u001b[39m\u001b[32m1\u001b[39m \u001b[43md\u001b[49m\u001b[43m[\u001b[49m\u001b[33;43m\"\u001b[39;49m\u001b[33;43mk2\u001b[39;49m\u001b[33;43m\"\u001b[39;49m\u001b[43m]\u001b[49m\n",
      "\u001b[31mKeyError\u001b[39m: 'k2'"
     ]
    }
   ],
   "source": [
    "d[\"k2\"]"
   ]
  },
  {
   "cell_type": "code",
   "execution_count": 8,
   "id": "78fb4841-f46a-4462-b65c-cd5b0be02337",
   "metadata": {},
   "outputs": [],
   "source": [
    "d=defaultdict(object)"
   ]
  },
  {
   "cell_type": "code",
   "execution_count": 9,
   "id": "a09433de-31c5-4b5d-a36d-4d6b4057e1e2",
   "metadata": {},
   "outputs": [
    {
     "data": {
      "text/plain": [
       "<object at 0x18b284d2510>"
      ]
     },
     "execution_count": 9,
     "metadata": {},
     "output_type": "execute_result"
    }
   ],
   "source": [
    "d[\"one\"]"
   ]
  },
  {
   "cell_type": "code",
   "execution_count": 10,
   "id": "ef42f390-c97a-44d2-8d34-365820881d86",
   "metadata": {},
   "outputs": [
    {
     "name": "stdout",
     "output_type": "stream",
     "text": [
      "one\n"
     ]
    }
   ],
   "source": [
    "for item in d:\n",
    "    print(item)"
   ]
  },
  {
   "cell_type": "code",
   "execution_count": 11,
   "id": "19734b5d-6c39-4fa3-93c2-71250736c86b",
   "metadata": {},
   "outputs": [],
   "source": [
    "d=defaultdict(lambda : 0)"
   ]
  },
  {
   "cell_type": "code",
   "execution_count": 12,
   "id": "e4d34d14-ce10-4fb8-87ee-cb1701219b4b",
   "metadata": {},
   "outputs": [
    {
     "data": {
      "text/plain": [
       "0"
      ]
     },
     "execution_count": 12,
     "metadata": {},
     "output_type": "execute_result"
    }
   ],
   "source": [
    "d[\"one\"]"
   ]
  },
  {
   "cell_type": "code",
   "execution_count": 14,
   "id": "9d88c51f-83db-4428-b6db-d63a7789ec8f",
   "metadata": {},
   "outputs": [],
   "source": [
    "d[\"two\"]=2"
   ]
  },
  {
   "cell_type": "code",
   "execution_count": 15,
   "id": "7fa68d54-8dbd-4f06-9313-8a897ce012bc",
   "metadata": {},
   "outputs": [
    {
     "data": {
      "text/plain": [
       "defaultdict(<function __main__.<lambda>()>, {'one': 0, 'two': 2})"
      ]
     },
     "execution_count": 15,
     "metadata": {},
     "output_type": "execute_result"
    }
   ],
   "source": [
    "d"
   ]
  },
  {
   "cell_type": "code",
   "execution_count": null,
   "id": "45012ff1-f488-48e0-aa59-fb7a3f736931",
   "metadata": {},
   "outputs": [],
   "source": []
  },
  {
   "cell_type": "code",
   "execution_count": 16,
   "id": "d3a2f616-d1a1-43a1-8e05-0bea5a78983b",
   "metadata": {},
   "outputs": [],
   "source": [
    "d={}"
   ]
  },
  {
   "cell_type": "code",
   "execution_count": 39,
   "id": "282465e2-69fd-4202-8ba0-42d49b2dd3bc",
   "metadata": {},
   "outputs": [],
   "source": [
    "d={\"a\":1, \"c\":3, \"d\":4, \"e\":5, \"b\":2}"
   ]
  },
  {
   "cell_type": "code",
   "execution_count": 40,
   "id": "ae99d31a-c32b-4302-b287-cea6635ccd32",
   "metadata": {},
   "outputs": [
    {
     "data": {
      "text/plain": [
       "{'a': 1, 'c': 3, 'd': 4, 'e': 5, 'b': 2}"
      ]
     },
     "execution_count": 40,
     "metadata": {},
     "output_type": "execute_result"
    }
   ],
   "source": [
    "d"
   ]
  },
  {
   "cell_type": "code",
   "execution_count": 41,
   "id": "a61d0591-e7e7-4ecf-a1b4-a9d16ccd49be",
   "metadata": {},
   "outputs": [
    {
     "name": "stdout",
     "output_type": "stream",
     "text": [
      "a 1\n",
      "c 3\n",
      "d 4\n",
      "e 5\n",
      "b 2\n"
     ]
    }
   ],
   "source": [
    "for k,v in d.items():\n",
    "    print (k,v)"
   ]
  },
  {
   "cell_type": "code",
   "execution_count": 42,
   "id": "c3a46545-e96c-4d1c-a48f-0ae427492dc8",
   "metadata": {},
   "outputs": [],
   "source": [
    "from collections import OrderedDict"
   ]
  },
  {
   "cell_type": "code",
   "execution_count": 43,
   "id": "b93ffe24-0d26-45ac-95f3-6f65621933d2",
   "metadata": {},
   "outputs": [],
   "source": [
    "d=OrderedDict()"
   ]
  },
  {
   "cell_type": "code",
   "execution_count": 44,
   "id": "6f00758e-2e53-455e-88d2-751628453ba8",
   "metadata": {},
   "outputs": [],
   "source": [
    "d={\"a\":1, \"c\":3, \"d\":4, \"e\":5, \"b\":2}"
   ]
  },
  {
   "cell_type": "code",
   "execution_count": 45,
   "id": "70e09b5c-c7f4-4f31-ac0d-28e20ac80648",
   "metadata": {},
   "outputs": [
    {
     "name": "stdout",
     "output_type": "stream",
     "text": [
      "a 1\n",
      "c 3\n",
      "d 4\n",
      "e 5\n",
      "b 2\n"
     ]
    }
   ],
   "source": [
    "for k,v in d.items():\n",
    "    print (k,v)"
   ]
  },
  {
   "cell_type": "code",
   "execution_count": null,
   "id": "7f898503-0e91-4d7b-871e-d371e6bf2035",
   "metadata": {},
   "outputs": [],
   "source": []
  },
  {
   "cell_type": "code",
   "execution_count": null,
   "id": "c34c9bb9-ad68-4bb4-bd2a-a0f22e5c5c0f",
   "metadata": {},
   "outputs": [],
   "source": []
  },
  {
   "cell_type": "code",
   "execution_count": 46,
   "id": "a49c6004-60ae-4043-8712-9dd1699f3f88",
   "metadata": {},
   "outputs": [],
   "source": [
    "t=(1,2,3)"
   ]
  },
  {
   "cell_type": "code",
   "execution_count": 47,
   "id": "0b5c702e-4758-4f53-bf6e-7cefe785aadf",
   "metadata": {},
   "outputs": [
    {
     "data": {
      "text/plain": [
       "1"
      ]
     },
     "execution_count": 47,
     "metadata": {},
     "output_type": "execute_result"
    }
   ],
   "source": [
    "t[0]"
   ]
  },
  {
   "cell_type": "code",
   "execution_count": 48,
   "id": "bbf80850-e8cf-4046-aac9-319db01c3ecb",
   "metadata": {},
   "outputs": [],
   "source": [
    "from collections import namedtuple"
   ]
  },
  {
   "cell_type": "code",
   "execution_count": 49,
   "id": "8c51c158-e0b8-43cd-b3ae-1368b5d65262",
   "metadata": {},
   "outputs": [],
   "source": [
    "Dog=namedtuple(\"Dog\",\"age breed name\")"
   ]
  },
  {
   "cell_type": "code",
   "execution_count": 50,
   "id": "54e8b2b2-b7e4-4a12-bbc2-b181897f9efd",
   "metadata": {},
   "outputs": [],
   "source": [
    "sam=Dog(age=2,breed=\"lab\",name=\"Sammy\")"
   ]
  },
  {
   "cell_type": "code",
   "execution_count": 51,
   "id": "f9ce67c8-eb7d-4b1e-9b77-586598cb008f",
   "metadata": {},
   "outputs": [
    {
     "data": {
      "text/plain": [
       "Dog(age=2, breed='lab', name='Sammy')"
      ]
     },
     "execution_count": 51,
     "metadata": {},
     "output_type": "execute_result"
    }
   ],
   "source": [
    "sam"
   ]
  },
  {
   "cell_type": "code",
   "execution_count": 52,
   "id": "ceb91acb-4f1e-4d58-977a-0ae7c17322ff",
   "metadata": {},
   "outputs": [
    {
     "data": {
      "text/plain": [
       "2"
      ]
     },
     "execution_count": 52,
     "metadata": {},
     "output_type": "execute_result"
    }
   ],
   "source": [
    "sam.age"
   ]
  },
  {
   "cell_type": "code",
   "execution_count": 56,
   "id": "2a701e50-3b1e-44aa-8a36-5a90260b4c53",
   "metadata": {},
   "outputs": [
    {
     "data": {
      "text/plain": [
       "'Sammy'"
      ]
     },
     "execution_count": 56,
     "metadata": {},
     "output_type": "execute_result"
    }
   ],
   "source": [
    "sam[2]"
   ]
  },
  {
   "cell_type": "code",
   "execution_count": 57,
   "id": "53bad513-4b8a-4b3d-8031-3e41f772539f",
   "metadata": {},
   "outputs": [],
   "source": [
    "Cat = namedtuple (\"Cat\", \"fur claws name\")"
   ]
  },
  {
   "cell_type": "code",
   "execution_count": 58,
   "id": "d72890b9-2521-43ec-b36b-d6b39951a36c",
   "metadata": {},
   "outputs": [],
   "source": [
    "c=Cat(fur=\"Fuzzy\", claws=False, name=\"Kitty\")"
   ]
  },
  {
   "cell_type": "code",
   "execution_count": 59,
   "id": "ffeff5da-c59a-4717-a919-17f182a2305a",
   "metadata": {},
   "outputs": [
    {
     "data": {
      "text/plain": [
       "'Kitty'"
      ]
     },
     "execution_count": 59,
     "metadata": {},
     "output_type": "execute_result"
    }
   ],
   "source": [
    "c.name"
   ]
  },
  {
   "cell_type": "code",
   "execution_count": 60,
   "id": "a3bcc45b-7161-485b-aa86-825e2910ace5",
   "metadata": {},
   "outputs": [
    {
     "data": {
      "text/plain": [
       "'Kitty'"
      ]
     },
     "execution_count": 60,
     "metadata": {},
     "output_type": "execute_result"
    }
   ],
   "source": [
    "c[2]"
   ]
  },
  {
   "cell_type": "code",
   "execution_count": 61,
   "id": "0b0515d9-c2c5-42a2-8b03-d9f00a00d8e4",
   "metadata": {},
   "outputs": [
    {
     "data": {
      "text/plain": [
       "False"
      ]
     },
     "execution_count": 61,
     "metadata": {},
     "output_type": "execute_result"
    }
   ],
   "source": [
    "c.claws"
   ]
  },
  {
   "cell_type": "code",
   "execution_count": null,
   "id": "4305fdfc-ae5d-48b0-a99c-1caa219f9c3b",
   "metadata": {},
   "outputs": [],
   "source": []
  },
  {
   "cell_type": "code",
   "execution_count": 75,
   "id": "3cf030f4-1fcd-402e-a185-6883d7439825",
   "metadata": {},
   "outputs": [],
   "source": [
    "import datetime"
   ]
  },
  {
   "cell_type": "code",
   "execution_count": 64,
   "id": "2443933d-22cb-4f28-8c12-207619d56e51",
   "metadata": {},
   "outputs": [],
   "source": [
    "t=datetime.time(5,25,1)"
   ]
  },
  {
   "cell_type": "code",
   "execution_count": 65,
   "id": "5e8ccdde-74cf-4e42-9b6a-e3217f1ea4de",
   "metadata": {},
   "outputs": [
    {
     "name": "stdout",
     "output_type": "stream",
     "text": [
      "05:25:01\n"
     ]
    }
   ],
   "source": [
    "print (t)"
   ]
  },
  {
   "cell_type": "code",
   "execution_count": 66,
   "id": "a0f67b6c-9ad5-4a77-8c73-48b86975fcae",
   "metadata": {},
   "outputs": [
    {
     "data": {
      "text/plain": [
       "5"
      ]
     },
     "execution_count": 66,
     "metadata": {},
     "output_type": "execute_result"
    }
   ],
   "source": [
    "t.hour"
   ]
  },
  {
   "cell_type": "code",
   "execution_count": 70,
   "id": "20fc1ce3-ef5c-476e-afa0-f7ec3779f9b5",
   "metadata": {},
   "outputs": [
    {
     "name": "stdout",
     "output_type": "stream",
     "text": [
      "23:59:59.999999\n"
     ]
    }
   ],
   "source": [
    "print(datetime.time.max)"
   ]
  },
  {
   "cell_type": "code",
   "execution_count": 72,
   "id": "95c1a1da-f393-4f2f-bf45-34ba5ffd302f",
   "metadata": {},
   "outputs": [
    {
     "name": "stdout",
     "output_type": "stream",
     "text": [
      "0:00:00.000001\n"
     ]
    }
   ],
   "source": [
    "print (datetime.time.resolution)"
   ]
  },
  {
   "cell_type": "code",
   "execution_count": 84,
   "id": "68fe2b0f-dcf4-4c2d-8e15-14ea4312ecca",
   "metadata": {},
   "outputs": [
    {
     "name": "stdout",
     "output_type": "stream",
     "text": [
      "2025\n"
     ]
    }
   ],
   "source": [
    "today=datetime.date.today()\n",
    "print (today.year)"
   ]
  },
  {
   "cell_type": "code",
   "execution_count": 85,
   "id": "483ef1e6-2750-4f5a-8c6b-35cc6d806931",
   "metadata": {},
   "outputs": [
    {
     "data": {
      "text/plain": [
       "time.struct_time(tm_year=2025, tm_mon=7, tm_mday=3, tm_hour=0, tm_min=0, tm_sec=0, tm_wday=3, tm_yday=184, tm_isdst=-1)"
      ]
     },
     "execution_count": 85,
     "metadata": {},
     "output_type": "execute_result"
    }
   ],
   "source": [
    "today.timetuple()"
   ]
  },
  {
   "cell_type": "code",
   "execution_count": 92,
   "id": "0429a2f6-905e-4072-90dc-bd82ca3d7a84",
   "metadata": {},
   "outputs": [
    {
     "name": "stdout",
     "output_type": "stream",
     "text": [
      "1 day, 0:00:00\n"
     ]
    }
   ],
   "source": [
    "print(datetime.date.resolution)"
   ]
  },
  {
   "cell_type": "code",
   "execution_count": 109,
   "id": "9d04c6fa-229e-4c34-b768-d8ef4e9a3e2a",
   "metadata": {},
   "outputs": [
    {
     "name": "stdout",
     "output_type": "stream",
     "text": [
      "2025-07-03\n"
     ]
    }
   ],
   "source": [
    "d1 = datetime.date(2025,7,3)\n",
    "print(d1)"
   ]
  },
  {
   "cell_type": "code",
   "execution_count": 111,
   "id": "33ab1e4f-6f36-4948-b0af-6da39c9bf05d",
   "metadata": {},
   "outputs": [],
   "source": [
    "d2=d1.replace(year=2026,day=2)"
   ]
  },
  {
   "cell_type": "code",
   "execution_count": 112,
   "id": "7a50d23d-9e38-4dc8-8349-c3d7296cf8fe",
   "metadata": {},
   "outputs": [
    {
     "data": {
      "text/plain": [
       "datetime.date(2026, 7, 2)"
      ]
     },
     "execution_count": 112,
     "metadata": {},
     "output_type": "execute_result"
    }
   ],
   "source": [
    "d2"
   ]
  },
  {
   "cell_type": "code",
   "execution_count": 113,
   "id": "d3d416a7-f8ad-4089-ab12-a251633fdbad",
   "metadata": {},
   "outputs": [
    {
     "data": {
      "text/plain": [
       "datetime.timedelta(days=-364)"
      ]
     },
     "execution_count": 113,
     "metadata": {},
     "output_type": "execute_result"
    }
   ],
   "source": [
    "d1-d2"
   ]
  },
  {
   "cell_type": "code",
   "execution_count": 114,
   "id": "f55a7043-839c-43b9-a512-268dce12c533",
   "metadata": {},
   "outputs": [],
   "source": [
    "import pdb"
   ]
  },
  {
   "cell_type": "code",
   "execution_count": 119,
   "id": "7f43e002-6ba2-46d7-9dab-fe77ba75a2ca",
   "metadata": {},
   "outputs": [
    {
     "name": "stdout",
     "output_type": "stream",
     "text": [
      "5\n"
     ]
    },
    {
     "ename": "TypeError",
     "evalue": "int() argument must be a string, a bytes-like object or a real number, not 'list'",
     "output_type": "error",
     "traceback": [
      "\u001b[31m---------------------------------------------------------------------------\u001b[39m",
      "\u001b[31mTypeError\u001b[39m                                 Traceback (most recent call last)",
      "\u001b[36mCell\u001b[39m\u001b[36m \u001b[39m\u001b[32mIn[119]\u001b[39m\u001b[32m, line 8\u001b[39m\n\u001b[32m      5\u001b[39m result = y+z\n\u001b[32m      6\u001b[39m \u001b[38;5;28mprint\u001b[39m(result)\n\u001b[32m----> \u001b[39m\u001b[32m8\u001b[39m result2=y+\u001b[38;5;28;43mint\u001b[39;49m\u001b[43m(\u001b[49m\u001b[43mx\u001b[49m\u001b[43m)\u001b[49m\n\u001b[32m      9\u001b[39m \u001b[38;5;28mprint\u001b[39m(result2)\n",
      "\u001b[31mTypeError\u001b[39m: int() argument must be a string, a bytes-like object or a real number, not 'list'"
     ]
    }
   ],
   "source": [
    "x=[1,3,4]\n",
    "y=2\n",
    "z=3\n",
    "\n",
    "result = y+z\n",
    "print(result)\n",
    "\n",
    "result2=y+x\n",
    "print(result2)"
   ]
  },
  {
   "cell_type": "code",
   "execution_count": null,
   "id": "0a86eaac-eccc-411a-b6fb-b47cbc04cad5",
   "metadata": {},
   "outputs": [],
   "source": []
  },
  {
   "cell_type": "code",
   "execution_count": null,
   "id": "fe277e67-c5f6-4df6-8f7c-c7fc3366ab2d",
   "metadata": {},
   "outputs": [],
   "source": []
  },
  {
   "cell_type": "code",
   "execution_count": 7,
   "id": "157dea09-60f0-4d7b-bc45-a2e59d55cbb2",
   "metadata": {},
   "outputs": [],
   "source": [
    "import timeit"
   ]
  },
  {
   "cell_type": "code",
   "execution_count": 8,
   "id": "a16ed054-be2a-4970-b71c-5850d1822414",
   "metadata": {},
   "outputs": [
    {
     "data": {
      "text/plain": [
       "'0-1-2-3-4-....-99'"
      ]
     },
     "execution_count": 8,
     "metadata": {},
     "output_type": "execute_result"
    }
   ],
   "source": [
    "\"0-1-2-3-4-....-99\""
   ]
  },
  {
   "cell_type": "code",
   "execution_count": 20,
   "id": "5d6ef3bc-c415-46e2-b292-32dea22f16de",
   "metadata": {},
   "outputs": [
    {
     "data": {
      "text/plain": [
       "0.08657839999068528"
      ]
     },
     "execution_count": 20,
     "metadata": {},
     "output_type": "execute_result"
    }
   ],
   "source": [
    "timeit.timeit('\"-\".join(str(n) for n in range (100))', number=10000)"
   ]
  },
  {
   "cell_type": "code",
   "execution_count": 21,
   "id": "114d2f88-d7f2-431f-93c1-7062dba06ec0",
   "metadata": {},
   "outputs": [
    {
     "data": {
      "text/plain": [
       "0.06963199994061142"
      ]
     },
     "execution_count": 21,
     "metadata": {},
     "output_type": "execute_result"
    }
   ],
   "source": [
    "timeit.timeit('\"-\".join([str(n) for n in range (100)])', number=10000)"
   ]
  },
  {
   "cell_type": "code",
   "execution_count": 22,
   "id": "eb6da782-350e-49ca-91b1-95b0814ebba2",
   "metadata": {},
   "outputs": [
    {
     "data": {
      "text/plain": [
       "0.07556449994444847"
      ]
     },
     "execution_count": 22,
     "metadata": {},
     "output_type": "execute_result"
    }
   ],
   "source": [
    "timeit.timeit('\"-\".join(map(str,range(100)))', number=10000)"
   ]
  },
  {
   "cell_type": "code",
   "execution_count": 25,
   "id": "ce3d8e65-559c-4432-80ee-c6860d4f6e1b",
   "metadata": {},
   "outputs": [
    {
     "name": "stdout",
     "output_type": "stream",
     "text": [
      "8.61 μs ± 145 ns per loop (mean ± std. dev. of 7 runs, 100,000 loops each)\n"
     ]
    }
   ],
   "source": [
    "%timeit \"-\".join(str(n) for n in range (100))"
   ]
  },
  {
   "cell_type": "code",
   "execution_count": 26,
   "id": "ab809c24-dc43-47ec-a250-263112b18245",
   "metadata": {},
   "outputs": [
    {
     "name": "stdout",
     "output_type": "stream",
     "text": [
      "6.59 μs ± 30.4 ns per loop (mean ± std. dev. of 7 runs, 100,000 loops each)\n"
     ]
    }
   ],
   "source": [
    "%timeit \"-\".join([str(n) for n in range (100)])"
   ]
  },
  {
   "cell_type": "code",
   "execution_count": 27,
   "id": "2949002c-c9ef-45f8-a7a8-94775b5d0fa6",
   "metadata": {},
   "outputs": [
    {
     "name": "stdout",
     "output_type": "stream",
     "text": [
      "7.23 μs ± 75.6 ns per loop (mean ± std. dev. of 7 runs, 100,000 loops each)\n"
     ]
    }
   ],
   "source": [
    "%timeit \"-\".join(map(str,range(100)))"
   ]
  },
  {
   "cell_type": "code",
   "execution_count": null,
   "id": "74aee283-9981-4e01-a98c-4215464e7568",
   "metadata": {},
   "outputs": [],
   "source": []
  },
  {
   "cell_type": "code",
   "execution_count": null,
   "id": "a5e8b3ba-36d7-476f-a577-5511453f5947",
   "metadata": {},
   "outputs": [],
   "source": []
  },
  {
   "cell_type": "code",
   "execution_count": 28,
   "id": "b20cbc3d-7a91-43cb-9e5f-1c0d53b261c3",
   "metadata": {},
   "outputs": [],
   "source": [
    "import re"
   ]
  },
  {
   "cell_type": "code",
   "execution_count": 29,
   "id": "d5cacf57-df10-4649-85f6-9c3ee74ff0da",
   "metadata": {},
   "outputs": [],
   "source": [
    "patterns = [\"term1\",\"term2\"]"
   ]
  },
  {
   "cell_type": "code",
   "execution_count": 30,
   "id": "5d66158f-a31f-4b55-b236-b66d817b4df0",
   "metadata": {},
   "outputs": [],
   "source": [
    "text = \"This is a string with term1, but not the other term\""
   ]
  },
  {
   "cell_type": "code",
   "execution_count": 32,
   "id": "72f5f1d9-4855-4294-80f7-1e16065bfa57",
   "metadata": {},
   "outputs": [
    {
     "data": {
      "text/plain": [
       "<re.Match object; span=(0, 5), match='hello'>"
      ]
     },
     "execution_count": 32,
     "metadata": {},
     "output_type": "execute_result"
    }
   ],
   "source": [
    "re.search(\"hello\", \"hello world!\")"
   ]
  },
  {
   "cell_type": "code",
   "execution_count": 34,
   "id": "c79c8fe4-959a-476c-9136-bb009057b044",
   "metadata": {},
   "outputs": [
    {
     "name": "stdout",
     "output_type": "stream",
     "text": [
      "Searching for \"term1\" in \n",
      "\"This is a string with term1, but not the other term\"\n",
      "\n",
      "\n",
      "Match was found. \n",
      "\n",
      "Searching for \"term2\" in \n",
      "\"This is a string with term1, but not the other term\"\n",
      "\n",
      "\n",
      "No Match was found.\n",
      "\n"
     ]
    }
   ],
   "source": [
    "for pattern in patterns:\n",
    "    print ('Searching for \"%s\" in \\n\"%s\"'% (pattern,text)),\n",
    "\n",
    "    if re.search(pattern, text):\n",
    "        print(\"\\n\")\n",
    "        print (\"Match was found. \\n\")\n",
    "    else:\n",
    "        print(\"\\n\")\n",
    "        print(\"No Match was found.\\n\")"
   ]
  },
  {
   "cell_type": "code",
   "execution_count": 35,
   "id": "72dec349-079e-4f9b-8f00-e87ddcb10760",
   "metadata": {},
   "outputs": [],
   "source": [
    "re.search(\"h\",\"w\")"
   ]
  },
  {
   "cell_type": "code",
   "execution_count": null,
   "id": "bc16e50f-7203-437a-b621-18f77e5e7267",
   "metadata": {},
   "outputs": [],
   "source": []
  },
  {
   "cell_type": "code",
   "execution_count": 36,
   "id": "730cd2e0-1ad0-4a22-9d08-c0550f44c06a",
   "metadata": {},
   "outputs": [],
   "source": [
    "split_term = \"@\"\n",
    "\n",
    "phrase = \"What is your email, is it hello@gmail.com?\""
   ]
  },
  {
   "cell_type": "code",
   "execution_count": 37,
   "id": "65ca065b-1249-4637-a5a4-50a3fd0db319",
   "metadata": {},
   "outputs": [
    {
     "data": {
      "text/plain": [
       "['What is your email, is it hello', 'gmail.com?']"
      ]
     },
     "execution_count": 37,
     "metadata": {},
     "output_type": "execute_result"
    }
   ],
   "source": [
    "re.split(split_term,phrase)"
   ]
  },
  {
   "cell_type": "code",
   "execution_count": 38,
   "id": "d8564f15-2494-47fa-abf2-623bbe020a58",
   "metadata": {},
   "outputs": [
    {
     "data": {
      "text/plain": [
       "['Hello', 'world']"
      ]
     },
     "execution_count": 38,
     "metadata": {},
     "output_type": "execute_result"
    }
   ],
   "source": [
    "\"Hello world\".split()"
   ]
  },
  {
   "cell_type": "code",
   "execution_count": 39,
   "id": "47d279db-8347-46c2-8bad-ac726ac8be9e",
   "metadata": {},
   "outputs": [
    {
     "data": {
      "text/plain": [
       "['match', 'match']"
      ]
     },
     "execution_count": 39,
     "metadata": {},
     "output_type": "execute_result"
    }
   ],
   "source": [
    "re.findall(\"match\", \"Here is one match, here is another match\")"
   ]
  },
  {
   "cell_type": "code",
   "execution_count": null,
   "id": "cfe3a7b1-c99f-456d-a514-32c5e93998df",
   "metadata": {},
   "outputs": [],
   "source": []
  },
  {
   "cell_type": "code",
   "execution_count": 47,
   "id": "14d8d611-ff68-4436-9d0a-4cb7da0589f3",
   "metadata": {},
   "outputs": [],
   "source": [
    "import io"
   ]
  },
  {
   "cell_type": "code",
   "execution_count": 48,
   "id": "fa14ce5b-e10b-4bb3-9aef-fe9d89e0b6cb",
   "metadata": {},
   "outputs": [],
   "source": [
    "message=\"this is just a normal string\""
   ]
  },
  {
   "cell_type": "code",
   "execution_count": 62,
   "id": "212ee53a-eb6d-49e0-9c1f-819dcb0990a5",
   "metadata": {},
   "outputs": [],
   "source": [
    "f=io.StringIO(message)"
   ]
  },
  {
   "cell_type": "code",
   "execution_count": 63,
   "id": "1a571e55-377c-45e7-9132-05bb6f18d929",
   "metadata": {},
   "outputs": [
    {
     "data": {
      "text/plain": [
       "'this is just a normal string'"
      ]
     },
     "execution_count": 63,
     "metadata": {},
     "output_type": "execute_result"
    }
   ],
   "source": [
    "f.read()"
   ]
  },
  {
   "cell_type": "code",
   "execution_count": 59,
   "id": "7384c439-a031-431d-b8e4-c45042061808",
   "metadata": {},
   "outputs": [
    {
     "data": {
      "text/plain": [
       "30"
      ]
     },
     "execution_count": 59,
     "metadata": {},
     "output_type": "execute_result"
    }
   ],
   "source": [
    "f.write(\"this is a second normal string\")"
   ]
  },
  {
   "cell_type": "code",
   "execution_count": 66,
   "id": "e0e3ed2b-b095-4456-845f-64b01b46776b",
   "metadata": {},
   "outputs": [
    {
     "data": {
      "text/plain": [
       "5"
      ]
     },
     "execution_count": 66,
     "metadata": {},
     "output_type": "execute_result"
    }
   ],
   "source": [
    "f.seek()"
   ]
  },
  {
   "cell_type": "code",
   "execution_count": 68,
   "id": "2be5f3e8-223a-4676-b99c-864637ea01df",
   "metadata": {},
   "outputs": [
    {
     "data": {
      "text/plain": [
       "1"
      ]
     },
     "execution_count": 68,
     "metadata": {},
     "output_type": "execute_result"
    }
   ],
   "source": [
    "pow(2,4,3)"
   ]
  },
  {
   "cell_type": "code",
   "execution_count": 71,
   "id": "7237cec2-f06e-44ed-b102-cd9371098392",
   "metadata": {},
   "outputs": [
    {
     "data": {
      "text/plain": [
       "3.95"
      ]
     },
     "execution_count": 71,
     "metadata": {},
     "output_type": "execute_result"
    }
   ],
   "source": [
    "round (3.9548,2)"
   ]
  },
  {
   "cell_type": "code",
   "execution_count": null,
   "id": "e54c16c3-9442-4c74-aafc-2155ea9c481f",
   "metadata": {},
   "outputs": [],
   "source": []
  },
  {
   "cell_type": "code",
   "execution_count": 72,
   "id": "6075e9d4-5a00-4fc3-bb76-cdfa6fdc4b09",
   "metadata": {},
   "outputs": [],
   "source": [
    "s=\"hello world\""
   ]
  },
  {
   "cell_type": "code",
   "execution_count": 73,
   "id": "e4416602-e586-48ed-9204-d4b64bbaacd4",
   "metadata": {},
   "outputs": [
    {
     "data": {
      "text/plain": [
       "'Hello world'"
      ]
     },
     "execution_count": 73,
     "metadata": {},
     "output_type": "execute_result"
    }
   ],
   "source": [
    "s.capitalize()"
   ]
  },
  {
   "cell_type": "code",
   "execution_count": 74,
   "id": "9a92de4e-aec6-4425-a14b-3eb24294fe22",
   "metadata": {},
   "outputs": [
    {
     "data": {
      "text/plain": [
       "'HELLO WORLD'"
      ]
     },
     "execution_count": 74,
     "metadata": {},
     "output_type": "execute_result"
    }
   ],
   "source": [
    "s.upper()"
   ]
  },
  {
   "cell_type": "code",
   "execution_count": 75,
   "id": "1b721a3d-56b8-4ed6-a28e-6f2f8e90fee4",
   "metadata": {},
   "outputs": [
    {
     "data": {
      "text/plain": [
       "'hello world'"
      ]
     },
     "execution_count": 75,
     "metadata": {},
     "output_type": "execute_result"
    }
   ],
   "source": [
    "s.lower()"
   ]
  },
  {
   "cell_type": "code",
   "execution_count": 76,
   "id": "bd6d3e52-cc2d-40c2-96f9-cad7f86af9aa",
   "metadata": {},
   "outputs": [
    {
     "data": {
      "text/plain": [
       "2"
      ]
     },
     "execution_count": 76,
     "metadata": {},
     "output_type": "execute_result"
    }
   ],
   "source": [
    "s.count(\"o\")"
   ]
  },
  {
   "cell_type": "code",
   "execution_count": 77,
   "id": "076955db-0b90-4931-8948-ce81cb941966",
   "metadata": {},
   "outputs": [
    {
     "data": {
      "text/plain": [
       "4"
      ]
     },
     "execution_count": 77,
     "metadata": {},
     "output_type": "execute_result"
    }
   ],
   "source": [
    "s.find(\"o\")"
   ]
  },
  {
   "cell_type": "code",
   "execution_count": 78,
   "id": "0ad11e34-f86f-4e5f-b896-d6d90be038bf",
   "metadata": {},
   "outputs": [
    {
     "data": {
      "text/plain": [
       "'hello world'"
      ]
     },
     "execution_count": 78,
     "metadata": {},
     "output_type": "execute_result"
    }
   ],
   "source": [
    "s"
   ]
  },
  {
   "cell_type": "code",
   "execution_count": 89,
   "id": "6957b6c9-ae16-4c99-8f50-5b52cdcae065",
   "metadata": {},
   "outputs": [
    {
     "data": {
      "text/plain": [
       "'Hello   hi'"
      ]
     },
     "execution_count": 89,
     "metadata": {},
     "output_type": "execute_result"
    }
   ],
   "source": [
    "(\"Hello\\thi\").expandtabs()"
   ]
  },
  {
   "cell_type": "code",
   "execution_count": 90,
   "id": "09c7f78b-71a9-4f4e-a6be-65e8b27cea82",
   "metadata": {},
   "outputs": [],
   "source": [
    "s=\"hello\""
   ]
  },
  {
   "cell_type": "code",
   "execution_count": 91,
   "id": "4c258c03-2b30-4162-8f3a-6afe2fee6c6e",
   "metadata": {},
   "outputs": [
    {
     "data": {
      "text/plain": [
       "True"
      ]
     },
     "execution_count": 91,
     "metadata": {},
     "output_type": "execute_result"
    }
   ],
   "source": [
    "s.isalnum()"
   ]
  },
  {
   "cell_type": "code",
   "execution_count": 92,
   "id": "8d1c0bf4-8c1a-48fc-a9e0-daed7c04a523",
   "metadata": {},
   "outputs": [
    {
     "data": {
      "text/plain": [
       "True"
      ]
     },
     "execution_count": 92,
     "metadata": {},
     "output_type": "execute_result"
    }
   ],
   "source": [
    "s.isalpha()"
   ]
  },
  {
   "cell_type": "code",
   "execution_count": 93,
   "id": "7fc02eda-d726-4e91-9d68-8fb3d3dd3224",
   "metadata": {},
   "outputs": [
    {
     "data": {
      "text/plain": [
       "True"
      ]
     },
     "execution_count": 93,
     "metadata": {},
     "output_type": "execute_result"
    }
   ],
   "source": [
    "s.islower()"
   ]
  },
  {
   "cell_type": "code",
   "execution_count": 98,
   "id": "5bc6da63-083c-4f6c-9e4d-f0edc1bac327",
   "metadata": {},
   "outputs": [
    {
     "data": {
      "text/plain": [
       "True"
      ]
     },
     "execution_count": 98,
     "metadata": {},
     "output_type": "execute_result"
    }
   ],
   "source": [
    "s.islower()"
   ]
  },
  {
   "cell_type": "code",
   "execution_count": 96,
   "id": "0c929b6b-52bb-45ef-9e76-fc0118267183",
   "metadata": {},
   "outputs": [
    {
     "data": {
      "text/plain": [
       "False"
      ]
     },
     "execution_count": 96,
     "metadata": {},
     "output_type": "execute_result"
    }
   ],
   "source": [
    "s.istitle()"
   ]
  },
  {
   "cell_type": "code",
   "execution_count": 99,
   "id": "5f49b882-8c3c-43dd-a13d-3b2ff2112884",
   "metadata": {},
   "outputs": [
    {
     "data": {
      "text/plain": [
       "True"
      ]
     },
     "execution_count": 99,
     "metadata": {},
     "output_type": "execute_result"
    }
   ],
   "source": [
    "s.endswith(\"o\")"
   ]
  },
  {
   "cell_type": "code",
   "execution_count": 100,
   "id": "02ca7a7c-ff1e-409b-aa3e-9d6bf189b501",
   "metadata": {},
   "outputs": [
    {
     "data": {
      "text/plain": [
       "['h', 'llo']"
      ]
     },
     "execution_count": 100,
     "metadata": {},
     "output_type": "execute_result"
    }
   ],
   "source": [
    "s.split(\"e\")"
   ]
  },
  {
   "cell_type": "code",
   "execution_count": 101,
   "id": "fc653f68-15e1-42de-80c1-18f60beeef5c",
   "metadata": {},
   "outputs": [],
   "source": [
    "s=\"ihihihihihihihihih\""
   ]
  },
  {
   "cell_type": "code",
   "execution_count": 102,
   "id": "25b1aa23-e954-4713-8704-3f2f68535393",
   "metadata": {},
   "outputs": [
    {
     "data": {
      "text/plain": [
       "['', 'h', 'h', 'h', 'h', 'h', 'h', 'h', 'h', 'h']"
      ]
     },
     "execution_count": 102,
     "metadata": {},
     "output_type": "execute_result"
    }
   ],
   "source": [
    "s.split(\"i\")"
   ]
  },
  {
   "cell_type": "code",
   "execution_count": 106,
   "id": "944ca819-fe1f-4bd9-9f14-1c5b86e324b8",
   "metadata": {},
   "outputs": [
    {
     "data": {
      "text/plain": [
       "('', 'i', 'hihihihihihihihih')"
      ]
     },
     "execution_count": 106,
     "metadata": {},
     "output_type": "execute_result"
    }
   ],
   "source": [
    "s.partition(\"i\")"
   ]
  },
  {
   "cell_type": "code",
   "execution_count": null,
   "id": "711ddae6-6d1c-4904-8adb-8713282e8984",
   "metadata": {},
   "outputs": [],
   "source": []
  },
  {
   "cell_type": "code",
   "execution_count": null,
   "id": "10f8f662-dbf5-42f1-a945-521787823686",
   "metadata": {},
   "outputs": [],
   "source": []
  },
  {
   "cell_type": "code",
   "execution_count": null,
   "id": "e864876f-3aea-4eee-ace2-d0eac489adfa",
   "metadata": {},
   "outputs": [],
   "source": []
  },
  {
   "cell_type": "code",
   "execution_count": 107,
   "id": "42ee3b73-6ffe-4449-8196-47195c6a70f5",
   "metadata": {},
   "outputs": [],
   "source": [
    "s=set()"
   ]
  },
  {
   "cell_type": "code",
   "execution_count": 108,
   "id": "4f7b3b32-626c-45dc-aeaa-a763d69439e9",
   "metadata": {},
   "outputs": [],
   "source": [
    "s.add(1)"
   ]
  },
  {
   "cell_type": "code",
   "execution_count": 109,
   "id": "7ea24a5c-6c67-41bf-9b55-6bb8f410c065",
   "metadata": {},
   "outputs": [],
   "source": [
    "s.add(2)"
   ]
  },
  {
   "cell_type": "code",
   "execution_count": 110,
   "id": "0931eeba-c9ce-4923-8cf3-0a5a69d31651",
   "metadata": {},
   "outputs": [
    {
     "data": {
      "text/plain": [
       "{1, 2}"
      ]
     },
     "execution_count": 110,
     "metadata": {},
     "output_type": "execute_result"
    }
   ],
   "source": [
    "s"
   ]
  },
  {
   "cell_type": "code",
   "execution_count": 111,
   "id": "7bbef7f4-4234-4d1c-ad31-36096fcc83b6",
   "metadata": {},
   "outputs": [],
   "source": [
    "s.add(2)"
   ]
  },
  {
   "cell_type": "code",
   "execution_count": 112,
   "id": "dbea5d2e-89c3-48fb-8d31-2e2ef4661623",
   "metadata": {},
   "outputs": [
    {
     "data": {
      "text/plain": [
       "{1, 2}"
      ]
     },
     "execution_count": 112,
     "metadata": {},
     "output_type": "execute_result"
    }
   ],
   "source": [
    "s"
   ]
  },
  {
   "cell_type": "code",
   "execution_count": 113,
   "id": "c8fc8942-d36a-48ad-b90d-bbd7a1a3cd51",
   "metadata": {},
   "outputs": [],
   "source": [
    "s.clear()"
   ]
  },
  {
   "cell_type": "code",
   "execution_count": 114,
   "id": "45323a5f-855e-4e5e-8b95-68457b416955",
   "metadata": {},
   "outputs": [
    {
     "data": {
      "text/plain": [
       "set()"
      ]
     },
     "execution_count": 114,
     "metadata": {},
     "output_type": "execute_result"
    }
   ],
   "source": [
    "s"
   ]
  },
  {
   "cell_type": "code",
   "execution_count": 127,
   "id": "6ca0dc67-8450-48f4-a5fc-fe78df10f5d4",
   "metadata": {},
   "outputs": [],
   "source": [
    "s={1,2,3,4}"
   ]
  },
  {
   "cell_type": "code",
   "execution_count": 124,
   "id": "0ebef488-4abe-4def-a39a-39f15644ea67",
   "metadata": {},
   "outputs": [],
   "source": [
    "sc=s.copy()"
   ]
  },
  {
   "cell_type": "code",
   "execution_count": 125,
   "id": "df4fff09-75bd-45bc-b1e5-accfe37e4063",
   "metadata": {},
   "outputs": [
    {
     "data": {
      "text/plain": [
       "{1, 2, 3}"
      ]
     },
     "execution_count": 125,
     "metadata": {},
     "output_type": "execute_result"
    }
   ],
   "source": [
    "sc"
   ]
  },
  {
   "cell_type": "code",
   "execution_count": 128,
   "id": "f250d513-cf48-4879-891e-acdcbe1603fa",
   "metadata": {},
   "outputs": [
    {
     "data": {
      "text/plain": [
       "{4}"
      ]
     },
     "execution_count": 128,
     "metadata": {},
     "output_type": "execute_result"
    }
   ],
   "source": [
    "s.difference(sc)"
   ]
  },
  {
   "cell_type": "code",
   "execution_count": null,
   "id": "000a71ab-5517-4857-8ba6-15b677f87cff",
   "metadata": {},
   "outputs": [],
   "source": []
  },
  {
   "cell_type": "code",
   "execution_count": 134,
   "id": "25a11c5c-f22a-4ba1-8205-9c1dec0f8b5b",
   "metadata": {},
   "outputs": [],
   "source": [
    "s1={1,2,3}"
   ]
  },
  {
   "cell_type": "code",
   "execution_count": 135,
   "id": "b7aa7211-645e-4304-b84e-d8f5c610bd11",
   "metadata": {},
   "outputs": [],
   "source": [
    "s2={1,4,5}"
   ]
  },
  {
   "cell_type": "code",
   "execution_count": 137,
   "id": "53628a44-e74f-4622-b35d-088036964df4",
   "metadata": {},
   "outputs": [],
   "source": [
    "s1.difference_update(s2)"
   ]
  },
  {
   "cell_type": "code",
   "execution_count": 138,
   "id": "2223deba-f8f9-4e0a-b8b6-08d4f6b0eae1",
   "metadata": {},
   "outputs": [
    {
     "data": {
      "text/plain": [
       "{2, 3}"
      ]
     },
     "execution_count": 138,
     "metadata": {},
     "output_type": "execute_result"
    }
   ],
   "source": [
    "s1"
   ]
  },
  {
   "cell_type": "code",
   "execution_count": 139,
   "id": "ea828003-65d4-4ca6-8c7a-074a46fcd6cc",
   "metadata": {},
   "outputs": [
    {
     "data": {
      "text/plain": [
       "{1, 4, 5}"
      ]
     },
     "execution_count": 139,
     "metadata": {},
     "output_type": "execute_result"
    }
   ],
   "source": [
    "s2"
   ]
  },
  {
   "cell_type": "code",
   "execution_count": 140,
   "id": "6008393d-4427-47c3-9a5a-6b81385b2fb7",
   "metadata": {},
   "outputs": [
    {
     "data": {
      "text/plain": [
       "{1, 2, 3, 4}"
      ]
     },
     "execution_count": 140,
     "metadata": {},
     "output_type": "execute_result"
    }
   ],
   "source": [
    "s"
   ]
  },
  {
   "cell_type": "code",
   "execution_count": 141,
   "id": "939930d9-0d77-4fd1-b67b-d8797c8c0a04",
   "metadata": {},
   "outputs": [],
   "source": [
    "s.discard(2)"
   ]
  },
  {
   "cell_type": "code",
   "execution_count": 142,
   "id": "eb0ca887-57fb-442d-9e90-dbe1152f013b",
   "metadata": {},
   "outputs": [
    {
     "data": {
      "text/plain": [
       "{1, 3, 4}"
      ]
     },
     "execution_count": 142,
     "metadata": {},
     "output_type": "execute_result"
    }
   ],
   "source": [
    "s"
   ]
  },
  {
   "cell_type": "code",
   "execution_count": 148,
   "id": "64a65ec4-9241-4f9e-988e-3cff76aecd1e",
   "metadata": {},
   "outputs": [],
   "source": [
    "s1={1,2,3}"
   ]
  },
  {
   "cell_type": "code",
   "execution_count": 149,
   "id": "feb6e34e-38a5-4865-95da-bdf28804bf9a",
   "metadata": {},
   "outputs": [],
   "source": [
    "s2={1,2,4}"
   ]
  },
  {
   "cell_type": "code",
   "execution_count": 150,
   "id": "f7588d29-9ec9-42a1-9671-a8df047d33ec",
   "metadata": {},
   "outputs": [
    {
     "data": {
      "text/plain": [
       "{1, 2}"
      ]
     },
     "execution_count": 150,
     "metadata": {},
     "output_type": "execute_result"
    }
   ],
   "source": [
    "s1.intersection(s2)"
   ]
  },
  {
   "cell_type": "code",
   "execution_count": 152,
   "id": "7a43575b-378e-4f6a-8a96-0dea2858006e",
   "metadata": {},
   "outputs": [],
   "source": [
    "s1.intersection_update(s2)"
   ]
  },
  {
   "cell_type": "code",
   "execution_count": 155,
   "id": "5a431d23-417c-4198-b809-11113bacba0a",
   "metadata": {},
   "outputs": [
    {
     "data": {
      "text/plain": [
       "{1, 2}"
      ]
     },
     "execution_count": 155,
     "metadata": {},
     "output_type": "execute_result"
    }
   ],
   "source": [
    "s1"
   ]
  },
  {
   "cell_type": "code",
   "execution_count": null,
   "id": "754009b9-6c44-49e6-9cfc-fca764d7c610",
   "metadata": {},
   "outputs": [],
   "source": []
  },
  {
   "cell_type": "code",
   "execution_count": 156,
   "id": "bc27c2ed-6c67-4afa-8ebc-72c0cca72746",
   "metadata": {},
   "outputs": [],
   "source": [
    "s1= {1,2}\n",
    "s2={1,2,4}\n",
    "s3={5}"
   ]
  },
  {
   "cell_type": "code",
   "execution_count": 157,
   "id": "22cc694c-d2e4-401e-89d5-613ff43feb4c",
   "metadata": {},
   "outputs": [
    {
     "data": {
      "text/plain": [
       "False"
      ]
     },
     "execution_count": 157,
     "metadata": {},
     "output_type": "execute_result"
    }
   ],
   "source": [
    "s1.isdisjoint(s2)"
   ]
  },
  {
   "cell_type": "code",
   "execution_count": 159,
   "id": "f92f3ad6-00c8-474d-9869-c0bcd4b1346a",
   "metadata": {},
   "outputs": [
    {
     "data": {
      "text/plain": [
       "True"
      ]
     },
     "execution_count": 159,
     "metadata": {},
     "output_type": "execute_result"
    }
   ],
   "source": [
    "s1.isdisjoint(s3)"
   ]
  },
  {
   "cell_type": "code",
   "execution_count": 162,
   "id": "4af85446-b380-4aaf-bea8-4916aee631c4",
   "metadata": {},
   "outputs": [
    {
     "data": {
      "text/plain": [
       "False"
      ]
     },
     "execution_count": 162,
     "metadata": {},
     "output_type": "execute_result"
    }
   ],
   "source": [
    "s2.issubset(s1)"
   ]
  },
  {
   "cell_type": "code",
   "execution_count": 163,
   "id": "376e3333-4e88-4c96-9950-c915d8dc7e90",
   "metadata": {},
   "outputs": [
    {
     "data": {
      "text/plain": [
       "True"
      ]
     },
     "execution_count": 163,
     "metadata": {},
     "output_type": "execute_result"
    }
   ],
   "source": [
    "s2.issuperset(s1)"
   ]
  },
  {
   "cell_type": "code",
   "execution_count": 166,
   "id": "7fe6356d-7f64-41e9-bd33-377757bd4854",
   "metadata": {},
   "outputs": [
    {
     "data": {
      "text/plain": [
       "{4}"
      ]
     },
     "execution_count": 166,
     "metadata": {},
     "output_type": "execute_result"
    }
   ],
   "source": [
    "s1.symmetric_difference(s2)"
   ]
  },
  {
   "cell_type": "code",
   "execution_count": 167,
   "id": "a39665ac-4cec-4313-8580-98c4f5ceea32",
   "metadata": {},
   "outputs": [
    {
     "data": {
      "text/plain": [
       "{1, 2, 4}"
      ]
     },
     "execution_count": 167,
     "metadata": {},
     "output_type": "execute_result"
    }
   ],
   "source": [
    "s1.union(s2)"
   ]
  },
  {
   "cell_type": "code",
   "execution_count": 169,
   "id": "46f990ed-aad1-4325-87d7-d3e6246f307b",
   "metadata": {},
   "outputs": [],
   "source": [
    "s1.update(s2)"
   ]
  },
  {
   "cell_type": "code",
   "execution_count": null,
   "id": "b000c4e1-2ca6-4d1e-a656-bd38ea3f42a3",
   "metadata": {},
   "outputs": [],
   "source": []
  },
  {
   "cell_type": "code",
   "execution_count": 182,
   "id": "10f3b6eb-d9d1-4c3c-8bc7-ac3b7a1048cc",
   "metadata": {},
   "outputs": [],
   "source": [
    "d={\"k1\":1,\"k2\":2}"
   ]
  },
  {
   "cell_type": "code",
   "execution_count": 176,
   "id": "481bbdcc-28a8-43bf-af47-168a6b705939",
   "metadata": {},
   "outputs": [
    {
     "data": {
      "text/plain": [
       "{'a': 0, 'b': 1, 'c': 4, 'd': 9}"
      ]
     },
     "execution_count": 176,
     "metadata": {},
     "output_type": "execute_result"
    }
   ],
   "source": [
    "{k:v**2 for k,v in zip([\"a\",\"b\",\"c\",\"d\"],range(10))}"
   ]
  },
  {
   "cell_type": "code",
   "execution_count": 187,
   "id": "1e2e3d5a-4319-435d-98b8-df438f213776",
   "metadata": {},
   "outputs": [
    {
     "name": "stdout",
     "output_type": "stream",
     "text": [
      "k1\n",
      "k2\n"
     ]
    }
   ],
   "source": [
    "for k in d.keys():\n",
    "    print(k)"
   ]
  },
  {
   "cell_type": "code",
   "execution_count": 191,
   "id": "a4eb56c6-cc22-4554-a0e5-b5ee0d485b94",
   "metadata": {},
   "outputs": [
    {
     "data": {
      "text/plain": [
       "dict_values([1, 2])"
      ]
     },
     "execution_count": 191,
     "metadata": {},
     "output_type": "execute_result"
    }
   ],
   "source": [
    "d.values()"
   ]
  },
  {
   "cell_type": "code",
   "execution_count": 192,
   "id": "c49c0478-9ed2-424b-9543-75b52e6c56b6",
   "metadata": {},
   "outputs": [],
   "source": [
    "l=[1,2,3,4,5,6]"
   ]
  },
  {
   "cell_type": "code",
   "execution_count": 196,
   "id": "ed4f393d-9ff1-4005-b036-dbc81a835f41",
   "metadata": {},
   "outputs": [],
   "source": [
    "l.extend([1,2])"
   ]
  },
  {
   "cell_type": "code",
   "execution_count": 197,
   "id": "6098fe99-151b-499a-a2d3-69a961f57d36",
   "metadata": {},
   "outputs": [
    {
     "data": {
      "text/plain": [
       "[1, 2, 3, 4, 5, 6, 1, 2]"
      ]
     },
     "execution_count": 197,
     "metadata": {},
     "output_type": "execute_result"
    }
   ],
   "source": [
    "l"
   ]
  },
  {
   "cell_type": "code",
   "execution_count": 199,
   "id": "c169a0e3-5f4c-4582-91ec-0a0bdfc0de25",
   "metadata": {},
   "outputs": [],
   "source": [
    "l.append(2)"
   ]
  },
  {
   "cell_type": "code",
   "execution_count": 224,
   "id": "ffbf1489-28b9-4dbc-8721-3eefff6ff7cc",
   "metadata": {},
   "outputs": [
    {
     "data": {
      "text/plain": [
       "[1, 2, 3, 4, 5, 6, 1, 2, 2, 2, 2]"
      ]
     },
     "execution_count": 224,
     "metadata": {},
     "output_type": "execute_result"
    }
   ],
   "source": [
    "l"
   ]
  },
  {
   "cell_type": "code",
   "execution_count": 226,
   "id": "7affc87b-3e43-444a-9960-3ecead02ce5c",
   "metadata": {},
   "outputs": [
    {
     "data": {
      "text/plain": [
       "8"
      ]
     },
     "execution_count": 226,
     "metadata": {},
     "output_type": "execute_result"
    }
   ],
   "source": [
    "l.index(2,-3)"
   ]
  },
  {
   "cell_type": "code",
   "execution_count": 230,
   "id": "d5c8a4a7-7a72-4caa-ac84-acd53b782380",
   "metadata": {},
   "outputs": [],
   "source": [
    "l.insert(2,\"inserted\")"
   ]
  },
  {
   "cell_type": "code",
   "execution_count": 229,
   "id": "e762194e-be7b-47a0-9b62-322d36f25c71",
   "metadata": {},
   "outputs": [
    {
     "data": {
      "text/plain": [
       "[1, 2, 'inserted', 3, 4, 5, 6, 1, 2, 2, 2, 2]"
      ]
     },
     "execution_count": 229,
     "metadata": {},
     "output_type": "execute_result"
    }
   ],
   "source": [
    "l"
   ]
  },
  {
   "cell_type": "code",
   "execution_count": 234,
   "id": "81eeea52-f341-4c0d-ba81-b18fdf80d608",
   "metadata": {},
   "outputs": [],
   "source": [
    "ele=l.pop(0)"
   ]
  },
  {
   "cell_type": "code",
   "execution_count": 235,
   "id": "90c630ed-cad2-4ebe-9a7e-747b6596a801",
   "metadata": {},
   "outputs": [
    {
     "data": {
      "text/plain": [
       "1"
      ]
     },
     "execution_count": 235,
     "metadata": {},
     "output_type": "execute_result"
    }
   ],
   "source": [
    "ele"
   ]
  },
  {
   "cell_type": "code",
   "execution_count": 236,
   "id": "36129926-3fba-40d0-932a-5ccf079ca42c",
   "metadata": {},
   "outputs": [
    {
     "data": {
      "text/plain": [
       "[2, 'inserted', 'inserted', 3, 4, 5, 6, 1, 2, 2, 2]"
      ]
     },
     "execution_count": 236,
     "metadata": {},
     "output_type": "execute_result"
    }
   ],
   "source": [
    "l"
   ]
  },
  {
   "cell_type": "code",
   "execution_count": 239,
   "id": "6428de8f-5f95-4949-b28d-451d1764d17a",
   "metadata": {},
   "outputs": [],
   "source": [
    "l.remove(\"inserted\")"
   ]
  },
  {
   "cell_type": "code",
   "execution_count": 240,
   "id": "72e74cab-6a56-4e0c-b18f-775006761643",
   "metadata": {},
   "outputs": [
    {
     "data": {
      "text/plain": [
       "[2, 3, 4, 5, 6, 1, 2, 2, 2]"
      ]
     },
     "execution_count": 240,
     "metadata": {},
     "output_type": "execute_result"
    }
   ],
   "source": [
    "l"
   ]
  },
  {
   "cell_type": "code",
   "execution_count": 244,
   "id": "036f8436-5699-4fc1-86a9-e4c1168317a8",
   "metadata": {},
   "outputs": [],
   "source": [
    "l.remove(2)"
   ]
  },
  {
   "cell_type": "code",
   "execution_count": 245,
   "id": "0d3740a7-7113-49e4-8b3f-6a562347a816",
   "metadata": {},
   "outputs": [
    {
     "data": {
      "text/plain": [
       "[3, 4, 5, 6, 1, 2, 2]"
      ]
     },
     "execution_count": 245,
     "metadata": {},
     "output_type": "execute_result"
    }
   ],
   "source": [
    "l"
   ]
  },
  {
   "cell_type": "code",
   "execution_count": 246,
   "id": "e82a5e82-ba1b-4d3c-b091-3e5a13a9d9d7",
   "metadata": {},
   "outputs": [],
   "source": [
    "l.sort()"
   ]
  },
  {
   "cell_type": "code",
   "execution_count": 247,
   "id": "f2d99dca-e82a-4ada-b80e-778c2117a649",
   "metadata": {},
   "outputs": [
    {
     "data": {
      "text/plain": [
       "[1, 2, 2, 3, 4, 5, 6]"
      ]
     },
     "execution_count": 247,
     "metadata": {},
     "output_type": "execute_result"
    }
   ],
   "source": [
    "l"
   ]
  },
  {
   "cell_type": "code",
   "execution_count": null,
   "id": "56880e36-cfb5-4fac-90c5-953553bd4c79",
   "metadata": {},
   "outputs": [],
   "source": []
  },
  {
   "cell_type": "code",
   "execution_count": null,
   "id": "e33bcd95-2596-45bc-bd28-4b109407e9cf",
   "metadata": {},
   "outputs": [],
   "source": []
  },
  {
   "cell_type": "code",
   "execution_count": 250,
   "id": "902b793c-1bfb-4bd4-a547-9e2ff87975cd",
   "metadata": {},
   "outputs": [
    {
     "data": {
      "text/plain": [
       "'0b10000000000'"
      ]
     },
     "execution_count": 250,
     "metadata": {},
     "output_type": "execute_result"
    }
   ],
   "source": [
    "bin(1024)"
   ]
  },
  {
   "cell_type": "code",
   "execution_count": 251,
   "id": "0463c15f-bb08-4cd2-b8d4-68dc90bae1e3",
   "metadata": {},
   "outputs": [
    {
     "data": {
      "text/plain": [
       "'0x400'"
      ]
     },
     "execution_count": 251,
     "metadata": {},
     "output_type": "execute_result"
    }
   ],
   "source": [
    "hex(1024)"
   ]
  },
  {
   "cell_type": "code",
   "execution_count": 252,
   "id": "4dbda1f8-c256-494d-96ba-a0b160dc3a4d",
   "metadata": {},
   "outputs": [
    {
     "data": {
      "text/plain": [
       "5.23"
      ]
     },
     "execution_count": 252,
     "metadata": {},
     "output_type": "execute_result"
    }
   ],
   "source": [
    "round(5.23222,2)"
   ]
  },
  {
   "cell_type": "code",
   "execution_count": null,
   "id": "bcd3cf50-2048-4a60-952d-469c39228577",
   "metadata": {},
   "outputs": [],
   "source": []
  },
  {
   "cell_type": "code",
   "execution_count": 253,
   "id": "1a805747-c1e3-4535-a7ad-b940501667ed",
   "metadata": {},
   "outputs": [],
   "source": [
    "s=\"hello how are you Mary, are you feeling okay?\""
   ]
  },
  {
   "cell_type": "code",
   "execution_count": 262,
   "id": "b76a9f23-71b9-4728-be7a-d23ba16be7c6",
   "metadata": {},
   "outputs": [
    {
     "data": {
      "text/plain": [
       "False"
      ]
     },
     "execution_count": 262,
     "metadata": {},
     "output_type": "execute_result"
    }
   ],
   "source": [
    "s.islower()"
   ]
  },
  {
   "cell_type": "code",
   "execution_count": 263,
   "id": "74b1e845-db58-4162-ba76-d700937bbd70",
   "metadata": {},
   "outputs": [],
   "source": [
    "s = 'twywywtwywbwhsjhwuwshshwuwwwjdjdid'\n"
   ]
  },
  {
   "cell_type": "code",
   "execution_count": 264,
   "id": "7407f91f-87af-4beb-9821-8d3a35210ad1",
   "metadata": {},
   "outputs": [
    {
     "data": {
      "text/plain": [
       "12"
      ]
     },
     "execution_count": 264,
     "metadata": {},
     "output_type": "execute_result"
    }
   ],
   "source": [
    "s.count(\"w\")"
   ]
  },
  {
   "cell_type": "code",
   "execution_count": 272,
   "id": "d4507e47-a43f-4813-84d2-1568aff67750",
   "metadata": {},
   "outputs": [],
   "source": [
    "set1 = {2,3,1,5,6,8}\n",
    "set2 = {3,1,7,5,6,8}\n"
   ]
  },
  {
   "cell_type": "code",
   "execution_count": 273,
   "id": "45a96b8f-c658-41ff-80d0-566f5e19b297",
   "metadata": {},
   "outputs": [
    {
     "data": {
      "text/plain": [
       "{2}"
      ]
     },
     "execution_count": 273,
     "metadata": {},
     "output_type": "execute_result"
    }
   ],
   "source": [
    "set1.difference(set2)"
   ]
  },
  {
   "cell_type": "code",
   "execution_count": 274,
   "id": "74ff8431-bbdf-4a15-9f9e-1ab04b349912",
   "metadata": {},
   "outputs": [
    {
     "data": {
      "text/plain": [
       "{1, 3, 5, 6, 8}"
      ]
     },
     "execution_count": 274,
     "metadata": {},
     "output_type": "execute_result"
    }
   ],
   "source": [
    "set1.intersection(set2)"
   ]
  },
  {
   "cell_type": "code",
   "execution_count": null,
   "id": "91f9f748-301b-49c2-89e4-e5ecc831bca1",
   "metadata": {},
   "outputs": [],
   "source": []
  },
  {
   "cell_type": "code",
   "execution_count": null,
   "id": "b2e4cce4-46b8-409c-9667-a4a4f21ce250",
   "metadata": {},
   "outputs": [],
   "source": []
  },
  {
   "cell_type": "code",
   "execution_count": 276,
   "id": "3df09101-2d5a-4e50-a62b-a08a003f130f",
   "metadata": {},
   "outputs": [
    {
     "data": {
      "text/plain": [
       "{0: 0, 1: 1, 2: 8, 3: 27, 4: 64}"
      ]
     },
     "execution_count": 276,
     "metadata": {},
     "output_type": "execute_result"
    }
   ],
   "source": [
    "{x:x**3 for x in range(5)}"
   ]
  },
  {
   "cell_type": "code",
   "execution_count": 277,
   "id": "12a0321a-6feb-4138-b09d-7ff58261df1c",
   "metadata": {},
   "outputs": [],
   "source": [
    "list1 = [1,2,3,4]\n"
   ]
  },
  {
   "cell_type": "code",
   "execution_count": 278,
   "id": "fa9a200e-8d52-4de6-bbc4-84282720fb2f",
   "metadata": {},
   "outputs": [],
   "source": [
    "list1.reverse()"
   ]
  },
  {
   "cell_type": "code",
   "execution_count": 279,
   "id": "aa67e3e4-749d-456f-964f-235999830c92",
   "metadata": {},
   "outputs": [
    {
     "data": {
      "text/plain": [
       "[4, 3, 2, 1]"
      ]
     },
     "execution_count": 279,
     "metadata": {},
     "output_type": "execute_result"
    }
   ],
   "source": [
    "list1"
   ]
  },
  {
   "cell_type": "code",
   "execution_count": 280,
   "id": "d9da62c5-c298-4d9c-ab7c-656466ebfd97",
   "metadata": {},
   "outputs": [],
   "source": [
    "list2 = [3,4,2,5,1]\n"
   ]
  },
  {
   "cell_type": "code",
   "execution_count": 281,
   "id": "a734f9c5-9012-491d-b8cd-e7f7172d2e35",
   "metadata": {},
   "outputs": [],
   "source": [
    "list2.sort()"
   ]
  },
  {
   "cell_type": "code",
   "execution_count": 282,
   "id": "83bb437c-dfa6-48c1-8469-5d26000eef75",
   "metadata": {},
   "outputs": [
    {
     "data": {
      "text/plain": [
       "[1, 2, 3, 4, 5]"
      ]
     },
     "execution_count": 282,
     "metadata": {},
     "output_type": "execute_result"
    }
   ],
   "source": [
    "list2"
   ]
  },
  {
   "cell_type": "code",
   "execution_count": 1,
   "id": "4ed57da6-abaf-4cc4-b483-01958ff07f5c",
   "metadata": {},
   "outputs": [],
   "source": [
    "from ipywidgets import interact, interactive,fixed\n",
    "import ipywidgets as widgets"
   ]
  },
  {
   "cell_type": "code",
   "execution_count": null,
   "id": "390a2850-d8c0-4210-af43-6b25eff9f0bd",
   "metadata": {},
   "outputs": [],
   "source": []
  },
  {
   "cell_type": "code",
   "execution_count": 2,
   "id": "ae99faaa-a388-4ed0-a217-93103a19b146",
   "metadata": {},
   "outputs": [],
   "source": [
    "def func(x):\n",
    "    return x"
   ]
  },
  {
   "cell_type": "code",
   "execution_count": 10,
   "id": "75e5167f-110e-4c51-b031-ff07f09028a8",
   "metadata": {},
   "outputs": [
    {
     "data": {
      "application/vnd.jupyter.widget-view+json": {
       "model_id": "e05ec23a07d0471585b7fdce4cf1dea0",
       "version_major": 2,
       "version_minor": 0
      },
      "text/plain": [
       "interactive(children=(Dropdown(description='x', options=('Hello', 'option2', 'option3'), value='Hello'), Outpu…"
      ]
     },
     "metadata": {},
     "output_type": "display_data"
    },
    {
     "data": {
      "text/plain": [
       "<function __main__.func(x)>"
      ]
     },
     "execution_count": 10,
     "metadata": {},
     "output_type": "execute_result"
    }
   ],
   "source": [
    "interact(func,x=[\"Hello\", \"option2\", \"option3\"])"
   ]
  },
  {
   "cell_type": "code",
   "execution_count": 4,
   "id": "d652f712-eb06-426d-8a60-9d76f26737c3",
   "metadata": {},
   "outputs": [
    {
     "data": {
      "application/vnd.jupyter.widget-view+json": {
       "model_id": "376e5d802a3a49abae0f60e845cd586c",
       "version_major": 2,
       "version_minor": 0
      },
      "text/plain": [
       "interactive(children=(Checkbox(value=True, description='x'), FloatSlider(value=1.0, description='y', max=3.0, …"
      ]
     },
     "metadata": {},
     "output_type": "display_data"
    }
   ],
   "source": [
    "@interact(x=True,y=1.0)\n",
    "def g(x,y):\n",
    "    return (x,y)"
   ]
  },
  {
   "cell_type": "code",
   "execution_count": null,
   "id": "01ba2e12-6c85-4e7f-9640-fd537c91cd32",
   "metadata": {},
   "outputs": [],
   "source": []
  },
  {
   "cell_type": "code",
   "execution_count": 5,
   "id": "e0edd33f-2ff1-4b00-afb0-718c9ef17181",
   "metadata": {},
   "outputs": [
    {
     "data": {
      "application/vnd.jupyter.widget-view+json": {
       "model_id": "03ee20f987a544c48b6944a9f8f3fd1b",
       "version_major": 2,
       "version_minor": 0
      },
      "text/plain": [
       "interactive(children=(IntSlider(value=0, description='x', min=-100), Output()), _dom_classes=('widget-interact…"
      ]
     },
     "metadata": {},
     "output_type": "display_data"
    },
    {
     "data": {
      "text/plain": [
       "<function __main__.func(x)>"
      ]
     },
     "execution_count": 5,
     "metadata": {},
     "output_type": "execute_result"
    }
   ],
   "source": [
    "interact(func,x=widgets.IntSlider(min=-100,max=100,step=1,value=0))"
   ]
  },
  {
   "cell_type": "code",
   "execution_count": 6,
   "id": "a98b0dc3-7e68-4ff7-80f7-c59855e84238",
   "metadata": {},
   "outputs": [
    {
     "data": {
      "application/vnd.jupyter.widget-view+json": {
       "model_id": "00a39d84b91f45f98e46c9e08da1b190",
       "version_major": 2,
       "version_minor": 0
      },
      "text/plain": [
       "interactive(children=(FloatSlider(value=0.0, description='x', min=-100.0), Output()), _dom_classes=('widget-in…"
      ]
     },
     "metadata": {},
     "output_type": "display_data"
    },
    {
     "data": {
      "text/plain": [
       "<function __main__.func(x)>"
      ]
     },
     "execution_count": 6,
     "metadata": {},
     "output_type": "execute_result"
    }
   ],
   "source": [
    "interact(func,x=(-100.0,100.0,0.1))"
   ]
  },
  {
   "cell_type": "code",
   "execution_count": 7,
   "id": "f1eca1e8-6ac4-4280-8f43-9e2cdf53a6b5",
   "metadata": {},
   "outputs": [
    {
     "data": {
      "application/vnd.jupyter.widget-view+json": {
       "model_id": "4fa1da35680441889f38574447893ddb",
       "version_major": 2,
       "version_minor": 0
      },
      "text/plain": [
       "interactive(children=(FloatSlider(value=5.0, description='x', max=20.0, step=0.5), Output()), _dom_classes=('w…"
      ]
     },
     "metadata": {},
     "output_type": "display_data"
    }
   ],
   "source": [
    "@interact(x=(0.0,20.0,0.5))\n",
    "def h(x=5.0):\n",
    "    return x"
   ]
  },
  {
   "cell_type": "code",
   "execution_count": 11,
   "id": "c685b8da-5190-4dce-9fea-14ef2151b58b",
   "metadata": {},
   "outputs": [],
   "source": [
    "from IPython.display import display"
   ]
  },
  {
   "cell_type": "code",
   "execution_count": 12,
   "id": "121ca462-25cb-4559-948c-d5aa672e2838",
   "metadata": {},
   "outputs": [],
   "source": [
    "def f(a,b):\n",
    "    display(a+b)\n",
    "    return a+b"
   ]
  },
  {
   "cell_type": "code",
   "execution_count": 13,
   "id": "409a7b78-3eab-4481-91ba-5fefc0cbdc41",
   "metadata": {},
   "outputs": [],
   "source": [
    "w=interactive(f,a=10,b=20)"
   ]
  },
  {
   "cell_type": "code",
   "execution_count": 14,
   "id": "47a51824-e4fd-4bac-9aa4-09b327f326a6",
   "metadata": {},
   "outputs": [
    {
     "data": {
      "text/plain": [
       "ipywidgets.widgets.interaction.interactive"
      ]
     },
     "execution_count": 14,
     "metadata": {},
     "output_type": "execute_result"
    }
   ],
   "source": [
    "type(w)"
   ]
  },
  {
   "cell_type": "code",
   "execution_count": 15,
   "id": "a80105a3-f07b-4731-80c9-a665b054898c",
   "metadata": {},
   "outputs": [
    {
     "data": {
      "text/plain": [
       "(IntSlider(value=10, description='a', max=30, min=-10),\n",
       " IntSlider(value=20, description='b', max=60, min=-20),\n",
       " Output(outputs=({'output_type': 'display_data', 'data': {'text/plain': '30'}, 'metadata': {}},)))"
      ]
     },
     "execution_count": 15,
     "metadata": {},
     "output_type": "execute_result"
    }
   ],
   "source": [
    "w.children"
   ]
  },
  {
   "cell_type": "code",
   "execution_count": 17,
   "id": "d1f31101-e892-4256-bbf0-31037a169010",
   "metadata": {},
   "outputs": [
    {
     "data": {
      "application/vnd.jupyter.widget-view+json": {
       "model_id": "cf183b39a3834ccfb5e29d961d4e698d",
       "version_major": 2,
       "version_minor": 0
      },
      "text/plain": [
       "interactive(children=(IntSlider(value=10, description='a', max=30, min=-10), IntSlider(value=20, description='…"
      ]
     },
     "metadata": {},
     "output_type": "display_data"
    }
   ],
   "source": [
    "display(w)"
   ]
  },
  {
   "cell_type": "code",
   "execution_count": 18,
   "id": "28d1922b-bb8f-426f-8d67-e6c30d0c9354",
   "metadata": {},
   "outputs": [],
   "source": [
    "import ipywidgets as widgets"
   ]
  },
  {
   "cell_type": "code",
   "execution_count": 21,
   "id": "731b495e-1ad4-40db-9777-cbe2fd4b04c8",
   "metadata": {},
   "outputs": [],
   "source": [
    "w=widgets.IntSlider()"
   ]
  },
  {
   "cell_type": "markdown",
   "id": "980aa601-2ee8-4537-950b-7dfb3eb16ffa",
   "metadata": {},
   "source": []
  },
  {
   "cell_type": "code",
   "execution_count": 22,
   "id": "40b9c468-c289-4f12-9468-6c9673b386ec",
   "metadata": {},
   "outputs": [],
   "source": [
    "from IPython.display import display"
   ]
  },
  {
   "cell_type": "code",
   "execution_count": 23,
   "id": "cd1ccd20-5d41-4e52-af68-c25f0d8117a1",
   "metadata": {},
   "outputs": [
    {
     "data": {
      "application/vnd.jupyter.widget-view+json": {
       "model_id": "5dd645129140468b97ec4036226217c3",
       "version_major": 2,
       "version_minor": 0
      },
      "text/plain": [
       "IntSlider(value=0)"
      ]
     },
     "metadata": {},
     "output_type": "display_data"
    }
   ],
   "source": [
    "display(w)"
   ]
  },
  {
   "cell_type": "code",
   "execution_count": 24,
   "id": "1cf4980c-f93e-4e44-b382-d771c7b1dd61",
   "metadata": {},
   "outputs": [
    {
     "data": {
      "application/vnd.jupyter.widget-view+json": {
       "model_id": "5dd645129140468b97ec4036226217c3",
       "version_major": 2,
       "version_minor": 0
      },
      "text/plain": [
       "IntSlider(value=0)"
      ]
     },
     "metadata": {},
     "output_type": "display_data"
    }
   ],
   "source": [
    "display(w)"
   ]
  },
  {
   "cell_type": "code",
   "execution_count": 26,
   "id": "40eb3235-d04f-4833-9fba-1fea1bc02e60",
   "metadata": {},
   "outputs": [
    {
     "data": {
      "application/vnd.jupyter.widget-view+json": {
       "model_id": "574bdf0441514196b4294d6905e7302b",
       "version_major": 2,
       "version_minor": 0
      },
      "text/plain": [
       "IntSlider(value=0)"
      ]
     },
     "metadata": {},
     "output_type": "display_data"
    }
   ],
   "source": [
    "w = widgets.IntSlider()\n",
    "display(w)"
   ]
  },
  {
   "cell_type": "code",
   "execution_count": 31,
   "id": "e038dbb9-1479-4459-bc1a-2cf315b56395",
   "metadata": {},
   "outputs": [],
   "source": [
    "w.value = 50"
   ]
  },
  {
   "cell_type": "code",
   "execution_count": 32,
   "id": "e891152b-a5df-41da-b3ad-83c8e087450a",
   "metadata": {},
   "outputs": [
    {
     "data": {
      "text/plain": [
       "['_dom_classes',\n",
       " '_model_module',\n",
       " '_model_module_version',\n",
       " '_model_name',\n",
       " '_view_count',\n",
       " '_view_module',\n",
       " '_view_module_version',\n",
       " '_view_name',\n",
       " 'behavior',\n",
       " 'continuous_update',\n",
       " 'description',\n",
       " 'description_allow_html',\n",
       " 'disabled',\n",
       " 'layout',\n",
       " 'max',\n",
       " 'min',\n",
       " 'orientation',\n",
       " 'readout',\n",
       " 'readout_format',\n",
       " 'step',\n",
       " 'style',\n",
       " 'tabbable',\n",
       " 'tooltip',\n",
       " 'value']"
      ]
     },
     "execution_count": 32,
     "metadata": {},
     "output_type": "execute_result"
    }
   ],
   "source": [
    "w.keys"
   ]
  },
  {
   "cell_type": "code",
   "execution_count": 35,
   "id": "3518d261-d44d-4e25-848e-8aa0845b3d58",
   "metadata": {},
   "outputs": [],
   "source": [
    "w.min=-2000"
   ]
  },
  {
   "cell_type": "code",
   "execution_count": 49,
   "id": "f763ff4e-24e1-4aea-98be-61d3501e1cf8",
   "metadata": {},
   "outputs": [
    {
     "data": {
      "application/vnd.jupyter.widget-view+json": {
       "model_id": "d0502d9de73c48079cee1ef9c2597e85",
       "version_major": 2,
       "version_minor": 0
      },
      "text/plain": [
       "FloatText(value=0.0)"
      ]
     },
     "metadata": {},
     "output_type": "display_data"
    },
    {
     "data": {
      "application/vnd.jupyter.widget-view+json": {
       "model_id": "636c0b745ae9457b91d9240306d273b2",
       "version_major": 2,
       "version_minor": 0
      },
      "text/plain": [
       "FloatSlider(value=0.0)"
      ]
     },
     "metadata": {},
     "output_type": "display_data"
    }
   ],
   "source": [
    "a=widgets.FloatText()\n",
    "b=widgets.FloatSlider()\n",
    "display(a,b)\n",
    "mylink=widgets.jslink((a,'value'),(b,'step'))"
   ]
  },
  {
   "cell_type": "code",
   "execution_count": 41,
   "id": "e243085d-8839-4520-b3c2-8e57a269d96a",
   "metadata": {},
   "outputs": [
    {
     "data": {
      "application/vnd.jupyter.widget-view+json": {
       "model_id": "8e97f6d9ed824771bb8fb7514f009696",
       "version_major": 2,
       "version_minor": 0
      },
      "text/plain": [
       "FloatText(value=0.0)"
      ]
     },
     "metadata": {},
     "output_type": "display_data"
    }
   ],
   "source": [
    "display(a)"
   ]
  },
  {
   "cell_type": "code",
   "execution_count": null,
   "id": "263f3932-a5be-47f5-860c-aaa136869f9e",
   "metadata": {},
   "outputs": [],
   "source": []
  },
  {
   "cell_type": "code",
   "execution_count": null,
   "id": "93059b25-c0fe-4388-be03-37caf49c70bb",
   "metadata": {},
   "outputs": [],
   "source": []
  },
  {
   "cell_type": "code",
   "execution_count": 50,
   "id": "1456ba36-bf57-42bc-873c-e0c458d1bb22",
   "metadata": {},
   "outputs": [
    {
     "data": {
      "application/vnd.jupyter.widget-view+json": {
       "model_id": "fa161701c6c94af2a03ce02b802cf5eb",
       "version_major": 2,
       "version_minor": 0
      },
      "text/plain": [
       "IntSlider(value=0)"
      ]
     },
     "metadata": {},
     "output_type": "display_data"
    }
   ],
   "source": [
    "w=widgets.IntSlider()\n",
    "display(w)"
   ]
  },
  {
   "cell_type": "code",
   "execution_count": 53,
   "id": "56fa66a6-14aa-43c9-b216-2c738e137dca",
   "metadata": {},
   "outputs": [],
   "source": [
    "w.layout.margin=\"auto\"\n",
    "w.layout.height=\"1000px\""
   ]
  },
  {
   "cell_type": "code",
   "execution_count": 55,
   "id": "2d5f65ea-5e00-403d-b042-56689c1eef5a",
   "metadata": {},
   "outputs": [
    {
     "data": {
      "application/vnd.jupyter.widget-view+json": {
       "model_id": "b090fd2a292748c884ef7d2e79268eec",
       "version_major": 2,
       "version_minor": 0
      },
      "text/plain": [
       "IntSlider(value=15, description='New Slider')"
      ]
     },
     "metadata": {},
     "output_type": "display_data"
    }
   ],
   "source": [
    "x=widgets.IntSlider(value=15,description=\"New Slider\")\n",
    "display(x)"
   ]
  },
  {
   "cell_type": "code",
   "execution_count": 56,
   "id": "27d70705-fe85-47e8-ae54-3febbd620761",
   "metadata": {},
   "outputs": [],
   "source": [
    "x.layout=w.layout"
   ]
  },
  {
   "cell_type": "code",
   "execution_count": 61,
   "id": "43c23d58-772a-4deb-ab22-8b975efbfa1a",
   "metadata": {},
   "outputs": [
    {
     "data": {
      "application/vnd.jupyter.widget-view+json": {
       "model_id": "82b5d4ee53964c709aadda70eb465d34",
       "version_major": 2,
       "version_minor": 0
      },
      "text/plain": [
       "Button(button_style='info', description='Bon travail', style=ButtonStyle())"
      ]
     },
     "execution_count": 61,
     "metadata": {},
     "output_type": "execute_result"
    }
   ],
   "source": [
    "widgets.Button(description='Bon travail',button_style=\"info\")"
   ]
  },
  {
   "cell_type": "code",
   "execution_count": null,
   "id": "16f1b32b-b3f3-4bc3-9a7f-c1fef752ccd0",
   "metadata": {},
   "outputs": [],
   "source": []
  },
  {
   "cell_type": "code",
   "execution_count": null,
   "id": "fefdb774-6bb0-49f4-9be4-e0f529f0e71e",
   "metadata": {},
   "outputs": [],
   "source": []
  },
  {
   "cell_type": "code",
   "execution_count": null,
   "id": "82a09a92-5323-4a57-9677-a749d3a4af1e",
   "metadata": {},
   "outputs": [],
   "source": []
  },
  {
   "cell_type": "code",
   "execution_count": null,
   "id": "016bba22-6771-4baf-9cc3-60c3f5ddc5ba",
   "metadata": {},
   "outputs": [],
   "source": []
  },
  {
   "cell_type": "code",
   "execution_count": 89,
   "id": "0bac0cbf-3b9a-4681-b73f-d8e655813d0d",
   "metadata": {},
   "outputs": [],
   "source": [
    "b1= widgets.Button(description=\"Assez bien\")\n",
    "b1.style.button_color = \"yellow\"\n",
    "b1.style.font_weight= \"11px\""
   ]
  },
  {
   "cell_type": "code",
   "execution_count": 96,
   "id": "e306de98-8f7b-4be3-968b-54ce8c0df4f3",
   "metadata": {},
   "outputs": [
    {
     "data": {
      "application/vnd.jupyter.widget-view+json": {
       "model_id": "962525cc034d4a3985920b5c0cc971a1",
       "version_major": 2,
       "version_minor": 0
      },
      "text/plain": [
       "Button(button_style='info', description='END OF THE BOOTCAMP', style=ButtonStyle())"
      ]
     },
     "execution_count": 96,
     "metadata": {},
     "output_type": "execute_result"
    }
   ],
   "source": [
    "b1"
   ]
  },
  {
   "cell_type": "code",
   "execution_count": 66,
   "id": "ec7013ac-b9c9-460d-9d7e-e4eeb9342290",
   "metadata": {},
   "outputs": [
    {
     "data": {
      "text/plain": [
       "['_model_module',\n",
       " '_model_module_version',\n",
       " '_model_name',\n",
       " '_view_count',\n",
       " '_view_module',\n",
       " '_view_module_version',\n",
       " '_view_name',\n",
       " 'button_color',\n",
       " 'font_family',\n",
       " 'font_size',\n",
       " 'font_style',\n",
       " 'font_variant',\n",
       " 'font_weight',\n",
       " 'text_color',\n",
       " 'text_decoration']"
      ]
     },
     "execution_count": 66,
     "metadata": {},
     "output_type": "execute_result"
    }
   ],
   "source": [
    "b1.style.keys"
   ]
  },
  {
   "cell_type": "code",
   "execution_count": null,
   "id": "4f6f9be8-be66-4f36-b804-da64f456fff8",
   "metadata": {},
   "outputs": [],
   "source": []
  },
  {
   "cell_type": "code",
   "execution_count": null,
   "id": "9b1ef79a-c79b-4ea5-9019-1938ce6df966",
   "metadata": {},
   "outputs": [],
   "source": []
  },
  {
   "cell_type": "code",
   "execution_count": null,
   "id": "f43ad4ef-b769-4628-9f38-8734d0ed71d7",
   "metadata": {},
   "outputs": [],
   "source": []
  },
  {
   "cell_type": "code",
   "execution_count": null,
   "id": "fdc08770-44c6-412f-b330-58fa88bfb9e2",
   "metadata": {},
   "outputs": [],
   "source": []
  },
  {
   "cell_type": "code",
   "execution_count": 104,
   "id": "2fb30002-a32e-4246-b62a-18f4967bb296",
   "metadata": {},
   "outputs": [],
   "source": [
    "b1=widgets.Button(description='end of the bootcamp',button_style=\"info\")"
   ]
  },
  {
   "cell_type": "code",
   "execution_count": 105,
   "id": "5b911b71-32e2-4f38-b955-8f885b55f27b",
   "metadata": {},
   "outputs": [
    {
     "data": {
      "application/vnd.jupyter.widget-view+json": {
       "model_id": "0398fb92b6d14bfc8bc93435e63bc018",
       "version_major": 2,
       "version_minor": 0
      },
      "text/plain": [
       "Button(button_style='info', description='end of the bootcamp', style=ButtonStyle())"
      ]
     },
     "execution_count": 105,
     "metadata": {},
     "output_type": "execute_result"
    }
   ],
   "source": [
    "b1"
   ]
  },
  {
   "cell_type": "code",
   "execution_count": null,
   "id": "64df1d3c-5f83-492c-8dff-d73d30313dd8",
   "metadata": {},
   "outputs": [],
   "source": []
  },
  {
   "cell_type": "code",
   "execution_count": null,
   "id": "5a9a2eed-4f1f-4e2e-81f5-7eecab4eb0ca",
   "metadata": {},
   "outputs": [],
   "source": []
  },
  {
   "cell_type": "code",
   "execution_count": null,
   "id": "ce4cce22-128d-4893-802e-d64ba52d4b0e",
   "metadata": {},
   "outputs": [],
   "source": []
  },
  {
   "cell_type": "code",
   "execution_count": null,
   "id": "ac3272ad-1496-4ad3-8896-ad09f9e4eca0",
   "metadata": {},
   "outputs": [],
   "source": []
  },
  {
   "cell_type": "code",
   "execution_count": null,
   "id": "0fb95836-8d28-4212-87e4-ae8c06b2eda8",
   "metadata": {},
   "outputs": [],
   "source": []
  },
  {
   "cell_type": "code",
   "execution_count": null,
   "id": "b4285783-4628-432a-87f0-c970276fea06",
   "metadata": {},
   "outputs": [],
   "source": []
  },
  {
   "cell_type": "code",
   "execution_count": 107,
   "id": "bf3c355f-2be3-4b75-b023-8b34269c5420",
   "metadata": {},
   "outputs": [
    {
     "data": {
      "text/plain": [
       "\"Now let's do 70 exercices on https://www.youtube.com/watch?app=desktop&v=lvO88XxNAzs&ab_channel=stoneycodes\""
      ]
     },
     "execution_count": 107,
     "metadata": {},
     "output_type": "execute_result"
    }
   ],
   "source": [
    "\"Now let's do 70 exercices on https://www.youtube.com/watch?app=desktop&v=lvO88XxNAzs&ab_channel=stoneycodes\""
   ]
  },
  {
   "cell_type": "code",
   "execution_count": null,
   "id": "f0d51b95-3666-4a32-a3ef-52395685c47f",
   "metadata": {},
   "outputs": [],
   "source": []
  },
  {
   "cell_type": "code",
   "execution_count": null,
   "id": "76f772ce-fb6a-432d-ac6d-c7e2be6e7df2",
   "metadata": {},
   "outputs": [],
   "source": []
  },
  {
   "cell_type": "code",
   "execution_count": null,
   "id": "77ffaf1c-ceee-4c77-ab26-5f7bdb736a2b",
   "metadata": {},
   "outputs": [],
   "source": []
  },
  {
   "cell_type": "code",
   "execution_count": null,
   "id": "c8dc975d-2b8c-493d-a884-61a5bd7656ee",
   "metadata": {},
   "outputs": [],
   "source": []
  },
  {
   "cell_type": "code",
   "execution_count": null,
   "id": "2f857d23-39c0-43b0-b96a-24a1672c3b55",
   "metadata": {},
   "outputs": [],
   "source": []
  },
  {
   "cell_type": "code",
   "execution_count": null,
   "id": "fb0e87d5-f2ec-4acd-9f7c-719f9c9df9d8",
   "metadata": {},
   "outputs": [],
   "source": []
  },
  {
   "cell_type": "code",
   "execution_count": null,
   "id": "62459308-f5d2-442d-af90-68a584b036fd",
   "metadata": {},
   "outputs": [],
   "source": []
  },
  {
   "cell_type": "code",
   "execution_count": 290,
   "id": "64fae329-a75e-49eb-9b6f-3aba8a0d8f8d",
   "metadata": {},
   "outputs": [],
   "source": [
    "def check_value_twice (nums):\n",
    "    i=0\n",
    "    j=0\n",
    "    for i in range(len(nums)):\n",
    "        for j in range(len(nums)-1-i):\n",
    "            if nums[i]==nums[j+i+1]:\n",
    "                return True\n",
    "            \n",
    "                    \n",
    "    return False\n",
    "            "
   ]
  },
  {
   "cell_type": "code",
   "execution_count": 292,
   "id": "0fb2e6aa-24d1-46f5-b7f9-265081e0d7ae",
   "metadata": {},
   "outputs": [
    {
     "data": {
      "text/plain": [
       "True"
      ]
     },
     "execution_count": 292,
     "metadata": {},
     "output_type": "execute_result"
    }
   ],
   "source": [
    "check_value_twice([1,4,3,5,1,6,7])"
   ]
  },
  {
   "cell_type": "code",
   "execution_count": 293,
   "id": "fa0f028e-3ddb-4c48-9b6a-40c066cf55c6",
   "metadata": {},
   "outputs": [],
   "source": [
    "def has_duplicates(nums):\n",
    "    return len(nums) != len(set(nums))"
   ]
  },
  {
   "cell_type": "code",
   "execution_count": 294,
   "id": "9ed6a8f7-f47f-4e94-92ca-b1f3f2874991",
   "metadata": {},
   "outputs": [
    {
     "data": {
      "text/plain": [
       "True"
      ]
     },
     "execution_count": 294,
     "metadata": {},
     "output_type": "execute_result"
    }
   ],
   "source": [
    "has_duplicates([1,2,5,4,2,3])"
   ]
  },
  {
   "cell_type": "code",
   "execution_count": 296,
   "id": "b7abb796-f628-4470-bf52-cb4ed7fd85aa",
   "metadata": {},
   "outputs": [
    {
     "data": {
      "text/plain": [
       "5"
      ]
     },
     "execution_count": 296,
     "metadata": {},
     "output_type": "execute_result"
    }
   ],
   "source": [
    "nums=[1,2,5,4,2,3]\n",
    "len(set(nums))"
   ]
  },
  {
   "cell_type": "code",
   "execution_count": null,
   "id": "f517140b-e8c1-4497-8800-8df85e6d0de6",
   "metadata": {},
   "outputs": [],
   "source": []
  },
  {
   "cell_type": "code",
   "execution_count": 516,
   "id": "af835c0c-575a-48a0-8358-82800c1acbce",
   "metadata": {},
   "outputs": [],
   "source": [
    "def missing_one_number(n):\n",
    "\n",
    "    tableau=[]\n",
    "\n",
    "    for j in range(len(n)+1):\n",
    "        tableau.append(j)\n",
    "\n",
    "    n.sort()\n",
    "    print(n)\n",
    "    print(tableau)\n",
    "    for i in range(len(tableau)-1):\n",
    "        if tableau[i]==n[i]:\n",
    "            continue\n",
    "        else:\n",
    "            print(tableau[i])\n",
    "            break\n",
    "\n",
    "    if tableau[i]==n[i]:\n",
    "        print(tableau[j])"
   ]
  },
  {
   "cell_type": "code",
   "execution_count": null,
   "id": "e948c83b-7835-4282-bd90-6d98639c1978",
   "metadata": {},
   "outputs": [],
   "source": []
  },
  {
   "cell_type": "code",
   "execution_count": 517,
   "id": "b03476de-3e6b-4a95-ae59-b79585d574bc",
   "metadata": {},
   "outputs": [
    {
     "name": "stdout",
     "output_type": "stream",
     "text": [
      "[0, 1]\n",
      "[0, 1, 2]\n",
      "2\n"
     ]
    }
   ],
   "source": [
    "missing_one_number([0,1])"
   ]
  },
  {
   "cell_type": "code",
   "execution_count": null,
   "id": "90deda7c-cdcd-4ca2-a56b-78b31d593d91",
   "metadata": {},
   "outputs": [],
   "source": []
  },
  {
   "cell_type": "code",
   "execution_count": null,
   "id": "0afb8ecd-764e-4052-a4df-d5519cf1ccca",
   "metadata": {},
   "outputs": [],
   "source": []
  },
  {
   "cell_type": "code",
   "execution_count": 4,
   "id": "d81c4cd8-25e2-42f3-b64f-93c6abf4c4b5",
   "metadata": {},
   "outputs": [],
   "source": [
    "def all_same_numbers(liste):\n",
    "    tableau=[]\n",
    "    stock=set()\n",
    "\n",
    "    for j in range(len(liste)):\n",
    "        tableau.append(j+1)\n",
    "\n",
    "    liste.sort()\n",
    "    print(liste)\n",
    "    print(tableau)\n",
    "    for i in range(len(liste)):\n",
    "        for g in range(len(liste)):\n",
    "            if tableau[i]!=liste[g]:\n",
    "                continue\n",
    "            elif tableau[i]==liste[g]:\n",
    "                stock.add(tableau[i])\n",
    "                break\n",
    "    print(stock)\n",
    "    "
   ]
  },
  {
   "cell_type": "code",
   "execution_count": 5,
   "id": "1c695d33-fc62-4b63-a69b-23cf97fe805d",
   "metadata": {},
   "outputs": [
    {
     "name": "stdout",
     "output_type": "stream",
     "text": [
      "[3, 4, 4, 5, 5, 8]\n",
      "[1, 2, 3, 4, 5, 6]\n",
      "{3, 4, 5}\n"
     ]
    }
   ],
   "source": [
    "all_same_numbers([5,4,3,4,8,5])"
   ]
  },
  {
   "cell_type": "code",
   "execution_count": 3,
   "id": "0256cd57-7a85-4534-844a-df6c3265944a",
   "metadata": {},
   "outputs": [],
   "source": [
    "def all_missing_numbers(liste):\n",
    "    tableau=[]\n",
    "    stock=set()\n",
    "    missing=[]\n",
    "\n",
    "    for j in range(len(liste)):\n",
    "        tableau.append(j+1)\n",
    "\n",
    "    liste.sort()\n",
    "    for i in range(len(liste)):\n",
    "        if tableau[i] not in liste:\n",
    "            stock=tableau[i]\n",
    "\n",
    "        elif tableau[i] in liste:\n",
    "            continue\n",
    "\n",
    "        missing.append(stock)\n",
    "        \n",
    "    print(f\"{missing} is/are missing\")   \n",
    "        \n",
    "    "
   ]
  },
  {
   "cell_type": "code",
   "execution_count": 787,
   "id": "51391985-370a-4e39-a723-ffe7c9006a3b",
   "metadata": {},
   "outputs": [
    {
     "name": "stdout",
     "output_type": "stream",
     "text": [
      "[2, 5, 6, 7, 8, 9] is/are missing\n"
     ]
    }
   ],
   "source": [
    "all_missing_numbers([1,1,4,3,3,3,3,3,3])"
   ]
  },
  {
   "cell_type": "code",
   "execution_count": null,
   "id": "54281e17-569c-49ec-aa9b-89d206f926ad",
   "metadata": {},
   "outputs": [],
   "source": []
  },
  {
   "cell_type": "code",
   "execution_count": 41,
   "id": "d2f87f95-9701-4242-b5cc-c04f296b5123",
   "metadata": {},
   "outputs": [],
   "source": [
    "def two_sums (array,target):\n",
    "    final=[]\n",
    "    for i in range(len(array)):\n",
    "        for j in range(len(array)-1-i):\n",
    "            total=array[i]+array[(j+i+1)]\n",
    "            if total==target:\n",
    "                final.append(i)\n",
    "                final.append(j+i+1)\n",
    "                return final\n",
    "            \n",
    "    \n",
    "    "
   ]
  },
  {
   "cell_type": "code",
   "execution_count": 50,
   "id": "3898db3c-7873-4412-91e4-e176719a785f",
   "metadata": {},
   "outputs": [
    {
     "data": {
      "text/plain": [
       "[0, 4]"
      ]
     },
     "execution_count": 50,
     "metadata": {},
     "output_type": "execute_result"
    }
   ],
   "source": [
    "two_sums([4,5,7,8,1,6],5)"
   ]
  },
  {
   "cell_type": "code",
   "execution_count": null,
   "id": "a04a007d-5657-4aac-bc22-b2e1617a2758",
   "metadata": {},
   "outputs": [],
   "source": []
  },
  {
   "cell_type": "code",
   "execution_count": 54,
   "id": "f4156e81-b174-450a-ac2b-68cf777c43c5",
   "metadata": {},
   "outputs": [],
   "source": [
    "def how_many_numbers_are_smaller(array):\n",
    "    k=0\n",
    "    minus=[]\n",
    "    for i in range(len(array)):\n",
    "        for j in range(len(array)):\n",
    "            if array[j]<array[i]:\n",
    "               k=k+1\n",
    "        minus.append(k)\n",
    "        k=0\n",
    "\n",
    "    print(minus)\n",
    "                "
   ]
  },
  {
   "cell_type": "code",
   "execution_count": 56,
   "id": "681d7a19-888b-44eb-acf6-665bc6bf1e98",
   "metadata": {},
   "outputs": [
    {
     "name": "stdout",
     "output_type": "stream",
     "text": [
      "[4, 6, 2, 7, 1, 5, 0, 8, 3]\n"
     ]
    }
   ],
   "source": [
    "how_many_numbers_are_smaller([4,8,2,9,1,6,0,40,3])"
   ]
  },
  {
   "cell_type": "code",
   "execution_count": null,
   "id": "395cf3fb-a555-442c-accd-477b7ba122f3",
   "metadata": {},
   "outputs": [],
   "source": []
  },
  {
   "cell_type": "code",
   "execution_count": null,
   "id": "0ed4ce80-634e-4dc5-85e9-d0ca25eb2c2a",
   "metadata": {},
   "outputs": [],
   "source": []
  },
  {
   "cell_type": "code",
   "execution_count": 75,
   "id": "7113e27a-c614-4c5b-a278-2ffb922fa370",
   "metadata": {},
   "outputs": [
    {
     "name": "stdout",
     "output_type": "stream",
     "text": [
      "7\n",
      "5\n",
      "9\n",
      "12\n"
     ]
    }
   ],
   "source": [
    "def minimum_time_visiting_all_points(points):\n",
    "    total = 0\n",
    "    #(points, points[1:]) nous donne (points[0], points[1]), (points[1], points[2]), …\n",
    "    for (x0, y0), (x1, y1) in zip(points, points[1:]):\n",
    "        dx = abs(x1 - x0)\n",
    "        dy = abs(y1 - y0)\n",
    "        total += max(dx, dy)\n",
    "    return total\n",
    "\n",
    "# Tests                                  \n",
    "print(minimum_time_visiting_all_points([[1,1],[3,4],[-1,0]]))  # -> 7\n",
    "print(minimum_time_visiting_all_points([[3,2],[-2,2]]))        # -> 5\n",
    "print(minimum_time_visiting_all_points([[4,5],[7,8],[1,6]]))   # -> 9 (3 + 6)\n",
    "print(minimum_time_visiting_all_points([[9,5],[7,8],[4,6],[2,3],[1,6]])) # -> (3+3+3+3)"
   ]
  },
  {
   "cell_type": "code",
   "execution_count": null,
   "id": "ebcda302-ef93-414f-a055-2f326be1f0a3",
   "metadata": {},
   "outputs": [],
   "source": []
  },
  {
   "cell_type": "code",
   "execution_count": 239,
   "id": "a77a817b-2e46-4bb8-bdb1-949dd555d767",
   "metadata": {},
   "outputs": [],
   "source": [
    "def spiral_matrix(array):\n",
    "    gauche_droite=0\n",
    "    droite_gauche=0\n",
    "    haut=0\n",
    "    bas=0\n",
    "    indice_hori=0\n",
    "    indice_vert=0\n",
    "    chemin=[]\n",
    "\n",
    "    ##while \n",
    "    chemin.extend(array[indice_hori][gauche_droite::1])\n",
    "    gauche_droite+=1\n",
    "    for i in range(len(array)+indice_vert-1):\n",
    "        res=array[0][-1]*(i+2)\n",
    "        chemin.append(res)\n",
    "    indice_vert+=-1\n",
    "    chemin.extend(array[indice_hori-1][droite_gauche-2::-1])\n",
    "    droite_gauche=droite_gauche-1\n",
    "    for j in range(len(array)+indice_vert-1):\n",
    "        res_2=array[-1][0]-(j+1)*len(array[0][::-1])\n",
    "        chemin.append(res_2)  \n",
    "    indice_vert+=-1\n",
    "    chemin.extend(array[indice_hori+1][gauche_droite:-1])\n",
    "    gauche_droite+=1\n",
    "    for h in range(len(array)+indice_vert-1):\n",
    "        res_3=array[1][-2]+(h+1)*len(array[0][::-1])\n",
    "        chemin.append(res_3)\n",
    "    indice_vert+=-1\n",
    "    chemin.extend(array[indice_hori-2][droite_gauche-2:0:-1])\n",
    "    droite_gauche=droite_gauche-1\n",
    "    for v in range(len(array)+indice_vert-1):\n",
    "        res_4=array[-2][1]-(v+1)*len(array[0][::-1])\n",
    "        chemin.append(res_4)\n",
    "    chemin.extend(array[indice_hori+2][gauche_droite:-2])\n",
    "\n",
    "    print(chemin)\n",
    "    \n",
    "    \n",
    "            \n",
    "\n",
    "    "
   ]
  },
  {
   "cell_type": "code",
   "execution_count": 240,
   "id": "c9f76434-ab58-42a8-9383-1d34f041b8f9",
   "metadata": {},
   "outputs": [
    {
     "name": "stdout",
     "output_type": "stream",
     "text": [
      "[1, 2, 3, 4, 5, 6, 12, 18, 24, 30, 29, 28, 27, 26, 25, 19, 13, 7, 8, 9, 10, 11, 17, 23, 22, 21, 20, 14, 15, 16]\n"
     ]
    }
   ],
   "source": [
    "spiral_matrix([[1,2,3,4,5,6],[7,8,9,10,11,12],[13,14,15,16,17,18],[19,20,21,22,23,24],[25,26,27,28,29,30]])"
   ]
  },
  {
   "cell_type": "code",
   "execution_count": null,
   "id": "c76315aa-a183-4aa1-b9df-986c2dc7f5d9",
   "metadata": {},
   "outputs": [],
   "source": []
  },
  {
   "cell_type": "code",
   "execution_count": 241,
   "id": "521bf411-286c-491d-a42f-61dea74b2e5a",
   "metadata": {},
   "outputs": [],
   "source": [
    "def spiral_matrix_V2(array):\n",
    "    # === bornes initiales ===\n",
    "    gauche, droite = 0, len(array[0]) - 1\n",
    "    haut,   bas     = 0, len(array)    - 1\n",
    "\n",
    "    chemin = []\n",
    "\n",
    "    # === boucle unique pour toute matrice m×n ===\n",
    "    while haut <= bas and gauche <= droite:\n",
    "        # 1) ligne du haut, de gauche → droite\n",
    "        chemin.extend( array[haut][gauche : droite+1] )\n",
    "        haut += 1\n",
    "\n",
    "        # 2) colonne de droite, de haut → bas\n",
    "        for i in range(haut, bas+1):\n",
    "            chemin.append( array[i][droite] )\n",
    "        droite -= 1\n",
    "\n",
    "        # 3) ligne du bas, de droite → gauche (si encore valide)\n",
    "        if haut <= bas:\n",
    "            # slice inversé\n",
    "            chemin.extend( array[bas][gauche : droite+1][::-1] )\n",
    "            bas -= 1\n",
    "\n",
    "        # 4) colonne de gauche, de bas → haut (si encore valide)\n",
    "        if gauche <= droite:\n",
    "            for i in range(bas, haut-1, -1):\n",
    "                chemin.append( array[i][gauche] )\n",
    "            gauche += 1\n",
    "\n",
    "    # ton print pour voir le chemin\n",
    "    print(chemin)\n"
   ]
  },
  {
   "cell_type": "code",
   "execution_count": 242,
   "id": "2f18ecf4-f4b5-4b91-8d52-669d3b04e5cd",
   "metadata": {},
   "outputs": [
    {
     "name": "stdout",
     "output_type": "stream",
     "text": [
      "[1, 2, 3, 4, 5, 6, 12, 18, 24, 30, 29, 28, 27, 26, 25, 19, 13, 7, 8, 9, 10, 11, 17, 23, 22, 21, 20, 14, 15, 16]\n"
     ]
    }
   ],
   "source": [
    "spiral_matrix_V2([[1,2,3,4,5,6],[7,8,9,10,11,12],[13,14,15,16,17,18],[19,20,21,22,23,24],[25,26,27,28,29,30]])"
   ]
  },
  {
   "cell_type": "code",
   "execution_count": null,
   "id": "05032d03-f9e0-47f5-bc1a-c61ac34d99bd",
   "metadata": {},
   "outputs": [],
   "source": []
  },
  {
   "cell_type": "code",
   "execution_count": null,
   "id": "f095c918-525f-4f88-bddf-58917ac31b25",
   "metadata": {},
   "outputs": [],
   "source": []
  },
  {
   "cell_type": "code",
   "execution_count": 110,
   "id": "1d6f1983-fb50-4acf-8c16-603448ed917c",
   "metadata": {},
   "outputs": [],
   "source": [
    "def Number_of_islands(grid):\n",
    "    k=0\n",
    "    m, n = len(grid), len(grid[0])\n",
    "\n",
    "    ##Si matrice 1x1\n",
    "    if m == 1 and n == 1:\n",
    "        return 1 if grid[0][0] == \"1\" else 0\n",
    "\n",
    "    # Cas particulier : 1 seule ligne (m == 1)\n",
    "    elif m == 1:\n",
    "        count = 0\n",
    "        for j in range(n):\n",
    "            # tout nouvel îlot commence soit en j==0, soit après un \"0\"\n",
    "            if grid[0][j] == \"1\" and (j == 0 or grid[0][j-1] == \"0\"):\n",
    "                count += 1\n",
    "        return count\n",
    "\n",
    "    # Cas particulier : 1 seule colonne (n == 1)\n",
    "    elif n == 1:\n",
    "        count = 0\n",
    "        for i in range(m):\n",
    "            if grid[i][0] == \"1\" and (i == 0 or grid[i-1][0] == \"0\"):\n",
    "                count += 1\n",
    "        return count\n",
    "\n",
    "\n",
    "    ####################################\n",
    "    ##########CHECK ILE ISOLE###########\n",
    "    ####################################\n",
    "    \n",
    "    ##coins à checker\n",
    "    if grid[0][0]==\"1\" and grid[0][1]==\"0\" and grid[1][0]==\"0\" :\n",
    "        k+=1\n",
    "    if grid[0][n-1]==\"1\" and grid[0][n-2]==\"0\" and grid[1][n-1]==\"0\" :\n",
    "        k+=1\n",
    "    if grid[m-1][0]==\"1\"  and grid[m-2][0]==\"0\" and grid[m-1][1]==\"0\"  :\n",
    "        k+=1\n",
    "    if grid[m-1][n-1]==\"1\" and grid[m-2][n-1]==\"0\" and grid[m-1][n-2]==\"0\" :\n",
    "        k+=1\n",
    "\n",
    "\n",
    "    ##première ligne\n",
    "    for j in range(n-2):\n",
    "        if grid[0][j+1]==\"1\" and grid[0][j]==\"0\" and grid[1][j+1]==\"0\" and grid[0][j+2]==\"0\" :\n",
    "            k+=1\n",
    "     ##dernière ligne\n",
    "    for v in range(n-2):\n",
    "        if grid[m-1][v+1]==\"1\" and grid[m-1][v]==\"0\" and grid[m-2][v+1]==\"0\" and grid[m-1][v+2]==\"0\":\n",
    "            k=k+1\n",
    "        \n",
    "    ##check colonne de gauche\n",
    "    for cg in range(m-2):\n",
    "        if grid[cg+1][0]==\"1\" and grid[cg][0] ==\"0\" and grid[cg+1][1] ==\"0\" and grid[cg+2][0] ==\"0\":\n",
    "            k+=1\n",
    "                \n",
    "    ##check colonne de droite\n",
    "    for cd in range(m-2):\n",
    "        if grid[cd+1][n-1]==\"1\" and grid[cd][n-1] ==\"0\" and grid[cd+1][n-2] ==\"0\" and grid[cd+2][n-1] ==\"0\":\n",
    "            k+=1    \n",
    "\n",
    "    ##check milieu de la matrice\n",
    "\n",
    "    for mh in range (m-2):\n",
    "        for mgd in range(n-2):\n",
    "            if grid[mh+1][mgd+1]==\"1\" and grid[mh][mgd+1]==\"0\" and grid[mh+1][mgd]==\"0\" and grid[mh+1][mgd+2]==\"0\" and grid[mh+2][mgd+1]==\"0\" :\n",
    "                k+=1\n",
    "\n",
    "\n",
    "    print(f'{k} île isolée(s)')\n",
    "\n",
    "\n",
    "    ####################################\n",
    "    ########CHECK île adjacentes########\n",
    "    ####################################\n",
    "\n",
    "    ### JEEEEEEEE NYYYYYYYYYYYY ARRRRRRRRRRRIIIIVVVVVEEEEEEEEEE      PAAAAAAAAAAAAAAAAAAAS\n",
    "  \n",
    "                \n",
    "    ##grid[i][int(j)+1]==\"1\"  \n",
    "    ##grid[i+1][int(j)]==\"1\"\n",
    "     ##or grid[i][int(j)-1]==\"1\"          \n",
    "    ##or grid[i-1][int(j)]==\"1\""
   ]
  },
  {
   "cell_type": "code",
   "execution_count": 117,
   "id": "23f71284-ddcd-4555-b679-81cd8361b18d",
   "metadata": {},
   "outputs": [],
   "source": [
    "def Number_of_islands_V2(grid):\n",
    "    m, n = len(grid), len(grid[0])\n",
    "    k = 0\n",
    "\n",
    "    # --- 1) On compte et on marque les îles isolées (1×1) ---\n",
    "    for i in range(m):\n",
    "        for j in range(n):\n",
    "            if grid[i][j] != \"1\":\n",
    "                continue\n",
    "            top    = (i == 0   or grid[i-1][j] == \"0\")\n",
    "            bottom = (i == m-1 or grid[i+1][j] == \"0\")\n",
    "            left   = (j == 0   or grid[i][j-1] == \"0\")\n",
    "            right  = (j == n-1 or grid[i][j+1] == \"0\")\n",
    "            if top and bottom and left and right:\n",
    "                k += 1\n",
    "                grid[i][j] = \"0\"      # on exclut cette île isolée\n",
    "\n",
    "    # --- 2) On compte les îles adjacentes (clusters ≥ 2) ---\n",
    "    #     Chaque fois qu'on rencontre un \"1\" restant, c'est une nouvelle île.\n",
    "    #     On incrémente k **une seule fois**, puis on la noie entièrement.\n",
    "    for i in range(m):\n",
    "        for j in range(n):\n",
    "            if grid[i][j] != \"1\":\n",
    "                continue\n",
    "            k += 1\n",
    "            # on noie tout le cluster via un DFS itératif\n",
    "            stack = [(i, j)]\n",
    "            grid[i][j] = \"0\"\n",
    "            while stack:\n",
    "                x, y = stack.pop()\n",
    "                for dx, dy in [(1,0),(-1,0),(0,1),(0,-1)]:\n",
    "                    nx, ny = x+dx, y+dy\n",
    "                    if 0 <= nx < m and 0 <= ny < n and grid[nx][ny] == \"1\":\n",
    "                        grid[nx][ny] = \"0\"\n",
    "                        stack.append((nx, ny))\n",
    "\n",
    "    return k\n",
    "\n",
    "\n",
    "\n",
    "\n",
    "\n",
    "\n"
   ]
  },
  {
   "cell_type": "code",
   "execution_count": 118,
   "id": "315366e7-7d0c-468e-8551-2f63ce4b4110",
   "metadata": {},
   "outputs": [
    {
     "data": {
      "text/plain": [
       "3"
      ]
     },
     "execution_count": 118,
     "metadata": {},
     "output_type": "execute_result"
    }
   ],
   "source": [
    "Number_of_islands_V2([ \n",
    "  [\"0\",\"1\",\"1\",\"1\",\"0\"],\n",
    "  [\"1\",\"0\",\"0\",\"0\",\"0\"],\n",
    "  [\"0\",\"1\",\"1\",\"1\",\"1\"],\n",
    "  [\"0\",\"0\",\"0\",\"1\",\"0\"]])"
   ]
  },
  {
   "cell_type": "code",
   "execution_count": null,
   "id": "b5956a54-5ea9-49c2-a455-8cbef589f124",
   "metadata": {},
   "outputs": [],
   "source": []
  },
  {
   "cell_type": "code",
   "execution_count": null,
   "id": "b059c3a4-d942-4962-8ebf-d51d54c072d9",
   "metadata": {},
   "outputs": [],
   "source": []
  },
  {
   "cell_type": "code",
   "execution_count": 341,
   "id": "903f6608-3d1c-424f-8b00-3ba9ef9e7ea4",
   "metadata": {},
   "outputs": [],
   "source": [
    "def best_time_to_bs(array):\n",
    "\n",
    "    ##EDGE CASE DECROISSANT OU MEME VALEUR INUTILE DE BUY\n",
    "    a=0\n",
    "    tableau_soustraction=[]\n",
    "    for i in range(len(array)-1):\n",
    "        if array[i+1]<=array[i]:\n",
    "            a+=1\n",
    "    if a==len(array)-1:\n",
    "        print(\"Impossible d'acheter, il n'y aura aucun profit\")\n",
    "        return 0\n",
    "\n",
    "    if len(array) < 2:\n",
    "        print(\"Pas assez de jours pour acheter et vendre.\") \n",
    "        return 0\n",
    "\n",
    "    ##CHECK BEST BUY TIME\n",
    "    min_value_indice= array.index(min(array))\n",
    "    ##print(min_value_indice)\n",
    "\n",
    "    ##CHECK SELL BEST PROFIT\n",
    "    \n",
    "    for i in range(len(array)-min_value_indice-1):\n",
    "        k=array[min_value_indice+i+1]-array[min_value_indice]\n",
    "        tableau_soustraction.append(k)\n",
    "    \n",
    "    \n",
    "\n",
    "    max_value_indice=tableau_soustraction.index(max(tableau_soustraction))\n",
    "    ##print(max_value_indice)\n",
    "    \n",
    "    ind_best_profit = min_value_indice+ max_value_indice+1\n",
    "    print(f'LE MEILLEUR INDICE POUR VENDRE {ind_best_profit}, SOIT LE JOUR {ind_best_profit+1}.')\n",
    "    print(f'LE MEILLEUR PROFIT A CET INDICE EST {max(tableau_soustraction)}')\n",
    "        \n",
    "        \n",
    "        \n",
    "\n",
    "    \n",
    "        \n",
    "        \n",
    "\n",
    "    \n",
    "    "
   ]
  },
  {
   "cell_type": "code",
   "execution_count": 342,
   "id": "50c222c9-d0fe-430b-b741-a2a57f464f60",
   "metadata": {},
   "outputs": [
    {
     "name": "stdout",
     "output_type": "stream",
     "text": [
      "Pas assez de jours pour acheter et vendre.\n"
     ]
    },
    {
     "data": {
      "text/plain": [
       "0"
      ]
     },
     "execution_count": 342,
     "metadata": {},
     "output_type": "execute_result"
    }
   ],
   "source": [
    "best_time_to_bs([])"
   ]
  },
  {
   "cell_type": "code",
   "execution_count": 48,
   "id": "612512b0-6443-420c-8dcc-b325025829a4",
   "metadata": {},
   "outputs": [],
   "source": [
    "from collections import deque"
   ]
  },
  {
   "cell_type": "code",
   "execution_count": 57,
   "id": "4f23740e-96a1-4935-aea3-8f05ebf7731c",
   "metadata": {},
   "outputs": [],
   "source": [
    "def Squares_Sorted(array):\n",
    "    squares=[]\n",
    "    squares_sorted=[]\n",
    "    for i in range(len(array)):\n",
    "        x=(array[i])**2\n",
    "        squares.append(x)\n",
    "    squares.sort()\n",
    "    print(squares)"
   ]
  },
  {
   "cell_type": "code",
   "execution_count": null,
   "id": "03a178d8-24df-4a45-a3fc-a23aab440863",
   "metadata": {},
   "outputs": [],
   "source": []
  },
  {
   "cell_type": "code",
   "execution_count": 58,
   "id": "3753472a-2fa1-4cab-b866-12a177f5f6b1",
   "metadata": {},
   "outputs": [
    {
     "name": "stdout",
     "output_type": "stream",
     "text": [
      "[0, 1, 9, 16, 16, 49, 6400]\n"
     ]
    }
   ],
   "source": [
    "Squares_Sorted([1,-4,-80,4,0,-3,7])"
   ]
  },
  {
   "cell_type": "code",
   "execution_count": null,
   "id": "8053c893-ba22-4c11-9310-33b4d3767a2e",
   "metadata": {},
   "outputs": [],
   "source": []
  },
  {
   "cell_type": "code",
   "execution_count": 97,
   "id": "e8db5cbe-a3da-408c-91d0-d5145098b3d3",
   "metadata": {},
   "outputs": [],
   "source": [
    "def threesums(nums):\n",
    "    n=len(nums)\n",
    "    l=[]\n",
    "    triplets=[]\n",
    "    for i in range(n-2):\n",
    "        for j in range(n-2):\n",
    "            for k in range(n-2):\n",
    "                if nums[i]+nums[j+1]+nums[k+2]==0:\n",
    "                    if i != j+1 and i != k+2 and j+1 != k+2:\n",
    "\n",
    "                        l=[nums[i],nums[j+1],nums[k+2]]\n",
    "                        l.sort()\n",
    "\n",
    "                        if l not in triplets:\n",
    "                            triplets.append(l)\n",
    "                                \n",
    "                           \n",
    "    print(triplets)\n",
    "    \n",
    "    "
   ]
  },
  {
   "cell_type": "code",
   "execution_count": null,
   "id": "81bed777-8450-4378-8285-5cf350d8b41e",
   "metadata": {},
   "outputs": [],
   "source": []
  },
  {
   "cell_type": "code",
   "execution_count": 99,
   "id": "b1e9e79f-15b0-4b0f-b7a4-2f041a4b4864",
   "metadata": {},
   "outputs": [
    {
     "name": "stdout",
     "output_type": "stream",
     "text": [
      "[[-1, -1, 2], [-1, 0, 1]]\n"
     ]
    }
   ],
   "source": [
    "threesums([-4,-1,-1,0,1,2])"
   ]
  },
  {
   "cell_type": "code",
   "execution_count": null,
   "id": "5259e484-67de-4d1a-b5e0-7e3650920ce2",
   "metadata": {},
   "outputs": [],
   "source": []
  },
  {
   "cell_type": "code",
   "execution_count": 344,
   "id": "d2a7939c-e3d1-4c51-b779-6a009b08a681",
   "metadata": {},
   "outputs": [],
   "source": [
    "def lg_m_array(arr):\n",
    "    n = len(arr)\n",
    "    best = 0\n",
    "    i = 1\n",
    "    while i < n - 1:\n",
    "        # trouvé un pic ?\n",
    "        if arr[i-1] < arr[i] > arr[i+1]:\n",
    "            # étendre à gauche\n",
    "            left = i - 1\n",
    "            while left > 0 and arr[left-1] < arr[left]:\n",
    "                left -= 1\n",
    "            # étendre à droite\n",
    "            right = i + 1\n",
    "            while right < n - 1 and arr[right] > arr[right+1]:\n",
    "                right += 1\n",
    "            # mettre à jour\n",
    "            best = max(best, right - left + 1)\n",
    "            # sauter au-delà de cette montagne\n",
    "            i = right\n",
    "        else:\n",
    "            i += 1\n",
    "    return best\n"
   ]
  },
  {
   "cell_type": "code",
   "execution_count": 345,
   "id": "0db54c83-e681-46bb-98c4-5a1ae99b7dde",
   "metadata": {},
   "outputs": [
    {
     "data": {
      "text/plain": [
       "7"
      ]
     },
     "execution_count": 345,
     "metadata": {},
     "output_type": "execute_result"
    }
   ],
   "source": [
    "lg_m_array([2,1,4,7,8,5,9,10,11,12,3,2])"
   ]
  },
  {
   "cell_type": "code",
   "execution_count": 41,
   "id": "d6d7e043-318d-45a1-93d1-083654b98bc9",
   "metadata": {},
   "outputs": [],
   "source": [
    "def contains_duplicateII (array,k):\n",
    "    for i in range(len(array)-1):\n",
    "        for j in range(len(array)-1-i):\n",
    "            if array[i]==array[j+1+i] and abs(i-(j+1+i))<=k:\n",
    "                return True\n",
    "            else:\n",
    "                continue\n",
    "\n",
    "    return False"
   ]
  },
  {
   "cell_type": "code",
   "execution_count": 44,
   "id": "e1aad1a3-f706-4469-8b36-4dc7ae72cef8",
   "metadata": {},
   "outputs": [
    {
     "data": {
      "text/plain": [
       "False"
      ]
     },
     "execution_count": 44,
     "metadata": {},
     "output_type": "execute_result"
    }
   ],
   "source": [
    "contains_duplicateII([1,2,3,1,2,3],k=2)"
   ]
  },
  {
   "cell_type": "code",
   "execution_count": 7,
   "id": "260e8be1-ee78-42a5-be1b-6ff2b5529f7d",
   "metadata": {},
   "outputs": [],
   "source": [
    "def minimumAbsDifferenceBF(arr):\n",
    "    min_diff = float('inf')\n",
    "    pairs = []\n",
    "    for i in range(len(arr)-1):\n",
    "        for j in range(i+1, len(arr)):\n",
    "            diff = abs(arr[j] - arr[i])\n",
    "            if diff < min_diff:\n",
    "                min_diff = diff\n",
    "                pairs = [[arr[i], arr[j]]]\n",
    "            elif diff == min_diff:\n",
    "                pairs.append([arr[i], arr[j]])\n",
    "    # on trie les paires pour respecter l’ordre demandé\n",
    "    return sorted(pairs)"
   ]
  },
  {
   "cell_type": "code",
   "execution_count": 8,
   "id": "89af17e1-bd80-4856-a0b7-8cd6f0ef4f28",
   "metadata": {},
   "outputs": [
    {
     "data": {
      "text/plain": [
       "[[-4, -3], [-2, -3]]"
      ]
     },
     "execution_count": 8,
     "metadata": {},
     "output_type": "execute_result"
    }
   ],
   "source": [
    "minimumAbsDifferenceBF([-2,8,-10,27,19,-4,-3,30])"
   ]
  },
  {
   "cell_type": "code",
   "execution_count": 3,
   "id": "927c0955-2573-447c-8370-794f448b7982",
   "metadata": {},
   "outputs": [],
   "source": [
    "from typing import List\n"
   ]
  },
  {
   "cell_type": "code",
   "execution_count": 34,
   "id": "81b36f8d-5e70-449b-be3a-384bde08e6a3",
   "metadata": {},
   "outputs": [],
   "source": [
    "class Solution:\n",
    "    def minSubArrayLen(self, target: int, nums: List[int]) -> int:\n",
    "        n = len(nums)\n",
    "        left = 0\n",
    "        current_sum = 0\n",
    "        min_len = float('inf')\n",
    "        for right in range(n):\n",
    "            current_sum += nums[right]\n",
    "            # dès qu'on atteint ou dépasse la cible, on raccourcit la fenêtre\n",
    "            while current_sum >= target:\n",
    "                min_len = min(min_len, right - left + 1)\n",
    "                current_sum -= nums[left]\n",
    "                left += 1\n",
    "        return 0 if min_len == float('inf') else min_len"
   ]
  },
  {
   "cell_type": "code",
   "execution_count": 35,
   "id": "68ea2142-17ab-4386-8db8-8c63cef277e7",
   "metadata": {},
   "outputs": [],
   "source": [
    "x=Solution()"
   ]
  },
  {
   "cell_type": "code",
   "execution_count": 42,
   "id": "89979b90-f157-41dc-897d-8f77c3253766",
   "metadata": {},
   "outputs": [],
   "source": [
    "l=x.minSubArrayLen(7, [3])"
   ]
  },
  {
   "cell_type": "code",
   "execution_count": 43,
   "id": "3cd9a7cb-51b9-45cf-a511-1a5aff147c05",
   "metadata": {},
   "outputs": [
    {
     "name": "stdout",
     "output_type": "stream",
     "text": [
      "0\n"
     ]
    }
   ],
   "source": [
    "print(l)"
   ]
  },
  {
   "cell_type": "code",
   "execution_count": null,
   "id": "3473fcb8-a609-41d4-89f1-e2fb8b29e5e7",
   "metadata": {},
   "outputs": [],
   "source": []
  },
  {
   "cell_type": "code",
   "execution_count": 16,
   "id": "5c4dc11f-8044-495b-a641-2a91d4043380",
   "metadata": {},
   "outputs": [],
   "source": [
    "def Single_number(array):\n",
    "    x=[]\n",
    "    for i in range(len(array)-1):\n",
    "        for j in range(len(array)-1-i):\n",
    "            if array[i]!=array[j+1+i]:\n",
    "                continue\n",
    "            elif array[i]==array[j+1+i]:\n",
    "                x.append(array[i])\n",
    "\n",
    "\n",
    "    for i in array:\n",
    "        if i not in x:\n",
    "            print(i)\n",
    "        \n",
    "                \n",
    "\n",
    "    \n",
    "            \n",
    "        "
   ]
  },
  {
   "cell_type": "code",
   "execution_count": null,
   "id": "f26f1076-9e87-440c-b08d-7a028532ded3",
   "metadata": {},
   "outputs": [],
   "source": []
  },
  {
   "cell_type": "code",
   "execution_count": 17,
   "id": "2e435f1d-aea3-428d-a2cb-33fb29ce8c1c",
   "metadata": {},
   "outputs": [
    {
     "name": "stdout",
     "output_type": "stream",
     "text": [
      "7\n"
     ]
    }
   ],
   "source": [
    "Single_number([4,1,2,1,2,4,5,5,6,4,6,7,3,3])"
   ]
  },
  {
   "cell_type": "code",
   "execution_count": 29,
   "id": "ac4f5b4d-6c1b-4560-8be1-a1b9b6f86fcb",
   "metadata": {},
   "outputs": [],
   "source": [
    "def singleNumber_sort(nums: list[int]) -> int:\n",
    "    nums.sort()\n",
    "    n = len(nums)\n",
    "    i = 0\n",
    "    while i < n - 1:\n",
    "        if nums[i] != nums[i+1]:\n",
    "            return nums[i]\n",
    "        i += 2\n",
    "    # Si on arrive en fin (longueur impaire), le singleton est le dernier\n",
    "    return nums[-1]\n"
   ]
  },
  {
   "cell_type": "code",
   "execution_count": 30,
   "id": "d1a43cbc-e857-4de3-8d1a-8d905896df99",
   "metadata": {},
   "outputs": [
    {
     "data": {
      "text/plain": [
       "7"
      ]
     },
     "execution_count": 30,
     "metadata": {},
     "output_type": "execute_result"
    }
   ],
   "source": [
    "singleNumber_sort([4,1,2,1,2,4,5,5,6,6,7,3,3])"
   ]
  },
  {
   "cell_type": "code",
   "execution_count": null,
   "id": "6624e8f1-1155-44ce-9cd1-172fa81e5265",
   "metadata": {},
   "outputs": [],
   "source": []
  },
  {
   "cell_type": "code",
   "execution_count": 39,
   "id": "295d4ca4-1c53-44a7-bfd0-6afda78f08b4",
   "metadata": {},
   "outputs": [],
   "source": [
    "def singleNumber_set(nums: list[int]) -> int:\n",
    "    s = set()\n",
    "    total = 0\n",
    "    for x in nums:\n",
    "        if x in s:\n",
    "            total -= x\n",
    "            #print(total)\n",
    "        else:\n",
    "            s.add(x)\n",
    "            total += x\n",
    "            #print(total)\n",
    "    return total\n"
   ]
  },
  {
   "cell_type": "code",
   "execution_count": 40,
   "id": "eb6e4cf6-223f-4fb7-af62-3bde76fa7cb9",
   "metadata": {},
   "outputs": [
    {
     "data": {
      "text/plain": [
       "7"
      ]
     },
     "execution_count": 40,
     "metadata": {},
     "output_type": "execute_result"
    }
   ],
   "source": [
    "singleNumber_set([4,1,2,1,2,4,5,5,6,6,7,3,3])"
   ]
  },
  {
   "cell_type": "code",
   "execution_count": 47,
   "id": "6d3a2f13-cf87-4f8a-af75-1e0cf18469e8",
   "metadata": {},
   "outputs": [],
   "source": [
    "def singleNumber_xor(nums: list[int]) -> int:\n",
    "    k = 0\n",
    "    for i in nums:\n",
    "        k = k ^ i\n",
    "    return k\n"
   ]
  },
  {
   "cell_type": "code",
   "execution_count": 48,
   "id": "1d814a38-9d12-4924-be16-31a356599c71",
   "metadata": {},
   "outputs": [
    {
     "data": {
      "text/plain": [
       "7"
      ]
     },
     "execution_count": 48,
     "metadata": {},
     "output_type": "execute_result"
    }
   ],
   "source": [
    "singleNumber_xor([4,1,2,1,2,4,5,5,6,6,7,3,3])"
   ]
  },
  {
   "cell_type": "code",
   "execution_count": null,
   "id": "90ea6a40-6791-4934-9e60-7a482317a24f",
   "metadata": {},
   "outputs": [],
   "source": []
  },
  {
   "cell_type": "code",
   "execution_count": null,
   "id": "d03a060a-89a5-4b2f-879a-87ee3c136123",
   "metadata": {},
   "outputs": [],
   "source": [
    "def coin_change(array,amount):\n",
    "\n",
    "    right=len(array)-1\n",
    "    left=0\n",
    "    coin=0\n",
    "    coins=[]\n",
    "    array.sort()\n",
    "    print(array)\n",
    "\n",
    "    while right !=0:\n",
    "\n",
    "        while (array[right] + sum(coins)) < amount:\n",
    "\n",
    "            if array[right]<amount and (amount-sum(coins))>=array[right]:\n",
    "                coins.append(array[right])\n",
    "                coin+=1\n",
    "                print(coins)\n",
    "            \n",
    "        if array[right]==amount:\n",
    "            return 1\n",
    "\n",
    "        elif array[right]>amount:\n",
    "            pass\n",
    "\n",
    "        right-=1\n",
    "\n",
    "    if sum(coins)!=amount and (sum(coins)+array[0])!=amount:\n",
    "        return 0\n",
    "    elif sum(coins)==amount:\n",
    "        return coin\n",
    "    elif sum(coins)+array[0]==amount:\n",
    "        return coin+1\n",
    "            \n",
    "        \n",
    "        \n",
    "    \n",
    "    "
   ]
  },
  {
   "cell_type": "code",
   "execution_count": null,
   "id": "75c879fb-43bb-4d4c-9aec-2bdbbd6969da",
   "metadata": {},
   "outputs": [],
   "source": [
    "coin_change([4,5,2],21)"
   ]
  },
  {
   "cell_type": "code",
   "execution_count": 7,
   "id": "a70e17d3-b4ed-4ce0-9c36-e05a083fae3e",
   "metadata": {},
   "outputs": [],
   "source": [
    "from typing import List\n",
    "\n",
    "def coinChange(coins: List[int], amount: int) -> int:\n",
    "    INF = float('inf')\n",
    "    # dp[i] = nb minimal de pièces pour faire la somme i\n",
    "    dp = [0] + [INF] * amount\n",
    "    \n",
    "    for i in range(1, amount + 1):\n",
    "        for j in coins:\n",
    "            if i - j >= 0:\n",
    "                dp[i] = min(dp[i], dp[i - j] + 1)\n",
    "    \n",
    "    return dp[amount] if dp[amount] != INF else -1\n"
   ]
  },
  {
   "cell_type": "code",
   "execution_count": 8,
   "id": "91c5d797-4b9f-4bd9-ab79-0aad912002f7",
   "metadata": {},
   "outputs": [
    {
     "data": {
      "text/plain": [
       "5"
      ]
     },
     "execution_count": 8,
     "metadata": {},
     "output_type": "execute_result"
    }
   ],
   "source": [
    "coinChange([4,5,2],21)"
   ]
  },
  {
   "cell_type": "code",
   "execution_count": null,
   "id": "15074730-a344-46a0-bc0b-b00ab6a481ef",
   "metadata": {},
   "outputs": [],
   "source": []
  },
  {
   "cell_type": "code",
   "execution_count": 40,
   "id": "22fc1c6d-3536-4be7-b6a5-17a216d71659",
   "metadata": {},
   "outputs": [],
   "source": [
    "def climbing_stairs(n):\n",
    "\n",
    "    step=[1,2]\n",
    "    k=1\n",
    "    p=0\n",
    "    INF = float('inf')\n",
    "\n",
    "    dp=[0]+[INF]*n\n",
    "\n",
    "\n",
    "    for i in range (1, n+1):\n",
    "        for j in step:\n",
    "            if i - j >= 0:\n",
    "                if i<=3:\n",
    "                    dp[i]=i\n",
    "                else:    \n",
    "                    dp[i]=dp[i-1]+dp[i-2]\n",
    "                \n",
    "    if n==0:\n",
    "        return 0\n",
    "\n",
    "    return dp[i] if dp[i] !=INF else 0\n",
    "            "
   ]
  },
  {
   "cell_type": "code",
   "execution_count": 44,
   "id": "e57fbeb9-8c94-4f9a-b887-c7a57e6e8342",
   "metadata": {},
   "outputs": [
    {
     "data": {
      "text/plain": [
       "10946"
      ]
     },
     "execution_count": 44,
     "metadata": {},
     "output_type": "execute_result"
    }
   ],
   "source": [
    "climbing_stairs(20)"
   ]
  },
  {
   "cell_type": "code",
   "execution_count": null,
   "id": "6370cc73-9264-44ff-ad82-776d44649b4b",
   "metadata": {},
   "outputs": [],
   "source": []
  },
  {
   "cell_type": "code",
   "execution_count": 62,
   "id": "a9bd54db-6308-481d-b3fc-16becb5749d3",
   "metadata": {},
   "outputs": [],
   "source": [
    "def Max_subarray(array):\n",
    "\n",
    "    INF = -float(\"inf\")\n",
    "    p=0\n",
    "\n",
    "    dp=[INF]*len(array)\n",
    "\n",
    "    for i in range(len(array)):\n",
    "        p=0\n",
    "        for j in range(len(array)-i):\n",
    "            k=array[j+i]\n",
    "            p+=k\n",
    "            dp[i]=max(dp[i], p)\n",
    "        \n",
    "            \n",
    "\n",
    "    return max(dp) if dp[i] !=INF else 0\n",
    "         "
   ]
  },
  {
   "cell_type": "code",
   "execution_count": 64,
   "id": "076e1255-a7c1-4105-88a4-8ab0e05f288b",
   "metadata": {},
   "outputs": [
    {
     "data": {
      "text/plain": [
       "6"
      ]
     },
     "execution_count": 64,
     "metadata": {},
     "output_type": "execute_result"
    }
   ],
   "source": [
    "Max_subarray([-2,1,-3,4,-1,2,1,-5,4])"
   ]
  },
  {
   "cell_type": "code",
   "execution_count": null,
   "id": "aba17a35-d5f1-4761-b9ee-a99cba60a9a7",
   "metadata": {},
   "outputs": [],
   "source": []
  },
  {
   "cell_type": "code",
   "execution_count": 3,
   "id": "5b10ad6c-75c9-4c31-8053-3f2b59e5d941",
   "metadata": {},
   "outputs": [],
   "source": [
    "def counting_bits(n):\n",
    "\n",
    "    INF=float(\"inf\")\n",
    "    offset=1\n",
    "\n",
    "\n",
    "    dp=[0]+[INF]*n\n",
    "\n",
    "    for i in range(1,n+1):\n",
    "        if offset*2==i:\n",
    "            offset=i\n",
    "\n",
    "        dp[i]=1+dp[i-offset]\n",
    "\n",
    "    return dp\n",
    "        \n",
    "        "
   ]
  },
  {
   "cell_type": "code",
   "execution_count": 4,
   "id": "9524080a-abc6-43db-9b75-43fb00770902",
   "metadata": {},
   "outputs": [
    {
     "data": {
      "text/plain": [
       "[0, 1, 1, 2, 1, 2, 2, 3, 1, 2, 2]"
      ]
     },
     "execution_count": 4,
     "metadata": {},
     "output_type": "execute_result"
    }
   ],
   "source": [
    "counting_bits(10)"
   ]
  },
  {
   "cell_type": "code",
   "execution_count": null,
   "id": "c93f507f-90f7-4519-b87b-04858088da56",
   "metadata": {},
   "outputs": [],
   "source": []
  },
  {
   "cell_type": "code",
   "execution_count": 45,
   "id": "64dcd830-4faf-42ed-961a-87def137d183",
   "metadata": {},
   "outputs": [],
   "source": [
    "class NumArray:\n",
    "\n",
    "    def __init__ (self, nums : list[int]):\n",
    "        self.nums=nums\n",
    "\n",
    "    def SumRange (self, left : int, right : int) -> int:\n",
    "        self.left=left\n",
    "        self.right=right\n",
    "        Sum=sum(self.nums[self.left:self.right+1])\n",
    "        print(Sum)\n",
    "            "
   ]
  },
  {
   "cell_type": "code",
   "execution_count": 46,
   "id": "e6e03c27-a9b0-4417-88e1-a77fc2df96dd",
   "metadata": {},
   "outputs": [],
   "source": [
    "my_list=NumArray([0,5,4,-2,4])"
   ]
  },
  {
   "cell_type": "code",
   "execution_count": 47,
   "id": "0f6eb7a5-0114-42c3-bc16-084818d1f2c3",
   "metadata": {},
   "outputs": [
    {
     "name": "stdout",
     "output_type": "stream",
     "text": [
      "11\n"
     ]
    }
   ],
   "source": [
    "my_list.SumRange(0,4)"
   ]
  },
  {
   "cell_type": "code",
   "execution_count": null,
   "id": "da6fe705-83c8-4d9a-acc4-c5829d55947c",
   "metadata": {},
   "outputs": [],
   "source": []
  },
  {
   "cell_type": "code",
   "execution_count": 52,
   "id": "3749545a-4d63-4bf7-be40-0267b9660352",
   "metadata": {},
   "outputs": [
    {
     "name": "stdout",
     "output_type": "stream",
     "text": [
      "11\n",
      "9\n",
      "2\n"
     ]
    }
   ],
   "source": [
    "liste=my_list.SumRange(1,4), my_list.SumRange(0,2), my_list.SumRange(3,4)"
   ]
  },
  {
   "cell_type": "code",
   "execution_count": null,
   "id": "1517c605-de8b-40c6-b276-ab0698525f44",
   "metadata": {},
   "outputs": [],
   "source": []
  },
  {
   "cell_type": "code",
   "execution_count": 53,
   "id": "e6ee6eef-1bbd-443a-9acd-8dac600e6e30",
   "metadata": {},
   "outputs": [],
   "source": [
    "class NumArray_V2(object):\n",
    "    def __init__ (self, k):\n",
    "        self.k=k\n",
    "\n",
    "    def SumRange (self,l,r):\n",
    "      \n",
    "        return sum(self.k[l:r+1])"
   ]
  },
  {
   "cell_type": "code",
   "execution_count": 54,
   "id": "2d00b3dd-8f39-4458-a586-17f795a2f92e",
   "metadata": {},
   "outputs": [],
   "source": [
    "ok=NumArray_V2([-2,0,3,-5,2,-1])"
   ]
  },
  {
   "cell_type": "code",
   "execution_count": 55,
   "id": "dfe5226a-77e7-4fde-8373-a137e78637dd",
   "metadata": {},
   "outputs": [
    {
     "data": {
      "text/plain": [
       "-2"
      ]
     },
     "execution_count": 55,
     "metadata": {},
     "output_type": "execute_result"
    }
   ],
   "source": [
    "ok.SumRange(0,1)"
   ]
  },
  {
   "cell_type": "code",
   "execution_count": 84,
   "id": "8713c3f6-2b66-464a-9a15-82e424c150f6",
   "metadata": {},
   "outputs": [
    {
     "data": {
      "text/plain": [
       "'abcdefghijklmnopqrstuvwxyz'"
      ]
     },
     "execution_count": 84,
     "metadata": {},
     "output_type": "execute_result"
    }
   ],
   "source": [
    "import string\n",
    "string.ascii_lowercase"
   ]
  },
  {
   "cell_type": "code",
   "execution_count": 14,
   "id": "6bf055b3-3f74-47f0-a559-109c88dbba94",
   "metadata": {},
   "outputs": [],
   "source": [
    "def lcp (s):\n",
    "\n",
    "    INF=float(\"inf\")\n",
    "    nb_letter=0\n",
    "    for i in s:\n",
    "        if i.isalpha():\n",
    "            nb_letter+=1\n",
    "\n",
    "    dp=[0]+[INF]*(2**(nb_letter))\n",
    "    combinaison = 2**(nb_letter)\n",
    "\n",
    "\n",
    "    for i in range(combinaison):\n",
    "        for j in s:\n",
    "            if j.isalpha():\n",
    "                x=j.upper()\n",
    "                print(x)\n",
    "        \n",
    "            "
   ]
  },
  {
   "cell_type": "code",
   "execution_count": 15,
   "id": "cf52afcc-9a43-419e-9e45-76b6ab141602",
   "metadata": {},
   "outputs": [
    {
     "name": "stdout",
     "output_type": "stream",
     "text": [
      "A\n",
      "C\n",
      "A\n",
      "C\n",
      "A\n",
      "C\n",
      "A\n",
      "C\n"
     ]
    }
   ],
   "source": [
    "lcp(\"a2c3\")"
   ]
  },
  {
   "cell_type": "code",
   "execution_count": 36,
   "id": "0fcb51b8-d4d3-4369-8004-2b0ec21e21ad",
   "metadata": {},
   "outputs": [],
   "source": [
    "def factoriel (n):\n",
    "    if n>1:\n",
    "        return n*factoriel(n-1)\n",
    "    return 1"
   ]
  },
  {
   "cell_type": "code",
   "execution_count": 37,
   "id": "93071d35-786c-48e6-a611-bb6ce1cec19f",
   "metadata": {},
   "outputs": [
    {
     "data": {
      "text/plain": [
       "24"
      ]
     },
     "execution_count": 37,
     "metadata": {},
     "output_type": "execute_result"
    }
   ],
   "source": [
    "factoriel(4)"
   ]
  },
  {
   "cell_type": "code",
   "execution_count": 2,
   "id": "7bffeae2-646b-4a32-bbc1-dd93c30a8c80",
   "metadata": {},
   "outputs": [],
   "source": [
    "def subsets(array):\n",
    "    x=0\n",
    "    output=0\n",
    "    tab=[[]]\n",
    "    for i in array:\n",
    "        x+=1\n",
    "\n",
    "    if output < 2**x:\n",
    "        for i in array:\n",
    "            new=[]\n",
    "            for curre in tab:\n",
    "                x=curre+[i]\n",
    "                new.append(x)\n",
    "                output+=1\n",
    "            tab.extend(new)\n",
    "    return tab\n",
    "            \n",
    "        \n",
    "    "
   ]
  },
  {
   "cell_type": "code",
   "execution_count": 3,
   "id": "e2a992c7-eb8f-426b-b7ec-57f2852a63e1",
   "metadata": {},
   "outputs": [
    {
     "data": {
      "text/plain": [
       "[[],\n",
       " [1],\n",
       " [2],\n",
       " [1, 2],\n",
       " [3],\n",
       " [1, 3],\n",
       " [2, 3],\n",
       " [1, 2, 3],\n",
       " [4],\n",
       " [1, 4],\n",
       " [2, 4],\n",
       " [1, 2, 4],\n",
       " [3, 4],\n",
       " [1, 3, 4],\n",
       " [2, 3, 4],\n",
       " [1, 2, 3, 4],\n",
       " [5],\n",
       " [1, 5],\n",
       " [2, 5],\n",
       " [1, 2, 5],\n",
       " [3, 5],\n",
       " [1, 3, 5],\n",
       " [2, 3, 5],\n",
       " [1, 2, 3, 5],\n",
       " [4, 5],\n",
       " [1, 4, 5],\n",
       " [2, 4, 5],\n",
       " [1, 2, 4, 5],\n",
       " [3, 4, 5],\n",
       " [1, 3, 4, 5],\n",
       " [2, 3, 4, 5],\n",
       " [1, 2, 3, 4, 5]]"
      ]
     },
     "execution_count": 3,
     "metadata": {},
     "output_type": "execute_result"
    }
   ],
   "source": [
    "subsets([1,2,3,4,5])"
   ]
  },
  {
   "cell_type": "code",
   "execution_count": null,
   "id": "1dbc1acc-4c53-46ee-888e-6b4f67e41fda",
   "metadata": {},
   "outputs": [],
   "source": []
  },
  {
   "cell_type": "code",
   "execution_count": 224,
   "id": "d9dcf5ea-9de3-47e6-b481-32ce290dd7c1",
   "metadata": {},
   "outputs": [],
   "source": [
    "def Fibonacci(array,target,i=0):\n",
    "    if i >= len(array) or array[i]>target:\n",
    "        return 0\n",
    "    else:\n",
    "        return Fibonacci(array,target,i+1) + array[i]"
   ]
  },
  {
   "cell_type": "code",
   "execution_count": 225,
   "id": "4b629173-4bb3-42d4-979d-42beb058c597",
   "metadata": {},
   "outputs": [
    {
     "data": {
      "text/plain": [
       "15"
      ]
     },
     "execution_count": 225,
     "metadata": {},
     "output_type": "execute_result"
    }
   ],
   "source": [
    "Fibonacci([1,2,3,4,5,6,7,8],5)"
   ]
  },
  {
   "cell_type": "code",
   "execution_count": 5,
   "id": "26f407d6-4cb6-4726-9787-34492a9d4e71",
   "metadata": {},
   "outputs": [
    {
     "data": {
      "text/plain": [
       "'Fail'"
      ]
     },
     "execution_count": 5,
     "metadata": {},
     "output_type": "execute_result"
    }
   ],
   "source": [
    "\"Fail\""
   ]
  },
  {
   "cell_type": "code",
   "execution_count": 6,
   "id": "177365e8-45ca-4045-8f02-31bd4c165e9d",
   "metadata": {},
   "outputs": [],
   "source": [
    "# Fail"
   ]
  },
  {
   "cell_type": "code",
   "execution_count": 137,
   "id": "0b9e9b8b-3491-4412-947f-7c01de5e38ff",
   "metadata": {},
   "outputs": [],
   "source": [
    "import string"
   ]
  },
  {
   "cell_type": "code",
   "execution_count": 371,
   "id": "027092ea-2ce7-406c-b4c5-85ed970671ae",
   "metadata": {},
   "outputs": [],
   "source": [
    "def LCP(s,i=0):\n",
    "    cache=[]\n",
    "    result=[]\n",
    "    count=0\n",
    "\n",
    "    backtrack_LCP(s,0,cache,count,result)\n",
    "    return result\n",
    "\n",
    "    \n",
    "    \n",
    "def backtrack_LCP(s,i,cache,count,result):\n",
    "\n",
    "    if i == len(s):\n",
    "        result.append(\"\".join(cache))\n",
    "        return  \n",
    "    if s[i].isalpha():\n",
    "        # branche minuscule\n",
    "        cache.append(s[i].lower())\n",
    "        backtrack_LCP(s, i+1, cache,count, result)\n",
    "        cache.pop()               \n",
    "        # branche majuscule\n",
    "        cache.append(s[i].upper())\n",
    "        backtrack_LCP(s, i+1, cache,count, result)\n",
    "        cache.pop()\n",
    "\n",
    "\n",
    "        count+=1\n",
    "        \n",
    "    else:\n",
    "        cache.append(s[i])\n",
    "        backtrack_LCP(s, i+1, cache,count, result)\n",
    "        cache.pop()\n",
    "\n",
    "        count+=1\n",
    "\n",
    " \n",
    "\n",
    "    \n"
   ]
  },
  {
   "cell_type": "code",
   "execution_count": 372,
   "id": "625afa09-da90-42b7-acd9-30706e20879e",
   "metadata": {},
   "outputs": [
    {
     "data": {
      "text/plain": [
       "['a1b2', 'a1B2', 'A1b2', 'A1B2']"
      ]
     },
     "execution_count": 372,
     "metadata": {},
     "output_type": "execute_result"
    }
   ],
   "source": [
    "LCP(\"a1b2\")    "
   ]
  },
  {
   "cell_type": "code",
   "execution_count": null,
   "id": "e97518ac-0700-4c9c-85ba-03d22872b8e6",
   "metadata": {},
   "outputs": [],
   "source": []
  },
  {
   "cell_type": "code",
   "execution_count": 436,
   "id": "0998d019-5311-403b-8b2f-2f67090a165c",
   "metadata": {},
   "outputs": [],
   "source": [
    "def middle_link_list(array):\n",
    "\n",
    "    if len(array)%2!=0:\n",
    "        m= ((len(array)-1)/2)\n",
    "        middle_noeud=array[int(m)]\n",
    "        print(array[middle_noeud-1::])\n",
    "\n",
    "    else:\n",
    "        x= (len(array)/2)\n",
    "        middle_noeud_2=array[int(x)]\n",
    "        print(array[middle_noeud_2-1::])\n",
    "\n",
    "            \n",
    "        \n",
    "    "
   ]
  },
  {
   "cell_type": "code",
   "execution_count": 441,
   "id": "a87e5517-e9e8-4029-b3cd-68ae82f6efac",
   "metadata": {},
   "outputs": [
    {
     "name": "stdout",
     "output_type": "stream",
     "text": [
      "[4, 5, 6]\n"
     ]
    }
   ],
   "source": [
    "middle_link_list([1,2,3,4,5,6])"
   ]
  },
  {
   "cell_type": "code",
   "execution_count": 457,
   "id": "8d521931-3e53-4425-b928-a907bfa05547",
   "metadata": {},
   "outputs": [],
   "source": [
    "class ListNode:\n",
    "    def __init__(self, val=0, next=None):\n",
    "        self.val = val\n",
    "        self.next = next\n",
    "\n",
    "    def middlenode(self,head):\n",
    "        slow=fast=head\n",
    "        while fast and fast.next:\n",
    "            slow=slow.next\n",
    "            fast=fast.next.next\n",
    "    \n",
    "        return slow"
   ]
  },
  {
   "cell_type": "code",
   "execution_count": 458,
   "id": "d8389339-d689-433f-b574-bb39635c61b1",
   "metadata": {},
   "outputs": [],
   "source": [
    "x=ListNode()"
   ]
  },
  {
   "cell_type": "code",
   "execution_count": 459,
   "id": "cb6a494c-49c4-475e-87c7-1ea23b2b759f",
   "metadata": {},
   "outputs": [
    {
     "ename": "AttributeError",
     "evalue": "'list' object has no attribute 'next'",
     "output_type": "error",
     "traceback": [
      "\u001b[31m---------------------------------------------------------------------------\u001b[39m",
      "\u001b[31mAttributeError\u001b[39m                            Traceback (most recent call last)",
      "\u001b[36mCell\u001b[39m\u001b[36m \u001b[39m\u001b[32mIn[459]\u001b[39m\u001b[32m, line 1\u001b[39m\n\u001b[32m----> \u001b[39m\u001b[32m1\u001b[39m \u001b[43mx\u001b[49m\u001b[43m.\u001b[49m\u001b[43mmiddlenode\u001b[49m\u001b[43m(\u001b[49m\u001b[43m[\u001b[49m\u001b[32;43m1\u001b[39;49m\u001b[43m,\u001b[49m\u001b[32;43m2\u001b[39;49m\u001b[43m,\u001b[49m\u001b[32;43m3\u001b[39;49m\u001b[43m]\u001b[49m\u001b[43m)\u001b[49m\n",
      "\u001b[36mCell\u001b[39m\u001b[36m \u001b[39m\u001b[32mIn[457]\u001b[39m\u001b[32m, line 8\u001b[39m, in \u001b[36mListNode.middlenode\u001b[39m\u001b[34m(self, head)\u001b[39m\n\u001b[32m      6\u001b[39m \u001b[38;5;28;01mdef\u001b[39;00m\u001b[38;5;250m \u001b[39m\u001b[34mmiddlenode\u001b[39m(\u001b[38;5;28mself\u001b[39m,head):\n\u001b[32m      7\u001b[39m     slow=fast=head\n\u001b[32m----> \u001b[39m\u001b[32m8\u001b[39m     \u001b[38;5;28;01mwhile\u001b[39;00m fast \u001b[38;5;129;01mand\u001b[39;00m \u001b[43mfast\u001b[49m\u001b[43m.\u001b[49m\u001b[43mnext\u001b[49m:\n\u001b[32m      9\u001b[39m         slow=slow.next\n\u001b[32m     10\u001b[39m         fast=fast.next.next\n",
      "\u001b[31mAttributeError\u001b[39m: 'list' object has no attribute 'next'"
     ]
    }
   ],
   "source": [
    "x.middlenode([1,2,3])"
   ]
  },
  {
   "cell_type": "code",
   "execution_count": null,
   "id": "56d322df-f469-4919-b2f5-0d0225a0b3be",
   "metadata": {},
   "outputs": [],
   "source": []
  },
  {
   "cell_type": "code",
   "execution_count": 7,
   "id": "05c32f96-cc30-4ea1-ab3a-0a0c063b4788",
   "metadata": {},
   "outputs": [],
   "source": [
    "def linked_list_cycle(array):\n",
    "\n",
    "    if len(array)<=pos+1:\n",
    "        return False\n",
    "\n",
    "    else:\n",
    "        return True"
   ]
  },
  {
   "cell_type": "code",
   "execution_count": 13,
   "id": "fd2f830d-e553-41c7-b11c-b521f4a139dd",
   "metadata": {},
   "outputs": [],
   "source": [
    "pos=2"
   ]
  },
  {
   "cell_type": "code",
   "execution_count": 18,
   "id": "eba67635-fca7-46c4-874b-5dd1784b372c",
   "metadata": {},
   "outputs": [
    {
     "data": {
      "text/plain": [
       "True"
      ]
     },
     "execution_count": 18,
     "metadata": {},
     "output_type": "execute_result"
    }
   ],
   "source": [
    "linked_list_cycle([1,1,2,3])"
   ]
  },
  {
   "cell_type": "code",
   "execution_count": 276,
   "id": "f78d4ffe-f36f-4140-90b7-780090c6cccc",
   "metadata": {},
   "outputs": [],
   "source": [
    "def reverse_linked_list(array):\n",
    "\n",
    "    return(array[-1::-1])"
   ]
  },
  {
   "cell_type": "code",
   "execution_count": 277,
   "id": "bca690d5-cad4-4aec-afb4-10da813a5d25",
   "metadata": {},
   "outputs": [
    {
     "data": {
      "text/plain": [
       "[7, 6, 1, 2, 5, 3, 2]"
      ]
     },
     "execution_count": 277,
     "metadata": {},
     "output_type": "execute_result"
    }
   ],
   "source": [
    "reverse_linked_list([2,3,5,2,1,6,7])"
   ]
  },
  {
   "cell_type": "code",
   "execution_count": null,
   "id": "d289d770-1c8a-4597-8c4e-37ea5c0efe7f",
   "metadata": {},
   "outputs": [],
   "source": []
  },
  {
   "cell_type": "code",
   "execution_count": 38,
   "id": "c172cc3e-d0eb-41e6-a0a1-8eeb5bc20ad6",
   "metadata": {},
   "outputs": [],
   "source": [
    "def SuMArray(array,i,j):\n",
    "    sumo=0\n",
    "    for k in range(i,j-1):\n",
    "        sumo+=array[k]\n",
    "\n",
    "    print(sumo)"
   ]
  },
  {
   "cell_type": "code",
   "execution_count": 42,
   "id": "04e3e157-2664-4dca-b513-b7842a170555",
   "metadata": {},
   "outputs": [
    {
     "name": "stdout",
     "output_type": "stream",
     "text": [
      "7\n"
     ]
    }
   ],
   "source": [
    "SuMArray([1,2,3,4,5,6],2,5)"
   ]
  },
  {
   "cell_type": "code",
   "execution_count": 112,
   "id": "3fe5bfc6-78a4-463a-8245-87af95f94512",
   "metadata": {},
   "outputs": [],
   "source": [
    "def isthispalindrome(string):\n",
    "    right=len(string)-1\n",
    "    left=0\n",
    "    x=int((len(string)/2))\n",
    "    if len(string)%2==0:\n",
    "        \n",
    "        for i in range(0,x-1):\n",
    "            if string[right]==string[left]:\n",
    "                right-=1\n",
    "                left+=1\n",
    "\n",
    "\n",
    "            else:\n",
    "                return False\n",
    "                \n",
    "        return True\n",
    "        \n",
    "    else:\n",
    "        return False\n",
    "    "
   ]
  },
  {
   "cell_type": "code",
   "execution_count": null,
   "id": "b2884fa9-04b5-4dfb-9ac5-7bf1496ec69e",
   "metadata": {},
   "outputs": [],
   "source": []
  },
  {
   "cell_type": "code",
   "execution_count": 114,
   "id": "c016c737-eba0-4596-9559-40070b9a622d",
   "metadata": {},
   "outputs": [
    {
     "data": {
      "text/plain": [
       "True"
      ]
     },
     "execution_count": 114,
     "metadata": {},
     "output_type": "execute_result"
    }
   ],
   "source": [
    "isthispalindrome(\"abcdeffedcba\")\n"
   ]
  },
  {
   "cell_type": "code",
   "execution_count": null,
   "id": "0ca34322-06d8-4646-ab4b-ff6201cb6190",
   "metadata": {},
   "outputs": [],
   "source": []
  },
  {
   "cell_type": "code",
   "execution_count": 274,
   "id": "c22a344e-6af4-4680-a196-7f0843766cad",
   "metadata": {},
   "outputs": [],
   "source": [
    "def maxsubar(array,k):\n",
    "    x=0\n",
    "    res=[]\n",
    "    final=[]\n",
    "    for i in range(len(array)-k+1):\n",
    "        x=0\n",
    "        for j in range(k):\n",
    "            x+=array[i+j]\n",
    "            \n",
    "        res.append(x)\n",
    "        if x==max(res):\n",
    "            final=(array[i:i+k])\n",
    "    return(final)\n",
    "    \n",
    "\n",
    "    "
   ]
  },
  {
   "cell_type": "code",
   "execution_count": null,
   "id": "442496d8-2b88-4f2f-ba7c-a3f039c6e597",
   "metadata": {},
   "outputs": [],
   "source": []
  },
  {
   "cell_type": "code",
   "execution_count": 275,
   "id": "0b60e4e2-63a3-49ac-99ba-ecb42355cbcf",
   "metadata": {},
   "outputs": [
    {
     "data": {
      "text/plain": [
       "[100, 6, 8]"
      ]
     },
     "execution_count": 275,
     "metadata": {},
     "output_type": "execute_result"
    }
   ],
   "source": [
    "maxsubar([1,5,8,9,2,100,6,8,7,6],3)"
   ]
  },
  {
   "cell_type": "code",
   "execution_count": null,
   "id": "2765e0c1-f1cc-4312-939d-b30ce4095c36",
   "metadata": {},
   "outputs": [],
   "source": []
  },
  {
   "cell_type": "code",
   "execution_count": 278,
   "id": "06d74863-9f59-4628-a637-f380d2de8e44",
   "metadata": {},
   "outputs": [],
   "source": [
    "def okokok(lst):\n",
    "\n",
    "    it = iter(lst)  # transforme la liste en itérateur\n",
    "    \n",
    "    print(next(it))  # ➜ 10\n",
    "    print(next(it))  # ➜ 20\n",
    "    print(next(it))  # ➜ 30\n",
    "    print(next(it))  # ➜ StopIteration (sauf si default est donné)\n"
   ]
  },
  {
   "cell_type": "code",
   "execution_count": 279,
   "id": "7b8b0999-dc0e-47db-a675-41c6de6f212a",
   "metadata": {},
   "outputs": [
    {
     "name": "stdout",
     "output_type": "stream",
     "text": [
      "10\n",
      "20\n",
      "30\n"
     ]
    },
    {
     "ename": "StopIteration",
     "evalue": "",
     "output_type": "error",
     "traceback": [
      "\u001b[31m---------------------------------------------------------------------------\u001b[39m",
      "\u001b[31mStopIteration\u001b[39m                             Traceback (most recent call last)",
      "\u001b[36mCell\u001b[39m\u001b[36m \u001b[39m\u001b[32mIn[279]\u001b[39m\u001b[32m, line 1\u001b[39m\n\u001b[32m----> \u001b[39m\u001b[32m1\u001b[39m \u001b[43mokokok\u001b[49m\u001b[43m(\u001b[49m\u001b[43m[\u001b[49m\u001b[32;43m10\u001b[39;49m\u001b[43m,\u001b[49m\u001b[43m \u001b[49m\u001b[32;43m20\u001b[39;49m\u001b[43m,\u001b[49m\u001b[43m \u001b[49m\u001b[32;43m30\u001b[39;49m\u001b[43m]\u001b[49m\u001b[43m)\u001b[49m\n",
      "\u001b[36mCell\u001b[39m\u001b[36m \u001b[39m\u001b[32mIn[278]\u001b[39m\u001b[32m, line 8\u001b[39m, in \u001b[36mokokok\u001b[39m\u001b[34m(lst)\u001b[39m\n\u001b[32m      6\u001b[39m \u001b[38;5;28mprint\u001b[39m(\u001b[38;5;28mnext\u001b[39m(it))  \u001b[38;5;66;03m# ➜ 20\u001b[39;00m\n\u001b[32m      7\u001b[39m \u001b[38;5;28mprint\u001b[39m(\u001b[38;5;28mnext\u001b[39m(it))  \u001b[38;5;66;03m# ➜ 30\u001b[39;00m\n\u001b[32m----> \u001b[39m\u001b[32m8\u001b[39m \u001b[38;5;28mprint\u001b[39m(\u001b[38;5;28;43mnext\u001b[39;49m\u001b[43m(\u001b[49m\u001b[43mit\u001b[49m\u001b[43m)\u001b[49m)\n",
      "\u001b[31mStopIteration\u001b[39m: "
     ]
    }
   ],
   "source": [
    "okokok([10, 20, 30])"
   ]
  },
  {
   "cell_type": "code",
   "execution_count": null,
   "id": "df5a9313-44b2-47d2-a514-5e29cad9af7d",
   "metadata": {},
   "outputs": [],
   "source": []
  },
  {
   "cell_type": "code",
   "execution_count": 21,
   "id": "c9e4472d-726d-438d-9a1a-2ad165c6b13f",
   "metadata": {},
   "outputs": [],
   "source": [
    "def remove_linked_list(array,value):\n",
    "    res=[]\n",
    "    for i in array:\n",
    "        if i!=value:\n",
    "            res.append(i)\n",
    "        else:\n",
    "            pass\n",
    "    return res"
   ]
  },
  {
   "cell_type": "code",
   "execution_count": 22,
   "id": "31192c79-c21b-499a-89ee-d9b821e78ea1",
   "metadata": {},
   "outputs": [
    {
     "data": {
      "text/plain": [
       "[1, 2, 4, 5]"
      ]
     },
     "execution_count": 22,
     "metadata": {},
     "output_type": "execute_result"
    }
   ],
   "source": [
    "remove_linked_list([1,2,4,6,5,6,6],6)"
   ]
  },
  {
   "cell_type": "code",
   "execution_count": null,
   "id": "07d3a48f-7e89-4214-997d-dc01db8aa269",
   "metadata": {},
   "outputs": [],
   "source": []
  },
  {
   "cell_type": "code",
   "execution_count": 44,
   "id": "50ec6ea0-5cd7-4b79-bbd0-3bc187326b36",
   "metadata": {},
   "outputs": [],
   "source": [
    "\n",
    "def reverse_linked_list_2(array):\n",
    "    if len(array)%2!=0:\n",
    "        x=int((len(array))/2)\n",
    "        y=array[x-1]\n",
    "        z=array[x+1]\n",
    "        array[x-1]=z\n",
    "        array[x+1]=y\n",
    "\n",
    "        return array\n",
    "\n",
    "    elif len(array)%2==0:\n",
    "        o=int((len(array)/2))\n",
    "        h=int((len(array)-1)/2)\n",
    "        v=array[o]\n",
    "        u=array[h]\n",
    "        array[h]=v\n",
    "        array[o]=u\n",
    "\n",
    "        return array\n",
    "        \n",
    "        \n",
    "    "
   ]
  },
  {
   "cell_type": "code",
   "execution_count": 46,
   "id": "2e7ee6ab-dab0-471f-8c5d-334416454b3e",
   "metadata": {},
   "outputs": [
    {
     "data": {
      "text/plain": [
       "[2, 3, 1]"
      ]
     },
     "execution_count": 46,
     "metadata": {},
     "output_type": "execute_result"
    }
   ],
   "source": [
    "reverse_linked_list_2([1,3,2])"
   ]
  },
  {
   "cell_type": "code",
   "execution_count": 133,
   "id": "8d130d9f-3e1b-45f2-9c53-32b874c3c713",
   "metadata": {},
   "outputs": [],
   "source": [
    "def palindrom_numbers (array):\n",
    "    left=array[0]\n",
    "    right=array[len(array)-1]\n",
    "    x=int((len(array))/2)\n",
    "    if len(array)%2==0:\n",
    "\n",
    "        for i in range(0,x+1):\n",
    "            if right==left:\n",
    "                right=array[len(array)-1-i]\n",
    "                left=array[0+i]\n",
    "            else: return False\n",
    "        return True\n",
    "    else : \n",
    "\n",
    "        return False"
   ]
  },
  {
   "cell_type": "code",
   "execution_count": null,
   "id": "ef8dc0b9-8103-4595-bba7-7550b49c5131",
   "metadata": {},
   "outputs": [],
   "source": []
  },
  {
   "cell_type": "code",
   "execution_count": 134,
   "id": "7d12e66c-32de-4407-b863-ae8f5868d6db",
   "metadata": {},
   "outputs": [
    {
     "data": {
      "text/plain": [
       "True"
      ]
     },
     "execution_count": 134,
     "metadata": {},
     "output_type": "execute_result"
    }
   ],
   "source": [
    "palindrom_numbers ([1,2,3,4,5,6,7,8,8,7,6,5,4,3,2,1])\n"
   ]
  },
  {
   "cell_type": "code",
   "execution_count": null,
   "id": "43441f2a-06eb-4fe3-851b-fb3718bc570f",
   "metadata": {},
   "outputs": [],
   "source": []
  },
  {
   "cell_type": "code",
   "execution_count": 1,
   "id": "7ee4a3dd-8de4-44ca-a94b-36158cfb71e9",
   "metadata": {},
   "outputs": [],
   "source": [
    "def merge_two_sorted_linked_lists(array1,array2):\n",
    "    x=[]\n",
    "    x=array1+array2\n",
    "    print(x)\n"
   ]
  },
  {
   "cell_type": "code",
   "execution_count": 2,
   "id": "58723581-04f0-40a5-a1a6-c1940ac1a3bf",
   "metadata": {},
   "outputs": [
    {
     "name": "stdout",
     "output_type": "stream",
     "text": [
      "[1, 2, 3, 4, 5, 6]\n"
     ]
    }
   ],
   "source": [
    "merge_two_sorted_linked_lists([1,2,3],[4,5,6])\n"
   ]
  },
  {
   "cell_type": "code",
   "execution_count": 9,
   "id": "fb918ec9-ddf5-408d-8c9c-769319e9b661",
   "metadata": {},
   "outputs": [],
   "source": [
    "def merge_two_sorted_weird_list(array1,array2):\n",
    "    x=[]\n",
    "\n",
    "    for i in range(len(array1)):\n",
    "        x.append(array1[i])\n",
    "        x.append(array2[i])\n",
    "\n",
    "    return x\n"
   ]
  },
  {
   "cell_type": "code",
   "execution_count": 11,
   "id": "eb2b3276-7ce7-4f34-901b-d0c53d52be88",
   "metadata": {},
   "outputs": [
    {
     "data": {
      "text/plain": [
       "[1, 1, 2, 3, 4, 4]"
      ]
     },
     "execution_count": 11,
     "metadata": {},
     "output_type": "execute_result"
    }
   ],
   "source": [
    "merge_two_sorted_weird_list([1,2,4],[1,3,4])"
   ]
  },
  {
   "cell_type": "code",
   "execution_count": null,
   "id": "cdb4a897-058f-4537-81bd-b4ae3758f3f9",
   "metadata": {},
   "outputs": [],
   "source": []
  },
  {
   "cell_type": "code",
   "execution_count": 111,
   "id": "f4063ada-0092-40ce-82ba-25c2b0cdab16",
   "metadata": {},
   "outputs": [],
   "source": [
    "class MinStack():\n",
    "\n",
    "    def __init__(self):\n",
    "        self.x=x\n",
    "    def min_stack(self):\n",
    "        self.x=[]\n",
    "        return self.x\n",
    "    def void_push(self,val):\n",
    "        self.x.append(val)\n",
    "        return self.x\n",
    "    def void_pop(self):\n",
    "        self.x.pop()\n",
    "        return self.x\n",
    "    def top(self):\n",
    "        return self.x[-1]\n",
    "    def getmin(self):\n",
    "        return min(self.x)\n",
    "        \n",
    "        "
   ]
  },
  {
   "cell_type": "code",
   "execution_count": 112,
   "id": "2cbb9245-54aa-4554-83e5-a2d24feaadc7",
   "metadata": {},
   "outputs": [],
   "source": [
    "stack=MinStack()\n",
    "    \n",
    "    "
   ]
  },
  {
   "cell_type": "code",
   "execution_count": 129,
   "id": "82a09d5b-994d-4d15-b5e7-16a4b9c8aabb",
   "metadata": {},
   "outputs": [
    {
     "name": "stdout",
     "output_type": "stream",
     "text": [
      "[6, 8]\n"
     ]
    }
   ],
   "source": [
    "x=stack.void_push(8)\n",
    "print(x)"
   ]
  },
  {
   "cell_type": "code",
   "execution_count": null,
   "id": "b5e11d7b-e7fb-4e71-99d5-2102714b086f",
   "metadata": {},
   "outputs": [],
   "source": []
  },
  {
   "cell_type": "code",
   "execution_count": 172,
   "id": "76c7befc-4e2d-48fa-8ade-0affd341659d",
   "metadata": {},
   "outputs": [],
   "source": [
    "def valid_parentheses (s):\n",
    "    for i in range(len(s)-2):\n",
    "        if s[i]==\"(\" or s[i]==\"[\" or s[i]==\"{\":\n",
    "            if (s[i]==\"(\" and s[int(i)+1]==\")\") or (s[i]==\"[\" and s[int(i)+1]==\"]\") or (s[i]==\"{\" and s[int(i)+1]==\"}\"):\n",
    "                return True\n",
    "\n",
    "            else:\n",
    "                return False\n",
    "\n",
    "\n",
    "        else:\n",
    "            return False"
   ]
  },
  {
   "cell_type": "code",
   "execution_count": 173,
   "id": "4da776ea-4420-4bb2-8067-a7b8c7cd9a58",
   "metadata": {},
   "outputs": [
    {
     "data": {
      "text/plain": [
       "True"
      ]
     },
     "execution_count": 173,
     "metadata": {},
     "output_type": "execute_result"
    }
   ],
   "source": [
    "valid_parentheses(\"()[(\")"
   ]
  },
  {
   "cell_type": "code",
   "execution_count": 164,
   "id": "e42f585e-7349-4f1a-b6b6-295374ad51c0",
   "metadata": {},
   "outputs": [],
   "source": [
    "s=\"adadadad\""
   ]
  },
  {
   "cell_type": "code",
   "execution_count": 153,
   "id": "d0e70197-8ce2-406e-8098-64c2efef1730",
   "metadata": {},
   "outputs": [
    {
     "name": "stdout",
     "output_type": "stream",
     "text": [
      "d\n"
     ]
    }
   ],
   "source": [
    "i=0\n",
    "print(s[i+1])"
   ]
  },
  {
   "cell_type": "code",
   "execution_count": null,
   "id": "8f911ff3-8798-47f5-970e-f021a6f8d1fc",
   "metadata": {},
   "outputs": [],
   "source": []
  },
  {
   "cell_type": "code",
   "execution_count": 82,
   "id": "f3ff7b51-2336-4d16-90ec-8a23e923b323",
   "metadata": {},
   "outputs": [],
   "source": [
    "def evaluate_reverse_polish_notation(tokens):\n",
    "    num=[]\n",
    "    signe=[]\n",
    "    res=[]\n",
    "    for i in tokens:\n",
    "        if i.isnumeric():\n",
    "            num.append(i)\n",
    "            print(num)\n",
    "        else:\n",
    "            signe.append(i)\n",
    "            print(signe)\n",
    "\n",
    "\n",
    "    print(num,signe)\n",
    "\n",
    "    while signe:\n",
    "\n",
    "        op=signe.pop(0)\n",
    "        num1=int(num.pop(0))\n",
    "        num2=int(num.pop(0))\n",
    "\n",
    "        if op == \"+\":\n",
    "            res=num1+num2\n",
    "        elif op == \"-\":\n",
    "            res=num1-num2\n",
    "        elif op == \"*\":\n",
    "            res=num1*num2\n",
    "        elif op == \"/\":\n",
    "            res=num1/num2\n",
    "        else:\n",
    "            raise ValueError(\"Opérateur inconnu :\", op)\n",
    "\n",
    "        num.insert(0, res)  # on met le résultat au début pour continuer à évaluer\n",
    "\n",
    "    return num[0]    \n",
    "            "
   ]
  },
  {
   "cell_type": "code",
   "execution_count": null,
   "id": "febce54f-0d8b-4291-9262-e355e9a44c54",
   "metadata": {},
   "outputs": [],
   "source": []
  },
  {
   "cell_type": "code",
   "execution_count": 83,
   "id": "ddd44733-2aa8-4e91-90e2-8abf546d1486",
   "metadata": {},
   "outputs": [
    {
     "name": "stdout",
     "output_type": "stream",
     "text": [
      "['2']\n",
      "['2', '5']\n",
      "['2', '5', '6']\n",
      "['/']\n",
      "['/', '+']\n",
      "['2', '5', '6'] ['/', '+']\n"
     ]
    },
    {
     "data": {
      "text/plain": [
       "6"
      ]
     },
     "execution_count": 83,
     "metadata": {},
     "output_type": "execute_result"
    }
   ],
   "source": [
    "evaluate_reverse_polish_notation([\"2\",\"5\",\"6\",\"/\",\"+\"])"
   ]
  },
  {
   "cell_type": "code",
   "execution_count": null,
   "id": "0fdb27b1-bb35-4fd1-8137-ef68b275a528",
   "metadata": {},
   "outputs": [],
   "source": []
  },
  {
   "cell_type": "code",
   "execution_count": 42,
   "id": "47c398d3-f742-4317-aca7-06f57c58184e",
   "metadata": {},
   "outputs": [],
   "source": [
    "def sortordesc(array): \n",
    "    array.sort(reverse=False)\n",
    "    return array"
   ]
  },
  {
   "cell_type": "code",
   "execution_count": 43,
   "id": "8928cdf4-ae54-46b9-931b-c85a35d483a2",
   "metadata": {},
   "outputs": [
    {
     "data": {
      "text/plain": [
       "[3, 5, 8, 33, 41, 91]"
      ]
     },
     "execution_count": 43,
     "metadata": {},
     "output_type": "execute_result"
    }
   ],
   "source": [
    "sortordesc([33,3,41,5,8,91])"
   ]
  },
  {
   "cell_type": "code",
   "execution_count": null,
   "id": "7e1420da-0043-4334-b2bf-7809075d7d66",
   "metadata": {},
   "outputs": [],
   "source": []
  },
  {
   "cell_type": "code",
   "execution_count": 73,
   "id": "2e3283c9-99fe-4181-85c0-6898068c4db7",
   "metadata": {},
   "outputs": [],
   "source": [
    "class queuestack():\n",
    "\n",
    "    def __init__(self):\n",
    "        pass\n",
    "\n",
    "    def initliste(self):\n",
    "        self.liste=[]\n",
    "        return self.liste\n",
    "\n",
    "    def push(self,x):\n",
    "        self.liste.append(x)\n",
    "        return self.liste\n",
    "\n",
    "    def pop(self):\n",
    "        self.liste.pop()\n",
    "        return self.liste\n",
    "\n",
    "    def top(self):\n",
    "        return self.liste[-1]\n",
    "\n",
    "    def empty(self):\n",
    "        if not self.liste :\n",
    "            return True\n",
    "        else:\n",
    "            return False\n",
    "        \n",
    "        "
   ]
  },
  {
   "cell_type": "code",
   "execution_count": 74,
   "id": "0ffcf771-1860-4e56-ab4e-b6408e3cbf72",
   "metadata": {},
   "outputs": [],
   "source": [
    "x=queuestack()"
   ]
  },
  {
   "cell_type": "code",
   "execution_count": 75,
   "id": "15130813-9466-439c-b0fd-72e0361d9fa5",
   "metadata": {},
   "outputs": [
    {
     "data": {
      "text/plain": [
       "[]"
      ]
     },
     "execution_count": 75,
     "metadata": {},
     "output_type": "execute_result"
    }
   ],
   "source": [
    "x.initliste()"
   ]
  },
  {
   "cell_type": "code",
   "execution_count": 76,
   "id": "c0eab726-7efd-4b2f-b615-ca78831db4b6",
   "metadata": {},
   "outputs": [
    {
     "data": {
      "text/plain": [
       "[3]"
      ]
     },
     "execution_count": 76,
     "metadata": {},
     "output_type": "execute_result"
    }
   ],
   "source": [
    "x.push(3)"
   ]
  },
  {
   "cell_type": "code",
   "execution_count": 77,
   "id": "bd19428f-ae1b-4c93-a30e-79d8d66552ab",
   "metadata": {},
   "outputs": [
    {
     "data": {
      "text/plain": [
       "[3, 4]"
      ]
     },
     "execution_count": 77,
     "metadata": {},
     "output_type": "execute_result"
    }
   ],
   "source": [
    "x.push(4)"
   ]
  },
  {
   "cell_type": "code",
   "execution_count": 78,
   "id": "d36ba357-42f6-4de3-b655-f3e509853aa1",
   "metadata": {},
   "outputs": [
    {
     "data": {
      "text/plain": [
       "[3]"
      ]
     },
     "execution_count": 78,
     "metadata": {},
     "output_type": "execute_result"
    }
   ],
   "source": [
    "x.pop()"
   ]
  },
  {
   "cell_type": "code",
   "execution_count": 79,
   "id": "18eb1143-1b2f-48c8-8fa9-9419a373d20c",
   "metadata": {},
   "outputs": [
    {
     "data": {
      "text/plain": [
       "[3, 6]"
      ]
     },
     "execution_count": 79,
     "metadata": {},
     "output_type": "execute_result"
    }
   ],
   "source": [
    "x.push(6)"
   ]
  },
  {
   "cell_type": "code",
   "execution_count": 80,
   "id": "12f1fd13-16cd-490d-90a4-2e4dc9436ba9",
   "metadata": {},
   "outputs": [
    {
     "data": {
      "text/plain": [
       "6"
      ]
     },
     "execution_count": 80,
     "metadata": {},
     "output_type": "execute_result"
    }
   ],
   "source": [
    "x.top()"
   ]
  },
  {
   "cell_type": "code",
   "execution_count": 81,
   "id": "f689dd0e-e1df-42fc-9379-4297ff6bc714",
   "metadata": {},
   "outputs": [
    {
     "data": {
      "text/plain": [
       "False"
      ]
     },
     "execution_count": 81,
     "metadata": {},
     "output_type": "execute_result"
    }
   ],
   "source": [
    "x.empty()"
   ]
  },
  {
   "cell_type": "code",
   "execution_count": 82,
   "id": "10e6a516-05f7-4c4b-8a6f-2b6dc388ac06",
   "metadata": {},
   "outputs": [
    {
     "data": {
      "text/plain": [
       "[3]"
      ]
     },
     "execution_count": 82,
     "metadata": {},
     "output_type": "execute_result"
    }
   ],
   "source": [
    "x.pop()"
   ]
  },
  {
   "cell_type": "code",
   "execution_count": 83,
   "id": "f29bbc30-7ef0-478d-a0cd-46c715b470d3",
   "metadata": {},
   "outputs": [
    {
     "data": {
      "text/plain": [
       "[]"
      ]
     },
     "execution_count": 83,
     "metadata": {},
     "output_type": "execute_result"
    }
   ],
   "source": [
    "x.pop()"
   ]
  },
  {
   "cell_type": "code",
   "execution_count": 84,
   "id": "f9b68a90-03ea-445d-b026-f7bce97395ba",
   "metadata": {},
   "outputs": [
    {
     "data": {
      "text/plain": [
       "True"
      ]
     },
     "execution_count": 84,
     "metadata": {},
     "output_type": "execute_result"
    }
   ],
   "source": [
    "x.empty()"
   ]
  },
  {
   "cell_type": "code",
   "execution_count": 85,
   "id": "eb4ad594-2bfc-4012-b551-897edae28ce9",
   "metadata": {},
   "outputs": [
    {
     "data": {
      "text/plain": [
       "[1]"
      ]
     },
     "execution_count": 85,
     "metadata": {},
     "output_type": "execute_result"
    }
   ],
   "source": [
    "x.push(1)"
   ]
  },
  {
   "cell_type": "code",
   "execution_count": 86,
   "id": "3841f37b-eded-449b-954f-7a101af04a67",
   "metadata": {},
   "outputs": [
    {
     "data": {
      "text/plain": [
       "[]"
      ]
     },
     "execution_count": 86,
     "metadata": {},
     "output_type": "execute_result"
    }
   ],
   "source": [
    "x.pop()"
   ]
  },
  {
   "cell_type": "code",
   "execution_count": 87,
   "id": "86a42396-4b5c-4940-867d-9f940220d80e",
   "metadata": {},
   "outputs": [
    {
     "data": {
      "text/plain": [
       "True"
      ]
     },
     "execution_count": 87,
     "metadata": {},
     "output_type": "execute_result"
    }
   ],
   "source": [
    "x.empty()"
   ]
  },
  {
   "cell_type": "code",
   "execution_count": 88,
   "id": "68c00b9b-5dd6-4375-947b-02ed0f5dd0ab",
   "metadata": {},
   "outputs": [
    {
     "data": {
      "text/plain": [
       "[4]"
      ]
     },
     "execution_count": 88,
     "metadata": {},
     "output_type": "execute_result"
    }
   ],
   "source": [
    "x.push(4)"
   ]
  },
  {
   "cell_type": "code",
   "execution_count": 89,
   "id": "3c1fdde2-bdea-41fe-a17c-52701d17f69a",
   "metadata": {},
   "outputs": [
    {
     "data": {
      "text/plain": [
       "False"
      ]
     },
     "execution_count": 89,
     "metadata": {},
     "output_type": "execute_result"
    }
   ],
   "source": [
    "x.empty()"
   ]
  },
  {
   "cell_type": "code",
   "execution_count": null,
   "id": "f3816c51-06c1-488c-93fd-d5914dc77374",
   "metadata": {},
   "outputs": [],
   "source": []
  },
  {
   "cell_type": "code",
   "execution_count": null,
   "id": "5aaa6f54-3b48-4fc0-af54-d219243ba3b0",
   "metadata": {},
   "outputs": [],
   "source": []
  },
  {
   "cell_type": "code",
   "execution_count": 130,
   "id": "91157a17-896b-4f70-a00d-47c59538c421",
   "metadata": {},
   "outputs": [],
   "source": [
    "def time_needed_to_buy_tickets(array,k):\n",
    "    \n",
    "    x=[]\n",
    "    o=0\n",
    "    while array[k]!=0:\n",
    "        for i in range(len(array)):\n",
    "            if array[i]!=0:\n",
    "                x.append(array[i]-1)\n",
    "                array[i]=array[i]-1\n",
    "                print(x)\n",
    "                o+=1\n",
    "            else:\n",
    "                continue\n",
    "    return o    "
   ]
  },
  {
   "cell_type": "code",
   "execution_count": 131,
   "id": "b7d04647-6c9d-4adb-a7ee-005c34820573",
   "metadata": {},
   "outputs": [
    {
     "name": "stdout",
     "output_type": "stream",
     "text": [
      "[2]\n",
      "[2, 3]\n",
      "[2, 3, 4]\n",
      "[2, 3, 4, 5]\n",
      "[2, 3, 4, 5, 3]\n",
      "[2, 3, 4, 5, 3, 1]\n",
      "[2, 3, 4, 5, 3, 1, 2]\n",
      "[2, 3, 4, 5, 3, 1, 2, 3]\n",
      "[2, 3, 4, 5, 3, 1, 2, 3, 4]\n",
      "[2, 3, 4, 5, 3, 1, 2, 3, 4, 2]\n",
      "[2, 3, 4, 5, 3, 1, 2, 3, 4, 2, 0]\n",
      "[2, 3, 4, 5, 3, 1, 2, 3, 4, 2, 0, 1]\n",
      "[2, 3, 4, 5, 3, 1, 2, 3, 4, 2, 0, 1, 2]\n",
      "[2, 3, 4, 5, 3, 1, 2, 3, 4, 2, 0, 1, 2, 3]\n",
      "[2, 3, 4, 5, 3, 1, 2, 3, 4, 2, 0, 1, 2, 3, 1]\n",
      "[2, 3, 4, 5, 3, 1, 2, 3, 4, 2, 0, 1, 2, 3, 1, 0]\n",
      "[2, 3, 4, 5, 3, 1, 2, 3, 4, 2, 0, 1, 2, 3, 1, 0, 1]\n",
      "[2, 3, 4, 5, 3, 1, 2, 3, 4, 2, 0, 1, 2, 3, 1, 0, 1, 2]\n",
      "[2, 3, 4, 5, 3, 1, 2, 3, 4, 2, 0, 1, 2, 3, 1, 0, 1, 2, 0]\n",
      "[2, 3, 4, 5, 3, 1, 2, 3, 4, 2, 0, 1, 2, 3, 1, 0, 1, 2, 0, 0]\n",
      "[2, 3, 4, 5, 3, 1, 2, 3, 4, 2, 0, 1, 2, 3, 1, 0, 1, 2, 0, 0, 1]\n",
      "[2, 3, 4, 5, 3, 1, 2, 3, 4, 2, 0, 1, 2, 3, 1, 0, 1, 2, 0, 0, 1, 0]\n"
     ]
    },
    {
     "data": {
      "text/plain": [
       "22"
      ]
     },
     "execution_count": 131,
     "metadata": {},
     "output_type": "execute_result"
    }
   ],
   "source": [
    "time_needed_to_buy_tickets([3,4,5,6,4],3)"
   ]
  },
  {
   "cell_type": "code",
   "execution_count": null,
   "id": "92c68126-9d6d-4237-b7c9-0b7a5d452443",
   "metadata": {},
   "outputs": [],
   "source": []
  },
  {
   "cell_type": "code",
   "execution_count": 132,
   "id": "3eddf543-3eeb-41a0-85df-f9a541fa48d4",
   "metadata": {},
   "outputs": [],
   "source": [
    "def time_needed_to_buy_ticketsV2(tickets, k):\n",
    "    result = 0\n",
    "    for i in range(len(tickets)):\n",
    "        if i <= k:\n",
    "            result += min(tickets[i], tickets[k])\n",
    "        else:\n",
    "            result += min(tickets[i], tickets[k] - 1)\n",
    "    return result\n"
   ]
  },
  {
   "cell_type": "code",
   "execution_count": 133,
   "id": "b298ffd0-7e95-478b-8893-a2505e1d1319",
   "metadata": {},
   "outputs": [
    {
     "data": {
      "text/plain": [
       "22"
      ]
     },
     "execution_count": 133,
     "metadata": {},
     "output_type": "execute_result"
    }
   ],
   "source": [
    "time_needed_to_buy_ticketsV2([3,4,5,6,4],3)"
   ]
  },
  {
   "cell_type": "code",
   "execution_count": null,
   "id": "2a13c6e0-01bd-4a30-9c43-90f0a600f572",
   "metadata": {},
   "outputs": [],
   "source": []
  },
  {
   "cell_type": "code",
   "execution_count": 1,
   "id": "fb2459f8-81fd-4c01-b8af-f14849b908aa",
   "metadata": {},
   "outputs": [],
   "source": [
    "def reverse_first_k_elements(array,k):\n",
    "    o=0\n",
    "    x=[]\n",
    "    y=[]\n",
    "    for i in range(len(array)):\n",
    "        if i < k-1:\n",
    "            x.append(array[i])\n",
    "        else:\n",
    "            y.append(array[i])\n",
    "\n",
    "    array = x[::-1] + y\n",
    "    return array\n"
   ]
  },
  {
   "cell_type": "code",
   "execution_count": 2,
   "id": "0869b9a5-2cf9-422f-a3fd-f0239ce31e2e",
   "metadata": {},
   "outputs": [
    {
     "data": {
      "text/plain": [
       "[10, 20, 30, 40, 50, 60, 70, 80, 90, 100]"
      ]
     },
     "execution_count": 2,
     "metadata": {},
     "output_type": "execute_result"
    }
   ],
   "source": [
    "reverse_first_k_elements([10,20,30,40,50,60,70,80,90,100],2)"
   ]
  },
  {
   "cell_type": "code",
   "execution_count": null,
   "id": "8bd08dc1-21e9-44df-965c-a1b60bb569e6",
   "metadata": {},
   "outputs": [],
   "source": []
  },
  {
   "cell_type": "code",
   "execution_count": 2,
   "id": "fde3f2ab-c123-47cd-aaf5-274ad2185463",
   "metadata": {},
   "outputs": [],
   "source": [
    "def average_levels_binary_tree(array):\n",
    "    y=1\n",
    "    i=1\n",
    "    z=2\n",
    "    x=(2**i)-1\n",
    "    v=(2**z)-1\n",
    "    n=len(array)\n",
    "    if n==1:\n",
    "        return array[0]\n",
    "        \n",
    "    while z != n:\n",
    "\n",
    "        y+=array[x]+array[v]\n",
    "\n",
    "        i+=1\n",
    "        z+=1\n",
    "    "
   ]
  },
  {
   "cell_type": "code",
   "execution_count": 3,
   "id": "ffecf3e6-0778-433c-ba56-afb6a0885845",
   "metadata": {},
   "outputs": [],
   "source": [
    "average_levels_binary_tree([3,0,2,0,0,4,0])"
   ]
  },
  {
   "cell_type": "code",
   "execution_count": 43,
   "id": "070dd46e-1e3d-4827-b2c6-d62ee7a4e3a5",
   "metadata": {},
   "outputs": [],
   "source": [
    "def average_levels_custom(tree):\n",
    "    result = []\n",
    "    n = len(tree)\n",
    "    level = 0\n",
    "    while True:\n",
    "        start = 2**level - 1\n",
    "        if start >= n:\n",
    "            break\n",
    "        end = min(2**(level+1) - 2, n - 1)\n",
    "        level_vals = tree[start:end+1]\n",
    "        # Somme : on traite None comme 0 pour la somme\n",
    "        total = sum(0 if v is None else v for v in level_vals)\n",
    "        # Compte des non-zéros (et on ignore None aussi)\n",
    "        nonzero_count = sum(1 for v in level_vals if v not in (0, None))\n",
    "        if nonzero_count > 0:\n",
    "            result.append(total / nonzero_count)\n",
    "        else:\n",
    "            result.append(None)  # pas de non-zéro à ce niveau\n",
    "        level += 1\n",
    "    return result\n"
   ]
  },
  {
   "cell_type": "code",
   "execution_count": 44,
   "id": "6a04d8ca-f25f-48c6-8e90-b1ebb2d48242",
   "metadata": {},
   "outputs": [
    {
     "data": {
      "text/plain": [
       "[3.0, 14.5, 11.0]"
      ]
     },
     "execution_count": 44,
     "metadata": {},
     "output_type": "execute_result"
    }
   ],
   "source": [
    "average_levels_custom([3,9,20,0,0,15,7])"
   ]
  },
  {
   "cell_type": "code",
   "execution_count": null,
   "id": "0a045956-76f5-44ec-9d57-66152d470df3",
   "metadata": {},
   "outputs": [],
   "source": []
  },
  {
   "cell_type": "code",
   "execution_count": 23,
   "id": "045d0947-681d-4fb3-a3fc-0ec6195be92e",
   "metadata": {},
   "outputs": [],
   "source": [
    "from collections import deque \n",
    "class move_tree():\n",
    "    def __init__(self,data):\n",
    "        self.right=None\n",
    "        self.left=None\n",
    "        self.data=data\n",
    "\n",
    "    def min_depth(self):\n",
    "        queue= deque([self.data])\n",
    "        result=0\n",
    "        i=0\n",
    "        right=0\n",
    "        \n",
    "        \n",
    "        if not self.data or len(self.data)==1 or self.data[0] == None or self.data[i+1]==None and self.data[i+2] == None:\n",
    "            return 0\n",
    "        x=queue.popleft()\n",
    "        print(x)\n",
    "        y=(int(len(x)/2))\n",
    "        for i in range(y):\n",
    "            if x[i+1+right] !=None or x[i+2+right]!=None:\n",
    "                right+=1\n",
    "                result+=1\n",
    "        return result\n",
    "        \n",
    "        "
   ]
  },
  {
   "cell_type": "code",
   "execution_count": 24,
   "id": "7a5decf6-555b-44ce-8284-c497947c6aa1",
   "metadata": {},
   "outputs": [],
   "source": [
    "x=move_tree([1,2,3,4,5,6,7,8,9,10,11,12,13])"
   ]
  },
  {
   "cell_type": "code",
   "execution_count": 25,
   "id": "10641f50-99d2-444e-b500-aa419fed20c7",
   "metadata": {},
   "outputs": [
    {
     "name": "stdout",
     "output_type": "stream",
     "text": [
      "[1, 2, 3, 4, 5, 6, 7, 8, 9, 10, 11, 12, 13]\n"
     ]
    },
    {
     "data": {
      "text/plain": [
       "6"
      ]
     },
     "execution_count": 25,
     "metadata": {},
     "output_type": "execute_result"
    }
   ],
   "source": [
    "x.min_depth()"
   ]
  },
  {
   "cell_type": "code",
   "execution_count": 397,
   "id": "d636df26-8e33-4be9-a4eb-a78eea7e4c7f",
   "metadata": {},
   "outputs": [],
   "source": [
    "from collections import deque\n",
    "from typing import Optional\n",
    "\n",
    "class TreeNode:\n",
    "    def __init__(self, val=0, left: Optional[\"TreeNode\"]=None, right: Optional[\"TreeNode\"]=None):\n",
    "        self.val = val\n",
    "        self.left = left\n",
    "        self.right = right\n",
    "\n",
    "    def build_tree_from_list(self,arr: list) -> Optional[\"TreeNode\"]:\n",
    "        if not arr:\n",
    "            return None\n",
    "        nodes = [None if v is None else TreeNode(v) for v in arr]\n",
    "        for i, node in enumerate(nodes):\n",
    "            if node:\n",
    "                left_i = 2 * i + 1\n",
    "                right_i = 2 * i + 2\n",
    "                if left_i < len(arr):\n",
    "                    node.left = nodes[left_i]\n",
    "                if right_i < len(arr):\n",
    "                    node.right = nodes[right_i]\n",
    "        return nodes[0]\n",
    "\n",
    "class Solution:\n",
    "    def maxDepth(self, root: Optional[TreeNode]) -> int:\n",
    "        level = 0\n",
    "        queue = deque([root])\n",
    "        while queue:\n",
    "            level += 1\n",
    "            for _ in range(len(queue)):        # traite tous les nœuds du niveau courant\n",
    "                node = queue.popleft()\n",
    "                if node.left:\n",
    "                    queue.append(node.left)\n",
    "                if node.right:\n",
    "                    queue.append(node.right)\n",
    "        return level\n",
    "        \n",
    "    def valminmax(self, root: Optional[TreeNode]) -> int:\n",
    "        m=[]\n",
    "        p=[]\n",
    "        queue = deque([root])\n",
    "        while queue:\n",
    "            for i in range(len(queue)):        # traite tous les nœuds du niveau courant\n",
    "                node = queue.popleft()\n",
    "                if node.left:\n",
    "                    queue.append(node.left)\n",
    "                    x=min(node.val,node.left.val)\n",
    "                    m.append(x)\n",
    "                    u=max(node.val,node.left.val)\n",
    "                    p.append(u)\n",
    "                if node.right:\n",
    "                    queue.append(node.right)\n",
    "                    y=min(node.val,node.right.val)\n",
    "                    m.append(y)\n",
    "                    k=max(node.val,node.right.val)\n",
    "                    p.append(k)\n",
    "            z=min(m)\n",
    "            j=max(p)\n",
    "        return z,j\n",
    "\n",
    "    def valminmax_v2(self, root: Optional[TreeNode]) -> int:\n",
    "        min_val=float('inf')\n",
    "        max_val=float('-inf')\n",
    "        queue = deque([root])\n",
    "        \n",
    "        while queue:\n",
    "            for i in range(len(queue)):        # traite tous les nœuds du niveau courant\n",
    "                node = queue.popleft()\n",
    "                if node.val<min_val:\n",
    "                    min_val=node.val\n",
    "                elif node.val>max_val:\n",
    "                    max_val=node.val\n",
    "                if node.right:\n",
    "                    queue.append(node.right)\n",
    "                    if node.right.val<min_val:\n",
    "                        min_val=node.right.val\n",
    "                    elif node.right.val>max_val:\n",
    "                        max_val=node.right.val\n",
    "                if node.left:\n",
    "                    queue.append(node.left)\n",
    "                    if node.left.val<min_val:\n",
    "                        min_val=node.left.val\n",
    "                    elif node.left.val>max_val:\n",
    "                        max_val=node.left.val\n",
    "        return min_val,max_val\n",
    "                \n",
    "\n",
    "    def binary_tree_lever_order_traversal(self, root: Optional[TreeNode]) -> int:\n",
    "        queue = deque([root])\n",
    "        level=[]\n",
    "        level.append([root.val])\n",
    "        while queue:\n",
    "            level_nodes=[]        \n",
    "            node = queue.popleft()\n",
    "            if node.left:\n",
    "                queue.append(node.left)\n",
    "                level_nodes.append(node.left.val)   \n",
    "            if node.right:\n",
    "                queue.append(node.right)\n",
    "                level_nodes.append(node.right.val)\n",
    "\n",
    "            if level_nodes:\n",
    "                level.append(level_nodes)\n",
    "\n",
    "                \n",
    "        return level\n",
    "\n",
    "\n",
    "    def checkmemetree(self, p: Optional[TreeNode],q: Optional[TreeNode]) -> int:\n",
    "        A = deque([p])\n",
    "        B = deque([q])\n",
    "\n",
    "        while A and B:\n",
    "            n1 = A.popleft()\n",
    "            n2 = B.popleft()\n",
    "\n",
    "            # 1) cas où l’un est None et pas l’autre\n",
    "            if (n1 is None and n2 is not None) or (n1 is not None and n2 is None):\n",
    "                return False\n",
    "\n",
    "            # 2) si les deux sont None → on skip cette paire\n",
    "            if n1 is None and n2 is None:\n",
    "                continue\n",
    "\n",
    "            # 3) comparer les valeurs des nœuds\n",
    "            if n1.val != n2.val:\n",
    "                return False\n",
    "\n",
    "            # 4) enfiler **tous** les enfants (même ceux qui sont None)\n",
    "            A.append(n1.left)\n",
    "            A.append(n1.right)\n",
    "            B.append(n2.left)\n",
    "            B.append(n2.right)\n",
    "\n",
    "        # 5) si l’une des deux files n’est pas vide, structures différentes\n",
    "        if not A and not B:\n",
    "            return True \n",
    "\n",
    "        else:\n",
    "            return False\n",
    "            \n",
    "        \n",
    "        \n",
    "            \n",
    "            \n",
    "# Exemple d'utilisation :\n",
    "\n"
   ]
  },
  {
   "cell_type": "code",
   "execution_count": 398,
   "id": "392e7fc6-4e4f-4532-bbb8-7fd460b62a97",
   "metadata": {},
   "outputs": [],
   "source": [
    "array=TreeNode()"
   ]
  },
  {
   "cell_type": "code",
   "execution_count": 399,
   "id": "d87781ea-d683-408a-bc82-71910e759985",
   "metadata": {},
   "outputs": [],
   "source": [
    "root=array.build_tree_from_list([3,9,20,4,8,None,20])"
   ]
  },
  {
   "cell_type": "code",
   "execution_count": 400,
   "id": "71185d2e-829a-4e90-b3ec-0e747fb2399e",
   "metadata": {},
   "outputs": [],
   "source": [
    "val=Solution()"
   ]
  },
  {
   "cell_type": "code",
   "execution_count": 401,
   "id": "8ea79b14-8fb0-4590-8f4c-2257cadc1c66",
   "metadata": {},
   "outputs": [
    {
     "data": {
      "text/plain": [
       "(3, 20)"
      ]
     },
     "execution_count": 401,
     "metadata": {},
     "output_type": "execute_result"
    }
   ],
   "source": [
    "val.valminmax(root)"
   ]
  },
  {
   "cell_type": "code",
   "execution_count": 402,
   "id": "e7bcef06-9395-4364-b017-8c91fdc34d83",
   "metadata": {},
   "outputs": [],
   "source": [
    "val2=Solution()"
   ]
  },
  {
   "cell_type": "code",
   "execution_count": 403,
   "id": "29d2d3b7-38f8-46dd-9ff8-500380348b35",
   "metadata": {},
   "outputs": [
    {
     "data": {
      "text/plain": [
       "(3, 20)"
      ]
     },
     "execution_count": 403,
     "metadata": {},
     "output_type": "execute_result"
    }
   ],
   "source": [
    "val2.valminmax_v2(root)"
   ]
  },
  {
   "cell_type": "code",
   "execution_count": 404,
   "id": "f7869f9b-04a9-4c19-91e3-bbd01f8a5a6c",
   "metadata": {},
   "outputs": [],
   "source": [
    "bintree=Solution()"
   ]
  },
  {
   "cell_type": "code",
   "execution_count": 405,
   "id": "5a4d4b17-42b6-40be-9031-8727520d2a5b",
   "metadata": {},
   "outputs": [
    {
     "data": {
      "text/plain": [
       "[[3], [9, 20], [4, 8], [20]]"
      ]
     },
     "execution_count": 405,
     "metadata": {},
     "output_type": "execute_result"
    }
   ],
   "source": [
    "bintree.binary_tree_lever_order_traversal(root)"
   ]
  },
  {
   "cell_type": "code",
   "execution_count": 406,
   "id": "322026c7-25a2-41fc-a1e3-bba01eca073c",
   "metadata": {},
   "outputs": [],
   "source": [
    "p=array.build_tree_from_list([1,None,4,5])\n",
    "q=array.build_tree_from_list([1,None,4,5])"
   ]
  },
  {
   "cell_type": "code",
   "execution_count": 407,
   "id": "d367dc1c-09a9-4252-a860-b20dc04fda75",
   "metadata": {},
   "outputs": [],
   "source": [
    "checktree=Solution()"
   ]
  },
  {
   "cell_type": "code",
   "execution_count": 408,
   "id": "0cd125f5-3fac-468e-af75-062a94b82111",
   "metadata": {},
   "outputs": [
    {
     "data": {
      "text/plain": [
       "True"
      ]
     },
     "execution_count": 408,
     "metadata": {},
     "output_type": "execute_result"
    }
   ],
   "source": [
    "checktree.checkmemetree(p,q)"
   ]
  },
  {
   "cell_type": "code",
   "execution_count": null,
   "id": "1e808e5c-425e-4ae0-a7bf-b8c1dcc7020e",
   "metadata": {},
   "outputs": [],
   "source": []
  },
  {
   "cell_type": "code",
   "execution_count": null,
   "id": "9095213e-6e02-415c-b472-b0f515be6b7a",
   "metadata": {},
   "outputs": [],
   "source": []
  },
  {
   "cell_type": "code",
   "execution_count": null,
   "id": "260cca92-d0b8-4bf7-8a68-28ff2b47798f",
   "metadata": {},
   "outputs": [],
   "source": []
  }
 ],
 "metadata": {
  "kernelspec": {
   "display_name": "Python 3 (ipykernel)",
   "language": "python",
   "name": "python3"
  },
  "language_info": {
   "codemirror_mode": {
    "name": "ipython",
    "version": 3
   },
   "file_extension": ".py",
   "mimetype": "text/x-python",
   "name": "python",
   "nbconvert_exporter": "python",
   "pygments_lexer": "ipython3",
   "version": "3.11.0"
  }
 },
 "nbformat": 4,
 "nbformat_minor": 5
}
