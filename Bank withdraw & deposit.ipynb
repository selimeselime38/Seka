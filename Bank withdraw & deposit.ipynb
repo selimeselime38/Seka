{
 "cells": [
  {
   "cell_type": "code",
   "execution_count": 1,
   "id": "9d5df315-bfb7-4dd7-b323-b3aaddedca4a",
   "metadata": {},
   "outputs": [],
   "source": [
    "class BankAccount:\n",
    "    \n",
    "    def __init__(self,owner=\"jose\",balance=0):\n",
    "        self.owner=owner\n",
    "        self.balance=balance\n",
    "\n",
    "\n",
    "\n",
    "    def deposit (self,value_deposit):\n",
    "        self.balance=self.balance + value_deposit\n",
    "        print (\"Deposit Accepted\")\n",
    "        print (\"Votre nouveau solde est de {} euros\".format(self.balance))\n",
    "        \n",
    "    def withdraw (self,value_withdraw):\n",
    "        if (value_withdraw<=self.balance):\n",
    "            self.balance=self.balance - value_withdraw\n",
    "            print (\"Votre nouveau solde est de {} euros\".format(self.balance))\n",
    "        elif ((self.balance-value_withdraw)>=-200):\n",
    "            self.balance=self.balance - value_withdraw\n",
    "            print (\"Votre nouveau solde est de {} euros\".format(self.balance))\n",
    "        else:\n",
    "            print (\"Withdraw impossible\")\n"
   ]
  },
  {
   "cell_type": "code",
   "execution_count": 2,
   "id": "58fea824-972c-4249-a4e8-99fd1c20b951",
   "metadata": {},
   "outputs": [],
   "source": [
    "acc2=BankAccount(owner=\"jose\",balance=0)"
   ]
  },
  {
   "cell_type": "code",
   "execution_count": null,
   "id": "fd0e6c3d-c02c-46fa-8264-a1e9be4a779d",
   "metadata": {},
   "outputs": [
    {
     "name": "stdout",
     "output_type": "stream",
     "text": [
      "Hello, do you want to withdraw or deposit ? (W or D)\n"
     ]
    }
   ],
   "source": [
    "print(\"Hello, do you want to withdraw or deposit ? (W or D)\")\n",
    "choice_w_or_d=input().upper()\n",
    "if choice_w_or_d==\"D\":\n",
    "    print(\"how much do you want to deposit?\")\n",
    "    value_deposit=input()\n",
    "    acc2.deposit(int(value_deposit))\n",
    "    new_balance=acc2.balance\n",
    "elif choice_w_or_d==\"W\":\n",
    "    print(\"how much do you want to withdraw?\")\n",
    "    value_withdraw=input()\n",
    "    acc2.withdraw(int(value_withdraw))"
   ]
  },
  {
   "cell_type": "code",
   "execution_count": null,
   "id": "9404740c-2398-4afc-a64c-c9f5f03a1d20",
   "metadata": {},
   "outputs": [],
   "source": []
  }
 ],
 "metadata": {
  "kernelspec": {
   "display_name": "Python 3 (ipykernel)",
   "language": "python",
   "name": "python3"
  },
  "language_info": {
   "codemirror_mode": {
    "name": "ipython",
    "version": 3
   },
   "file_extension": ".py",
   "mimetype": "text/x-python",
   "name": "python",
   "nbconvert_exporter": "python",
   "pygments_lexer": "ipython3",
   "version": "3.11.0"
  }
 },
 "nbformat": 4,
 "nbformat_minor": 5
}
